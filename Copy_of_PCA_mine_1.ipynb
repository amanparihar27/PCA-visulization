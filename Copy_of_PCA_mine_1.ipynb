{
  "metadata": {
    "kernelspec": {
      "language": "python",
      "display_name": "Python 3",
      "name": "python3"
    },
    "language_info": {
      "name": "python",
      "version": "3.11.11",
      "mimetype": "text/x-python",
      "codemirror_mode": {
        "name": "ipython",
        "version": 3
      },
      "pygments_lexer": "ipython3",
      "nbconvert_exporter": "python",
      "file_extension": ".py"
    },
    "kaggle": {
      "accelerator": "none",
      "dataSources": [
        {
          "sourceId": 3004,
          "databundleVersionId": 861823,
          "sourceType": "competition"
        }
      ],
      "dockerImageVersionId": 31012,
      "isInternetEnabled": false,
      "language": "python",
      "sourceType": "notebook",
      "isGpuEnabled": false
    },
    "colab": {
      "provenance": [],
      "include_colab_link": true
    }
  },
  "nbformat_minor": 0,
  "nbformat": 4,
  "cells": [
    {
      "cell_type": "markdown",
      "metadata": {
        "id": "view-in-github",
        "colab_type": "text"
      },
      "source": [
        "<a href=\"https://colab.research.google.com/github/amanparihar27/PCA-visulization/blob/main/Copy_of_PCA_mine_1.ipynb\" target=\"_parent\"><img src=\"https://colab.research.google.com/assets/colab-badge.svg\" alt=\"Open In Colab\"/></a>"
      ]
    },
    {
      "cell_type": "code",
      "source": [
        "import pandas as pd\n",
        "import numpy as np"
      ],
      "metadata": {
        "id": "UM6xfKtsonRS"
      },
      "execution_count": 1,
      "outputs": []
    },
    {
      "cell_type": "code",
      "source": [
        "df=pd.read_csv('/content/train.csv')"
      ],
      "metadata": {
        "trusted": true,
        "execution": {
          "iopub.status.busy": "2025-04-19T13:42:56.563478Z",
          "iopub.execute_input": "2025-04-19T13:42:56.564006Z",
          "iopub.status.idle": "2025-04-19T13:42:59.883309Z",
          "shell.execute_reply.started": "2025-04-19T13:42:56.563973Z",
          "shell.execute_reply": "2025-04-19T13:42:59.882574Z"
        },
        "id": "U8WCH5F6n7T4"
      },
      "outputs": [],
      "execution_count": 3
    },
    {
      "cell_type": "code",
      "source": [
        "df.head()"
      ],
      "metadata": {
        "trusted": true,
        "execution": {
          "iopub.status.busy": "2025-04-19T13:42:59.884082Z",
          "iopub.execute_input": "2025-04-19T13:42:59.884353Z",
          "iopub.status.idle": "2025-04-19T13:42:59.913037Z",
          "shell.execute_reply.started": "2025-04-19T13:42:59.884332Z",
          "shell.execute_reply": "2025-04-19T13:42:59.912123Z"
        },
        "id": "IRBcnOGXn7T4",
        "outputId": "6961af6c-2e0c-49dd-9183-52bc41d38657",
        "colab": {
          "base_uri": "https://localhost:8080/",
          "height": 255
        }
      },
      "outputs": [
        {
          "output_type": "execute_result",
          "data": {
            "text/plain": [
              "   label  pixel0  pixel1  pixel2  pixel3  pixel4  pixel5  pixel6  pixel7  \\\n",
              "0      1       0       0       0       0       0       0       0       0   \n",
              "1      0       0       0       0       0       0       0       0       0   \n",
              "2      1       0       0       0       0       0       0       0       0   \n",
              "3      4       0       0       0       0       0       0       0       0   \n",
              "4      0       0       0       0       0       0       0       0       0   \n",
              "\n",
              "   pixel8  ...  pixel774  pixel775  pixel776  pixel777  pixel778  pixel779  \\\n",
              "0       0  ...       0.0       0.0       0.0       0.0       0.0       0.0   \n",
              "1       0  ...       0.0       0.0       0.0       0.0       0.0       0.0   \n",
              "2       0  ...       0.0       0.0       0.0       0.0       0.0       0.0   \n",
              "3       0  ...       0.0       0.0       0.0       0.0       0.0       0.0   \n",
              "4       0  ...       0.0       0.0       0.0       0.0       0.0       0.0   \n",
              "\n",
              "   pixel780  pixel781  pixel782  pixel783  \n",
              "0       0.0       0.0       0.0       0.0  \n",
              "1       0.0       0.0       0.0       0.0  \n",
              "2       0.0       0.0       0.0       0.0  \n",
              "3       0.0       0.0       0.0       0.0  \n",
              "4       0.0       0.0       0.0       0.0  \n",
              "\n",
              "[5 rows x 785 columns]"
            ],
            "text/html": [
              "\n",
              "  <div id=\"df-48d9af89-b0d6-456f-81fe-05c44315d241\" class=\"colab-df-container\">\n",
              "    <div>\n",
              "<style scoped>\n",
              "    .dataframe tbody tr th:only-of-type {\n",
              "        vertical-align: middle;\n",
              "    }\n",
              "\n",
              "    .dataframe tbody tr th {\n",
              "        vertical-align: top;\n",
              "    }\n",
              "\n",
              "    .dataframe thead th {\n",
              "        text-align: right;\n",
              "    }\n",
              "</style>\n",
              "<table border=\"1\" class=\"dataframe\">\n",
              "  <thead>\n",
              "    <tr style=\"text-align: right;\">\n",
              "      <th></th>\n",
              "      <th>label</th>\n",
              "      <th>pixel0</th>\n",
              "      <th>pixel1</th>\n",
              "      <th>pixel2</th>\n",
              "      <th>pixel3</th>\n",
              "      <th>pixel4</th>\n",
              "      <th>pixel5</th>\n",
              "      <th>pixel6</th>\n",
              "      <th>pixel7</th>\n",
              "      <th>pixel8</th>\n",
              "      <th>...</th>\n",
              "      <th>pixel774</th>\n",
              "      <th>pixel775</th>\n",
              "      <th>pixel776</th>\n",
              "      <th>pixel777</th>\n",
              "      <th>pixel778</th>\n",
              "      <th>pixel779</th>\n",
              "      <th>pixel780</th>\n",
              "      <th>pixel781</th>\n",
              "      <th>pixel782</th>\n",
              "      <th>pixel783</th>\n",
              "    </tr>\n",
              "  </thead>\n",
              "  <tbody>\n",
              "    <tr>\n",
              "      <th>0</th>\n",
              "      <td>1</td>\n",
              "      <td>0</td>\n",
              "      <td>0</td>\n",
              "      <td>0</td>\n",
              "      <td>0</td>\n",
              "      <td>0</td>\n",
              "      <td>0</td>\n",
              "      <td>0</td>\n",
              "      <td>0</td>\n",
              "      <td>0</td>\n",
              "      <td>...</td>\n",
              "      <td>0.0</td>\n",
              "      <td>0.0</td>\n",
              "      <td>0.0</td>\n",
              "      <td>0.0</td>\n",
              "      <td>0.0</td>\n",
              "      <td>0.0</td>\n",
              "      <td>0.0</td>\n",
              "      <td>0.0</td>\n",
              "      <td>0.0</td>\n",
              "      <td>0.0</td>\n",
              "    </tr>\n",
              "    <tr>\n",
              "      <th>1</th>\n",
              "      <td>0</td>\n",
              "      <td>0</td>\n",
              "      <td>0</td>\n",
              "      <td>0</td>\n",
              "      <td>0</td>\n",
              "      <td>0</td>\n",
              "      <td>0</td>\n",
              "      <td>0</td>\n",
              "      <td>0</td>\n",
              "      <td>0</td>\n",
              "      <td>...</td>\n",
              "      <td>0.0</td>\n",
              "      <td>0.0</td>\n",
              "      <td>0.0</td>\n",
              "      <td>0.0</td>\n",
              "      <td>0.0</td>\n",
              "      <td>0.0</td>\n",
              "      <td>0.0</td>\n",
              "      <td>0.0</td>\n",
              "      <td>0.0</td>\n",
              "      <td>0.0</td>\n",
              "    </tr>\n",
              "    <tr>\n",
              "      <th>2</th>\n",
              "      <td>1</td>\n",
              "      <td>0</td>\n",
              "      <td>0</td>\n",
              "      <td>0</td>\n",
              "      <td>0</td>\n",
              "      <td>0</td>\n",
              "      <td>0</td>\n",
              "      <td>0</td>\n",
              "      <td>0</td>\n",
              "      <td>0</td>\n",
              "      <td>...</td>\n",
              "      <td>0.0</td>\n",
              "      <td>0.0</td>\n",
              "      <td>0.0</td>\n",
              "      <td>0.0</td>\n",
              "      <td>0.0</td>\n",
              "      <td>0.0</td>\n",
              "      <td>0.0</td>\n",
              "      <td>0.0</td>\n",
              "      <td>0.0</td>\n",
              "      <td>0.0</td>\n",
              "    </tr>\n",
              "    <tr>\n",
              "      <th>3</th>\n",
              "      <td>4</td>\n",
              "      <td>0</td>\n",
              "      <td>0</td>\n",
              "      <td>0</td>\n",
              "      <td>0</td>\n",
              "      <td>0</td>\n",
              "      <td>0</td>\n",
              "      <td>0</td>\n",
              "      <td>0</td>\n",
              "      <td>0</td>\n",
              "      <td>...</td>\n",
              "      <td>0.0</td>\n",
              "      <td>0.0</td>\n",
              "      <td>0.0</td>\n",
              "      <td>0.0</td>\n",
              "      <td>0.0</td>\n",
              "      <td>0.0</td>\n",
              "      <td>0.0</td>\n",
              "      <td>0.0</td>\n",
              "      <td>0.0</td>\n",
              "      <td>0.0</td>\n",
              "    </tr>\n",
              "    <tr>\n",
              "      <th>4</th>\n",
              "      <td>0</td>\n",
              "      <td>0</td>\n",
              "      <td>0</td>\n",
              "      <td>0</td>\n",
              "      <td>0</td>\n",
              "      <td>0</td>\n",
              "      <td>0</td>\n",
              "      <td>0</td>\n",
              "      <td>0</td>\n",
              "      <td>0</td>\n",
              "      <td>...</td>\n",
              "      <td>0.0</td>\n",
              "      <td>0.0</td>\n",
              "      <td>0.0</td>\n",
              "      <td>0.0</td>\n",
              "      <td>0.0</td>\n",
              "      <td>0.0</td>\n",
              "      <td>0.0</td>\n",
              "      <td>0.0</td>\n",
              "      <td>0.0</td>\n",
              "      <td>0.0</td>\n",
              "    </tr>\n",
              "  </tbody>\n",
              "</table>\n",
              "<p>5 rows × 785 columns</p>\n",
              "</div>\n",
              "    <div class=\"colab-df-buttons\">\n",
              "\n",
              "  <div class=\"colab-df-container\">\n",
              "    <button class=\"colab-df-convert\" onclick=\"convertToInteractive('df-48d9af89-b0d6-456f-81fe-05c44315d241')\"\n",
              "            title=\"Convert this dataframe to an interactive table.\"\n",
              "            style=\"display:none;\">\n",
              "\n",
              "  <svg xmlns=\"http://www.w3.org/2000/svg\" height=\"24px\" viewBox=\"0 -960 960 960\">\n",
              "    <path d=\"M120-120v-720h720v720H120Zm60-500h600v-160H180v160Zm220 220h160v-160H400v160Zm0 220h160v-160H400v160ZM180-400h160v-160H180v160Zm440 0h160v-160H620v160ZM180-180h160v-160H180v160Zm440 0h160v-160H620v160Z\"/>\n",
              "  </svg>\n",
              "    </button>\n",
              "\n",
              "  <style>\n",
              "    .colab-df-container {\n",
              "      display:flex;\n",
              "      gap: 12px;\n",
              "    }\n",
              "\n",
              "    .colab-df-convert {\n",
              "      background-color: #E8F0FE;\n",
              "      border: none;\n",
              "      border-radius: 50%;\n",
              "      cursor: pointer;\n",
              "      display: none;\n",
              "      fill: #1967D2;\n",
              "      height: 32px;\n",
              "      padding: 0 0 0 0;\n",
              "      width: 32px;\n",
              "    }\n",
              "\n",
              "    .colab-df-convert:hover {\n",
              "      background-color: #E2EBFA;\n",
              "      box-shadow: 0px 1px 2px rgba(60, 64, 67, 0.3), 0px 1px 3px 1px rgba(60, 64, 67, 0.15);\n",
              "      fill: #174EA6;\n",
              "    }\n",
              "\n",
              "    .colab-df-buttons div {\n",
              "      margin-bottom: 4px;\n",
              "    }\n",
              "\n",
              "    [theme=dark] .colab-df-convert {\n",
              "      background-color: #3B4455;\n",
              "      fill: #D2E3FC;\n",
              "    }\n",
              "\n",
              "    [theme=dark] .colab-df-convert:hover {\n",
              "      background-color: #434B5C;\n",
              "      box-shadow: 0px 1px 3px 1px rgba(0, 0, 0, 0.15);\n",
              "      filter: drop-shadow(0px 1px 2px rgba(0, 0, 0, 0.3));\n",
              "      fill: #FFFFFF;\n",
              "    }\n",
              "  </style>\n",
              "\n",
              "    <script>\n",
              "      const buttonEl =\n",
              "        document.querySelector('#df-48d9af89-b0d6-456f-81fe-05c44315d241 button.colab-df-convert');\n",
              "      buttonEl.style.display =\n",
              "        google.colab.kernel.accessAllowed ? 'block' : 'none';\n",
              "\n",
              "      async function convertToInteractive(key) {\n",
              "        const element = document.querySelector('#df-48d9af89-b0d6-456f-81fe-05c44315d241');\n",
              "        const dataTable =\n",
              "          await google.colab.kernel.invokeFunction('convertToInteractive',\n",
              "                                                    [key], {});\n",
              "        if (!dataTable) return;\n",
              "\n",
              "        const docLinkHtml = 'Like what you see? Visit the ' +\n",
              "          '<a target=\"_blank\" href=https://colab.research.google.com/notebooks/data_table.ipynb>data table notebook</a>'\n",
              "          + ' to learn more about interactive tables.';\n",
              "        element.innerHTML = '';\n",
              "        dataTable['output_type'] = 'display_data';\n",
              "        await google.colab.output.renderOutput(dataTable, element);\n",
              "        const docLink = document.createElement('div');\n",
              "        docLink.innerHTML = docLinkHtml;\n",
              "        element.appendChild(docLink);\n",
              "      }\n",
              "    </script>\n",
              "  </div>\n",
              "\n",
              "\n",
              "<div id=\"df-050425b2-8b0b-4053-a1cf-d04ee89f3ee9\">\n",
              "  <button class=\"colab-df-quickchart\" onclick=\"quickchart('df-050425b2-8b0b-4053-a1cf-d04ee89f3ee9')\"\n",
              "            title=\"Suggest charts\"\n",
              "            style=\"display:none;\">\n",
              "\n",
              "<svg xmlns=\"http://www.w3.org/2000/svg\" height=\"24px\"viewBox=\"0 0 24 24\"\n",
              "     width=\"24px\">\n",
              "    <g>\n",
              "        <path d=\"M19 3H5c-1.1 0-2 .9-2 2v14c0 1.1.9 2 2 2h14c1.1 0 2-.9 2-2V5c0-1.1-.9-2-2-2zM9 17H7v-7h2v7zm4 0h-2V7h2v10zm4 0h-2v-4h2v4z\"/>\n",
              "    </g>\n",
              "</svg>\n",
              "  </button>\n",
              "\n",
              "<style>\n",
              "  .colab-df-quickchart {\n",
              "      --bg-color: #E8F0FE;\n",
              "      --fill-color: #1967D2;\n",
              "      --hover-bg-color: #E2EBFA;\n",
              "      --hover-fill-color: #174EA6;\n",
              "      --disabled-fill-color: #AAA;\n",
              "      --disabled-bg-color: #DDD;\n",
              "  }\n",
              "\n",
              "  [theme=dark] .colab-df-quickchart {\n",
              "      --bg-color: #3B4455;\n",
              "      --fill-color: #D2E3FC;\n",
              "      --hover-bg-color: #434B5C;\n",
              "      --hover-fill-color: #FFFFFF;\n",
              "      --disabled-bg-color: #3B4455;\n",
              "      --disabled-fill-color: #666;\n",
              "  }\n",
              "\n",
              "  .colab-df-quickchart {\n",
              "    background-color: var(--bg-color);\n",
              "    border: none;\n",
              "    border-radius: 50%;\n",
              "    cursor: pointer;\n",
              "    display: none;\n",
              "    fill: var(--fill-color);\n",
              "    height: 32px;\n",
              "    padding: 0;\n",
              "    width: 32px;\n",
              "  }\n",
              "\n",
              "  .colab-df-quickchart:hover {\n",
              "    background-color: var(--hover-bg-color);\n",
              "    box-shadow: 0 1px 2px rgba(60, 64, 67, 0.3), 0 1px 3px 1px rgba(60, 64, 67, 0.15);\n",
              "    fill: var(--button-hover-fill-color);\n",
              "  }\n",
              "\n",
              "  .colab-df-quickchart-complete:disabled,\n",
              "  .colab-df-quickchart-complete:disabled:hover {\n",
              "    background-color: var(--disabled-bg-color);\n",
              "    fill: var(--disabled-fill-color);\n",
              "    box-shadow: none;\n",
              "  }\n",
              "\n",
              "  .colab-df-spinner {\n",
              "    border: 2px solid var(--fill-color);\n",
              "    border-color: transparent;\n",
              "    border-bottom-color: var(--fill-color);\n",
              "    animation:\n",
              "      spin 1s steps(1) infinite;\n",
              "  }\n",
              "\n",
              "  @keyframes spin {\n",
              "    0% {\n",
              "      border-color: transparent;\n",
              "      border-bottom-color: var(--fill-color);\n",
              "      border-left-color: var(--fill-color);\n",
              "    }\n",
              "    20% {\n",
              "      border-color: transparent;\n",
              "      border-left-color: var(--fill-color);\n",
              "      border-top-color: var(--fill-color);\n",
              "    }\n",
              "    30% {\n",
              "      border-color: transparent;\n",
              "      border-left-color: var(--fill-color);\n",
              "      border-top-color: var(--fill-color);\n",
              "      border-right-color: var(--fill-color);\n",
              "    }\n",
              "    40% {\n",
              "      border-color: transparent;\n",
              "      border-right-color: var(--fill-color);\n",
              "      border-top-color: var(--fill-color);\n",
              "    }\n",
              "    60% {\n",
              "      border-color: transparent;\n",
              "      border-right-color: var(--fill-color);\n",
              "    }\n",
              "    80% {\n",
              "      border-color: transparent;\n",
              "      border-right-color: var(--fill-color);\n",
              "      border-bottom-color: var(--fill-color);\n",
              "    }\n",
              "    90% {\n",
              "      border-color: transparent;\n",
              "      border-bottom-color: var(--fill-color);\n",
              "    }\n",
              "  }\n",
              "</style>\n",
              "\n",
              "  <script>\n",
              "    async function quickchart(key) {\n",
              "      const quickchartButtonEl =\n",
              "        document.querySelector('#' + key + ' button');\n",
              "      quickchartButtonEl.disabled = true;  // To prevent multiple clicks.\n",
              "      quickchartButtonEl.classList.add('colab-df-spinner');\n",
              "      try {\n",
              "        const charts = await google.colab.kernel.invokeFunction(\n",
              "            'suggestCharts', [key], {});\n",
              "      } catch (error) {\n",
              "        console.error('Error during call to suggestCharts:', error);\n",
              "      }\n",
              "      quickchartButtonEl.classList.remove('colab-df-spinner');\n",
              "      quickchartButtonEl.classList.add('colab-df-quickchart-complete');\n",
              "    }\n",
              "    (() => {\n",
              "      let quickchartButtonEl =\n",
              "        document.querySelector('#df-050425b2-8b0b-4053-a1cf-d04ee89f3ee9 button');\n",
              "      quickchartButtonEl.style.display =\n",
              "        google.colab.kernel.accessAllowed ? 'block' : 'none';\n",
              "    })();\n",
              "  </script>\n",
              "</div>\n",
              "\n",
              "    </div>\n",
              "  </div>\n"
            ],
            "application/vnd.google.colaboratory.intrinsic+json": {
              "type": "dataframe",
              "variable_name": "df"
            }
          },
          "metadata": {},
          "execution_count": 4
        }
      ],
      "execution_count": 4
    },
    {
      "cell_type": "code",
      "source": [
        "df.isnull().mean()*100"
      ],
      "metadata": {
        "colab": {
          "base_uri": "https://localhost:8080/",
          "height": 458
        },
        "id": "Y2cbtjlnqjqY",
        "outputId": "9346219d-d232-4319-c8f2-0e41c1584e2e"
      },
      "execution_count": 5,
      "outputs": [
        {
          "output_type": "execute_result",
          "data": {
            "text/plain": [
              "label       0.000000\n",
              "pixel0      0.000000\n",
              "pixel1      0.000000\n",
              "pixel2      0.000000\n",
              "pixel3      0.000000\n",
              "              ...   \n",
              "pixel779    0.019391\n",
              "pixel780    0.019391\n",
              "pixel781    0.019391\n",
              "pixel782    0.019391\n",
              "pixel783    0.019391\n",
              "Length: 785, dtype: float64"
            ],
            "text/html": [
              "<div>\n",
              "<style scoped>\n",
              "    .dataframe tbody tr th:only-of-type {\n",
              "        vertical-align: middle;\n",
              "    }\n",
              "\n",
              "    .dataframe tbody tr th {\n",
              "        vertical-align: top;\n",
              "    }\n",
              "\n",
              "    .dataframe thead th {\n",
              "        text-align: right;\n",
              "    }\n",
              "</style>\n",
              "<table border=\"1\" class=\"dataframe\">\n",
              "  <thead>\n",
              "    <tr style=\"text-align: right;\">\n",
              "      <th></th>\n",
              "      <th>0</th>\n",
              "    </tr>\n",
              "  </thead>\n",
              "  <tbody>\n",
              "    <tr>\n",
              "      <th>label</th>\n",
              "      <td>0.000000</td>\n",
              "    </tr>\n",
              "    <tr>\n",
              "      <th>pixel0</th>\n",
              "      <td>0.000000</td>\n",
              "    </tr>\n",
              "    <tr>\n",
              "      <th>pixel1</th>\n",
              "      <td>0.000000</td>\n",
              "    </tr>\n",
              "    <tr>\n",
              "      <th>pixel2</th>\n",
              "      <td>0.000000</td>\n",
              "    </tr>\n",
              "    <tr>\n",
              "      <th>pixel3</th>\n",
              "      <td>0.000000</td>\n",
              "    </tr>\n",
              "    <tr>\n",
              "      <th>...</th>\n",
              "      <td>...</td>\n",
              "    </tr>\n",
              "    <tr>\n",
              "      <th>pixel779</th>\n",
              "      <td>0.019391</td>\n",
              "    </tr>\n",
              "    <tr>\n",
              "      <th>pixel780</th>\n",
              "      <td>0.019391</td>\n",
              "    </tr>\n",
              "    <tr>\n",
              "      <th>pixel781</th>\n",
              "      <td>0.019391</td>\n",
              "    </tr>\n",
              "    <tr>\n",
              "      <th>pixel782</th>\n",
              "      <td>0.019391</td>\n",
              "    </tr>\n",
              "    <tr>\n",
              "      <th>pixel783</th>\n",
              "      <td>0.019391</td>\n",
              "    </tr>\n",
              "  </tbody>\n",
              "</table>\n",
              "<p>785 rows × 1 columns</p>\n",
              "</div><br><label><b>dtype:</b> float64</label>"
            ]
          },
          "metadata": {},
          "execution_count": 5
        }
      ]
    },
    {
      "cell_type": "code",
      "source": [
        "df.dropna(inplace=True)"
      ],
      "metadata": {
        "id": "RAgfk5qgqq9A"
      },
      "execution_count": 6,
      "outputs": []
    },
    {
      "cell_type": "code",
      "source": [
        "df.shape\n",
        "# Here 784 cols are for pixels and one shows label or the image they contain"
      ],
      "metadata": {
        "trusted": true,
        "execution": {
          "iopub.status.busy": "2025-04-19T13:42:59.915062Z",
          "iopub.execute_input": "2025-04-19T13:42:59.915374Z",
          "iopub.status.idle": "2025-04-19T13:42:59.921347Z",
          "shell.execute_reply.started": "2025-04-19T13:42:59.915351Z",
          "shell.execute_reply": "2025-04-19T13:42:59.920516Z"
        },
        "id": "Y7aVkLcxn7T5",
        "outputId": "8f1aa6a4-561f-48dc-f1bb-bb3f1a47ad7c",
        "colab": {
          "base_uri": "https://localhost:8080/"
        }
      },
      "outputs": [
        {
          "output_type": "execute_result",
          "data": {
            "text/plain": [
              "(5156, 785)"
            ]
          },
          "metadata": {},
          "execution_count": 7
        }
      ],
      "execution_count": 7
    },
    {
      "cell_type": "code",
      "source": [
        "df.sample()"
      ],
      "metadata": {
        "trusted": true,
        "execution": {
          "iopub.status.busy": "2025-04-19T13:42:59.922162Z",
          "iopub.execute_input": "2025-04-19T13:42:59.922481Z",
          "iopub.status.idle": "2025-04-19T13:42:59.952379Z",
          "shell.execute_reply.started": "2025-04-19T13:42:59.922453Z",
          "shell.execute_reply": "2025-04-19T13:42:59.951563Z"
        },
        "id": "pEMW2rekn7T5",
        "outputId": "bf81354b-4389-4756-df18-c9d78d3033db",
        "colab": {
          "base_uri": "https://localhost:8080/",
          "height": 130
        }
      },
      "outputs": [
        {
          "output_type": "execute_result",
          "data": {
            "text/plain": [
              "      label  pixel0  pixel1  pixel2  pixel3  pixel4  pixel5  pixel6  pixel7  \\\n",
              "2087      8       0       0       0       0       0       0       0       0   \n",
              "\n",
              "      pixel8  ...  pixel774  pixel775  pixel776  pixel777  pixel778  pixel779  \\\n",
              "2087       0  ...       0.0       0.0       0.0       0.0       0.0       0.0   \n",
              "\n",
              "      pixel780  pixel781  pixel782  pixel783  \n",
              "2087       0.0       0.0       0.0       0.0  \n",
              "\n",
              "[1 rows x 785 columns]"
            ],
            "text/html": [
              "\n",
              "  <div id=\"df-f2196ccd-d7d8-42e5-b6f9-0ca3350341ff\" class=\"colab-df-container\">\n",
              "    <div>\n",
              "<style scoped>\n",
              "    .dataframe tbody tr th:only-of-type {\n",
              "        vertical-align: middle;\n",
              "    }\n",
              "\n",
              "    .dataframe tbody tr th {\n",
              "        vertical-align: top;\n",
              "    }\n",
              "\n",
              "    .dataframe thead th {\n",
              "        text-align: right;\n",
              "    }\n",
              "</style>\n",
              "<table border=\"1\" class=\"dataframe\">\n",
              "  <thead>\n",
              "    <tr style=\"text-align: right;\">\n",
              "      <th></th>\n",
              "      <th>label</th>\n",
              "      <th>pixel0</th>\n",
              "      <th>pixel1</th>\n",
              "      <th>pixel2</th>\n",
              "      <th>pixel3</th>\n",
              "      <th>pixel4</th>\n",
              "      <th>pixel5</th>\n",
              "      <th>pixel6</th>\n",
              "      <th>pixel7</th>\n",
              "      <th>pixel8</th>\n",
              "      <th>...</th>\n",
              "      <th>pixel774</th>\n",
              "      <th>pixel775</th>\n",
              "      <th>pixel776</th>\n",
              "      <th>pixel777</th>\n",
              "      <th>pixel778</th>\n",
              "      <th>pixel779</th>\n",
              "      <th>pixel780</th>\n",
              "      <th>pixel781</th>\n",
              "      <th>pixel782</th>\n",
              "      <th>pixel783</th>\n",
              "    </tr>\n",
              "  </thead>\n",
              "  <tbody>\n",
              "    <tr>\n",
              "      <th>2087</th>\n",
              "      <td>8</td>\n",
              "      <td>0</td>\n",
              "      <td>0</td>\n",
              "      <td>0</td>\n",
              "      <td>0</td>\n",
              "      <td>0</td>\n",
              "      <td>0</td>\n",
              "      <td>0</td>\n",
              "      <td>0</td>\n",
              "      <td>0</td>\n",
              "      <td>...</td>\n",
              "      <td>0.0</td>\n",
              "      <td>0.0</td>\n",
              "      <td>0.0</td>\n",
              "      <td>0.0</td>\n",
              "      <td>0.0</td>\n",
              "      <td>0.0</td>\n",
              "      <td>0.0</td>\n",
              "      <td>0.0</td>\n",
              "      <td>0.0</td>\n",
              "      <td>0.0</td>\n",
              "    </tr>\n",
              "  </tbody>\n",
              "</table>\n",
              "<p>1 rows × 785 columns</p>\n",
              "</div>\n",
              "    <div class=\"colab-df-buttons\">\n",
              "\n",
              "  <div class=\"colab-df-container\">\n",
              "    <button class=\"colab-df-convert\" onclick=\"convertToInteractive('df-f2196ccd-d7d8-42e5-b6f9-0ca3350341ff')\"\n",
              "            title=\"Convert this dataframe to an interactive table.\"\n",
              "            style=\"display:none;\">\n",
              "\n",
              "  <svg xmlns=\"http://www.w3.org/2000/svg\" height=\"24px\" viewBox=\"0 -960 960 960\">\n",
              "    <path d=\"M120-120v-720h720v720H120Zm60-500h600v-160H180v160Zm220 220h160v-160H400v160Zm0 220h160v-160H400v160ZM180-400h160v-160H180v160Zm440 0h160v-160H620v160ZM180-180h160v-160H180v160Zm440 0h160v-160H620v160Z\"/>\n",
              "  </svg>\n",
              "    </button>\n",
              "\n",
              "  <style>\n",
              "    .colab-df-container {\n",
              "      display:flex;\n",
              "      gap: 12px;\n",
              "    }\n",
              "\n",
              "    .colab-df-convert {\n",
              "      background-color: #E8F0FE;\n",
              "      border: none;\n",
              "      border-radius: 50%;\n",
              "      cursor: pointer;\n",
              "      display: none;\n",
              "      fill: #1967D2;\n",
              "      height: 32px;\n",
              "      padding: 0 0 0 0;\n",
              "      width: 32px;\n",
              "    }\n",
              "\n",
              "    .colab-df-convert:hover {\n",
              "      background-color: #E2EBFA;\n",
              "      box-shadow: 0px 1px 2px rgba(60, 64, 67, 0.3), 0px 1px 3px 1px rgba(60, 64, 67, 0.15);\n",
              "      fill: #174EA6;\n",
              "    }\n",
              "\n",
              "    .colab-df-buttons div {\n",
              "      margin-bottom: 4px;\n",
              "    }\n",
              "\n",
              "    [theme=dark] .colab-df-convert {\n",
              "      background-color: #3B4455;\n",
              "      fill: #D2E3FC;\n",
              "    }\n",
              "\n",
              "    [theme=dark] .colab-df-convert:hover {\n",
              "      background-color: #434B5C;\n",
              "      box-shadow: 0px 1px 3px 1px rgba(0, 0, 0, 0.15);\n",
              "      filter: drop-shadow(0px 1px 2px rgba(0, 0, 0, 0.3));\n",
              "      fill: #FFFFFF;\n",
              "    }\n",
              "  </style>\n",
              "\n",
              "    <script>\n",
              "      const buttonEl =\n",
              "        document.querySelector('#df-f2196ccd-d7d8-42e5-b6f9-0ca3350341ff button.colab-df-convert');\n",
              "      buttonEl.style.display =\n",
              "        google.colab.kernel.accessAllowed ? 'block' : 'none';\n",
              "\n",
              "      async function convertToInteractive(key) {\n",
              "        const element = document.querySelector('#df-f2196ccd-d7d8-42e5-b6f9-0ca3350341ff');\n",
              "        const dataTable =\n",
              "          await google.colab.kernel.invokeFunction('convertToInteractive',\n",
              "                                                    [key], {});\n",
              "        if (!dataTable) return;\n",
              "\n",
              "        const docLinkHtml = 'Like what you see? Visit the ' +\n",
              "          '<a target=\"_blank\" href=https://colab.research.google.com/notebooks/data_table.ipynb>data table notebook</a>'\n",
              "          + ' to learn more about interactive tables.';\n",
              "        element.innerHTML = '';\n",
              "        dataTable['output_type'] = 'display_data';\n",
              "        await google.colab.output.renderOutput(dataTable, element);\n",
              "        const docLink = document.createElement('div');\n",
              "        docLink.innerHTML = docLinkHtml;\n",
              "        element.appendChild(docLink);\n",
              "      }\n",
              "    </script>\n",
              "  </div>\n",
              "\n",
              "\n",
              "    </div>\n",
              "  </div>\n"
            ],
            "application/vnd.google.colaboratory.intrinsic+json": {
              "type": "dataframe"
            }
          },
          "metadata": {},
          "execution_count": 8
        }
      ],
      "execution_count": 8
    },
    {
      "cell_type": "code",
      "source": [
        "import matplotlib.pyplot as plt"
      ],
      "metadata": {
        "trusted": true,
        "execution": {
          "iopub.status.busy": "2025-04-19T13:42:59.95361Z",
          "iopub.execute_input": "2025-04-19T13:42:59.953865Z",
          "iopub.status.idle": "2025-04-19T13:42:59.967584Z",
          "shell.execute_reply.started": "2025-04-19T13:42:59.953846Z",
          "shell.execute_reply": "2025-04-19T13:42:59.966692Z"
        },
        "id": "7lfSnNSxn7T5"
      },
      "outputs": [],
      "execution_count": 9
    },
    {
      "cell_type": "code",
      "source": [
        "plt.imshow(df.iloc[395, 1:].values.reshape(28,28))"
      ],
      "metadata": {
        "trusted": true,
        "execution": {
          "iopub.status.busy": "2025-04-19T13:42:59.968484Z",
          "iopub.execute_input": "2025-04-19T13:42:59.968776Z",
          "iopub.status.idle": "2025-04-19T13:43:00.231176Z",
          "shell.execute_reply.started": "2025-04-19T13:42:59.968753Z",
          "shell.execute_reply": "2025-04-19T13:43:00.230409Z"
        },
        "id": "jOoQ_aHPn7T6",
        "outputId": "806c6721-1354-4205-8163-c7b4b2fc8e57",
        "colab": {
          "base_uri": "https://localhost:8080/",
          "height": 447
        }
      },
      "outputs": [
        {
          "output_type": "execute_result",
          "data": {
            "text/plain": [
              "<matplotlib.image.AxesImage at 0x7c4e9b8a07d0>"
            ]
          },
          "metadata": {},
          "execution_count": 10
        },
        {
          "output_type": "display_data",
          "data": {
            "text/plain": [
              "<Figure size 640x480 with 1 Axes>"
            ],
            "image/png": "[encoded data removed]"
          },
          "metadata": {}
        }
      ],
      "execution_count": 10
    },
    {
      "cell_type": "code",
      "source": [
        "plt.imshow(df.iloc[2409, 1:].values.reshape(28,28))"
      ],
      "metadata": {
        "trusted": true,
        "execution": {
          "iopub.status.busy": "2025-04-19T13:43:00.232182Z",
          "iopub.execute_input": "2025-04-19T13:43:00.23243Z",
          "iopub.status.idle": "2025-04-19T13:43:00.399489Z",
          "shell.execute_reply.started": "2025-04-19T13:43:00.232412Z",
          "shell.execute_reply": "2025-04-19T13:43:00.398607Z"
        },
        "id": "QPFNdzbxn7T6",
        "outputId": "b945ba8e-f6ff-4da1-bc30-a0be7dc48284",
        "colab": {
          "base_uri": "https://localhost:8080/",
          "height": 447
        }
      },
      "outputs": [
        {
          "output_type": "execute_result",
          "data": {
            "text/plain": [
              "<matplotlib.image.AxesImage at 0x7c4e9b8ea4d0>"
            ]
          },
          "metadata": {},
          "execution_count": 11
        },
        {
          "output_type": "display_data",
          "data": {
            "text/plain": [
              "<Figure size 640x480 with 1 Axes>"
            ],
            "image/png": "[encoded data removed]"
          },
          "metadata": {}
        }
      ],
      "execution_count": 11
    },
    {
      "cell_type": "code",
      "source": [
        "# Separate dependent and ind cols\n",
        "X=df.iloc[:, 1:]\n",
        "y=df['label']"
      ],
      "metadata": {
        "trusted": true,
        "execution": {
          "iopub.status.busy": "2025-04-19T13:43:00.400582Z",
          "iopub.execute_input": "2025-04-19T13:43:00.400803Z",
          "iopub.status.idle": "2025-04-19T13:43:00.406335Z",
          "shell.execute_reply.started": "2025-04-19T13:43:00.400786Z",
          "shell.execute_reply": "2025-04-19T13:43:00.405431Z"
        },
        "id": "I4NJ5iqzn7T6"
      },
      "outputs": [],
      "execution_count": 12
    },
    {
      "cell_type": "code",
      "source": [
        "# Train test split\n",
        "from sklearn.model_selection import train_test_split"
      ],
      "metadata": {
        "trusted": true,
        "execution": {
          "iopub.status.busy": "2025-04-19T13:43:00.40897Z",
          "iopub.execute_input": "2025-04-19T13:43:00.409318Z",
          "iopub.status.idle": "2025-04-19T13:43:01.124196Z",
          "shell.execute_reply.started": "2025-04-19T13:43:00.409294Z",
          "shell.execute_reply": "2025-04-19T13:43:01.123285Z"
        },
        "id": "qXYxIDsXn7T6"
      },
      "outputs": [],
      "execution_count": 13
    },
    {
      "cell_type": "code",
      "source": [
        "X_train, X_test, y_train, y_test=train_test_split(X, y, random_state=42, test_size=0.2)"
      ],
      "metadata": {
        "trusted": true,
        "execution": {
          "iopub.status.busy": "2025-04-19T13:43:01.12507Z",
          "iopub.execute_input": "2025-04-19T13:43:01.125538Z",
          "iopub.status.idle": "2025-04-19T13:43:01.370932Z",
          "shell.execute_reply.started": "2025-04-19T13:43:01.125515Z",
          "shell.execute_reply": "2025-04-19T13:43:01.370144Z"
        },
        "id": "M2qiDls9n7T7"
      },
      "outputs": [],
      "execution_count": 14
    },
    {
      "cell_type": "code",
      "source": [
        "X_train.shape"
      ],
      "metadata": {
        "trusted": true,
        "execution": {
          "iopub.status.busy": "2025-04-19T13:43:01.371783Z",
          "iopub.execute_input": "2025-04-19T13:43:01.372008Z",
          "iopub.status.idle": "2025-04-19T13:43:01.377864Z",
          "shell.execute_reply.started": "2025-04-19T13:43:01.371991Z",
          "shell.execute_reply": "2025-04-19T13:43:01.377169Z"
        },
        "id": "5tfiiG4Kn7T7",
        "outputId": "5e3cecbb-bdb9-4267-a036-f3ea5d25c23f",
        "colab": {
          "base_uri": "https://localhost:8080/"
        }
      },
      "outputs": [
        {
          "output_type": "execute_result",
          "data": {
            "text/plain": [
              "(4124, 784)"
            ]
          },
          "metadata": {},
          "execution_count": 15
        }
      ],
      "execution_count": 15
    },
    {
      "cell_type": "code",
      "source": [
        "from sklearn.neighbors import KNeighborsClassifier"
      ],
      "metadata": {
        "trusted": true,
        "execution": {
          "iopub.status.busy": "2025-04-19T13:43:01.378717Z",
          "iopub.execute_input": "2025-04-19T13:43:01.378992Z",
          "iopub.status.idle": "2025-04-19T13:43:01.614982Z",
          "shell.execute_reply.started": "2025-04-19T13:43:01.378968Z",
          "shell.execute_reply": "2025-04-19T13:43:01.61416Z"
        },
        "id": "b1vKATFOn7T8"
      },
      "outputs": [],
      "execution_count": 16
    },
    {
      "cell_type": "code",
      "source": [
        "knn=KNeighborsClassifier()"
      ],
      "metadata": {
        "trusted": true,
        "execution": {
          "iopub.status.busy": "2025-04-19T13:43:01.615936Z",
          "iopub.execute_input": "2025-04-19T13:43:01.616206Z",
          "iopub.status.idle": "2025-04-19T13:43:01.620379Z",
          "shell.execute_reply.started": "2025-04-19T13:43:01.616179Z",
          "shell.execute_reply": "2025-04-19T13:43:01.619543Z"
        },
        "id": "KESlXaZjn7T8"
      },
      "outputs": [],
      "execution_count": 17
    },
    {
      "cell_type": "code",
      "source": [
        "knn.fit(X_train, y_train)"
      ],
      "metadata": {
        "trusted": true,
        "execution": {
          "iopub.status.busy": "2025-04-19T13:43:01.621147Z",
          "iopub.execute_input": "2025-04-19T13:43:01.621493Z",
          "iopub.status.idle": "2025-04-19T13:43:01.786795Z",
          "shell.execute_reply.started": "2025-04-19T13:43:01.621395Z",
          "shell.execute_reply": "2025-04-19T13:43:01.785985Z"
        },
        "id": "e9C7RmmYn7T9",
        "outputId": "0c48a9f0-efba-484e-ba70-1a753933b68d",
        "colab": {
          "base_uri": "https://localhost:8080/",
          "height": 80
        }
      },
      "outputs": [
        {
          "output_type": "execute_result",
          "data": {
            "text/plain": [
              "KNeighborsClassifier()"
            ],
            "text/html": [
              "<style>#sk-container-id-1 {\n",
              "  /* Definition of color scheme common for light and dark mode */\n",
              "  --sklearn-color-text: #000;\n",
              "  --sklearn-color-text-muted: #666;\n",
              "  --sklearn-color-line: gray;\n",
              "  /* Definition of color scheme for unfitted estimators */\n",
              "  --sklearn-color-unfitted-level-0: #fff5e6;\n",
              "  --sklearn-color-unfitted-level-1: #f6e4d2;\n",
              "  --sklearn-color-unfitted-level-2: #ffe0b3;\n",
              "  --sklearn-color-unfitted-level-3: chocolate;\n",
              "  /* Definition of color scheme for fitted estimators */\n",
              "  --sklearn-color-fitted-level-0: #f0f8ff;\n",
              "  --sklearn-color-fitted-level-1: #d4ebff;\n",
              "  --sklearn-color-fitted-level-2: #b3dbfd;\n",
              "  --sklearn-color-fitted-level-3: cornflowerblue;\n",
              "\n",
              "  /* Specific color for light theme */\n",
              "  --sklearn-color-text-on-default-background: var(--sg-text-color, var(--theme-code-foreground, var(--jp-content-font-color1, black)));\n",
              "  --sklearn-color-background: var(--sg-background-color, var(--theme-background, var(--jp-layout-color0, white)));\n",
              "  --sklearn-color-border-box: var(--sg-text-color, var(--theme-code-foreground, var(--jp-content-font-color1, black)));\n",
              "  --sklearn-color-icon: #696969;\n",
              "\n",
              "  @media (prefers-color-scheme: dark) {\n",
              "    /* Redefinition of color scheme for dark theme */\n",
              "    --sklearn-color-text-on-default-background: var(--sg-text-color, var(--theme-code-foreground, var(--jp-content-font-color1, white)));\n",
              "    --sklearn-color-background: var(--sg-background-color, var(--theme-background, var(--jp-layout-color0, #111)));\n",
              "    --sklearn-color-border-box: var(--sg-text-color, var(--theme-code-foreground, var(--jp-content-font-color1, white)));\n",
              "    --sklearn-color-icon: #878787;\n",
              "  }\n",
              "}\n",
              "\n",
              "#sk-container-id-1 {\n",
              "  color: var(--sklearn-color-text);\n",
              "}\n",
              "\n",
              "#sk-container-id-1 pre {\n",
              "  padding: 0;\n",
              "}\n",
              "\n",
              "#sk-container-id-1 input.sk-hidden--visually {\n",
              "  border: 0;\n",
              "  clip: rect(1px 1px 1px 1px);\n",
              "  clip: rect(1px, 1px, 1px, 1px);\n",
              "  height: 1px;\n",
              "  margin: -1px;\n",
              "  overflow: hidden;\n",
              "  padding: 0;\n",
              "  position: absolute;\n",
              "  width: 1px;\n",
              "}\n",
              "\n",
              "#sk-container-id-1 div.sk-dashed-wrapped {\n",
              "  border: 1px dashed var(--sklearn-color-line);\n",
              "  margin: 0 0.4em 0.5em 0.4em;\n",
              "  box-sizing: border-box;\n",
              "  padding-bottom: 0.4em;\n",
              "  background-color: var(--sklearn-color-background);\n",
              "}\n",
              "\n",
              "#sk-container-id-1 div.sk-container {\n",
              "  /* jupyter's `normalize.less` sets `[hidden] { display: none; }`\n",
              "     but bootstrap.min.css set `[hidden] { display: none !important; }`\n",
              "     so we also need the `!important` here to be able to override the\n",
              "     default hidden behavior on the sphinx rendered scikit-learn.org.\n",
              "     See: https://github.com/scikit-learn/scikit-learn/issues/21755 */\n",
              "  display: inline-block !important;\n",
              "  position: relative;\n",
              "}\n",
              "\n",
              "#sk-container-id-1 div.sk-text-repr-fallback {\n",
              "  display: none;\n",
              "}\n",
              "\n",
              "div.sk-parallel-item,\n",
              "div.sk-serial,\n",
              "div.sk-item {\n",
              "  /* draw centered vertical line to link estimators */\n",
              "  background-image: linear-gradient(var(--sklearn-color-text-on-default-background), var(--sklearn-color-text-on-default-background));\n",
              "  background-size: 2px 100%;\n",
              "  background-repeat: no-repeat;\n",
              "  background-position: center center;\n",
              "}\n",
              "\n",
              "/* Parallel-specific style estimator block */\n",
              "\n",
              "#sk-container-id-1 div.sk-parallel-item::after {\n",
              "  content: \"\";\n",
              "  width: 100%;\n",
              "  border-bottom: 2px solid var(--sklearn-color-text-on-default-background);\n",
              "  flex-grow: 1;\n",
              "}\n",
              "\n",
              "#sk-container-id-1 div.sk-parallel {\n",
              "  display: flex;\n",
              "  align-items: stretch;\n",
              "  justify-content: center;\n",
              "  background-color: var(--sklearn-color-background);\n",
              "  position: relative;\n",
              "}\n",
              "\n",
              "#sk-container-id-1 div.sk-parallel-item {\n",
              "  display: flex;\n",
              "  flex-direction: column;\n",
              "}\n",
              "\n",
              "#sk-container-id-1 div.sk-parallel-item:first-child::after {\n",
              "  align-self: flex-end;\n",
              "  width: 50%;\n",
              "}\n",
              "\n",
              "#sk-container-id-1 div.sk-parallel-item:last-child::after {\n",
              "  align-self: flex-start;\n",
              "  width: 50%;\n",
              "}\n",
              "\n",
              "#sk-container-id-1 div.sk-parallel-item:only-child::after {\n",
              "  width: 0;\n",
              "}\n",
              "\n",
              "/* Serial-specific style estimator block */\n",
              "\n",
              "#sk-container-id-1 div.sk-serial {\n",
              "  display: flex;\n",
              "  flex-direction: column;\n",
              "  align-items: center;\n",
              "  background-color: var(--sklearn-color-background);\n",
              "  padding-right: 1em;\n",
              "  padding-left: 1em;\n",
              "}\n",
              "\n",
              "\n",
              "/* Toggleable style: style used for estimator/Pipeline/ColumnTransformer box that is\n",
              "clickable and can be expanded/collapsed.\n",
              "- Pipeline and ColumnTransformer use this feature and define the default style\n",
              "- Estimators will overwrite some part of the style using the `sk-estimator` class\n",
              "*/\n",
              "\n",
              "/* Pipeline and ColumnTransformer style (default) */\n",
              "\n",
              "#sk-container-id-1 div.sk-toggleable {\n",
              "  /* Default theme specific background. It is overwritten whether we have a\n",
              "  specific estimator or a Pipeline/ColumnTransformer */\n",
              "  background-color: var(--sklearn-color-background);\n",
              "}\n",
              "\n",
              "/* Toggleable label */\n",
              "#sk-container-id-1 label.sk-toggleable__label {\n",
              "  cursor: pointer;\n",
              "  display: flex;\n",
              "  width: 100%;\n",
              "  margin-bottom: 0;\n",
              "  padding: 0.5em;\n",
              "  box-sizing: border-box;\n",
              "  text-align: center;\n",
              "  align-items: start;\n",
              "  justify-content: space-between;\n",
              "  gap: 0.5em;\n",
              "}\n",
              "\n",
              "#sk-container-id-1 label.sk-toggleable__label .caption {\n",
              "  font-size: 0.6rem;\n",
              "  font-weight: lighter;\n",
              "  color: var(--sklearn-color-text-muted);\n",
              "}\n",
              "\n",
              "#sk-container-id-1 label.sk-toggleable__label-arrow:before {\n",
              "  /* Arrow on the left of the label */\n",
              "  content: \"▸\";\n",
              "  float: left;\n",
              "  margin-right: 0.25em;\n",
              "  color: var(--sklearn-color-icon);\n",
              "}\n",
              "\n",
              "#sk-container-id-1 label.sk-toggleable__label-arrow:hover:before {\n",
              "  color: var(--sklearn-color-text);\n",
              "}\n",
              "\n",
              "/* Toggleable content - dropdown */\n",
              "\n",
              "#sk-container-id-1 div.sk-toggleable__content {\n",
              "  max-height: 0;\n",
              "  max-width: 0;\n",
              "  overflow: hidden;\n",
              "  text-align: left;\n",
              "  /* unfitted */\n",
              "  background-color: var(--sklearn-color-unfitted-level-0);\n",
              "}\n",
              "\n",
              "#sk-container-id-1 div.sk-toggleable__content.fitted {\n",
              "  /* fitted */\n",
              "  background-color: var(--sklearn-color-fitted-level-0);\n",
              "}\n",
              "\n",
              "#sk-container-id-1 div.sk-toggleable__content pre {\n",
              "  margin: 0.2em;\n",
              "  border-radius: 0.25em;\n",
              "  color: var(--sklearn-color-text);\n",
              "  /* unfitted */\n",
              "  background-color: var(--sklearn-color-unfitted-level-0);\n",
              "}\n",
              "\n",
              "#sk-container-id-1 div.sk-toggleable__content.fitted pre {\n",
              "  /* unfitted */\n",
              "  background-color: var(--sklearn-color-fitted-level-0);\n",
              "}\n",
              "\n",
              "#sk-container-id-1 input.sk-toggleable__control:checked~div.sk-toggleable__content {\n",
              "  /* Expand drop-down */\n",
              "  max-height: 200px;\n",
              "  max-width: 100%;\n",
              "  overflow: auto;\n",
              "}\n",
              "\n",
              "#sk-container-id-1 input.sk-toggleable__control:checked~label.sk-toggleable__label-arrow:before {\n",
              "  content: \"▾\";\n",
              "}\n",
              "\n",
              "/* Pipeline/ColumnTransformer-specific style */\n",
              "\n",
              "#sk-container-id-1 div.sk-label input.sk-toggleable__control:checked~label.sk-toggleable__label {\n",
              "  color: var(--sklearn-color-text);\n",
              "  background-color: var(--sklearn-color-unfitted-level-2);\n",
              "}\n",
              "\n",
              "#sk-container-id-1 div.sk-label.fitted input.sk-toggleable__control:checked~label.sk-toggleable__label {\n",
              "  background-color: var(--sklearn-color-fitted-level-2);\n",
              "}\n",
              "\n",
              "/* Estimator-specific style */\n",
              "\n",
              "/* Colorize estimator box */\n",
              "#sk-container-id-1 div.sk-estimator input.sk-toggleable__control:checked~label.sk-toggleable__label {\n",
              "  /* unfitted */\n",
              "  background-color: var(--sklearn-color-unfitted-level-2);\n",
              "}\n",
              "\n",
              "#sk-container-id-1 div.sk-estimator.fitted input.sk-toggleable__control:checked~label.sk-toggleable__label {\n",
              "  /* fitted */\n",
              "  background-color: var(--sklearn-color-fitted-level-2);\n",
              "}\n",
              "\n",
              "#sk-container-id-1 div.sk-label label.sk-toggleable__label,\n",
              "#sk-container-id-1 div.sk-label label {\n",
              "  /* The background is the default theme color */\n",
              "  color: var(--sklearn-color-text-on-default-background);\n",
              "}\n",
              "\n",
              "/* On hover, darken the color of the background */\n",
              "#sk-container-id-1 div.sk-label:hover label.sk-toggleable__label {\n",
              "  color: var(--sklearn-color-text);\n",
              "  background-color: var(--sklearn-color-unfitted-level-2);\n",
              "}\n",
              "\n",
              "/* Label box, darken color on hover, fitted */\n",
              "#sk-container-id-1 div.sk-label.fitted:hover label.sk-toggleable__label.fitted {\n",
              "  color: var(--sklearn-color-text);\n",
              "  background-color: var(--sklearn-color-fitted-level-2);\n",
              "}\n",
              "\n",
              "/* Estimator label */\n",
              "\n",
              "#sk-container-id-1 div.sk-label label {\n",
              "  font-family: monospace;\n",
              "  font-weight: bold;\n",
              "  display: inline-block;\n",
              "  line-height: 1.2em;\n",
              "}\n",
              "\n",
              "#sk-container-id-1 div.sk-label-container {\n",
              "  text-align: center;\n",
              "}\n",
              "\n",
              "/* Estimator-specific */\n",
              "#sk-container-id-1 div.sk-estimator {\n",
              "  font-family: monospace;\n",
              "  border: 1px dotted var(--sklearn-color-border-box);\n",
              "  border-radius: 0.25em;\n",
              "  box-sizing: border-box;\n",
              "  margin-bottom: 0.5em;\n",
              "  /* unfitted */\n",
              "  background-color: var(--sklearn-color-unfitted-level-0);\n",
              "}\n",
              "\n",
              "#sk-container-id-1 div.sk-estimator.fitted {\n",
              "  /* fitted */\n",
              "  background-color: var(--sklearn-color-fitted-level-0);\n",
              "}\n",
              "\n",
              "/* on hover */\n",
              "#sk-container-id-1 div.sk-estimator:hover {\n",
              "  /* unfitted */\n",
              "  background-color: var(--sklearn-color-unfitted-level-2);\n",
              "}\n",
              "\n",
              "#sk-container-id-1 div.sk-estimator.fitted:hover {\n",
              "  /* fitted */\n",
              "  background-color: var(--sklearn-color-fitted-level-2);\n",
              "}\n",
              "\n",
              "/* Specification for estimator info (e.g. \"i\" and \"?\") */\n",
              "\n",
              "/* Common style for \"i\" and \"?\" */\n",
              "\n",
              ".sk-estimator-doc-link,\n",
              "a:link.sk-estimator-doc-link,\n",
              "a:visited.sk-estimator-doc-link {\n",
              "  float: right;\n",
              "  font-size: smaller;\n",
              "  line-height: 1em;\n",
              "  font-family: monospace;\n",
              "  background-color: var(--sklearn-color-background);\n",
              "  border-radius: 1em;\n",
              "  height: 1em;\n",
              "  width: 1em;\n",
              "  text-decoration: none !important;\n",
              "  margin-left: 0.5em;\n",
              "  text-align: center;\n",
              "  /* unfitted */\n",
              "  border: var(--sklearn-color-unfitted-level-1) 1pt solid;\n",
              "  color: var(--sklearn-color-unfitted-level-1);\n",
              "}\n",
              "\n",
              ".sk-estimator-doc-link.fitted,\n",
              "a:link.sk-estimator-doc-link.fitted,\n",
              "a:visited.sk-estimator-doc-link.fitted {\n",
              "  /* fitted */\n",
              "  border: var(--sklearn-color-fitted-level-1) 1pt solid;\n",
              "  color: var(--sklearn-color-fitted-level-1);\n",
              "}\n",
              "\n",
              "/* On hover */\n",
              "div.sk-estimator:hover .sk-estimator-doc-link:hover,\n",
              ".sk-estimator-doc-link:hover,\n",
              "div.sk-label-container:hover .sk-estimator-doc-link:hover,\n",
              ".sk-estimator-doc-link:hover {\n",
              "  /* unfitted */\n",
              "  background-color: var(--sklearn-color-unfitted-level-3);\n",
              "  color: var(--sklearn-color-background);\n",
              "  text-decoration: none;\n",
              "}\n",
              "\n",
              "div.sk-estimator.fitted:hover .sk-estimator-doc-link.fitted:hover,\n",
              ".sk-estimator-doc-link.fitted:hover,\n",
              "div.sk-label-container:hover .sk-estimator-doc-link.fitted:hover,\n",
              ".sk-estimator-doc-link.fitted:hover {\n",
              "  /* fitted */\n",
              "  background-color: var(--sklearn-color-fitted-level-3);\n",
              "  color: var(--sklearn-color-background);\n",
              "  text-decoration: none;\n",
              "}\n",
              "\n",
              "/* Span, style for the box shown on hovering the info icon */\n",
              ".sk-estimator-doc-link span {\n",
              "  display: none;\n",
              "  z-index: 9999;\n",
              "  position: relative;\n",
              "  font-weight: normal;\n",
              "  right: .2ex;\n",
              "  padding: .5ex;\n",
              "  margin: .5ex;\n",
              "  width: min-content;\n",
              "  min-width: 20ex;\n",
              "  max-width: 50ex;\n",
              "  color: var(--sklearn-color-text);\n",
              "  box-shadow: 2pt 2pt 4pt #999;\n",
              "  /* unfitted */\n",
              "  background: var(--sklearn-color-unfitted-level-0);\n",
              "  border: .5pt solid var(--sklearn-color-unfitted-level-3);\n",
              "}\n",
              "\n",
              ".sk-estimator-doc-link.fitted span {\n",
              "  /* fitted */\n",
              "  background: var(--sklearn-color-fitted-level-0);\n",
              "  border: var(--sklearn-color-fitted-level-3);\n",
              "}\n",
              "\n",
              ".sk-estimator-doc-link:hover span {\n",
              "  display: block;\n",
              "}\n",
              "\n",
              "/* \"?\"-specific style due to the `<a>` HTML tag */\n",
              "\n",
              "#sk-container-id-1 a.estimator_doc_link {\n",
              "  float: right;\n",
              "  font-size: 1rem;\n",
              "  line-height: 1em;\n",
              "  font-family: monospace;\n",
              "  background-color: var(--sklearn-color-background);\n",
              "  border-radius: 1rem;\n",
              "  height: 1rem;\n",
              "  width: 1rem;\n",
              "  text-decoration: none;\n",
              "  /* unfitted */\n",
              "  color: var(--sklearn-color-unfitted-level-1);\n",
              "  border: var(--sklearn-color-unfitted-level-1) 1pt solid;\n",
              "}\n",
              "\n",
              "#sk-container-id-1 a.estimator_doc_link.fitted {\n",
              "  /* fitted */\n",
              "  border: var(--sklearn-color-fitted-level-1) 1pt solid;\n",
              "  color: var(--sklearn-color-fitted-level-1);\n",
              "}\n",
              "\n",
              "/* On hover */\n",
              "#sk-container-id-1 a.estimator_doc_link:hover {\n",
              "  /* unfitted */\n",
              "  background-color: var(--sklearn-color-unfitted-level-3);\n",
              "  color: var(--sklearn-color-background);\n",
              "  text-decoration: none;\n",
              "}\n",
              "\n",
              "#sk-container-id-1 a.estimator_doc_link.fitted:hover {\n",
              "  /* fitted */\n",
              "  background-color: var(--sklearn-color-fitted-level-3);\n",
              "}\n",
              "</style><div id=\"sk-container-id-1\" class=\"sk-top-container\"><div class=\"sk-text-repr-fallback\"><pre>KNeighborsClassifier()</pre><b>In a Jupyter environment, please rerun this cell to show the HTML representation or trust the notebook. <br />On GitHub, the HTML representation is unable to render, please try loading this page with nbviewer.org.</b></div><div class=\"sk-container\" hidden><div class=\"sk-item\"><div class=\"sk-estimator fitted sk-toggleable\"><input class=\"sk-toggleable__control sk-hidden--visually\" id=\"sk-estimator-id-1\" type=\"checkbox\" checked><label for=\"sk-estimator-id-1\" class=\"sk-toggleable__label fitted sk-toggleable__label-arrow\"><div><div>KNeighborsClassifier</div></div><div><a class=\"sk-estimator-doc-link fitted\" rel=\"noreferrer\" target=\"_blank\" href=\"https://scikit-learn.org/1.6/modules/generated/sklearn.neighbors.KNeighborsClassifier.html\">?<span>Documentation for KNeighborsClassifier</span></a><span class=\"sk-estimator-doc-link fitted\">i<span>Fitted</span></span></div></label><div class=\"sk-toggleable__content fitted\"><pre>KNeighborsClassifier()</pre></div> </div></div></div></div>"
            ]
          },
          "metadata": {},
          "execution_count": 18
        }
      ],
      "execution_count": 18
    },
    {
      "cell_type": "code",
      "source": [
        "import time\n",
        "start= time.time()\n",
        "y_pred=knn.predict(X_test) # I just tried to find out the time take to predict the\n",
        "print(time.time()-start)"
      ],
      "metadata": {
        "trusted": true,
        "execution": {
          "iopub.status.busy": "2025-04-19T13:43:01.787773Z",
          "iopub.execute_input": "2025-04-19T13:43:01.788079Z",
          "iopub.status.idle": "2025-04-19T13:43:14.1957Z",
          "shell.execute_reply.started": "2025-04-19T13:43:01.788057Z",
          "shell.execute_reply": "2025-04-19T13:43:14.194759Z"
        },
        "id": "E8_NsL5en7T9",
        "outputId": "724655a7-ad69-4006-ce65-143c864e5858",
        "colab": {
          "base_uri": "https://localhost:8080/"
        }
      },
      "outputs": [
        {
          "output_type": "stream",
          "name": "stdout",
          "text": [
            "0.3595387935638428\n"
          ]
        }
      ],
      "execution_count": 19
    },
    {
      "cell_type": "code",
      "source": [
        "# In the abobe code we found y_pred and we used KNN classifier, here each row is compare with all 33000 rows and chose the nearest."
      ],
      "metadata": {
        "trusted": true,
        "execution": {
          "iopub.status.busy": "2025-04-19T13:43:14.196556Z",
          "iopub.execute_input": "2025-04-19T13:43:14.196857Z",
          "iopub.status.idle": "2025-04-19T13:43:14.200988Z",
          "shell.execute_reply.started": "2025-04-19T13:43:14.196831Z",
          "shell.execute_reply": "2025-04-19T13:43:14.199979Z"
        },
        "id": "gCBOtYD-n7T9"
      },
      "outputs": [],
      "execution_count": 20
    },
    {
      "cell_type": "code",
      "source": [
        "from sklearn.metrics import accuracy_score\n",
        "accuracy_score(y_test, y_pred)"
      ],
      "metadata": {
        "trusted": true,
        "execution": {
          "iopub.status.busy": "2025-04-19T13:43:14.202286Z",
          "iopub.execute_input": "2025-04-19T13:43:14.202709Z",
          "iopub.status.idle": "2025-04-19T13:43:14.222226Z",
          "shell.execute_reply.started": "2025-04-19T13:43:14.202683Z",
          "shell.execute_reply": "2025-04-19T13:43:14.221346Z"
        },
        "id": "_6O1nBAVn7T9",
        "outputId": "03bcf22d-c24a-4723-d8eb-1c19d5994220",
        "colab": {
          "base_uri": "https://localhost:8080/"
        }
      },
      "outputs": [
        {
          "output_type": "execute_result",
          "data": {
            "text/plain": [
              "0.9176356589147286"
            ]
          },
          "metadata": {},
          "execution_count": 21
        }
      ],
      "execution_count": 21
    },
    {
      "cell_type": "code",
      "source": [
        "# We get an accuracy of 96.4% using this method"
      ],
      "metadata": {
        "trusted": true,
        "execution": {
          "iopub.status.busy": "2025-04-19T13:43:14.223392Z",
          "iopub.execute_input": "2025-04-19T13:43:14.223719Z",
          "iopub.status.idle": "2025-04-19T13:43:14.237265Z",
          "shell.execute_reply.started": "2025-04-19T13:43:14.223689Z",
          "shell.execute_reply": "2025-04-19T13:43:14.236303Z"
        },
        "id": "lU8ajZw6n7T-"
      },
      "outputs": [],
      "execution_count": 22
    },
    {
      "cell_type": "markdown",
      "source": [
        "### PCA"
      ],
      "metadata": {
        "id": "UVPYOu9sn7T-"
      }
    },
    {
      "cell_type": "code",
      "source": [
        "# Now we'll try to achieve same or more accuracy using far less no. of columns through PCA"
      ],
      "metadata": {
        "trusted": true,
        "execution": {
          "iopub.status.busy": "2025-04-19T13:43:14.23818Z",
          "iopub.execute_input": "2025-04-19T13:43:14.238526Z",
          "iopub.status.idle": "2025-04-19T13:43:14.253758Z",
          "shell.execute_reply.started": "2025-04-19T13:43:14.238495Z",
          "shell.execute_reply": "2025-04-19T13:43:14.252807Z"
        },
        "id": "2KlMZs2en7T-"
      },
      "outputs": [],
      "execution_count": 23
    },
    {
      "cell_type": "code",
      "source": [
        "# First step is standardization\n",
        "from sklearn.preprocessing import StandardScaler\n",
        "scaler=StandardScaler()"
      ],
      "metadata": {
        "trusted": true,
        "execution": {
          "iopub.status.busy": "2025-04-19T13:43:14.254719Z",
          "iopub.execute_input": "2025-04-19T13:43:14.255055Z",
          "iopub.status.idle": "2025-04-19T13:43:14.271466Z",
          "shell.execute_reply.started": "2025-04-19T13:43:14.255029Z",
          "shell.execute_reply": "2025-04-19T13:43:14.270393Z"
        },
        "id": "MDQ6kvRHn7T-"
      },
      "outputs": [],
      "execution_count": 24
    },
    {
      "cell_type": "code",
      "source": [
        "X_train_sc=scaler.fit_transform(X_train)\n",
        "X_test_sc = scaler.transform(X_test)"
      ],
      "metadata": {
        "trusted": true,
        "execution": {
          "iopub.status.busy": "2025-04-19T13:43:14.272596Z",
          "iopub.execute_input": "2025-04-19T13:43:14.272931Z",
          "iopub.status.idle": "2025-04-19T13:43:14.968189Z",
          "shell.execute_reply.started": "2025-04-19T13:43:14.272894Z",
          "shell.execute_reply": "2025-04-19T13:43:14.967287Z"
        },
        "id": "b2yltFBFn7T-"
      },
      "outputs": [],
      "execution_count": 25
    },
    {
      "cell_type": "code",
      "source": [
        "from sklearn.decomposition import PCA\n",
        "\n",
        "pca=PCA(n_components=None)  # Default value is none which means there will be same no. of PC as initials rows"
      ],
      "metadata": {
        "trusted": true,
        "execution": {
          "iopub.status.busy": "2025-04-19T13:43:14.969262Z",
          "iopub.execute_input": "2025-04-19T13:43:14.969538Z",
          "iopub.status.idle": "2025-04-19T13:43:14.974137Z",
          "shell.execute_reply.started": "2025-04-19T13:43:14.969518Z",
          "shell.execute_reply": "2025-04-19T13:43:14.973329Z"
        },
        "id": "yE1ZYuQXn7T-"
      },
      "outputs": [],
      "execution_count": 26
    },
    {
      "cell_type": "code",
      "source": [
        "X_train_trf1 = pca.fit_transform(X_train_sc)\n",
        "X_test_trf1 = pca.transform(X_test_sc)"
      ],
      "metadata": {
        "trusted": true,
        "execution": {
          "iopub.status.busy": "2025-04-19T13:43:14.974978Z",
          "iopub.execute_input": "2025-04-19T13:43:14.975228Z",
          "iopub.status.idle": "2025-04-19T13:43:19.180957Z",
          "shell.execute_reply.started": "2025-04-19T13:43:14.975209Z",
          "shell.execute_reply": "2025-04-19T13:43:19.180198Z"
        },
        "id": "PSth4zVGn7T_"
      },
      "outputs": [],
      "execution_count": 27
    },
    {
      "cell_type": "code",
      "source": [
        "X_train_trf1.shape"
      ],
      "metadata": {
        "trusted": true,
        "execution": {
          "iopub.status.busy": "2025-04-19T13:43:19.181818Z",
          "iopub.execute_input": "2025-04-19T13:43:19.182126Z",
          "iopub.status.idle": "2025-04-19T13:43:19.187824Z",
          "shell.execute_reply.started": "2025-04-19T13:43:19.182099Z",
          "shell.execute_reply": "2025-04-19T13:43:19.186991Z"
        },
        "id": "V2YSz4_6n7T_",
        "outputId": "27dc46b7-872f-4493-9fd5-78a83f52146a",
        "colab": {
          "base_uri": "https://localhost:8080/"
        }
      },
      "outputs": [
        {
          "output_type": "execute_result",
          "data": {
            "text/plain": [
              "(4124, 784)"
            ]
          },
          "metadata": {},
          "execution_count": 28
        }
      ],
      "execution_count": 28
    },
    {
      "cell_type": "code",
      "source": [
        "# We still have 784 cols"
      ],
      "metadata": {
        "trusted": true,
        "execution": {
          "iopub.status.busy": "2025-04-19T13:43:19.188748Z",
          "iopub.execute_input": "2025-04-19T13:43:19.189418Z",
          "iopub.status.idle": "2025-04-19T13:43:19.204143Z",
          "shell.execute_reply.started": "2025-04-19T13:43:19.189395Z",
          "shell.execute_reply": "2025-04-19T13:43:19.203333Z"
        },
        "id": "TlW3gazEn7T_"
      },
      "outputs": [],
      "execution_count": 29
    },
    {
      "cell_type": "code",
      "source": [
        "knn=KNeighborsClassifier()"
      ],
      "metadata": {
        "trusted": true,
        "execution": {
          "iopub.status.busy": "2025-04-19T13:43:19.205001Z",
          "iopub.execute_input": "2025-04-19T13:43:19.205273Z",
          "iopub.status.idle": "2025-04-19T13:43:19.220445Z",
          "shell.execute_reply.started": "2025-04-19T13:43:19.205219Z",
          "shell.execute_reply": "2025-04-19T13:43:19.219504Z"
        },
        "id": "jCz4yWjxn7T_"
      },
      "outputs": [],
      "execution_count": 30
    },
    {
      "cell_type": "code",
      "source": [
        "knn.fit(X_train_trf1, y_train)\n",
        "\n",
        "y_pred2=knn.predict(X_test_trf1)"
      ],
      "metadata": {
        "trusted": true,
        "execution": {
          "iopub.status.busy": "2025-04-19T13:43:19.225098Z",
          "iopub.execute_input": "2025-04-19T13:43:19.225419Z",
          "iopub.status.idle": "2025-04-19T13:43:26.686965Z",
          "shell.execute_reply.started": "2025-04-19T13:43:19.225395Z",
          "shell.execute_reply": "2025-04-19T13:43:26.686013Z"
        },
        "id": "d_AsFJ8Pn7UA"
      },
      "outputs": [],
      "execution_count": 31
    },
    {
      "cell_type": "code",
      "source": [
        "accuracy_score(y_test, y_pred2)"
      ],
      "metadata": {
        "trusted": true,
        "execution": {
          "iopub.status.busy": "2025-04-19T13:43:26.687907Z",
          "iopub.execute_input": "2025-04-19T13:43:26.68823Z",
          "iopub.status.idle": "2025-04-19T13:43:26.696437Z",
          "shell.execute_reply.started": "2025-04-19T13:43:26.688202Z",
          "shell.execute_reply": "2025-04-19T13:43:26.695546Z"
        },
        "id": "STCWL720n7UA",
        "outputId": "46c1908e-798e-43d0-e5be-a79ecf5a6dc0",
        "colab": {
          "base_uri": "https://localhost:8080/"
        }
      },
      "outputs": [
        {
          "output_type": "execute_result",
          "data": {
            "text/plain": [
              "0.8905038759689923"
            ]
          },
          "metadata": {},
          "execution_count": 32
        }
      ],
      "execution_count": 32
    },
    {
      "cell_type": "code",
      "source": [
        "# Since we did not reduce dim our accuracy reduced\n",
        "# Lets reduce the Dimension to 100"
      ],
      "metadata": {
        "trusted": true,
        "execution": {
          "iopub.status.busy": "2025-04-19T13:43:26.697374Z",
          "iopub.execute_input": "2025-04-19T13:43:26.697953Z",
          "iopub.status.idle": "2025-04-19T13:43:26.710627Z",
          "shell.execute_reply.started": "2025-04-19T13:43:26.69792Z",
          "shell.execute_reply": "2025-04-19T13:43:26.709686Z"
        },
        "id": "uOIq-qvan7UA"
      },
      "outputs": [],
      "execution_count": 33
    },
    {
      "cell_type": "code",
      "source": [
        "from sklearn.decomposition import PCA\n",
        "\n",
        "pca2=PCA(n_components=100)"
      ],
      "metadata": {
        "trusted": true,
        "execution": {
          "iopub.status.busy": "2025-04-19T13:43:26.711562Z",
          "iopub.execute_input": "2025-04-19T13:43:26.711849Z",
          "iopub.status.idle": "2025-04-19T13:43:26.726737Z",
          "shell.execute_reply.started": "2025-04-19T13:43:26.711829Z",
          "shell.execute_reply": "2025-04-19T13:43:26.725771Z"
        },
        "id": "sO2LdgK6n7UA"
      },
      "outputs": [],
      "execution_count": 34
    },
    {
      "cell_type": "code",
      "source": [
        "X_train_trf2 = pca2.fit_transform(X_train_sc)\n",
        "X_test_trf2 = pca2.transform(X_test_sc)"
      ],
      "metadata": {
        "trusted": true,
        "execution": {
          "iopub.status.busy": "2025-04-19T13:43:26.72768Z",
          "iopub.execute_input": "2025-04-19T13:43:26.727926Z",
          "iopub.status.idle": "2025-04-19T13:43:29.60259Z",
          "shell.execute_reply.started": "2025-04-19T13:43:26.727908Z",
          "shell.execute_reply": "2025-04-19T13:43:29.601746Z"
        },
        "id": "pzb7x5hsn7UA"
      },
      "outputs": [],
      "execution_count": 35
    },
    {
      "cell_type": "code",
      "source": [
        "X_train_trf2.shape"
      ],
      "metadata": {
        "trusted": true,
        "execution": {
          "iopub.status.busy": "2025-04-19T13:43:29.603542Z",
          "iopub.execute_input": "2025-04-19T13:43:29.603868Z",
          "iopub.status.idle": "2025-04-19T13:43:29.609648Z",
          "shell.execute_reply.started": "2025-04-19T13:43:29.603841Z",
          "shell.execute_reply": "2025-04-19T13:43:29.608787Z"
        },
        "id": "7Risyjmxn7UB",
        "outputId": "2e35cd52-f029-414a-bb27-38583659ebb0",
        "colab": {
          "base_uri": "https://localhost:8080/"
        }
      },
      "outputs": [
        {
          "output_type": "execute_result",
          "data": {
            "text/plain": [
              "(4124, 100)"
            ]
          },
          "metadata": {},
          "execution_count": 36
        }
      ],
      "execution_count": 36
    },
    {
      "cell_type": "code",
      "source": [
        "knn.fit(X_train_trf2, y_train)\n",
        "\n",
        "y_pred3 = knn.predict(X_test_trf2)\n",
        "\n",
        "accuracy_score(y_test, y_pred3)"
      ],
      "metadata": {
        "trusted": true,
        "execution": {
          "iopub.status.busy": "2025-04-19T13:43:29.610587Z",
          "iopub.execute_input": "2025-04-19T13:43:29.611691Z",
          "iopub.status.idle": "2025-04-19T13:43:31.174214Z",
          "shell.execute_reply.started": "2025-04-19T13:43:29.611661Z",
          "shell.execute_reply": "2025-04-19T13:43:31.173038Z"
        },
        "id": "Wcw6PgLCn7UB",
        "outputId": "325a5780-4f4e-4ead-c6b4-305df3c3e0be",
        "colab": {
          "base_uri": "https://localhost:8080/"
        }
      },
      "outputs": [
        {
          "output_type": "execute_result",
          "data": {
            "text/plain": [
              "0.9060077519379846"
            ]
          },
          "metadata": {},
          "execution_count": 37
        }
      ],
      "execution_count": 37
    },
    {
      "cell_type": "code",
      "source": [
        "# We used the same KNN Classiefier after appling PCA and got 90.6% accuracy with only 100 col"
      ],
      "metadata": {
        "trusted": true,
        "execution": {
          "iopub.status.busy": "2025-04-19T13:43:31.175209Z",
          "iopub.execute_input": "2025-04-19T13:43:31.175573Z",
          "iopub.status.idle": "2025-04-19T13:43:31.179747Z",
          "shell.execute_reply.started": "2025-04-19T13:43:31.175544Z",
          "shell.execute_reply": "2025-04-19T13:43:31.178836Z"
        },
        "id": "GijIj2pbn7UB"
      },
      "outputs": [],
      "execution_count": 38
    },
    {
      "cell_type": "code",
      "source": [
        "for i in range(1,785):\n",
        "    pca3=PCA(n_components=i)\n",
        "\n",
        "    X_train_trf3=pca3.fit_transform(X_train_sc)\n",
        "    X_test_trf3 = pca3.transform(X_test_sc)\n",
        "\n",
        "    knn=KNeighborsClassifier()\n",
        "    knn.fit(X_train_trf3, y_train)\n",
        "    y_pred4 = knn.predict(X_test_trf3)\n",
        "\n",
        "    print(accuracy_score(y_test, y_pred4))"
      ],
      "metadata": {
        "trusted": true,
        "execution": {
          "iopub.status.busy": "2025-04-19T13:43:31.180772Z",
          "iopub.execute_input": "2025-04-19T13:43:31.181029Z"
        },
        "id": "Ik9B51FHn7UB",
        "outputId": "8cabdf77-dffb-4576-d7ea-3fba11490bff",
        "colab": {
          "base_uri": "https://localhost:8080/"
        }
      },
      "outputs": [
        {
          "output_type": "stream",
          "name": "stdout",
          "text": [
            "0.2616279069767442\n",
            "0.40261627906976744\n",
            "0.5072674418604651\n",
            "0.6729651162790697\n",
            "0.7398255813953488\n",
            "0.8081395348837209\n",
            "0.8270348837209303\n",
            "0.8328488372093024\n",
            "0.8444767441860465\n",
            "0.8604651162790697\n",
            "0.8575581395348837\n",
            "0.8561046511627907\n",
            "0.8590116279069767\n",
            "0.8619186046511628\n",
            "0.8924418604651163\n",
            "0.8909883720930233\n",
            "0.8968023255813954\n",
            "0.8953488372093024\n",
            "0.8953488372093024\n",
            "0.8997093023255814\n",
            "0.8997093023255814\n",
            "0.9040697674418605\n",
            "0.9040697674418605\n",
            "0.9098837209302325\n",
            "0.9156976744186046\n",
            "0.9142441860465116\n",
            "0.9156976744186046\n",
            "0.9142441860465116\n",
            "0.9098837209302325\n",
            "0.9127906976744186\n",
            "0.9156976744186046\n",
            "0.9098837209302325\n",
            "0.9098837209302325\n",
            "0.9142441860465116\n",
            "0.9156976744186046\n",
            "0.9098837209302325\n",
            "0.9098837209302325\n",
            "0.9069767441860465\n",
            "0.9084302325581395\n",
            "0.9055232558139535\n",
            "0.9069767441860465\n",
            "0.9098837209302325\n",
            "0.9055232558139535\n",
            "0.9084302325581395\n",
            "0.9142441860465116\n",
            "0.9127906976744186\n",
            "0.9142441860465116\n",
            "0.9098837209302325\n",
            "0.9084302325581395\n",
            "0.9113372093023255\n",
            "0.9098837209302325\n",
            "0.9098837209302325\n",
            "0.9142441860465116\n",
            "0.9098837209302325\n",
            "0.9113372093023255\n",
            "0.9156976744186046\n",
            "0.9156976744186046\n",
            "0.9171511627906976\n",
            "0.9127906976744186\n",
            "0.9200581395348837\n",
            "0.9171511627906976\n",
            "0.9113372093023255\n",
            "0.9127906976744186\n",
            "0.9142441860465116\n",
            "0.9127906976744186\n",
            "0.9113372093023255\n",
            "0.9055232558139535\n",
            "0.9127906976744186\n",
            "0.9069767441860465\n",
            "0.9069767441860465\n",
            "0.9055232558139535\n",
            "0.9084302325581395\n",
            "0.9069767441860465\n",
            "0.9055232558139535\n",
            "0.9113372093023255\n",
            "0.9098837209302325\n",
            "0.9084302325581395\n",
            "0.9098837209302325\n",
            "0.9084302325581395\n",
            "0.9040697674418605\n",
            "0.9084302325581395\n",
            "0.9142441860465116\n",
            "0.9084302325581395\n",
            "0.9156976744186046\n",
            "0.9040697674418605\n",
            "0.9069767441860465\n",
            "0.9084302325581395\n",
            "0.9084302325581395\n",
            "0.9098837209302325\n",
            "0.9113372093023255\n",
            "0.9055232558139535\n",
            "0.9084302325581395\n",
            "0.9055232558139535\n",
            "0.9040697674418605\n",
            "0.9084302325581395\n",
            "0.9084302325581395\n",
            "0.9040697674418605\n",
            "0.9026162790697675\n",
            "0.9055232558139535\n",
            "0.9098837209302325\n",
            "0.9069767441860465\n",
            "0.9055232558139535\n",
            "0.9026162790697675\n",
            "0.9026162790697675\n",
            "0.9011627906976745\n",
            "0.9084302325581395\n",
            "0.9040697674418605\n",
            "0.9040697674418605\n",
            "0.9069767441860465\n",
            "0.9098837209302325\n",
            "0.9055232558139535\n",
            "0.9040697674418605\n",
            "0.9084302325581395\n",
            "0.9069767441860465\n",
            "0.9098837209302325\n",
            "0.9040697674418605\n",
            "0.9084302325581395\n",
            "0.9055232558139535\n",
            "0.9026162790697675\n",
            "0.9084302325581395\n",
            "0.9026162790697675\n",
            "0.9055232558139535\n",
            "0.9026162790697675\n",
            "0.9098837209302325\n",
            "0.9113372093023255\n",
            "0.9040697674418605\n",
            "0.9055232558139535\n",
            "0.9069767441860465\n",
            "0.9084302325581395\n",
            "0.9113372093023255\n",
            "0.9098837209302325\n",
            "0.9069767441860465\n",
            "0.9084302325581395\n",
            "0.9113372093023255\n",
            "0.9098837209302325\n",
            "0.9084302325581395\n",
            "0.9040697674418605\n",
            "0.9055232558139535\n",
            "0.9069767441860465\n",
            "0.9084302325581395\n",
            "0.9040697674418605\n",
            "0.9084302325581395\n",
            "0.9055232558139535\n",
            "0.9084302325581395\n",
            "0.9084302325581395\n",
            "0.9055232558139535\n",
            "0.9098837209302325\n",
            "0.9069767441860465\n",
            "0.9055232558139535\n",
            "0.9098837209302325\n",
            "0.9055232558139535\n",
            "0.9040697674418605\n",
            "0.9069767441860465\n",
            "0.9040697674418605\n",
            "0.9055232558139535\n",
            "0.9084302325581395\n",
            "0.9040697674418605\n",
            "0.9084302325581395\n",
            "0.9069767441860465\n",
            "0.9055232558139535\n",
            "0.9055232558139535\n",
            "0.9084302325581395\n",
            "0.9098837209302325\n",
            "0.9026162790697675\n",
            "0.9011627906976745\n",
            "0.9055232558139535\n",
            "0.9011627906976745\n",
            "0.9040697674418605\n",
            "0.9055232558139535\n",
            "0.9040697674418605\n",
            "0.9069767441860465\n",
            "0.9040697674418605\n",
            "0.9026162790697675\n",
            "0.9011627906976745\n",
            "0.9055232558139535\n",
            "0.9011627906976745\n",
            "0.9055232558139535\n",
            "0.9026162790697675\n",
            "0.8968023255813954\n",
            "0.9040697674418605\n",
            "0.9026162790697675\n",
            "0.9055232558139535\n",
            "0.9026162790697675\n",
            "0.8997093023255814\n",
            "0.9040697674418605\n",
            "0.8997093023255814\n",
            "0.9055232558139535\n",
            "0.9026162790697675\n",
            "0.8982558139534884\n",
            "0.9011627906976745\n",
            "0.9011627906976745\n",
            "0.9026162790697675\n",
            "0.9011627906976745\n",
            "0.8997093023255814\n",
            "0.9026162790697675\n",
            "0.8982558139534884\n",
            "0.9011627906976745\n",
            "0.9026162790697675\n",
            "0.8982558139534884\n",
            "0.8997093023255814\n",
            "0.8997093023255814\n",
            "0.9011627906976745\n",
            "0.8982558139534884\n",
            "0.8968023255813954\n",
            "0.9026162790697675\n",
            "0.8982558139534884\n",
            "0.8997093023255814\n",
            "0.8997093023255814\n",
            "0.9040697674418605\n",
            "0.8938953488372093\n",
            "0.9040697674418605\n",
            "0.8968023255813954\n",
            "0.9011627906976745\n",
            "0.9011627906976745\n",
            "0.8997093023255814\n",
            "0.8982558139534884\n",
            "0.8982558139534884\n",
            "0.8953488372093024\n",
            "0.9040697674418605\n",
            "0.8997093023255814\n",
            "0.9040697674418605\n",
            "0.8997093023255814\n",
            "0.9040697674418605\n",
            "0.8997093023255814\n",
            "0.8982558139534884\n",
            "0.8997093023255814\n",
            "0.8982558139534884\n",
            "0.8968023255813954\n",
            "0.9026162790697675\n",
            "0.8982558139534884\n",
            "0.8982558139534884\n",
            "0.9011627906976745\n",
            "0.8968023255813954\n",
            "0.8938953488372093\n",
            "0.8968023255813954\n",
            "0.8938953488372093\n",
            "0.8968023255813954\n",
            "0.8953488372093024\n",
            "0.8968023255813954\n",
            "0.8968023255813954\n",
            "0.8968023255813954\n",
            "0.8953488372093024\n",
            "0.8997093023255814\n",
            "0.8968023255813954\n",
            "0.8953488372093024\n",
            "0.8938953488372093\n",
            "0.8953488372093024\n",
            "0.8968023255813954\n",
            "0.8982558139534884\n",
            "0.8924418604651163\n",
            "0.8924418604651163\n",
            "0.8924418604651163\n",
            "0.8953488372093024\n",
            "0.8909883720930233\n",
            "0.8924418604651163\n",
            "0.8895348837209303\n",
            "0.8953488372093024\n",
            "0.8866279069767442\n",
            "0.8909883720930233\n",
            "0.8953488372093024\n",
            "0.8924418604651163\n",
            "0.8909883720930233\n",
            "0.8880813953488372\n",
            "0.8895348837209303\n",
            "0.8895348837209303\n",
            "0.8924418604651163\n",
            "0.8938953488372093\n",
            "0.8880813953488372\n",
            "0.8895348837209303\n",
            "0.8924418604651163\n",
            "0.8909883720930233\n",
            "0.8924418604651163\n",
            "0.8895348837209303\n",
            "0.8924418604651163\n",
            "0.8924418604651163\n",
            "0.8938953488372093\n",
            "0.8924418604651163\n",
            "0.8909883720930233\n",
            "0.8938953488372093\n",
            "0.8924418604651163\n",
            "0.8938953488372093\n",
            "0.8953488372093024\n",
            "0.8938953488372093\n",
            "0.8909883720930233\n",
            "0.8909883720930233\n",
            "0.8938953488372093\n",
            "0.8938953488372093\n",
            "0.8924418604651163\n",
            "0.8895348837209303\n",
            "0.8895348837209303\n",
            "0.8938953488372093\n",
            "0.8924418604651163\n",
            "0.8909883720930233\n",
            "0.8909883720930233\n",
            "0.8924418604651163\n",
            "0.8909883720930233\n",
            "0.8924418604651163\n",
            "0.8909883720930233\n",
            "0.8909883720930233\n",
            "0.8895348837209303\n",
            "0.8909883720930233\n",
            "0.8880813953488372\n",
            "0.8909883720930233\n",
            "0.8909883720930233\n",
            "0.8895348837209303\n",
            "0.8895348837209303\n",
            "0.8909883720930233\n",
            "0.8909883720930233\n",
            "0.8895348837209303\n",
            "0.8909883720930233\n",
            "0.8909883720930233\n",
            "0.8909883720930233\n",
            "0.8909883720930233\n",
            "0.8895348837209303\n",
            "0.8895348837209303\n",
            "0.8880813953488372\n",
            "0.8909883720930233\n",
            "0.8909883720930233\n",
            "0.8909883720930233\n",
            "0.8880813953488372\n",
            "0.8880813953488372\n",
            "0.8880813953488372\n",
            "0.8895348837209303\n",
            "0.8895348837209303\n",
            "0.8880813953488372\n",
            "0.8866279069767442\n",
            "0.8895348837209303\n",
            "0.8880813953488372\n",
            "0.8880813953488372\n",
            "0.8880813953488372\n",
            "0.8909883720930233\n",
            "0.8880813953488372\n",
            "0.8880813953488372\n",
            "0.8851744186046512\n",
            "0.8880813953488372\n",
            "0.8880813953488372\n",
            "0.8895348837209303\n",
            "0.8880813953488372\n",
            "0.8880813953488372\n",
            "0.8880813953488372\n",
            "0.8880813953488372\n",
            "0.8880813953488372\n",
            "0.8880813953488372\n",
            "0.8880813953488372\n",
            "0.8880813953488372\n",
            "0.8866279069767442\n",
            "0.8851744186046512\n",
            "0.8880813953488372\n",
            "0.8837209302325582\n",
            "0.8880813953488372\n",
            "0.8866279069767442\n",
            "0.8866279069767442\n",
            "0.8880813953488372\n",
            "0.8880813953488372\n",
            "0.8851744186046512\n",
            "0.8837209302325582\n",
            "0.8866279069767442\n",
            "0.8880813953488372\n",
            "0.8866279069767442\n",
            "0.8866279069767442\n",
            "0.8837209302325582\n",
            "0.8880813953488372\n",
            "0.8851744186046512\n",
            "0.8866279069767442\n",
            "0.8851744186046512\n",
            "0.8866279069767442\n",
            "0.8880813953488372\n",
            "0.8851744186046512\n",
            "0.8837209302325582\n",
            "0.8880813953488372\n",
            "0.8866279069767442\n",
            "0.8866279069767442\n",
            "0.8866279069767442\n",
            "0.8866279069767442\n",
            "0.8880813953488372\n",
            "0.8880813953488372\n",
            "0.8880813953488372\n",
            "0.8866279069767442\n",
            "0.8866279069767442\n",
            "0.8851744186046512\n",
            "0.8851744186046512\n",
            "0.8866279069767442\n",
            "0.8851744186046512\n",
            "0.8866279069767442\n",
            "0.8866279069767442\n",
            "0.8851744186046512\n",
            "0.8851744186046512\n",
            "0.8851744186046512\n",
            "0.8851744186046512\n",
            "0.8837209302325582\n",
            "0.8866279069767442\n",
            "0.8851744186046512\n",
            "0.8866279069767442\n",
            "0.8880813953488372\n",
            "0.8837209302325582\n",
            "0.8822674418604651\n",
            "0.8851744186046512\n",
            "0.8851744186046512\n",
            "0.8851744186046512\n",
            "0.8837209302325582\n",
            "0.8851744186046512\n",
            "0.8837209302325582\n",
            "0.8866279069767442\n",
            "0.8822674418604651\n",
            "0.8837209302325582\n",
            "0.8837209302325582\n",
            "0.8822674418604651\n",
            "0.8851744186046512\n",
            "0.8851744186046512\n",
            "0.8851744186046512\n",
            "0.8837209302325582\n",
            "0.8866279069767442\n",
            "0.8880813953488372\n",
            "0.8851744186046512\n",
            "0.8851744186046512\n",
            "0.8837209302325582\n",
            "0.8866279069767442\n",
            "0.8851744186046512\n",
            "0.8866279069767442\n",
            "0.8837209302325582\n",
            "0.8851744186046512\n",
            "0.8866279069767442\n",
            "0.8880813953488372\n",
            "0.8866279069767442\n",
            "0.8851744186046512\n",
            "0.8866279069767442\n",
            "0.8851744186046512\n",
            "0.8880813953488372\n",
            "0.8851744186046512\n",
            "0.8866279069767442\n",
            "0.8866279069767442\n",
            "0.8880813953488372\n",
            "0.8895348837209303\n",
            "0.8880813953488372\n",
            "0.8880813953488372\n",
            "0.8880813953488372\n",
            "0.8895348837209303\n",
            "0.8880813953488372\n",
            "0.8880813953488372\n",
            "0.8866279069767442\n",
            "0.8866279069767442\n",
            "0.8866279069767442\n",
            "0.8895348837209303\n",
            "0.8880813953488372\n",
            "0.8866279069767442\n",
            "0.8880813953488372\n",
            "0.8880813953488372\n",
            "0.8880813953488372\n",
            "0.8880813953488372\n",
            "0.8880813953488372\n",
            "0.8866279069767442\n",
            "0.8880813953488372\n",
            "0.8880813953488372\n",
            "0.8866279069767442\n",
            "0.8880813953488372\n",
            "0.8866279069767442\n",
            "0.8866279069767442\n",
            "0.8880813953488372\n",
            "0.8866279069767442\n",
            "0.8866279069767442\n",
            "0.8880813953488372\n",
            "0.8880813953488372\n",
            "0.8880813953488372\n",
            "0.8851744186046512\n",
            "0.8866279069767442\n",
            "0.8895348837209303\n",
            "0.8880813953488372\n",
            "0.8866279069767442\n",
            "0.8866279069767442\n",
            "0.8866279069767442\n",
            "0.8851744186046512\n",
            "0.8866279069767442\n",
            "0.8880813953488372\n",
            "0.8866279069767442\n",
            "0.8880813953488372\n",
            "0.8851744186046512\n",
            "0.8880813953488372\n",
            "0.8851744186046512\n",
            "0.8866279069767442\n",
            "0.8866279069767442\n",
            "0.8880813953488372\n",
            "0.8880813953488372\n",
            "0.8866279069767442\n",
            "0.8851744186046512\n",
            "0.8837209302325582\n",
            "0.8866279069767442\n",
            "0.8880813953488372\n",
            "0.8866279069767442\n",
            "0.8851744186046512\n",
            "0.8866279069767442\n",
            "0.8866279069767442\n",
            "0.8837209302325582\n",
            "0.8866279069767442\n",
            "0.8895348837209303\n",
            "0.8851744186046512\n",
            "0.8851744186046512\n",
            "0.8866279069767442\n",
            "0.8851744186046512\n",
            "0.8851744186046512\n",
            "0.8866279069767442\n",
            "0.8866279069767442\n",
            "0.8866279069767442\n",
            "0.8851744186046512\n",
            "0.8866279069767442\n",
            "0.8866279069767442\n",
            "0.8866279069767442\n",
            "0.8866279069767442\n",
            "0.8866279069767442\n",
            "0.8880813953488372\n",
            "0.8851744186046512\n",
            "0.8880813953488372\n",
            "0.8880813953488372\n",
            "0.8851744186046512\n",
            "0.8866279069767442\n",
            "0.8880813953488372\n",
            "0.8866279069767442\n",
            "0.8866279069767442\n",
            "0.8866279069767442\n",
            "0.8866279069767442\n",
            "0.8851744186046512\n",
            "0.8866279069767442\n",
            "0.8851744186046512\n",
            "0.8866279069767442\n",
            "0.8880813953488372\n",
            "0.8866279069767442\n",
            "0.8880813953488372\n",
            "0.8837209302325582\n",
            "0.8866279069767442\n",
            "0.8866279069767442\n",
            "0.8866279069767442\n",
            "0.8866279069767442\n",
            "0.8880813953488372\n",
            "0.8866279069767442\n",
            "0.8880813953488372\n",
            "0.8880813953488372\n",
            "0.8866279069767442\n",
            "0.8866279069767442\n",
            "0.8851744186046512\n",
            "0.8866279069767442\n",
            "0.8851744186046512\n",
            "0.8851744186046512\n",
            "0.8866279069767442\n",
            "0.8851744186046512\n",
            "0.8880813953488372\n",
            "0.8822674418604651\n",
            "0.8866279069767442\n",
            "0.8866279069767442\n",
            "0.8866279069767442\n",
            "0.8880813953488372\n",
            "0.8851744186046512\n",
            "0.8866279069767442\n",
            "0.8866279069767442\n",
            "0.8851744186046512\n",
            "0.8866279069767442\n",
            "0.8851744186046512\n",
            "0.8851744186046512\n",
            "0.8880813953488372\n",
            "0.8880813953488372\n",
            "0.8866279069767442\n",
            "0.8837209302325582\n",
            "0.8866279069767442\n",
            "0.8866279069767442\n",
            "0.8866279069767442\n",
            "0.8866279069767442\n",
            "0.8866279069767442\n",
            "0.8866279069767442\n",
            "0.8837209302325582\n",
            "0.8880813953488372\n",
            "0.8866279069767442\n",
            "0.8866279069767442\n",
            "0.8851744186046512\n",
            "0.8880813953488372\n",
            "0.8866279069767442\n",
            "0.8880813953488372\n",
            "0.8866279069767442\n",
            "0.8851744186046512\n",
            "0.8851744186046512\n",
            "0.8866279069767442\n",
            "0.8866279069767442\n",
            "0.8866279069767442\n",
            "0.8866279069767442\n",
            "0.8866279069767442\n",
            "0.8851744186046512\n",
            "0.8866279069767442\n",
            "0.8866279069767442\n",
            "0.8851744186046512\n",
            "0.8851744186046512\n",
            "0.8851744186046512\n",
            "0.8851744186046512\n",
            "0.8851744186046512\n",
            "0.8851744186046512\n",
            "0.8851744186046512\n",
            "0.8851744186046512\n",
            "0.8851744186046512\n",
            "0.8851744186046512\n",
            "0.8866279069767442\n",
            "0.8851744186046512\n",
            "0.8851744186046512\n",
            "0.8851744186046512\n",
            "0.8851744186046512\n",
            "0.8851744186046512\n",
            "0.8851744186046512\n",
            "0.8851744186046512\n",
            "0.8851744186046512\n",
            "0.8851744186046512\n",
            "0.8851744186046512\n",
            "0.8851744186046512\n",
            "0.8851744186046512\n",
            "0.8851744186046512\n",
            "0.8851744186046512\n",
            "0.8851744186046512\n",
            "0.8851744186046512\n",
            "0.8866279069767442\n",
            "0.8866279069767442\n",
            "0.8866279069767442\n",
            "0.8866279069767442\n",
            "0.8866279069767442\n",
            "0.8866279069767442\n",
            "0.8851744186046512\n",
            "0.8851744186046512\n",
            "0.8851744186046512\n",
            "0.8851744186046512\n",
            "0.8851744186046512\n",
            "0.8851744186046512\n",
            "0.8851744186046512\n",
            "0.8851744186046512\n",
            "0.8851744186046512\n",
            "0.8851744186046512\n",
            "0.8851744186046512\n",
            "0.8851744186046512\n",
            "0.8851744186046512\n",
            "0.8851744186046512\n",
            "0.8851744186046512\n",
            "0.8851744186046512\n",
            "0.8851744186046512\n",
            "0.8851744186046512\n",
            "0.8851744186046512\n",
            "0.8851744186046512\n",
            "0.8851744186046512\n",
            "0.8851744186046512\n",
            "0.8851744186046512\n",
            "0.8851744186046512\n",
            "0.8851744186046512\n",
            "0.8851744186046512\n",
            "0.8851744186046512\n",
            "0.8851744186046512\n",
            "0.8851744186046512\n",
            "0.8851744186046512\n",
            "0.8851744186046512\n",
            "0.8851744186046512\n",
            "0.8851744186046512\n",
            "0.8851744186046512\n",
            "0.8851744186046512\n",
            "0.8851744186046512\n",
            "0.8851744186046512\n",
            "0.8851744186046512\n",
            "0.8851744186046512\n",
            "0.8851744186046512\n",
            "0.8851744186046512\n",
            "0.8851744186046512\n",
            "0.8851744186046512\n",
            "0.8851744186046512\n",
            "0.8851744186046512\n",
            "0.8851744186046512\n",
            "0.8851744186046512\n",
            "0.8851744186046512\n",
            "0.8851744186046512\n",
            "0.8851744186046512\n",
            "0.8851744186046512\n",
            "0.8851744186046512\n",
            "0.8851744186046512\n",
            "0.8851744186046512\n",
            "0.8851744186046512\n",
            "0.8851744186046512\n",
            "0.8851744186046512\n",
            "0.8851744186046512\n",
            "0.8851744186046512\n",
            "0.8851744186046512\n",
            "0.8851744186046512\n",
            "0.8851744186046512\n",
            "0.8851744186046512\n",
            "0.8851744186046512\n",
            "0.8851744186046512\n",
            "0.8851744186046512\n",
            "0.8851744186046512\n",
            "0.8851744186046512\n",
            "0.8851744186046512\n",
            "0.8851744186046512\n",
            "0.8851744186046512\n",
            "0.8851744186046512\n",
            "0.8851744186046512\n",
            "0.8851744186046512\n",
            "0.8851744186046512\n",
            "0.8851744186046512\n",
            "0.8851744186046512\n",
            "0.8851744186046512\n",
            "0.8851744186046512\n",
            "0.8851744186046512\n",
            "0.8851744186046512\n",
            "0.8851744186046512\n",
            "0.8851744186046512\n",
            "0.8851744186046512\n",
            "0.8851744186046512\n",
            "0.8851744186046512\n",
            "0.8851744186046512\n",
            "0.8851744186046512\n",
            "0.8851744186046512\n",
            "0.8851744186046512\n",
            "0.8851744186046512\n",
            "0.8851744186046512\n",
            "0.8851744186046512\n",
            "0.8851744186046512\n",
            "0.8851744186046512\n",
            "0.8851744186046512\n",
            "0.8851744186046512\n",
            "0.8851744186046512\n",
            "0.8851744186046512\n",
            "0.8851744186046512\n",
            "0.8851744186046512\n",
            "0.8851744186046512\n",
            "0.8851744186046512\n",
            "0.8851744186046512\n",
            "0.8851744186046512\n",
            "0.8851744186046512\n",
            "0.8851744186046512\n",
            "0.8851744186046512\n",
            "0.8851744186046512\n",
            "0.8851744186046512\n",
            "0.8851744186046512\n",
            "0.8851744186046512\n",
            "0.8851744186046512\n",
            "0.8851744186046512\n",
            "0.8851744186046512\n",
            "0.8851744186046512\n",
            "0.8851744186046512\n",
            "0.8851744186046512\n",
            "0.8851744186046512\n",
            "0.8851744186046512\n",
            "0.8851744186046512\n",
            "0.8851744186046512\n",
            "0.8851744186046512\n",
            "0.8851744186046512\n",
            "0.8851744186046512\n",
            "0.8851744186046512\n",
            "0.8851744186046512\n",
            "0.8851744186046512\n",
            "0.8851744186046512\n",
            "0.8851744186046512\n",
            "0.8851744186046512\n",
            "0.8851744186046512\n",
            "0.8851744186046512\n",
            "0.8851744186046512\n",
            "0.8851744186046512\n",
            "0.8851744186046512\n",
            "0.8851744186046512\n",
            "0.8851744186046512\n",
            "0.8851744186046512\n",
            "0.8851744186046512\n",
            "0.8851744186046512\n",
            "0.8851744186046512\n",
            "0.8851744186046512\n",
            "0.8851744186046512\n",
            "0.8851744186046512\n",
            "0.8851744186046512\n",
            "0.8851744186046512\n",
            "0.8851744186046512\n",
            "0.8851744186046512\n",
            "0.8851744186046512\n",
            "0.8851744186046512\n",
            "0.8851744186046512\n",
            "0.8851744186046512\n",
            "0.8851744186046512\n",
            "0.8851744186046512\n",
            "0.8851744186046512\n",
            "0.8851744186046512\n",
            "0.8851744186046512\n",
            "0.8851744186046512\n",
            "0.8851744186046512\n",
            "0.8851744186046512\n",
            "0.8851744186046512\n",
            "0.8851744186046512\n",
            "0.8851744186046512\n",
            "0.8851744186046512\n",
            "0.8851744186046512\n"
          ]
        }
      ],
      "execution_count": 70
    },
    {
      "cell_type": "code",
      "source": [
        "# Transforming to a 2D data\n",
        "import plotly.express as px"
      ],
      "metadata": {
        "trusted": true,
        "id": "_FVYNwiEn7UI"
      },
      "outputs": [],
      "execution_count": 39
    },
    {
      "cell_type": "code",
      "source": [
        "pca4=PCA(n_components=2)\n",
        "\n",
        "X_train_trf4=pca4.fit_transform(X_train_sc)\n",
        "X_test_trf4 = pca4.transform(X_test_sc)"
      ],
      "metadata": {
        "id": "kZKlFhss5jPV"
      },
      "execution_count": 40,
      "outputs": []
    },
    {
      "cell_type": "code",
      "source": [
        "X_train_trf4.shape"
      ],
      "metadata": {
        "colab": {
          "base_uri": "https://localhost:8080/"
        },
        "id": "U-FhFbA86TpX",
        "outputId": "e5721713-ee5a-4177-b6a5-8f773e03c1b6"
      },
      "execution_count": 41,
      "outputs": [
        {
          "output_type": "execute_result",
          "data": {
            "text/plain": [
              "(4124, 2)"
            ]
          },
          "metadata": {},
          "execution_count": 41
        }
      ]
    },
    {
      "cell_type": "code",
      "source": [
        "y_train_trf = y_train.astype(str)\n",
        "fig = px.scatter(x=X_train_trf4[:,0], y=X_train_trf4[:,1], color=y_train_trf)\n",
        "fig.show()"
      ],
      "metadata": {
        "colab": {
          "base_uri": "https://localhost:8080/",
          "height": 542
        },
        "id": "r2ITxnDi6Yhm",
        "outputId": "264ab1d8-9a08-49ef-e365-bd71f749c711"
      },
      "execution_count": 42,
      "outputs": [
        {
          "output_type": "display_data",
          "data": {
            "text/html": [
              "<html>\n",
              "<head><meta charset=\"utf-8\" /></head>\n",
              "<body>\n",
              "    <div>            <script src=\"https://cdnjs.cloudflare.com/ajax/libs/mathjax/2.7.5/MathJax.js?config=TeX-AMS-MML_SVG\"></script><script type=\"text/javascript\">if (window.MathJax && window.MathJax.Hub && window.MathJax.Hub.Config) {window.MathJax.Hub.Config({SVG: {font: \"STIX-Web\"}});}</script>                <script type=\"text/javascript\">window.PlotlyConfig = {MathJaxConfig: 'local'};</script>\n",
              "        <script charset=\"utf-8\" src=\"https://cdn.plot.ly/plotly-2.35.2.min.js\"></script>                <div id=\"a5be1b5c-e3c8-409d-b200-c33f6bd83766\" class=\"plotly-graph-div\" style=\"height:525px; width:100%;\"></div>            <script type=\"text/javascript\">                                    window.PLOTLYENV=window.PLOTLYENV || {};                                    if (document.getElementById(\"a5be1b5c-e3c8-409d-b200-c33f6bd83766\")) {                    Plotly.newPlot(                        \"a5be1b5c-e3c8-409d-b200-c33f6bd83766\",                        [{\"hovertemplate\":\"color=9\\u003cbr\\u003ex=%{x}\\u003cbr\\u003ey=%{y}\\u003cextra\\u003e\\u003c\\u002fextra\\u003e\",\"legendgroup\":\"9\",\"marker\":{\"color\":\"#636efa\",\"symbol\":\"circle\"},\"mode\":\"markers\",\"name\":\"9\",\"showlegend\":true,\"x\":[-3.8231562813082536,-0.6306941642081326,-3.5418498787206034,-1.3996549609000815,-8.464335120879394,1.2463875149652284,0.5180066908442272,-7.38356475558476,-5.719324663833227,0.43720674832704837,-5.369946155889157,-6.3251592880063034,-3.1209994427738215,-5.403587291910161,-1.4094169059804265,-7.157731261551134,-5.412398890891525,-4.146392109822352,-2.488848565351633,-5.670337344009516,2.9215807690713778,1.8779102182991392,-1.6279510643685708,-5.643875759152488,-0.7666950095849374,-3.9656039900502433,-4.746535976375852,-7.189851587277601,-2.4898937180176923,-5.710744281067428,-4.066632127391728,-4.343469800430021,-5.762686034545064,4.791341337554759,-6.2882444218675175,-7.804039512654287,-3.163906915155906,-8.303671450796287,-6.241200028739723,-2.5635413424557605,-1.9193728195974242,-8.19533088731247,-2.7821103655884527,-6.562233061688169,-5.957960722333541,-7.882688071787806,-7.2629349814497575,-4.626730468410529,-6.595806256286291,-1.5688494842851926,1.0916336002114098,-4.3875609308034385,-0.599120455304155,-3.732936957417119,4.436920983148945,1.0081514756785273,-5.368183545679525,-3.4760131006570334,4.280688253364898,-0.2898196483953424,0.724382780209656,-5.170673137148428,-6.897602315470979,3.153226763522021,-5.625353193781548,0.6438769964493787,-5.3347735875191935,-2.576440929809588,0.6235077530352463,-3.5739831764726997,-4.5729176532810305,-6.28158954251246,12.42283088025498,-4.11431789299651,-3.944004458864837,-6.056872712599214,-5.8677051670658615,-5.9061153823328745,-2.051323420280663,2.073248418795369,-6.738857399322591,-5.3779659217870135,1.7792006953242823,-8.150138643384162,-6.824492746832831,-1.3711322941996436,-6.807980845713188,-6.361109579705112,-2.658998748670139,-7.20904403876652,0.3891552401691804,-5.694869474592385,-4.3220072627363955,7.87716963722087,-5.287842481864958,-2.0884100387775986,-7.319211711681278,-2.509701415788935,-6.85673882498504,2.8529986564931638,-6.250361092671717,-7.570710962049296,1.733592742882333,2.9155996998356573,-8.210164538843728,-2.7777309806952677,-2.902755899998959,-3.2547164741331085,-5.109237847859778,-4.41421161190509,-7.544114653058544,1.7705817400332302,-5.362966778212414,-6.876185011021138,-4.1063782104023705,-2.540482601850507,-6.5226426435341365,-4.307783768673104,-7.415799709862952,-6.002831604385643,-6.674174296588485,-7.769058992809041,-3.2175276463670928,-7.7494407217589965,-6.479000419244775,-3.828546235983414,-1.9146820410726677,-4.262585429543385,-0.5819291058616471,-2.575884611409652,-3.93199811212821,4.999341501265711,-7.700304315541928,-1.460524071656499,6.154139059415035,-5.030565426957221,-7.007951365447929,-3.183530872385246,-0.50632798200074,-5.696248543608502,4.197358451462741,-2.221622670492739,-5.266118952860191,-4.768518372187752,3.0150831156876903,-5.617724972504183,-7.414746706719987,-2.8995640530507805,-8.285902011909066,-4.932979326160015,-2.3759767196963675,0.4783165611791081,-0.8066294885614667,-5.445490547020116,8.25814986712376,-7.5605333545252495,-4.917724852208149,-5.501962346910709,0.7794228832666508,-0.017869511430659513,-6.43613644065932,-1.8570165730258419,-6.422116605374313,-7.671516107734852,-6.183024012845476,-0.3913048995900541,-5.741311597576788,-2.6319740643797185,-6.993453424864112,-8.140768683145163,1.3623345443761063,-2.443029353725127,-7.032672796894187,-8.82779371593269,-6.598955431267239,-4.547553812988517,1.7538338138289065,4.818674870770166,-4.880772007126585,2.661536578703147,-6.782585030009938,-6.80533099793926,-2.336479962768082,-6.461996611069549,-1.4022490133513583,-5.211365136273488,-5.656904515892295,-3.8820719207084187,-4.410481398217071,-7.56774569908609,-2.296990631947109,-1.2992898973282672,1.2789209928193586,0.941569141516132,-7.584522955994871,-3.9952439123005403,-4.543794304790726,-0.6608462375166477,-6.148357720257376,-3.6127511043473777,-1.9250181154267905,-5.13500398106422,0.6157576384332056,-1.471465430059641,-3.634419905884246,0.7544271814460566,-5.296809900252589,-5.272758891479637,-3.173533995732917,-6.421105188653647,-4.832522787021044,0.17699258272199186,-6.814193381581409,-7.764677131625871,-2.7222094977391045,-7.902101283738133,-0.4852639071178972,-4.698335984922238,-7.081005779279615,-7.443521448730482,1.5438833460183619,1.7081120530729972,-5.75445163068428,-7.215177143760946,-0.8444897637153507,-6.109771245397507,-5.180060750726843,-5.476825579170741,-5.983049204269563,-2.21688027810832,-4.558475815127944,-4.8717133373486945,-5.57817193846367,-4.1984139265106695,-5.393357121794977,-4.237757095915292,-7.451813776655898,-2.4123066627352783,-6.13849477850227,-3.2353713255123684,-2.634838748431341,-4.697012886768557,-3.315392168303248,-5.624553549883555,-3.7077559559727664,-8.507154076907085,-4.951473775338003,2.2192301316809364,-2.201711354741187,-5.259186581935982,-7.883954600769633,-6.942341593303865,-6.38157619353039,-6.434043533111589,-0.12875187421934445,5.459349468560638,5.663450321966581,-5.488323359701105,-4.885875114429833,-1.1809217392592317,1.1581543636445022,-2.902661051810221,-1.7400624905866091,-1.8195392976178328,-6.965923871717094,-3.6983414384550906,-4.3414521564674935,-4.454720729791096,-7.67291336522484,-6.21284978624195,-6.52436475491136,-5.418605479956699,-3.935976325786711,-4.567116230221819,-5.661258918740658,-3.182748592712814,-5.877248564797274,6.888134768061688,-5.4242223277987165,-2.3967772316087532,-5.720796882771833,-6.447341411597093,13.1489531136412,-6.552566861231052,-6.341825963898279,-4.144907475496371,-2.3766247943485697,-5.266784285841965,-5.30586028033935,-2.075407797848118,-1.9282071501310987,-4.26801849508406,-0.4079319854829911,3.502214156273086,-3.569296398417799,-7.154240186206526,-4.185183278020631,-7.1693977787170455,-1.1825214605940784,-3.959572563024634,-7.226369536549855,-7.519727642688729,-7.626611679046082,-4.351404277394684,0.5433210158823495,-3.485831611270039,9.12102569216525,-6.365851665174293,-2.819423581829318,-5.391389840756544,-2.6731777398100647,-4.09492540466145,-3.1128367689668712,-7.534273613999909,-5.6135772864312194,-6.536216980382868,-7.960022119070817,1.0883423299419661,-7.708377631144624,-4.145930827658446,-5.374386819094499,-6.736509087579552,4.316958053202513,1.1413834677913581,-2.6769196379638807,-6.979872059001902,-7.219937159704986,-5.244968483851189,-1.7216042260586004,1.6083600842802444,-5.2100786750873205,-5.244763132779924,-5.152773122418818,-3.597577419100262,-5.774187761573743,-6.080874138273916,-7.74739011660729,1.1050708920781664,-3.9023374795037733,-2.631807038182818,-4.72484225455815,-1.5700067542118874,-6.807064934347675,6.8921493388448285,1.852308211234289,-4.816427326953379,-6.186536084117307,-6.006636141343161,14.747260461778005,-1.7493293355037391,-6.668545002385051,-7.017014457080955,-7.917397397758033,-1.016099934635616,-5.713267178626751,2.3336443068170616,-4.640714754923975,-2.296184016077323,0.7216866131267757,-6.376659443726328,-5.745662965963347,3.455355985397967,-7.7506365643511375,-4.153096483360234,-0.39514973331784586,-4.081019852393456,-5.935070044827252,3.509666497804003,-8.617936013752326,-4.805845254242351,-7.192390451233958,-6.9645920079358525,-7.658090931390043,8.558338404330936,-0.332877509750953,-1.5154984709595898,-5.684574839160422,-3.616269849312909,-7.642130949830096,-6.612031208971533,-8.275239373929203,-3.7457579620574135,-2.674250252586465,6.213497094018392,-8.919591090535208,-3.588030903999246],\"xaxis\":\"x\",\"y\":[6.544792691127726,3.6168758924314064,1.0947574710556023,11.844926975846057,-0.446288622502179,2.6020314597434955,10.713818215806388,2.2181606850091407,0.7802912703707193,9.594528789080794,-1.7495732435658409,0.03307366713017996,4.337959303984575,-0.3019699838887928,-1.2289860007887978,1.915366075523433,5.149444175088833,6.8618248873166925,3.5611689297838423,0.8119932375206246,4.481782551743674,17.04451721370637,1.780398278929717,-3.797142558547618,6.1784156281191125,8.434099540323494,7.507152308668183,3.5068077638582897,11.409659456724494,-2.0838687887467335,4.653027090304892,-2.005141835638638,-0.4242235844095723,-1.0078988405908682,3.4697061783726793,-0.47000619662624543,4.9732921029560595,0.31586679725819744,4.942839007375038,5.779320291610608,11.310007221607412,1.170990638343229,4.1283042087175685,0.2327979081311057,-1.1296197669183792,4.00073629790592,0.6910824607822489,3.3181095338670348,3.2371307024577827,1.1824848926091753,7.992895974899104,11.261720733237576,5.8798296678790525,5.852703299744229,7.372902022162784,6.109527566246137,7.847330578426867,-0.6491406185887829,12.63569690099026,0.4030010275321498,9.234155108278516,4.590466018899688,-1.938024773273608,12.287672073968826,8.816416478673855,-0.5791682417728415,-0.07248365716428494,7.653848653965726,9.028431198614742,0.8121346986223225,-3.208939847859333,-2.8425826270932153,8.11052334918334,8.662636896710605,5.271566853795505,3.068246375907383,2.877084236740776,2.8742220981893225,3.1383147027098612,4.596490360853482,2.3831046214595593,3.9789919795192277,14.423407981285854,3.082183375661888,0.2864735685277249,8.337103695531255,-1.0520687539760567,0.12858260473873015,7.622036329866327,-0.9619994296649712,1.449445437356713,-2.0541075096003416,4.578406735003283,14.276940098028687,2.8657952678689096,8.791428100949515,2.8704111227797173,10.438873380379635,1.1689845536432488,19.39251838892393,-4.468202140110745,3.066273152877374,5.3143571833325325,4.667869815725049,2.4191672310925214,6.041038438072882,7.38677511251483,-3.510240669520288,5.000938412333559,2.4244951595745663,1.9413303307243321,13.04123431687508,4.88319042385433,2.1347543860849845,1.5066538956581776,8.165033111994935,1.600718499958273,4.362741491550849,-0.21428532370043027,4.05493924369369,0.34601507021644984,1.2249304131908818,11.281296795241113,2.386384645136962,2.3516170669151246,-0.09136574962590831,0.4459428648072908,6.55515110552792,1.9513281330671202,3.018542922104538,5.742499460311526,12.09122527396573,2.1239225859455404,6.392612989628087,3.3724518837778166,2.633334180095958,4.990885387779934,5.157140584626549,1.0483077454232785,5.038837137303183,3.633615521003055,10.190117910616895,6.082913086049747,0.27157907657046154,10.863805143371952,-3.1418327415094223,1.446776289859032,-2.595296695875033,1.3500821260289664,2.417362385845455,4.150579610253814,11.050915530295901,5.578430776516397,5.236898117099693,16.042346998749128,0.1078651262961428,5.753096592500717,2.508722435005498,-2.246661853178715,7.338844658979642,0.05630679832485061,9.541764570025897,4.638291932618036,2.260644101719188,4.240811527164299,9.678147635159256,1.022536405840378,8.709172815269536,1.5294608845415012,-1.1340200942072083,5.618250244557519,5.6550746737906366,3.7860189668105293,2.8207597220832468,-5.284912013153158,3.465666231923686,4.412515523448557,7.322478778687111,7.115643384367324,-0.21914891522509355,5.172100333097439,1.13628956712284,1.8531273768646077,3.4612010803489714,-4.532975801503105,2.046798355542,4.672968362832669,0.5103496610789321,0.39654838087907845,1.561361139015706,-0.880183188669601,12.474619671945934,1.3124305686350577,12.686285761830831,3.719646387509105,6.874667917612078,0.9690255599462703,12.696940053337183,2.54086331271445,6.592250590572956,5.646816578916652,3.865764961860515,10.878122765998377,2.333002626647059,2.6262691085457255,0.9960954842819012,1.3844335038763889,-3.4183320403638926,7.242842471197168,3.098719074626462,8.779484095152945,8.1928830485804,3.135079904410676,-0.3237758010605485,4.6510483994548455,-0.024603469073476637,13.63378236128721,-0.22491008144759259,-2.4780127912383683,1.4231889412419059,14.798169623776692,15.19389695413165,0.4279784546001966,0.28051589686214456,-0.5273156232220277,5.728275828940655,2.9839000820039216,4.412602595866727,-0.03043368267717799,13.857433536091587,2.6549555567318364,5.088089969234535,3.1169844680944556,5.368315637449059,3.7453133442561617,-1.1535101392854459,1.4192639197591315,3.6598337628935402,1.6227014700490332,7.997210335984335,1.5221606259175953,3.1204491764947497,4.024066483744138,-2.1636112267048775,6.789400417555931,0.7604351065456357,5.4069452459579095,8.998546148255228,3.7688629561263656,-1.886643825247182,-0.9906497576699795,-0.22121933345366468,1.8931090369873997,5.599083710967869,11.031799814875484,2.581299906187015,11.330400847199156,-0.9731552769970131,3.2465128631747757,-7.470288182069959,6.356353701058793,8.561637335968792,10.375107276223533,4.61805184198503,0.21551851134673589,6.410937951010973,-1.7946893116129214,5.208858729834413,1.27392574593488,3.4587377163801674,3.436570211344068,5.627028069898953,6.926099595263083,5.502498240677361,3.8047259745557187,4.52776349634226,0.6846555120856314,17.46953832936696,-2.1354915392318907,5.638189161409,1.1535829282658365,6.630328524323332,3.8685366235793417,1.3830723025173801,2.8259623892810164,5.608431948536821,3.3800519103457627,-1.6834769177920936,0.3361094059668605,0.8316360000946454,-2.9143497946600516,4.103672405527265,4.6727781273827045,10.076845020461558,5.008924312519313,1.2241456246004447,8.122877833788696,2.612230216443477,10.787007423921143,-0.7002051256336578,4.696172153155361,2.4321053002710022,-0.19208857685442132,5.874791033125481,2.2053522618047863,5.389492931890337,14.684207905540834,-2.36278501892981,3.604053918972769,1.446360038847909,6.3167856111970435,5.1273770566836125,2.134073518361957,3.529913432836543,0.8930740332439195,3.064386722041305,0.6255166063108859,10.918311096389623,1.3217727349869048,2.883024642267546,0.6964271273591895,2.799563499837428,13.733877816049032,9.329084783705662,7.620829146770664,3.0965304841899304,1.7055865777018058,4.854162315489385,3.5738969591534033,12.678663557554803,3.4423545499016144,6.8456212948649515,-1.303796437559577,8.341248217697142,3.1773427396452485,2.345511102447592,0.562063520108472,10.407703984158754,-0.13556791998402032,2.2051490070778903,-2.13991562567959,10.762997623633314,2.683317712952731,18.95527248850141,8.714649614003257,6.680676541654882,-2.045244428969264,3.3933784260550683,11.455133804165166,7.47692483630328,5.757390197072119,3.3120988533607374,0.024008688570995376,6.265051172066722,8.078196173661969,9.4717562794118,7.644138141922915,-3.0459520595918845,10.051149535814842,0.7329464051842828,1.9784897388098386,-0.40862584864621343,-1.3551032515272472,2.978392652551962,5.545836230697439,2.5155211752270707,3.580043356519496,12.764129314374784,-2.404109070446502,-3.538441637566343,5.920728416785653,1.0773428514825385,-0.6135057630635934,10.13204325474435,6.457523735766585,0.44466556534492824,3.473319452415569,5.908854184813147,1.834823178962053,1.116415569329852,-0.9849199664860282,5.605959776610849,9.887953146346975,14.219554875859558,0.5370688484503126,3.513810671478298],\"yaxis\":\"y\",\"type\":\"scattergl\"},{\"hovertemplate\":\"color=6\\u003cbr\\u003ex=%{x}\\u003cbr\\u003ey=%{y}\\u003cextra\\u003e\\u003c\\u002fextra\\u003e\",\"legendgroup\":\"6\",\"marker\":{\"color\":\"#EF553B\",\"symbol\":\"circle\"},\"mode\":\"markers\",\"name\":\"6\",\"showlegend\":true,\"x\":[5.455002176320461,14.3195081571789,3.5611434033069957,9.99282411351911,0.6377076134515584,5.065871896238888,3.8101310674559636,8.797621305737445,9.034371817211897,3.9890091964354513,-3.5253003385387354,2.284570296237562,-2.1513985818207004,1.070225120966763,0.28495073953924616,-1.7601701652773742,4.450373241894764,0.7924928296462475,1.0367895752759722,14.215511975171838,2.954564302190359,4.878517633387392,2.7307889631091458,-6.285859470720175,5.646066594192788,0.9823249773064506,2.120002028048474,11.58910943935324,0.6574331949178229,9.177624145783575,-3.8595372876991116,-1.7388241958215134,5.582755842414631,-3.3307379597679554,2.0989448293559545,4.117452452004873,-0.7708763310311096,3.4945145373859146,-0.3707907461334724,11.619213794755364,-0.4158686083251977,-3.0384008891447674,8.903584264116144,1.5340827267462611,-0.9596890958762531,4.647724319602186,0.18446075386581035,6.582531901653837,-0.8248435982871539,9.738645797742384,4.33039300787779,5.911563316179131,0.45905897490089254,10.965846843659419,8.512425830060444,2.0518161153456362,-0.1324009461134866,10.49161737206154,7.038435446636277,1.8788365551245754,5.148343045822523,4.337438425648701,1.6748316644981607,1.1348228802826354,1.1149067281258487,-3.634630453008469,2.9243529481440818,10.54048467467009,12.534208390475522,4.557621344179935,-0.49345993223452395,5.343436391313266,-0.37554257348327025,-1.1602620535360466,-1.7591812695321267,8.213372485313613,9.649460755302801,7.307106838175752,-0.9144536426409648,4.946708595680882,16.95978555732135,1.8865819875825702,2.082996698514203,0.7146921087456076,13.195296552171214,7.131770457941568,-2.1297993653854497,-5.275445604421854,-2.093642591117858,10.597757228655258,6.905912658825155,9.641261589184744,1.5539381192527617,7.760240788722292,8.116626423859696,-1.5215988061786216,-1.7332588655321026,-2.6522389754254228,3.775382919130437,1.8983775765742934,-2.9555387623702774,4.8443013944638,0.0014374017760464255,-0.4206995618480226,1.6185346413357917,3.176397524372745,-4.106422139454947,8.720832532998045,-4.197897829619954,4.323836411686448,2.3384636310169995,3.508660972409164,-0.5470884808462347,5.581376577538197,-1.708970608361763,-4.332465798108871,-4.668016664290568,13.124412896440946,3.6438732914058463,-1.7788587539702585,-1.0972490245560709,1.4635973830295077,2.6803613505007964,0.825456977820183,-1.1504949293858475,3.4878198380882335,6.504531769824758,-2.4073485033748327,18.331392110581632,6.688806006834354,-2.312214414469095,13.569622955159383,-0.981818304735672,-2.0492458632722377,-1.2651124062535142,-3.5642015432151575,2.742452541939523,4.411349004976847,7.896383489100039,1.627559665227936,-1.6037528502504224,-0.86005270795122,-1.7558738194774475,1.800569055597702,3.438162573410021,2.674139855241603,6.725561333832979,-5.714087830925141,-4.696078035965603,10.672694972594696,-1.892554548513916,2.493275785306073,3.743983245614098,3.02994257889503,5.218224234251229,4.287332976085061,1.9616522500443225,11.69920144615845,9.076523407703165,3.5270981951909732,3.5919651169672484,8.413488515767837,4.591245922139949,-4.729442217666228,-5.925682574932515,10.06347307425176,7.061317530937676,2.492034582946773,3.2694155190077385,-4.300577051018447,-1.6080274628181082,-2.8061300308562247,4.149296380146618,-4.215898973652005,-5.859381166104852,6.689767135392424,2.7750954748450414,5.518387869030742,-2.4024498287186002,5.277332685104356,-0.18850780136540443,1.5706727700060192,3.6861619923309044,0.9601238854905076,5.034348912573357,7.670555971789483,-4.193097663858854,3.470947804693176,6.961664676963457,-1.9514176660788878,5.669225737948914,4.612013712465744,-1.2068753094105067,2.216007585849374,13.73842723916522,-5.726391549739885,3.888311485058455,13.151006012531454,-4.110889210566234,-0.08427003870207396,1.5231803947354297,3.9893966663948772,-1.0810246902270026,-4.545295185693635,3.3836750579429173,13.971855793804817,9.749592119375913,0.5295744162452795,10.342280391073222,-3.465552231119952,13.317952810359147,2.2858371586890938,-1.9900114358795422,-2.7920039348860435,6.613567816524518,2.9301972655608015,3.0266349591038733,5.7224516154999545,3.813485357080216,-2.5357610735219884,8.73858293287487,2.2553964207297916,-4.821313276069515,-1.4835696752704797,-2.361623820532878,-2.3630512543087883,11.004693713648338,-3.8632001089917742,-5.0889810864815415,-6.170761172854311,-3.6683424909238975,9.202179934579343,-5.697650447668099,-0.21538375029259715,9.352240919277442,1.4185127809439118,-2.506473869485875,2.271270784036374,11.751226601594464,-2.220188967126631,11.464514685019527,4.762828411890206,-0.6059156925682854,-0.8682970301931572,-4.8256253836615,9.299127300803159,15.642352965391035,10.300520544952612,-5.4559831200672235,3.044783802986578,14.91943848994393,11.571794230088276,3.10757774990966,7.484871911842551,-3.1921432367631084,1.8167860822422486,0.522295883293648,8.104449630097278,5.625179831083461,5.369251205171684,-0.08915935274292537,-5.131827861309209,-1.5152476441719644,1.1088762892354767,-2.9899629826850407,-5.501727312695163,0.7562032012338746,-0.3368753626720718,4.938320358709585,4.714823606851629,14.729671315114052,-2.971715992561266,-3.5398413354326066,-2.226917984591574,-6.108939493821083,2.816597666222657,-2.013083386705004,1.499248257577791,6.1391007493111935,-0.5252289937663899,6.092927256500699,10.076441955817563,1.3151256981317259,-4.754427913221622,7.388307408655444,16.927550397138376,-1.7340090143036464,-1.78793131280959,-5.866290868887747,-3.2574358848474714,0.661409669879366,-3.20500905899147,-1.8628157614343013,3.0145327132833684,5.2466577683496105,6.370520472580671,5.184429645912248,-0.22408116555390814,1.3793531457283243,1.088575626866214,5.214615382324049,0.7822508615004949,8.638895667930013,3.5476041050519047,-2.275224652375853,6.181760632820793,1.869135053041871,-3.5326788092897288,-0.8104612543963876,8.53097175898166,11.7915357770654,-4.149462771711179,7.724774136940277,2.1030101084559285,-2.0910248784326013,-2.6700591413168344,1.026469752571781,2.149492764142678,0.1478595381458118,4.2279261112539395,4.639342564516829,1.8367971179639462,1.0222231471450152,3.9966135462763366,-0.9864996903513168,2.5266555151471906,1.1651822310093745,1.9958181841852798,-2.4055046511692693,4.345311622121568,6.771010795561385,5.476647980396023,3.916508315836319,-4.288927408764165,2.321684678143016,-1.4018635920996996,-2.0738469265668713,3.4124765171411036,-4.852764488806475,2.375350852486563,-2.693750370454636,5.9117922879448805,-0.36169218060146624,0.9328650005489777,1.747184843676519,-6.3470745818542635,-3.9564956861165625,4.1925512663633535,7.445495880850932,1.322803729522395,-0.8393065198140232,2.629152352786283,12.053616089528637,-3.5695688690421896,-2.135961346788327,-3.9257848944091056,-1.2536795293551097,-2.6736938792375904,-5.129723564492042,10.91672887257697,-2.253107736747373,10.063385967246099,-2.344606050973126,0.12697395967347855,2.8385008557670384,2.9392992621256795,0.7616176805235683,-4.09798409772092,-0.8058256098102244,7.204122033005396,-0.004496396151481412,-0.23373939377591071,-0.6975652225877594,2.6537335630212993,6.3468367118444835,2.048090311665846,13.973432268219616,-3.7851083896500612,3.0657246768193063,8.898274667300711,-2.828696898691825,-2.021043667944466,7.071110498109517,1.9028064963495734,-3.7308798298573387,12.431393007596249,0.4657089176253731,11.847866703704355,2.608463943645719,13.03137873550784,2.5198882366439808,3.4032461973731762,7.531591736249413,-1.6380645359763257,-3.5293289221869264,-3.1096303735737014,4.430153366030728,-4.671738829885576,15.088565088925213,11.972059655307708,-3.788367789441206,-1.7492645767312471,2.135101362590386,0.1594463287312128,-1.392716894253838,6.634655487453038,3.5113102286082682,1.4724336884227056,4.426117445578272,1.547567705148031,2.1629004571012667,6.98038932847051,9.05379443166529,6.501724033102498,-3.2903477411345947,10.872728661666521,9.07843212608774,4.149737428171028,14.498448736303807,-4.347878930799622,1.3775121909050245,-2.876143842372744,3.3584845907633367,0.5382268153551194,-3.431955371297227,0.03229879551479459,6.791171510098377,-5.5357606813936755,3.552315824117348,8.486720703288201,15.063772119805925,-5.023343590379691,-4.953613805316049,6.784282337647052,2.9344817982012508,10.323345337157013,-3.5883197510442417,-2.2015767191562485,-3.2786369028104407,1.434846676160674,4.220266249833601,6.10198325547293,-1.3840161206412784,-2.2621699624863414,1.1264643041747435],\"xaxis\":\"x\",\"y\":[2.6478366665537836,7.330879858961498,-0.3777137752390896,-2.8834383596832183,-0.7896391094750949,-3.7440713299099238,0.4871147616879788,4.727834832051552,-0.04762965899728678,-2.6968311651059937,-2.291749097574446,-5.168578641365471,-2.151682467782651,0.6983214290981713,-5.900953481447373,-1.5677286939809376,-4.070792774172422,-3.282759065026349,-2.022304437542112,7.0015734033937775,-5.892597424506893,3.298144163889681,4.588889383304925,-1.5592826004714797,-1.7884502179183925,-3.699781654683879,-7.0420375840260325,0.07185106950061251,2.392412047375037,-5.174441967864625,-2.7057707248098604,-6.248118567367013,-5.284478474781556,-1.338380534655761,-3.626695400643634,-7.367330063524926,-3.3022946566400346,-6.60477128213944,-5.4557932178993465,-0.6900949993344213,-1.318017723491145,-3.398185667423122,0.7248359832739705,-3.6343770819402885,-3.873806640345797,2.8487182781853075,-1.158372708737888,5.240559363418759,-2.1287385598854165,9.213956173050212,1.5039879197855432,3.1827027261171024,0.7641196555719872,2.845255410210508,2.260520378487253,-6.28089955804179,3.7478580400595494,-10.698940558304578,-7.482446571339715,-10.108708519780887,3.943932444277813,6.315281320086884,-7.64815563039179,-6.468038529441354,-2.9753484948015476,-3.513061433882781,-4.438855952731944,-7.908362464459716,10.081589111867949,-1.259226406787923,-5.089983991948043,5.3443108507374335,-7.179122190494439,-3.8142008620829007,-3.0836233657798022,6.24225768810839,2.4934328198621634,2.527437612119722,-3.2464722063611546,-4.8027571135766065,9.779238725784852,-7.590803292211307,-4.760336312564531,-6.866884573383597,2.751081084964491,-5.201288472951516,-2.8082412800340486,-4.795940006695014,-4.111479679207594,-1.412427362172202,-5.860708839883879,3.1809897035558823,-3.270070124769673,-1.4943633474625466,3.7491280576766486,-5.085842175996987,-0.6336737734593252,-2.6724330667636007,-4.645141693267611,0.1392342770963061,-2.079025408266116,-6.201568106414735,-6.8152077943002585,-7.148985963217326,-3.570484393848174,0.49089708227822976,-2.7060307638009524,6.3821932744745995,-4.099172812551538,0.4948754286072477,4.9050475254019466,0.26741132010648666,-4.420907568704464,-5.027238765685098,-6.786031491486999,-2.6790427657509426,-5.968022126107381,-0.46107460320425564,-2.1187409442565555,-7.546334034997589,-6.401420715852799,-4.41446670878746,-0.44513759437208555,-2.9030001552329914,-4.868314524097744,1.9770164417569516,0.14957941548579967,0.6869018292532962,-2.2916045988644407,3.447519505447386,-6.1349623125841095,4.1712383384899745,-1.7645605290962145,-3.1442015367600695,-8.032800047893275,-1.4160519109943084,-6.193917931917645,-7.5434116018163895,7.851766845478868,-2.6796304261771025,-5.435021888091229,-9.940098676940456,-6.262813984874125,1.8147879581962414,-1.7100595321596046,-5.724604154265006,-9.176517310216196,-4.280169495870801,-2.7291417162165157,11.198922525560118,-5.055148706788814,-3.816615963811797,0.8800254111519916,3.6616965623390882,6.4462358954786945,-2.5458678648133963,3.0037421361122685,9.456608829663262,-0.38991107411882037,-6.339478646854371,2.0106848534203037,-7.219248536327991,-1.2885037579655416,-3.2866062533744422,-2.648952804415049,3.3967124850120083,4.588669158850449,0.9116961149077998,0.6624667514598958,-5.816268325157189,-7.10151767462808,-4.813810322393318,3.294697499808552,-3.015581042658445,-3.9524994650403618,1.6945648350476301,-0.7561362775969509,-9.363538504754818,-3.9213772537880307,5.727019904041063,-0.9148981011568765,-1.9148062026833161,3.392805665884472,-1.417378260854556,-0.505315420976474,-4.032335820950246,-2.8723575444574148,0.36148928562684296,-7.77401758457392,2.168592228754493,-6.5465306032598205,-0.6825991924968505,-3.1731448796871464,3.4388779624752956,8.413990923796453,-5.100839340828847,-5.448758635609762,1.6942522176794024,-5.908105973532726,-2.319798013101836,-3.8095708422188377,-3.7607292674665374,-0.018843008369253254,-2.3250540030843627,1.052366077348612,3.1846617669566655,2.2305871886755844,0.5335903059043478,-2.4643566045339433,-6.028345511337149,5.676908421032707,-6.809974200058762,-5.276913726061495,-4.23389968000576,0.6179913494561616,1.517714484842905,-10.940016132158178,-5.3041760510894385,-6.386191741527794,-7.198247923816471,-3.250076554124045,-3.590908573789469,-3.3982507788853016,-2.7004659617659237,-4.661767980703073,0.1041900924182253,6.0590735609392965,-0.7031789895605478,-3.1396780055277698,-5.01694676361036,-5.802548357935428,-5.253655806110439,-4.20364379617049,-3.8505790277339913,-7.899366895296599,-2.5549100438081718,-1.7381808079230716,2.7426016406917366,-10.472864669799778,-3.3944481844044643,4.20274821276854,-6.510005407076154,-6.31208251487906,2.1983695253275544,-4.8400430846685945,6.561287379696755,3.120787100569631,-9.44123942212901,-0.7499766591799842,-1.5074175455554817,6.355246945599111,3.0170799236762083,-0.5531693087336607,7.379845446749872,-6.848164145558548,-4.713546014278683,-5.305043918632951,1.9176481150325275,2.342066137376592,1.425947367745899,0.8286690122128961,-5.772940391307097,-4.826066376586769,0.25127318712071384,-3.718919618694661,-4.229765187431782,-8.22821062548907,-5.4922882470618815,-7.36543868826994,7.594637359731563,-10.693550458516764,-4.373937053176558,-4.73092346984902,-0.785899400260816,-4.147303411846318,1.6244696568964097,-1.960451736765818,-5.16632612938803,-1.566634697512516,-1.7349961055520022,-0.005601636602373774,5.429374772425619,-5.836692932514087,-6.072904043892865,-6.060375739669422,-7.051389473647743,-4.971110325357819,-5.555119966545698,-2.4982354822614865,-6.3314199838612,-4.641410713917301,-9.370789828449894,-2.230961541775312,-3.8459074974334277,-6.774345963321378,-5.01863396276405,4.872044783270321,-6.610847390134343,-2.1398207892795997,-1.006414885708487,-1.536089753707927,-6.755539576326619,6.239697679718174,-8.46000426500357,-6.485685775052748,5.477531185881686,-0.1682426968589994,-1.7634972176012724,1.1443363803283046,-10.516552558732878,3.64029287403364,-6.2034936148651365,6.548160523273731,-3.292576560311519,-8.750221539233412,-0.9786927688383117,-4.954024184675439,3.147232269449193,-7.690427810946105,3.2257321227518374,-0.6458751900654183,-7.663111587891911,-1.3899952708308325,1.4586863942706016,-4.6426070089951645,0.44101751012852386,-2.0621977146797925,-3.6115366837913125,-3.999416336182434,-8.629382884448185,0.5596281587486537,-3.5125934444892737,-4.205464897218901,-5.36200372327479,0.10934038371305549,-5.934968555170667,-3.4726602390041483,-4.046113623998792,-6.964538495515391,-4.8654266150346555,-3.7517772833497136,-0.6798052756366442,-2.542498475628707,-2.8763706522984234,-3.362570526402745,-3.833336025002086,-4.251018141629895,-6.199662002450769,-3.270054284922272,-0.16790436279341156,-4.580827920759868,-5.7109730906530976,-8.206415816929407,-4.127506984273243,-4.050926816114788,-5.87796392492997,-6.035225714481475,-4.307439454017612,-0.45369248228558884,5.599011564773826,-5.160944787286405,-2.7324175813176224,-0.7063312791924533,-2.7828776330245253,1.194048559775388,1.139352120782776,2.245652652888952,-2.2831483351462265,-6.253825444655243,1.6267566809492668,0.8192950248247091,0.5285057030491181,-2.4006129782604986,-2.9374889370814414,2.7809352183228175,-1.583879059997093,7.435730828558323,-7.380773929066788,-8.682222849239455,-3.186019036534118,-4.419890361784677,0.7362963179008042,2.1065237102933683,-5.062364579341421,-2.7815972860009737,10.380046778212755,-4.355282907794262,7.817512823339682,-1.8452348818908924,2.3230522480554594,-0.9443008743638153,4.195420372998396,-2.6748578368742564,-1.4031460429334561,-5.61010873532114,-5.248407958223808,-1.163310370343912,-3.55540660380901,9.477509087033088,-3.069693005284129,-2.64260511166561,-1.1753522121049236,-0.9641033909469127,-4.436429774830147,-5.97417026069781,-4.3576083410607485,-5.791088516952109,-1.3532247154203736,4.5354294026873445,-1.3140392560022078,0.2653400679240047,-8.394637999657794,0.02652425214578549,3.075116700313445,-5.430387103230459,4.246084816921108,1.3644531724217952,1.857340817995946,-3.5198612052845757,-5.326574557398742,3.3740187354664775,-5.794479103423277,-4.566082515042079,-0.8493653452627509,-3.417695045917019,-2.92137675491638,-6.808440947138495,-4.193352934134237,-1.3124408971385204,-9.533814862157653,-3.567426239183049,-0.9819942727921404,-5.6313472979036865,-0.09335849794347295,-5.747072843539327,3.2881063943271314,-3.104463921346178,-6.831824235381071,-4.631408188334269,-10.52678940094602,1.6921246237935164,3.3467372435505176,0.09708885257994565,-3.985629044110645,-0.07929108249160682],\"yaxis\":\"y\",\"type\":\"scattergl\"},{\"hovertemplate\":\"color=5\\u003cbr\\u003ex=%{x}\\u003cbr\\u003ey=%{y}\\u003cextra\\u003e\\u003c\\u002fextra\\u003e\",\"legendgroup\":\"5\",\"marker\":{\"color\":\"#00cc96\",\"symbol\":\"circle\"},\"mode\":\"markers\",\"name\":\"5\",\"showlegend\":true,\"x\":[11.043628306228557,-4.546499673222592,11.55962594174911,-5.725003958591858,-2.1070037046758268,-2.9115031985191107,-4.464284238607915,-2.5820250027375318,-0.4545271571036198,-1.0982195176626735,3.545756341311577,-1.0188122661948154,7.385832268782022,-0.10129956560754376,-4.546132710559162,-0.7857611542955195,1.7549545100118562,-4.414410608699051,-2.5351212614468572,-3.224419287753341,1.8657475189489223,-3.856353970591339,1.008350839811848,-4.848522298792569,-1.7590844524946665,11.663169501104116,3.71405730798207,3.269805962666538,-4.974717068382049,2.3304577724469513,-1.9229677044833526,5.452956579224632,-3.310593180104712,13.617005235714739,-5.50597309232236,-3.840205775585516,-4.620070672478148,-1.6719894915970064,-1.1781120937940526,5.074363477872312,1.7490508804907392,-3.9870882245110764,1.2202716500653639,-1.4282432030131424,-2.507143717330695,1.4187171368575868,1.870863610357133,-5.61488119998899,-3.315858554849065,-0.8752777323054303,2.2169257360179757,-2.070610786887297,4.629220520264544,1.4315158379614568,3.63308025321441,-0.009176904178354527,-0.4974857140112776,-3.8399696605469713,-4.73810869775086,-1.717590259397816,3.4173691540785347,0.4620739683556151,0.5385871676579533,-4.212903269931304,1.3779126227055623,7.312670527831685,-3.172807458510299,8.564253962379494,-6.1247016258343745,-3.9941133291520043,-4.4366900375950555,9.369946952787908,-3.8416204557618663,-4.629301782836456,-0.44086821145842287,0.620354177474819,-3.8045282179562845,4.133923588025859,0.39821815711485054,-3.9854699859511595,-5.384440387213639,-1.1699869001313048,-3.885275763444184,-3.728414133139996,-0.3591691159688356,0.13444310597441608,-5.300617563073346,-2.0830754820123434,6.8665072317550555,1.3686902429523327,-2.244311324865363,-2.204603354291262,-2.483978032694263,-4.173104865016597,-3.61218808846047,-2.9755414741901305,-0.35838770325752134,-1.2102894058142764,0.7136697854982286,-1.5657737417990782,-4.824544617515374,-0.43026635774036487,2.200652700682167,-4.853345334175872,1.6988761991728405,-4.538719905933941,0.2746118643435134,-0.8554383775679925,-6.002133779224487,-6.046062804728762,-1.5375258194039478,6.34197003165978,-1.8539434475061447,-2.0332276955783803,-3.1788992397196933,-1.2876965704562817,-3.3184620076149502,-6.371409357804135,-1.3065852977275585,8.83568254084505,-3.845695847432598,-4.31754919477131,6.040484539600161,1.0103042874946264,-0.5967490069955578,-4.059072503021417,-4.017800037552372,-4.84959677356483,6.987256617382185,-0.41440769472786576,-3.0614670253441116,3.7212099709497837,-1.9330107467978646,-4.548908275678526,-3.178836651318147,7.276703928083119,3.2669717839902406,3.835933433326755,9.32416394249632,-2.219603377090323,-0.1741848721020989,0.9073235656370817,-1.0687517277190284,-3.1843411818533043,-1.5326173269168137,-1.697723800644658,2.3737828709165814,-2.432036322994933,6.47213371283629,-2.6939552816060233,5.775030525365299,10.23399717624782,1.6398898718791566,7.373877819062245,-0.6293278779578595,-4.367052311053625,6.6349805326285205,0.845260568107174,1.5094931903030775,-0.08421324554923718,0.8165163995629613,-2.820810953128695,-2.3542511050843697,5.333319942085473,-2.40189972279731,9.242287905430258,-2.352584146636561,-4.181464916800794,-1.9371535380658162,-1.7216916072708728,-4.106184262242664,-3.0285787490342586,-2.312506656254638,-5.927002666406485,-1.8204235722262423,1.9171671330361066,1.085932669983157,-5.289963864237433,-1.712621087947304,-5.045019786802841,-3.8785946810539524,-2.3245648007020425,3.584232540855688,0.1783894242030623,-3.6959377121643824,5.4062377304702505,-4.48746154921393,-1.1428969358759933,-6.6433961340978325,-1.4882223401468624,-1.9526003858143572,-0.2397456512493248,-2.6732470592558384,3.814575965044796,-2.7591540425400463,-5.179712668862502,4.5892416485123215,-3.897315743926914,1.7509579029430478,-0.6410031497369036,1.6568677801013227,0.36671695033322926,-0.6820755492249181,-4.87954875272034,8.276745927387504,-4.088306737038541,-3.7144741317117482,1.1081878359089121,-1.4997634195675973,3.9503826026525894,0.3625719630593457,3.6905906543975986,-6.426599702544404,-4.599689187619004,0.9192097060229583,-4.533434529977165,3.9602948178028643,-3.490429613271242,-2.563259414259371,-3.1713828833530866,0.6007635736005064,1.6591551111434892,0.4291508387658764,-5.086565828455838,-3.8538023580396996,-3.3993431029993477,-3.959086613107438,1.0644448279292658,-0.7409152888985413,-1.5820376091512312,-0.10670478896865215,1.2984503298194554,-3.5291759927765334,2.8574278485759383,-4.659373528598902,0.6780694553854346,-3.5907165051736682,-4.393422771157717,-2.209442212014149,7.2695911954750745,0.24255551972354322,2.010683432244559,-2.7287990092556926,-0.25442715499712654,-1.9393196882428947,-1.758643885447235,2.9079574831683583,3.806180738239434,-3.2440596458537767,7.047359104050242,-4.020675909070666,4.709064665769709,-1.6594064858430158,-1.2260377337361852,2.1051548133749542,3.6650312295250065,2.411842495232664,-3.3965920082093612,1.9982802960908987,-1.1648613006179829,1.5419966213306033,-1.2642213922745626,-4.282946865463402,12.43635827087864,9.694422440750484,5.045217563626973,-0.3152723893289129,-5.967457818768213,-0.2774977422775647,-1.4623927813715365,-2.395958310434883,-0.528831354096515,0.2930294154735078,-0.9648690501011616,4.01535606589376,0.002860955781712202,7.694423391496623,-2.388554193862164,6.077564129535812,1.0093660482823437,-1.7844989047892799,9.771728296769838,3.7902936525984425,-2.9107595480729453,2.5629431543902648,-3.777968681937256,3.7624930806153234,-2.8098985988674063,-1.5550004660614145,0.5415166623251872,-0.33194289037334573,3.011339419645501,-0.9456046680041968,-0.8302640072473146,-0.15833347510565413,-1.9452199643603942,5.387464575465374,5.3858059749377585,0.6543439129805257,-4.874348573370466,-4.940538017145532,-0.9401631849085009,-0.33581103014902985,-2.1097545522498233,1.9449570122991418,-5.6229192331497915,-6.456551269174102,0.6164810194907853,-4.267383421110529,-0.8068652011465978,-2.3961176836478377,-2.853158718441882,-0.12116099610823843,-0.2461156554259252,0.03713733082287457,-0.5851600711622061,-2.319536145580424,-3.2425229178249975,-4.486423535694701,-2.5137992023273585,-3.565985082384485,-3.6417150448530955,2.093696763711495,-4.340318645430522,3.615234151853123,0.4972917720335797,7.872484746676538,-1.6037989024699708,-2.357507971320553,0.8427132750210375,3.902822061644432,-1.841478192760495,2.6852182178714976,5.988195479938451,-0.21108172989959587,2.6820796706166363,-0.22122948902492748,2.7933650316818786,-4.355246853367188,3.9469670227695395,-3.3151136516789608,-4.507594961429344,-2.846931418508896,4.504762933791865,3.5160077022881286,0.779110240890981,-2.8300484164527724,1.3069204534871952,8.276497004055118,0.4622180813445839,7.702708766546393,-3.41545571570915,4.810817465737045,1.5497455071218522,2.7792380880179106,0.7651949037770434,1.648881626876051,8.272613571186472,10.895654451543125,8.1064639319225,-1.4649507329874811,-4.710788903678094,1.7044175671532655,-2.2704376062738953,-4.989228703937938],\"xaxis\":\"x\",\"y\":[-8.311361745511947,-4.802634525310127,3.5090877242241927,-6.524036014864858,-5.4966613745046935,-1.0237766327705946,-3.7893319332106623,-2.6665707957683513,-3.947859602886814,1.0015583907508467,15.134251970903037,4.56744175620743,-7.088316361231765,-6.587443407965444,-3.8667362730160373,-3.7228219367235247,0.2666882017202785,-4.495066351408725,-1.9794548579049782,-5.900205961702224,2.636439522778865,2.2075303063259133,3.8737735638011017,-3.1612686380616,-5.306020538715312,1.7251714086336825,-8.450299790087945,-7.635900399116993,-2.3362489704484832,-3.8836340258273596,-5.530113382469438,2.5566292650135654,-1.411156951416864,3.8126971551639284,-4.603378274487014,-2.4767021808179197,-2.9963022555409697,-5.731989741994964,-8.646870657891402,-3.218342436162142,-6.763308520496366,-5.159542399734825,-2.3037248188374932,-6.529165071695417,-7.312051019557249,-8.185199771905559,-4.584629979887649,2.687072566448912,-8.00923437384662,-2.863695968369356,10.00622951096794,-6.5350846215389895,-0.4706118984259395,-5.3161773741337255,5.6100172329271345,-8.57057095648922,-3.992141732955659,-4.723727717150528,-3.5522740857299238,-8.488524260339188,-0.40903711219838207,-2.1597496925215967,-13.20670425335235,-3.655962732199695,3.9504117723430445,-6.519456280749205,-4.04269968797954,5.184775589845555,-1.3554945336254085,-2.121136719279437,-6.259003987037228,9.736927624993013,-4.446309415079277,-0.3295079345371776,4.259305593169923,-9.22561152395911,-8.340977856420764,-1.6490767340842463,3.8294330491497632,2.171886100181306,-3.5532218798037496,4.3504313229725335,2.6836276165339923,-1.7511008041485068,6.302762306144527,0.5988189310971598,-2.451800103385658,-3.637916573158999,4.633684255722236,-7.929893552474492,-3.513826368108766,-1.2445143626045598,-5.9976489206735675,2.013930811744396,-0.8651556070411144,-6.00022687074982,-8.782200825692488,-1.7138323960181587,-3.195662122092684,-4.587499380961256,-2.5142436090632474,0.3643366809384449,5.034836461836627,-2.723444426366068,1.3023781756512747,-1.3876609751290487,-7.239103551423326,-6.290319141780803,-0.4129405308769287,-3.1804765780426223,-2.663051464950528,-1.8642687255653765,-5.819445173951015,-8.661263151900974,-4.121471899043469,-0.6621550672136348,-3.0332037928688154,-1.2357729159573443,-4.104869394512477,11.479081548843384,-1.6136002549323225,1.5156966364227382,5.875977114970354,-3.9070215444812675,-3.60807172175959,1.6330443609953746,-2.8865377769871254,-6.3624336020182675,-4.232734083730168,-4.442732852230239,-4.787368516975576,1.178514931839216,2.064636225646328,0.06634931925884419,-3.3908917035338977,6.761082826734883,-3.779714600026792,3.645261199547452,-7.663010306371313,-5.48114287898251,-5.18222058125633,-3.3315902769011663,-4.327674358245173,-5.019052565524613,-7.362654749214857,-6.891071109261241,-0.3380147983196774,-7.272808803705287,1.6718858178998721,-4.096516635745091,-5.513389374912913,-8.487698630565472,5.719289663673801,8.690476816694607,-6.618761850194481,-5.48865605029261,-1.3956043662248294,-6.641498230373206,-1.7359396150970499,4.1120709762224505,1.1794371203135416,-3.5539610998526556,-6.15822395305875,3.349001704932658,-5.678490004328566,2.3224709197387323,-6.405446500574773,-7.2107958737974425,-4.184472381726619,-6.58508180659551,-6.549276299058819,-8.158992402804945,-3.0269965538494623,-2.0188648938388902,-3.0554257866781565,6.8663064527332285,-5.898932315031517,-2.672074221404025,-0.7905665350048533,0.06983457372566117,-2.9597345676925966,-2.3542993977547133,-1.535241532691917,5.586259066192849,0.927673635358217,6.425207220511065,-3.0197065580468747,-1.3596137631197596,-2.2861834816932984,0.8370537206710018,-6.713339408265891,0.21313646230383418,-5.690339974369711,3.503014860787069,-6.022290115907168,-2.7356101430853723,-3.043144147243765,1.6661079570058803,0.6161425325191798,-8.319819591080657,-3.0862267224017077,-5.778308245121915,-10.06364227715767,-3.8948989583458133,12.923677307336138,0.41124581336970356,-4.783366555663636,-2.094211551442682,-3.596911615293453,-8.601657666857411,-2.4544715376170174,-3.904662111408078,-1.2276126898449933,0.5586936845800728,-6.813366367533347,-2.308248791236027,8.090763714913646,-4.65173756653802,-7.227399252172919,-5.032914103837142,7.893731007266108,-6.8815668033079325,-3.671281911295289,-2.8193371191688557,0.1461465610826591,-4.146736868027204,-1.7402528029223365,4.663310055916083,-0.8117301172545937,-0.7602287294683456,5.141978863355537,2.380289100817713,-4.035356455749657,1.9843999522207199,-3.2829804736855333,-6.749977432567856,-5.236720105809287,-2.3001170961361397,-0.7692936076859792,-9.52187763099174,1.4004905233952314,-1.855631961655058,-6.430741986323828,0.9686506968194275,-6.603892121134609,-4.9103961835732965,1.8076584994312659,4.576562480589171,-8.177389094537682,-5.695737169458763,-4.436061125337701,2.110527090203762,-5.922840344807862,1.1726071130614772,-1.5908467516378302,0.43128698297394086,-8.267875478199004,-2.4501178689456165,-7.706529405821242,-3.2892481491189858,0.5977964040807299,-1.5262318088212692,-2.5751341072005234,1.640004118342677,6.2561025132917925,-6.857212864116222,-5.137660745957656,1.4164346510008279,2.872552119094751,-6.482026216977863,-5.827245689066724,-3.2159352443603186,-6.181982875245277,6.205335709583109,-7.204735680575397,-4.773287046618066,-5.1464822777680945,-3.513906770779608,16.434392037396435,-6.572012762336901,0.8898223205275647,3.7933525182300945,-4.162994208502084,-7.170178830284938,-3.626684991921561,-3.2133068911914084,16.39617876110787,1.7371431131909376,-2.165597484527748,4.49948175480401,-1.629439911016513,1.2487977368561263,-0.8055192708708099,-4.989329973139831,-4.108480069878413,-5.596779625129904,-6.456351842452907,9.051680580431123,5.179823907775365,-1.5131067824078956,0.012314420374337191,-3.516142462800242,0.44993278274172394,5.79447979315507,4.953334286916033,-3.5348999778960177,0.08036672114856676,-3.386589021634776,-3.0309764298646433,-3.7731489270227154,-1.624696506378667,-1.5357181554970238,-3.3818635009237656,-2.0261896830660637,0.5778404893478334,-14.134358609328647,4.287682010400079,-0.8814039370772127,1.9463255789122176,3.285746939742213,-3.863089186873979,1.3335152665413104,-3.133585569357193,-4.894763329028437,2.9702554432710024,1.2398599109688633,9.197620005124557,-3.010083343769758,0.8983858064623467,-0.7852569653077417,3.643676103447309,-5.1399977700614485,-10.47719568988868,10.213386856646027,0.6108332199406671,-8.127888351176,-3.240946598732609,-5.170352513156957,-3.7961697136917922,4.963548853228063,-3.8987817103376776,3.080264065050942,-2.9645539739128797,6.5752059684803426,-7.159254817220473,-4.712696620291317,-4.442194093436321,1.7256694409385684,4.171705010772034,1.301165588789949,10.265667766991225,-6.181692441561335,-11.46970197944061,-4.023948999187138,-0.8513976337847176,6.725485647961562,6.474048591133759,2.7149489238850197,15.169296538710597,-6.005465675069191,-3.2936275665615047,-5.072075975066589,0.538674282235335,-0.04534827087218694,-4.776900344586914],\"yaxis\":\"y\",\"type\":\"scattergl\"},{\"hovertemplate\":\"color=1\\u003cbr\\u003ex=%{x}\\u003cbr\\u003ey=%{y}\\u003cextra\\u003e\\u003c\\u002fextra\\u003e\",\"legendgroup\":\"1\",\"marker\":{\"color\":\"#ab63fa\",\"symbol\":\"circle\"},\"mode\":\"markers\",\"name\":\"1\",\"showlegend\":true,\"x\":[-0.9683643238839995,-7.103306706639223,-7.537020975848276,-6.578738015494525,-6.195350351014486,-7.139432918630065,-7.941419834568897,-7.4225934771995306,-7.56626489847394,-7.189262266951879,-6.552269531849935,-8.708677359102063,-7.389257803207612,-7.905856025359611,-7.830300524204056,-7.964638438490381,-7.4756946655438465,-1.7460472959149704,-7.726401947834987,-7.80911606029348,-7.220532556317969,-7.334929569212117,-5.862943240019913,-7.772695813410929,-6.331475689798558,-7.836112393697829,-6.457129711126234,-7.430260946257393,-6.8098163954822395,-6.850680839888579,-7.745654300132598,-7.0679547656346235,-7.716629401782349,-6.713105911022274,-6.140412186940185,-7.994618676292794,-7.475443117320111,-7.6809248868841475,-8.15248654629074,-6.814846874579687,-6.569610574534163,-7.561778666298195,-5.081579275932953,-7.919673289851767,-7.263453033620888,-7.589854030029023,-7.666926330452673,-5.851323150756572,-6.587840199476815,1.0238551257015545,-7.06639599946305,-8.323934405243586,1.450017110565,-8.475361370361021,-6.081370258902984,-7.76421978163788,-6.362459596368318,-6.956554213889663,-4.0177579412922615,-8.531906385840424,-7.203665074425798,-8.228602367375908,-2.7344843640671335,-4.931476345206399,-7.134673623499964,-7.361529903387574,-7.7610735617317586,-6.94069594354319,-6.907187764569234,-7.298208710128984,-7.6645982077197985,-7.365126753117674,-7.423207383414183,-8.478970048727735,-7.702631776216673,-7.773521399508473,-7.554902355033536,-7.7105096955221155,-7.502392403712146,-7.4193557820559555,-7.538537613132639,-7.422960558979796,-8.481566440038357,-7.504926305605509,-7.197018100145699,-7.686210904229321,-7.57553211761845,-7.859010385784429,-4.812150512305105,-7.7101115168877605,-8.010296352334771,-8.024961894463523,-6.898773736804748,-8.504469287225977,-6.458312959772324,-6.849848179144604,-7.640775335353616,-6.3711316017774235,-7.420293937168568,-6.170709604442424,-5.089638844652359,-7.741731232438625,-3.8575244401525364,-7.949999116888282,-7.353351051315405,-7.410435119092151,-6.946479175278978,-7.836079327571286,-8.125137704841556,-6.743164270717247,-8.81237687575255,-7.821684366023611,-7.438137776226051,-6.836458077260702,-7.739139016621411,-6.189726779990455,-7.763080631176604,-6.1502055336306665,-5.060618229778679,-7.33887113082777,-6.995536381874557,-7.304882598929426,-7.251032454653833,-8.350300417419888,-6.818067602654483,-5.74495772399508,-7.763212818559409,-7.703153116017741,-5.190959589848634,-6.658436547973081,-7.553070510800235,-7.500994809667734,-7.513066677792891,-7.067569669158064,-6.812695741335178,-6.019335625179515,-7.372393772184183,-6.810256526563083,-6.427877952097331,-8.12898723451469,-1.3425813193085243,-6.4728267100351715,-7.471982310203589,-6.398401599347047,-7.632707449950026,-8.186382880121553,-6.00429788740862,-7.636018850700313,-6.946029449221191,-7.07062055119605,-4.05884842753371,-7.368160063355435,-7.109979552204105,-4.482617792819202,-8.369910189265314,-8.195750131043113,-7.677339901273339,-7.724084516593477,-7.469582736648692,-7.5828228795106645,-7.382398073411743,-6.803267513154074,-7.8435622494969,-7.417096966104323,-6.166930013881564,-7.562232239796189,-7.9172051078153265,-8.143601785920305,-7.510441655035335,-7.860354729036719,-7.595545712137244,-5.958689899487888,-7.142487357688082,-7.977674373437074,-8.650166383607752,-7.871862135743541,-7.352304039852031,-8.467987682003532,-7.388727434080205,-7.79522240962728,-7.427239671887438,-7.476957582200345,-7.726409977318019,-7.720750282297721,-7.321651013258342,-8.070530511578323,-7.938183067502257,-8.014912176935766,-7.726129010812543,-7.547235584621947,-2.6950235972306893,-7.232887602416286,-6.139284581557984,-8.472640287313254,-6.456915228688523,-8.269068848334635,-3.338909449909179,-5.1156911278998,-8.002349238859647,-7.718874774808613,-7.768386701397166,-7.54500497679554,-7.116370468850813,-7.90340362110509,-7.628779520338213,-6.370926136875395,-8.172494541811602,-8.60063127517326,-8.171785450893317,-8.018490946393761,-6.986266502876802,-7.157379794742925,-6.420370934250014,-8.170944708948031,-6.460796504916108,-8.151520864210038,-8.059682415445579,-8.679888181651926,-7.614073737497511,-6.422185527097653,-7.96142292992255,-7.8261046407524155,-6.130024579200484,-7.118569801600828,-6.709825628951001,-7.048266003415126,-6.856966620533113,-7.855987556921781,-6.307692021612514,-8.4740340949272,-6.704236737560769,-6.717345084132233,-7.761226695927284,-7.384940512468645,-8.248826395378636,-7.69307098487787,-7.8336799618765145,-6.051477294617619,-7.883961119982368,-8.161127456428995,-7.909570420048302,-6.72758650280823,-7.277581076139738,-7.707798246309619,-8.044813282628171,-6.562355784596286,-6.280073531969327,-7.297792818647451,-8.054284646023557,-7.705295445249439,-7.551840403065247,-6.745705406251269,-8.209727772506522,-8.012936901833342,-6.645984158628761,-6.568019657928432,-7.708350532306834,-3.163071661192867,-7.29096430209088,-7.591068152013427,-5.964756150899398,-7.053674573873229,-8.124403693404144,-6.121166488919642,-3.5722365889399628,-7.864243371921651,-6.385492506650201,-6.575409894404426,-8.448192598802171,-5.828656877214479,-7.958688721635602,-7.373884261453522,-6.9768012129943,-6.701697071951453,-6.82847687482092,-7.36592644418332,-6.290355777741977,-7.781029706473385,-7.3593474723179595,-7.082950750573154,-3.830796987248407,-4.47073892782784,-7.799672386873978,-7.370343181371452,-7.327653488050315,-6.732617367973657,-6.836520836986487,-8.231553189368576,-6.7078489136623185,-7.553413575978261,-8.03979948633164,-8.027556121038614,-7.2144863243512845,-5.761787107400909,-7.073855866103282,-7.644412318337134,-6.942281086570911,-3.3798037719703253,-8.737804706479364,-7.17523631538416,-7.8034975478957875,-7.512755627909336,-8.212633984006887,-6.918163020762779,-5.704069962099367,-6.694086201525447,-7.704300764514253,-6.869957552549623,-7.714667489272682,-7.959462437933161,-8.135834629255728,-7.268036606797821,-7.64673683822642,-5.724974100307906,-5.608566216406107,-7.331354415254475,-6.217167800330379,-7.274744400477758,-8.173267086821898,-8.868574673333997,-7.238091478557536,-7.433118203595283,-7.329500024157981,-7.227711773362023,-8.057399862134847,-7.833312723773017,-7.325534786470498,-7.7035662807580625,-5.625350410650769,-7.062359900444096,-6.8850259564138145,-7.934564150599939,-3.1564762444451437,-6.810691592627315,-7.461449101831211,-6.8147066849870885,-7.611770816262946,-7.426642398857014,-6.81309008766603,-7.558818258124041,-6.722717247073962,-7.228733149618286,-5.366408427797658,-2.5981155910785354,-7.390998289942933,-8.012092068062246,-4.754733585298951,-7.587206444173955,-5.605617219063522,-6.708381288859429,-8.534400498645558,-6.735723360696569,-8.57386127781321,-8.194801987657625,-5.377185416964059,-8.407185089754012,-5.9183875342727665,-6.3885286960549035,-7.647089211811697,-7.730835156641671,-6.976258842643134,-6.99027113345704,-7.5300523903317345,-4.345061591409058,-7.569365073841292,-6.884502946202389,-6.855585366930703,-5.664225149515509,-8.466157817760159,-7.3696974302921365,-7.649951106484185,-7.858451659280337,-7.870356101319301,-7.621598224345498,-7.1844086049854985,-7.422345937896116,-5.355708950174752,-6.905216005192088,-6.519365192645725,-7.142390240602343,-7.8548753573807675,-6.960450495814903,-8.460505399961335,-7.271504331178832,-7.901040614785746,-7.67983923112393,-7.637354944349505,-7.117448025359596,-8.352198009887463,-7.639757709426918,-7.635662959999316,-5.79962433262096,-5.8152192099655835,-6.812385175835147,-7.377916491437443,-7.5266602492409005,-7.39674534784118,-7.262248289602305,-4.24334278162511,-7.74165592250868,-3.566754678906419,-6.2561767284344025,-5.250609973964743,-8.514470804108381,-6.002341881445186,-6.995169106018661,-8.090071837298852,-7.63615404992782,-7.237106207565036,-7.849419973686258,-1.3236021045837894,-8.342610045873656,-5.819463125054936,-7.658977285729827,-8.473912198233752,-7.925475930024648,-7.408067724914313,-8.426491180011663,-7.521981378267326,-7.435857205579144,-2.9358739201175847,-7.601855298417454,-6.595220840827898,-7.650711942765262,-7.6279946824052285,-7.3468037376166,-8.096257003370424,-6.879166297754459,-7.835653311056382,-8.11908791188961,-5.60482847522863,-7.551357156255567,-3.3344443875093854,-8.431679945312583,-7.529146981913172,-8.324084731019619,-7.075037417080177,-7.680222799156696,-6.624658449707627,-7.301026648317432,-8.426775165210966,-5.963293522390505,-7.448536540111215,-7.955648157868669,-8.085890317301129,-7.340136359076795,-7.767854576307488,-7.716313684924791],\"xaxis\":\"x\",\"y\":[-1.0322625292218168,-3.6240872805067466,-2.36235186317845,-3.1169938166538778,-4.793059957750621,-5.76002243666421,-3.4639642287550116,-3.898286195936763,-2.580901294949661,-2.470296953621287,-4.82046439283686,-1.6694999953402567,-5.20024315089212,-4.924391654721687,-2.017975652374913,-4.203590118405006,-4.142198035657386,1.172003530283009,-0.8496954906286663,-2.26709029931303,-1.6012441295101134,-5.227611159437616,-5.894215395066184,-5.284685321372781,-6.735338674704404,-1.0056728818171565,-0.06776877353758258,-2.53980783280114,-0.527755267172813,-4.761889391332417,-1.5711314352769437,-3.03438922592812,-2.5052347163002535,-4.1164800603582075,-3.678078162877943,-1.7916978405559705,-3.060802398819746,-2.814314176145493,-3.306952650391668,-0.4611054217223101,-5.560295375263707,-4.914333421827285,-5.285691927794436,-1.375988426777727,-4.79112814140438,-1.4597585963016642,-2.2252970563628667,-5.883619592989447,-2.9636016805932415,-10.778580076115496,-2.2486532005108835,-1.9943830237036309,-0.1683858775225642,-4.051118559717984,-6.390936017722287,-1.1272448447935677,0.44034402357368635,-3.2381611499120293,-5.797151165082581,-1.393099346561732,-0.20041451091766138,-0.39204666711549013,-8.15977023277316,-5.576046741155272,-2.5657623704683354,-1.786116327388004,-2.5926954280847654,-2.166753688082504,-0.7203840389657099,-2.773258349453467,-3.0693263293986446,-3.386751738811303,-2.1465445210253993,-2.4428296374805005,-2.391188590500035,-3.0750194549833987,-2.1557175564555027,-3.231348926037899,-3.5436691699881804,-3.343535688270195,-0.8778417997767154,-0.697292151008385,-1.8570880299679409,-0.8840245717536649,-0.23575888218801785,-1.3030994904443043,-3.5404230794217417,-2.9423924859888633,-4.602968363213584,-2.832127422578863,-4.462778868997913,-3.3096806070530453,-0.26422319174123665,-2.68289899147206,-5.695828057299602,-0.6522364245951254,-1.6966824566380978,-3.8809306329966575,-2.694806909003828,-4.190201999550061,-5.993578892906021,-2.310881890052879,-6.786638260799265,-1.8140180148170313,0.27061109088173885,-2.8985130971006168,-3.285324935819698,-0.5046607825619497,-2.8172835535674645,0.2125494144803417,-1.6425301830097412,-2.309250399792285,-4.885798408811064,-0.7343878628820673,-1.4678141126417208,-4.648216180997717,-2.007038642986231,-5.4410817500285,-5.690531701590859,-2.528853088263644,-6.122830173814566,-3.066622097607997,-2.8440231571682806,-1.4783704497806553,-2.8167375602041083,-3.380748756664633,-3.532884600882741,-4.4543622512129,-5.325062190461312,-2.423416624225348,-1.0791731429344658,-3.0489845415881596,-2.1980151814728885,-2.6352620597579928,-4.893125166884941,-5.799172157175695,-5.495376453823371,-3.3623912269453813,-5.792518146781398,-1.6092078401928265,-1.543131717757475,2.1293285135534212,-4.320560137644564,-3.999096005617433,-3.308099955005183,-2.5816645244371785,-3.555233897310477,-3.5043559580035804,-4.393555688461604,-4.194810042043491,-4.023092065053207,-1.3839527279588597,-3.706784249107192,-5.479210719686932,-1.944832478034631,-2.6982144499853637,-2.1765989225349047,-0.7100106258362963,-5.489041795696059,-2.402947489869406,-3.679322742038695,-0.20291926377062153,-2.056471324650368,-5.091469987467297,-3.983436831074007,-2.7154713389632277,-2.184720517665323,-4.063672834859717,-3.713536869247169,-2.312644751422712,-3.011209130156247,-4.744814162243678,-1.0643340641157781,-3.1662402531416673,-3.245089012737621,-1.9222131622058736,-1.0629596440834912,-2.978345899887837,-4.230188392154931,-1.9522580524465798,-3.8662809139365186,-3.3350138792962647,-2.9020418206954313,-0.9780740934014119,-3.5231266332107327,-4.100710761129821,-1.034326932616653,-2.179007032869103,-0.8448453479473157,-0.9551412469007102,-8.232227748188148,-2.72737509470358,-6.033625656995391,-1.9569895375458513,-5.7749583354276925,-2.552169542368811,-5.859205703763776,3.0397165356156615,-2.5764841410248898,-2.6731846573265896,-2.00402861868047,-3.7866911191471835,-5.908859502778346,-3.23850758538039,-3.0144486398519286,-4.333966768022396,-2.650332702416512,-0.9170497509966286,-3.0179984415609216,-3.2696378433937525,-0.4856244658155161,-1.0068650773325838,-4.02161530848178,-2.9203429707977504,-4.376167643729338,-2.5009501415019617,-2.4329895870185814,-2.1140831912248874,-2.578962765461682,-4.198539926514805,-3.5495419637189753,-2.225829183805081,-0.6757599736805977,-0.45622779579133055,-2.6097903959576088,-5.8399049777508765,0.2510687090393535,-3.5134546898252546,0.5020716600721393,-2.5970692874807964,-5.1544637924323595,-1.1182031257364209,-2.924804806319053,-4.065445692692219,-3.2714059584670743,-1.8064582532864675,-4.472966744973713,-4.168607144081947,-2.6184608738863377,-0.9441920664523621,-2.955370226231777,-3.3153533761683276,-0.9572217013382208,-3.4770114287605822,-3.3385982216554124,0.6640856815218739,-4.281122198896636,-4.408607150265176,-2.252590521987203,-2.967194707115985,-1.1836864685981174,-4.961675730497037,-1.1213808291923708,-1.0956128162145307,-4.897055961353419,-0.7123648773205131,-2.198823467003269,-6.998972476702228,-0.5719926882410998,-0.7264760455042697,-5.774658468914916,-3.8976682151454707,-2.217967152237899,-6.489251134169068,-7.531561066113294,-4.7069234913472995,-4.699224868003955,-4.546837228665371,-0.9553650121021028,-4.349032735789148,-2.280208902888565,-2.9488894657069484,-2.8258576228059313,-3.5815710103635277,-2.6116022851393517,-5.14759564215945,0.6746151643559427,-1.6883880175236217,-2.4108855668213383,-2.3958587114929855,-6.44569931948186,-7.069022224694685,-3.6827411495140554,-4.661520951366194,-5.2773163940238454,-5.881738223088938,-2.6396814921797684,-2.0419020708626743,0.4347926703316741,-2.8930783545314402,-2.458515369506981,-1.7617193180820079,-3.55596219432857,-4.74654451794107,-5.499213855351202,-3.652542609739296,-4.0142203148778774,-2.6874052417655077,-3.17933811107095,-3.8629158943572057,-1.497338352470974,-3.740931642970077,-2.7505264113332535,-4.365730031256747,-3.7956278245510804,-5.585665896132731,-2.2214304868223214,-0.1985939300790201,-1.6315178843681546,-1.0921782324321856,-2.512513435630674,-1.4775759093841394,-4.840090111923702,-5.373782792212912,-2.6507268053050894,-3.2752552335077825,-4.468133027341626,-1.0271709084690108,-4.262942432453052,-1.642317649528079,-0.29498014684237206,-3.02001689564243,-4.731104823753795,-2.5499182236203475,-1.37831039635111,-3.3498146684936665,-3.772681399918424,-2.7433703603151405,0.8716595013079602,-3.91940978663666,-3.087451506727235,-0.3346889670601401,-7.236573502956289,-4.968484221398571,-3.4698738542122936,-1.5891271119966808,-3.069918149950432,-0.12455090976097301,-5.36066041549618,-1.9339295735950575,-4.561691582977141,-3.072579095250061,-5.001520868819699,-0.8807830845163654,-2.529236923152388,-1.331940144658969,-6.109242222694404,-2.5491893851796306,-4.929428867064625,-2.7953641734250088,-1.2662847669406208,-2.808715741933463,-1.7060329829425438,-3.8315552624962277,-6.7045505807077665,-1.1483812839278482,-2.875698595147872,-5.534976369714254,-1.012930323217913,-3.847456176629341,-0.44659408749144286,-4.441520496063513,-2.2904199052695438,2.961458217124282,-2.3297648655505796,-3.4382539010989466,-2.9451696935394494,-4.922615610982822,-2.1104419442968942,-1.765812331457713,-2.6634256549598496,-1.8803025302251386,-2.7130846050144397,-1.7658480556999117,-5.630286829039336,-1.4562371502184268,-7.08931586836896,-0.24475128674037433,0.6025273719308017,-1.4443712700281277,-3.4177284722547614,-5.1266231574747945,-1.4015447904491232,-3.894683026667784,-1.1626049900521447,-3.5098913930894526,-1.5631533119063865,-0.8778138859227841,-1.5756741107886343,-2.018237610299747,-1.1557954633331242,-4.997057761131357,0.343818634369189,-2.998437903973509,-0.6672893186389495,-3.734338022543046,-0.1267510866836262,-1.7659826066229452,-5.679096914646517,-1.190448508286039,-8.472781217345643,-4.107201859161238,-5.660205359774495,-5.200181666614617,-0.43399745569455256,-5.3025648378134465,-0.7740094907977354,-1.8685871154075064,-0.42474685787443167,-3.6321560172838914,-2.243124226542387,-3.410756606903064,-5.478245847749822,-3.1183003727454413,-2.704585217316801,-3.1182786456044984,-3.2533042510154084,-1.6136743418900656,-2.8811858410809674,-4.4115841442077635,-8.642178806890634,-0.08781544749579122,-4.841387492658668,-1.1195617708684524,-1.323700071044081,-3.3069722900313194,-1.3325165505562142,-4.829259442391977,-3.04339662556884,-3.332306670638354,-3.25342051473251,-3.0513958719084475,-7.859726184527527,-2.3145338643280837,-4.988939233110354,-1.6500081270282114,-6.104472585196363,-2.3918768155605044,-4.203868905993762,-1.5004499748490125,-2.640293511654849,-3.8831877105217387,-4.2263363734476975,-3.333022888291057,-2.111728241718957,-2.7341628476404596,-2.179914429063573,-2.7371878135954137],\"yaxis\":\"y\",\"type\":\"scattergl\"},{\"hovertemplate\":\"color=2\\u003cbr\\u003ex=%{x}\\u003cbr\\u003ey=%{y}\\u003cextra\\u003e\\u003c\\u002fextra\\u003e\",\"legendgroup\":\"2\",\"marker\":{\"color\":\"#FFA15A\",\"symbol\":\"circle\"},\"mode\":\"markers\",\"name\":\"2\",\"showlegend\":true,\"x\":[2.7631290550913925,9.09433201398889,3.3309676478269594,-0.8205037770134391,5.559560482797026,8.098315145067223,-0.6173256118252004,3.8489981796951716,2.2232948206048286,10.068811861728653,-1.9809280109725176,4.552065404431,8.747890553328741,0.7508194070770499,-3.405171046447142,9.981086994810916,-2.1739741023168686,6.904088462444982,2.481005172739245,-1.6549182835218343,2.7426200227964728,2.911909257264161,5.135815599862933,7.6506725548967465,4.776533175828207,-1.6102565119436147,2.0038059681677303,4.135772477706796,3.3387034608574506,11.617956219280762,-1.3727958751110971,7.313258873873986,0.20041627428872744,0.9442596247008542,-4.619067698719731,3.9574247679467294,1.8096966423461143,-4.954573167864432,1.1154167449917187,6.873610167877161,3.1798578928951837,1.2791075015656856,3.1229363674346073,1.938618558965281,1.770020076446717,7.7984029680557745,2.1936910828500276,10.86980274759647,4.667561319524224,1.8346393423270866,-0.8996789880036761,-0.8016037201964177,10.016410948285417,3.5574856241626915,1.7530060120671596,-0.5173638490403172,12.701500794529611,5.244726981587713,-1.526345298335449,1.5164138682040884,0.12008526683394768,-1.6850771824185913,3.2809097390550463,3.328281279773875,-1.3194984599912953,1.2795929583792127,-0.8323999722587107,3.0390608557531085,-2.010570274785706,-1.469537120792183,-1.473644311336278,6.53859568918929,2.208301230464649,4.899102647107551,11.298836092262297,-0.8480931008439615,0.012647791029081375,0.853669815420089,9.6276138994812,7.109935940017962,-0.1061035550607221,6.097936897450853,-3.182178108095491,2.526708570300785,-0.8703365436518963,-0.5209366859265798,1.41167828445788,-2.4695994245405544,5.882405587597659,9.962982955664671,3.7328124288001447,3.137086142167094,4.914774387694558,-2.1159127745447726,0.21169404433116762,4.349932789345188,2.0221149980486275,4.833490990355565,-0.862016873894437,1.8742987796922235,3.360697573170574,0.8119505682279107,-0.43695393175024455,4.4126749831496825,10.901238185656632,9.847076086287288,-0.8094148790174722,11.997333344146226,1.404181406031399,5.72382859194227,3.167539817864409,4.340093920805103,7.857775231307173,-0.05366625770234931,4.896558334448648,-2.011101035764887,4.923988511343629,0.2510850508544462,-1.6260036840824164,1.3861717299331564,9.962704544660763,4.302396403528136,-0.13183340725647527,9.69650190052506,3.5728372848149466,-0.34021189344858704,0.38355178472315504,12.88230449770318,-2.8594975146290134,-0.17955521745463593,3.489817275437162,7.633825798930456,11.681487307680401,6.194484066346707,-0.6868014349317846,11.012047210046944,-3.8202548147468773,5.3976986517640135,2.4031834199107385,5.937978498068738,3.1458334081571677,12.15178603069089,-3.3984675164097324,2.3621876479041095,0.5925953250142221,8.603640108845848,5.798417404074724,2.10252599609585,1.008170505513479,0.37930012132174307,3.1326940888112436,5.194864975707281,3.770017554794198,-2.784231497834025,1.1451359012953908,9.879405527124133,2.3276801590281027,4.092335415496796,1.325278359810705,4.594305428304862,1.873029183275986,6.387614448926789,10.8727134654846,0.31785871893070977,2.8578412779350852,4.938524575013262,3.1774450693396488,5.2201228669187705,1.1652801323536688,6.993183870083275,10.708362560905567,9.082374123659465,12.311895586974979,15.869514568656992,3.9738350771962203,3.8077304462212074,8.836409546529868,5.736074537123393,8.041035578174082,-0.9049274165875631,0.4425413437164029,-2.213685061854138,-0.7619219037192372,11.357712993005288,5.18880381708398,1.422738101659113,7.73636635992808,-1.3215365006011888,22.419542994340542,-4.812328704184631,9.675467179521805,-0.3604560374386928,6.72931513074531,-1.474345222870528,13.470108231858465,-3.302944821650624,2.7438990363940627,5.369592066400624,-2.330533350219851,4.819709637551516,-0.9676006255080579,-1.3791611710244396,4.541971942185811,-1.151549836931049,-4.522719990432824,-0.10092335047355742,-0.9243605954850169,1.7069228393763343,4.794584090820814,-0.900189807969635,-2.2360638480486528,3.5552517434993987,1.2735037015975401,-1.2265434386650502,0.8934356091255133,-0.1918898517280058,-2.4576645719670207,1.8286748575050742,5.845756843889745,11.366734365542479,4.2724798632871,-1.1257475312834933,0.5292242486825068,-1.5283248416919393,1.6431277801200717,3.6307177506643566,0.9483720751567355,7.790812682495602,-2.5515613091935148,0.20345439020774866,-0.7423373644062202,-4.630035757954576,-0.24983531862123523,7.989542751677549,3.16415725611008,-1.3011237950636239,3.2745476179908954,2.965316125407321,-2.3519740561229403,3.798229606566913,6.630667943484313,0.8884869273580895,6.961437959411549,0.7703142148269733,-3.2082692226028136,2.287004800497563,-1.0430591303434924,7.267906449369434,2.934935428249909,12.588338687730518,7.195976862792823,6.03993924080854,6.9973018239955795,7.663261073427474,3.168523222211584,6.354042127905755,3.4582613222551424,-0.49402547934760416,4.075129141293945,-6.309305048300866,11.551228240826436,3.144759901504901,3.043919872863329,2.5477142616505724,-2.455109723783169,-2.3672461904961413,-3.7904662734069112,5.1324724077256025,6.632382303959993,-1.803415844147519,6.631615471681134,-2.037285320953918,-6.520621432021445,0.9635974948476812,-3.0450479956537584,7.782376334718873,11.001874669135093,3.418715172731876,1.7707007430405894,-1.0457221834648194,2.6550674323069527,8.245128982586728,-4.1762673885953605,1.9863648591515248,0.12511255557057477,1.6533854405994464,-0.6678819479140755,5.450565893374247,3.6551487279571035,1.6467953934799489,4.9336185403986965,1.6478815559479068,-1.3402526306014384,7.301207525912044,11.41238807026489,9.628168782268885,6.349661181008662,5.774114912907241,8.25567508025115,-2.5797956330589478,3.899933895479677,-2.993434158289524,-0.4041909362080347,-1.5882788641035213,5.856751672300181,-3.4993941281840386,-3.34331051212673,-1.4237399018550012,1.1485684670311063,2.8126001574005084,3.490011632764328,7.835762783658678,0.7460679198247444,2.3665218768825866,5.872503630452751,3.9552031478360283,1.2086124109998997,6.162048394243694,1.735795998944994,-1.9763776320649278,-2.442075667293133,7.609662013279226,-0.5286816414792217,3.830932921998641,3.8833743284489675,-3.2738904017394836,-1.882724179088925,8.347114807142402,7.328365044527868,0.8894555014473152,5.131395441579628,5.591742295710689,-2.5562492450079746,9.023620562123668,-0.30533152745680103,3.6761622911249376,8.37185212838304,10.85209462039968,3.0734007841015734,-0.40004787369392447,4.7764401509173045,5.305504708673201,9.537159948457598,1.159367342747008,2.8118077663252885,5.528689485769162,4.264754387582002,1.5663430764551707,0.30880110338076566,1.0367728406321586,0.5315077367463884,9.709011219734535,9.00478934757654,3.113225697945806,-2.8330861564058325,6.636381824851027,-0.7264975671767699,6.144103307362344,0.02096332192331751,3.4742603909534417,0.7357861985015304,5.267887621551083,3.8918235067029516,6.08790845917685,2.8137207931234003,7.053117801519534,-4.662563274231592,7.200543171047661,8.166672584820486,0.1682382009938191,3.357587662583305,14.608073159604409,6.645698017812034,7.6853920849288375,8.842514064704174,-1.5345093829817715,12.96340084139508,5.2369199631307755,-0.4855410672272152,0.886699980243632,0.027523631619574163,1.7634242361326768,3.9253203762697653,0.2931537075847793,-0.3584262853237131,5.801029032703562,-2.694321159468833,4.8543148017870035,-0.49806010102913895,-5.324885684561471,3.4246463626376675,0.20462735301849652,-3.26359426827445,-4.122406581001821,-1.583634636023008,-4.2674724366676875,-2.186283631077399,1.6525544313958627,-3.0195839320000726,5.881100160850662,6.316551040612087,2.5965013561665997,2.76297847613218,5.850886906433342,5.494120283655218,4.759260224506356,-1.9852925532687176,-1.1802931840163526,8.459098048162762,6.669945248243765,4.067479028931598,-2.7211049655351824,3.7835538511877855,2.478645838309079,1.6231896630072618,-5.488443749958988,6.662575781993671,-1.2076922799478313,0.2229594510913167,6.418091153944853,9.391152673150982,6.770786722406297,1.6058160489739068,6.869941045984609,8.609606239643986,0.9859050024668101,0.7870160450998628,2.850798986628941,8.212635865040628,1.2533674198671532,-3.0122764785818625,8.505286924140636,-4.88098143991387,-1.4823947347948905,3.9203913727186452,2.4641596229180336,9.05097773301768,-4.3729913136238086,2.8937948386929992,6.741231274328033,4.360923523146453,0.1751797596831469,11.935293089273989,0.9794487959098649,-0.6239173448029653,6.796509794504744,-0.04686994654305814,-3.1514112577226037,13.417410696261925,6.75760906259169,-0.6005786309523197],\"xaxis\":\"x\",\"y\":[-4.030144156646014,-5.891762746218256,-5.831865537697158,-6.799669760187422,0.016057811220772687,-7.066569061819783,-4.326906496226022,-0.3589749178011235,1.629842777836295,-4.114307660525697,1.7701205904823865,-7.506439333762072,-5.177834243442835,1.118390689194786,-0.5791430338387086,-2.4568388364447094,-3.396749934350171,-8.88435285233946,-1.195233312552844,-0.8907381183052862,-3.6813782117269955,7.70454886083107,-0.060115050875833076,-1.4366867162018582,-8.655049939892223,-0.7419493970990056,-1.9767452321094168,-0.6304198764172284,-2.984035576738241,-8.063545186526916,-0.645388777638079,-7.367413449944994,1.8450258187162665,-3.9617924846735515,-4.303056177530334,0.0989732899446232,-0.3861158847313475,-1.0283381774694196,-7.843125925185853,4.356389393824991,-6.885501639170249,-0.548462761510626,-0.156900984856965,3.6884773800420585,-4.494438861387733,-5.536935047814917,6.903386139389606,-5.326973825776066,-0.1657428014412735,0.9593201061141889,-2.159178984750373,-3.3600395019241622,-7.901539557425412,0.43199729861940017,-5.827726561912277,0.7365706370647152,-11.581546790031952,-1.9503902351906188,0.003799178109713255,-4.022443728457191,-4.074766612884679,1.8577311222897943,-4.221048804319287,5.866280156599766,8.063759274403168,0.5140766821009706,0.02935889945245441,-1.564830068395269,0.8915717323287763,-1.4503000253539589,-3.9666664353253385,-4.2545185872992874,2.988360387987526,-6.0908398346848935,-7.205787077009541,-1.955881050604014,-1.1874658505339402,-3.824763599274692,-7.88904883005698,-2.19114499385411,0.5062697111096615,-4.778704692231482,-2.8847360601307246,-6.3797274844654,7.929950718998506,1.4397930966377548,-0.8578226395671726,-1.1792610971220159,4.277287217438311,-5.269978060453812,-3.6007854626299984,-6.399379231979682,-8.009147831432385,-2.1700356812688555,-4.158620983434141,7.396429293365995,-4.5322399115450205,-6.936725940054982,-2.665650812314903,-6.261791003553535,0.15959020626803866,1.3105183856257638,-2.893527712876471,-3.943357635103712,-2.6288556252678563,-6.658888993047782,-4.731190242106564,-11.803482206969953,-3.068525730882936,0.4509630256865854,0.5164975988290361,-3.8653129032537406,1.2929638119813385,-1.2916540376608485,-0.004610122870788134,0.9648873750670431,-0.0616988023302978,-2.690450302090369,-2.4469580042115786,-1.3411007578503102,-9.744017329641862,-4.010762409207625,-3.25873997370566,-2.2820311942451226,-4.115139190138644,-0.6171146766258342,-5.369534793043956,-8.725590064212813,4.880305945711528,-1.433749344254455,-4.363776328686809,-5.936488465780996,-1.6676569888241586,-5.563434702223795,2.1271361090448586,-1.984682447458313,2.127939367145834,-7.467432306776049,-3.8335153515557465,-2.7766214156397324,-1.2569299166127923,-10.757061007939171,0.07832318466628596,3.3246251007844294,-2.6538217717717654,-9.852428332230648,-1.3920268958588857,-2.756278614772746,-3.85779292110344,-0.8644765998289279,2.583145380400308,-0.8547503987945962,-2.891423716885305,-2.3630022241722983,-1.110872184770486,-9.384251736391619,-1.0549594900366819,-0.9232900996930655,-2.7772345236505824,7.851733868970599,-2.198424068678802,-2.0643132434294387,1.8114434933285675,-2.567540554408643,5.190450785367739,-5.266880245276721,4.834932748266338,4.470310513611362,-2.0424783909977746,-0.4660096313527901,-12.616030604069506,-6.583129935844198,-1.2909089237548337,-6.721067681901952,-7.892841647878329,7.647887901355369,-10.037242132791613,-8.502327907357852,-7.262770683161483,0.13300508315574816,-0.412506693572698,2.407858358137205,-2.2128760640838694,-11.146677288006797,-3.1700205513875725,-4.143114380235215,-4.040984602674077,-1.6410545272000474,-5.3338153725553665,0.6473976023495598,-0.4066429323118842,3.610537015510362,-12.405456446072659,-1.1448632590408365,-6.548327062839195,-2.33524930426716,1.8947200610078194,-2.9707887945693736,1.4163753027576402,-3.0889980844293503,-2.973206332233212,-2.095274623285711,-5.747729952480892,-3.17849283841998,-0.3644659566638021,5.072956744609177,-4.336119011176241,-3.8299250040262645,5.865548905550803,-2.3164007030129135,1.0241786088586584,-2.9704088684726817,-0.06403974770464982,-0.31390860105419216,-1.645034568797903,0.17975826818112872,0.8451620720939697,2.635083496052924,3.4884565138721904,-8.536706283816736,-6.506547076010741,0.5940507623895689,-2.2204075248279413,-4.297978728737509,-8.260547531996265,-6.251749440893796,-0.07104148621024663,-5.357327665109505,-0.5141223160165825,0.24220524965986295,-0.9550338131175966,-3.261444635795871,1.922901016575958,-9.884556193175765,-1.8083380551253576,2.481688563499486,2.969843283327011,0.20886413957765024,0.532323767489816,0.08504151164363787,-0.033612174300508356,-5.589756617077396,-5.721342806087507,6.385238438238383,13.357528538707687,-3.418257678963612,-3.0011964324404534,-5.877654264384533,-7.137689189858721,-6.248021011255164,-0.9443740875090828,2.1930973741732216,-7.95157404188933,1.1426236074772562,-0.8721760352909299,3.9507403300943342,-7.223561566557989,9.485830862477833,-2.525971757248848,-2.011960248712629,-9.752369301734667,-2.3396969375808303,-3.092077674510354,-2.0930315596432334,-6.761017286324493,-3.0331473497571904,1.624050080015895,-3.6316378415231934,-4.950665472261663,-0.5943501774170846,0.9107161140565252,3.389643764090451,1.3659473734987275,-1.799210556391046,3.6757489491443605,-10.817244561810426,-3.3268566568667466,2.090091209523796,0.6508995949540867,-2.6605974027023147,-1.6717734545795768,-9.706837524868405,1.7107792013107652,-0.5561909892859994,-6.887884636583939,-5.763490607324216,1.6494453146936219,-2.9943471923426515,7.837270607136703,-3.2134698227485594,-4.368990803490325,1.762661214136388,-1.4636685734204653,-2.6274619997564583,-4.348683411847579,-11.484251818490614,-7.158878989346046,-1.9970049043414138,-4.641864301295165,3.0487952933956453,-2.5065489743601446,-4.457660317888291,2.037982318114674,-1.8163605676515207,-2.349577152989296,-5.627175766754439,-2.852865074730987,-5.658845472797243,-4.791903032460667,-2.9703893353796977,-0.22562142522986686,-8.841734533250907,-0.5240727883950276,1.1346664907328707,-9.48053932725883,1.1195818031146298,-4.384012719777465,-3.8904618547962015,-2.6297515205877287,5.608585212883751,3.534552428607318,4.50027536683536,-4.150385942004599,-3.0459053832268146,-10.35287035990407,1.4240308017460548,-2.7445053675642286,-9.198680974215057,-3.976958717144177,0.9238761811687615,-1.9611305153666219,-9.431334830129405,-5.51495380145238,-1.6570538444515823,-1.0343975488785826,-2.5093950658105,0.8546888662059273,-12.748478885290963,-8.748688664097704,0.5830571501623618,-4.4291678736129,-6.966829459327348,-2.990328269132633,-0.7463409698548255,-3.744392914925107,-8.402755630042867,5.311629974517106,-5.068600886815203,-4.738938887663841,1.6189814965464104,-1.0609642937949761,-7.277143143553267,-0.3311377628573959,0.4454497017928004,-3.797696570735327,-2.0162095486300697,0.5712267395059469,-1.0930064092548364,-4.669331279657892,-3.392130046311183,-0.10886996637110967,-4.9611224932970295,1.881893991905462,1.9803434352165,-6.622098636433935,-8.226259889845798,0.9837878365178389,-9.55067729962086,-3.414464652696129,-4.341906720134396,1.20510601543784,-4.563627601990717,-1.4626014335584736,-8.652483368695677,-3.475221788923859,-0.4299475652042724,-9.791118301189957,-5.439583370754526,1.9841358830600357,3.3890605887827228,2.597709515684312,-5.814977276271727,-3.468366314893242,-0.3075747852854401,1.836691610889496,-6.096772832907404,-2.343784083532431,0.630940816681262,-3.6529095870396158,-0.14355741856265347,-1.917070028352298,8.483089155766999,2.1913854456784483,-0.05875504356915737,2.811500317283591,-1.120925089495913,-1.7048091241442513,-6.167439964093742,-0.011289472668936385,-4.557611581521094,-9.677298313744716,-0.8627037502105114,-5.4427001084486974,-1.867733453218758,-1.4681389018004531,3.6130161157648213,-2.9069477745728287,0.4848486035096707,-3.0060811629777793,5.666225953009547,-12.191287106102541,-0.9883667401525379,2.1749595733861757,-2.298944877092671,-4.383965093528798,-2.500227362217642,-9.155610313471776,2.6283520847487303,3.7390271528004315,-7.787000890703152,-4.570893509868944,-3.707796390988752,-5.876349080850956,7.039271758738727,-8.477383920500344,-3.0259284792802297,-2.6878019916427482,-6.418961725391167,-1.2258506872041872,-5.377293676893198,2.3639912278068502,-5.515918259407145,-1.757325493160029,2.8370938032713218,-5.033114294427805,-2.5352678706528264,-4.717537667306634,-4.264929685575312,-2.7096359690484744,-0.8466896996653299,-4.552057062628107,4.265312727663125,-4.065178927050094,-0.9979231191379953,2.0400948885521637,-10.01015458065217,-4.420176443608549,-2.5764541613680527,-0.07249475784416572,-7.57533941157273,3.057559167197531],\"yaxis\":\"y\",\"type\":\"scattergl\"},{\"hovertemplate\":\"color=8\\u003cbr\\u003ex=%{x}\\u003cbr\\u003ey=%{y}\\u003cextra\\u003e\\u003c\\u002fextra\\u003e\",\"legendgroup\":\"8\",\"marker\":{\"color\":\"#19d3f3\",\"symbol\":\"circle\"},\"mode\":\"markers\",\"name\":\"8\",\"showlegend\":true,\"x\":[-2.9141106573235502,-3.463940570193428,-0.8575636887254606,4.162194613893513,-3.74084717304997,-2.683666613462651,4.754258734182656,-1.097978239828639,-3.0555600494526516,1.323770143375178,-5.082776933770285,-0.8099035046749704,-4.963849760334269,-0.20807819453002754,0.6705570401425492,-1.1713975203651217,3.11174769173331,-3.7073368614461772,-4.684318078442607,-4.251926211415014,-3.8845586295064716,1.4229269082099885,-3.0321623209794177,6.326089780715545,-6.009315183871075,-3.641997283439956,-5.759103871403162,9.984340022089086,-2.3953267013501502,-5.06179655468537,5.427503206270343,-2.178181561708687,-1.8634410438144926,-3.6101801349372256,4.172901855491904,-5.602068487927925,3.7594529004989954,8.765036525827057,1.3115355863821085,-3.0215775594763543,2.1528452485751353,-2.8468010838371827,-4.133046353313384,-0.8145069272911222,-1.9208353394660782,-3.610192867996092,-1.960392610697385,-0.9575327837083825,-5.5970910238377165,-4.192595547560114,-2.261352800647007,1.6297464081569464,-1.5162616161836293,4.505841663386232,12.258142548209372,0.6040491628371701,0.4558863951081024,0.8384489610931749,-2.855612821681621,0.43036774230475583,-1.8839492755988705,-2.025379122815636,1.8697588778192302,-3.9701499854465605,-0.5978529208426244,-4.196130687884023,-4.248381231070167,-0.039713081945941045,-3.0698072326114354,-2.9985825988028183,-4.865273946598479,-7.567392593034016,-6.160543513848991,5.226744062007639,0.7816329730385848,1.5579565812695013,-4.383957682815202,4.802955118082393,-1.0449105338659979,-3.560531172031349,-0.1696657278781645,-0.6659361023239423,-1.8762713244667482,-4.184525692085342,0.08824965270251144,-2.708611398052834,2.039983679960289,0.13361377621129938,-3.7436607439002714,8.760638357536743,1.2468310931461437,-1.4487853102937318,3.985376079627375,-1.8004542719640415,-3.3757493195009713,-1.2199913300049063,-4.695624594737427,-3.239575038479297,1.010741057276003,-2.061683627160175,-5.331249729474085,4.019908034488971,-2.86325598678672,-1.1661683614404856,-1.9530117052625409,-0.41581688655568344,4.227245725219586,-4.203701498193672,-4.281261277797504,-2.748857798611222,-4.735978766039949,-3.1059747662048918,-5.950588009526501,5.718056707841669,3.186733611565056,3.659034165265745,11.730761202930154,1.8063954794004955,-1.8778542229506376,1.0788562870318432,3.0022511743887814,3.132650276317836,-3.0582103304630714,-1.208055552133452,-4.500660932049786,0.5243255325364743,-0.21225450375021848,-0.13661282036094044,-2.2132101192115208,2.321619200535676,3.3725621689386855,1.5409581336010543,-2.946092552486155,-3.1550279243535466,-2.3084603155924497,-5.059896264674019,4.146793699075954,-1.581185908961666,-3.2656399826046143,6.1454499743521005,1.7889488045577715,-3.638882275959808,5.785578113109184,-4.592476375968369,5.723544461420599,-1.3952291667160082,-0.12412656075141623,-0.7476934262456841,2.08584195405096,-4.663103827600009,-3.8292593021580035,-4.3412690047617,-0.9302573902493959,3.9477351242768304,-3.655062698994897,-3.5677694514387848,-5.486495305199462,-1.601443047675341,-2.742940283199615,-0.5704120575562912,-5.101839448065976,-3.8220735413267035,-4.49502401120329,-3.8806036943426867,-4.389754989059774,-0.3288959374988974,-2.24453355352225,2.793242668155737,-1.0176654596641208,-0.3127661514664494,2.2419986027327363,-1.7369561332885766,-3.2264835695662475,-1.0351919886419991,-4.631730099634241,0.841610700772385,-2.6925012210070736,-1.6221746936956059,-5.160637643899872,-3.464906338933493,-2.5928541473379516,-4.147551664491793,-4.734375249278835,-6.512934660641429,-6.271829033943098,-1.9725506944638116,-4.008759976850931,-1.706088331332762,-0.9102164333946721,-6.57827862445779,-2.7365093106113605,-2.073984047612827,-3.7700021170078544,0.04274133072900655,2.345726844231497,1.234302616572909,-3.1504138304822735,1.4186715434879145,-3.1778005944642382,-1.075321730035231,-3.16212694852962,-3.2583834843954325,-0.5606594872150878,-3.1748360801368007,2.454146133167065,-2.7473006846174646,-2.513953762150184,0.1761132699482685,-2.1930788065968176,-2.4141572394999113,-1.4291768367676767,4.327443890730475,-5.6474839003093456,-4.570242604692185,-0.6207050897183625,-4.192945985562402,-4.2346481128177755,1.6488076271301835,-1.8362488519609974,-4.413380828660677,0.2693626882352749,0.2276677627748845,-4.2762469948323405,1.3918755290006903,-2.36527685552218,5.847902930428489,3.014793267308543,-1.2201828597351287,2.8577640929001067,-3.939323351552995,-6.0021153185412555,-4.142875982928463,-2.7243507679421755,-4.08662639413372,-1.9392519386044078,-1.99670140172304,-0.20172702423228112,2.1273972977166595,-4.196022641082206,-3.64480466363741,-3.997559258527833,-5.4929511541767635,2.2829520708938236,-3.4476889868796032,-0.7393841705137106,-4.278601173074654,-4.513556734406157,-0.4166894280755445,0.832198025820808,-0.628469219209138,-0.615317270413005,-5.296085850048216,-1.3655437585670847,-1.8912086597539892,-2.67799914654262,-1.2383244479519482,-6.503846528992269,-3.8203825838813645,1.097963567449887,-1.8204154693488563,-5.807729356304431,-4.1282530341102355,3.157684860340401,-1.1218443140449323,1.2192533032514319,-4.808773024880028,-1.168857418201353,-1.843445106571687,-7.24078507266591,-2.9675688472977226,3.917903324214468,-1.0246714445007015,-2.295345768764734,0.3041369274399477,-4.471301524887378,4.121514564050211,-2.3007490097897256,0.2184160681604944,-5.989735238617947,-2.6404212606192115,2.799888205314919,-4.246305702707491,-1.866826376985199,-0.4544862486406725,-1.3037940366043825,7.920009814285365,0.32472808380003837,-4.570972366549429,-2.0297620567040773,1.5277131192335485,-3.077210739397259,-3.238636248742459,-4.047384604432012,3.6304183897057416,8.118243858486194,0.23007655061789745,-1.5983437140835537,-0.5968396061117098,-1.4506660824299846,-0.5197466041404633,-0.5286709752734229,-4.39018178144697,0.678087901895562,2.2692105486319436,-0.24852974942847514,-3.564181939575292,-2.0560167981971755,-1.2881764562551254,-2.2729135957079407,-0.16781978237375647,-3.012626755994023,-1.8593435359013568,-4.7411267760256,-2.5012451103502085,-1.7806026860471096,-3.0665265788531024,-0.3256767712823393,-3.359666852861715,-6.100564969533238,8.449368132006052,5.8098686251935305,-0.02728730984134588,-0.6948574525655504,-1.6580405173395198,-5.964973165426234,-1.7293797319853574,-1.697010090751528,12.552930845102415,3.1058643789697165,2.2344943203152194,1.3211073750154547,-2.8482882165437893,-2.3240561313447876,1.762896440970961,-5.439866338298872,1.2748304972479432,-2.5592995610091775,5.594080181482361,-2.7317585895730536,1.1565435560501418,-2.850948803113222,-3.491858261456791,4.916861348140331,1.704022632115922,5.280383933062965,0.42870972454017897,-6.6589736517570435,4.860195052948455,-2.202912016857533,-4.698702563311681,6.011400232909034,0.28657818638965227,-3.0980300119080586,-2.069454490234827,1.968028621532042,-2.5840708429452204,0.4789996099381342,3.789771292960847,5.508551396549966,4.268808442343333,2.548424065950407,-5.7394469219559925,-4.104224766428425,1.8791193909465225,-1.2828151287340896,-1.0025498031730695,-3.843574874253192,-0.8948719477429032,-0.48884151372920087,-4.785728267953072,-3.2915568307016825,-3.615591688228656,2.732410856778652,-1.2012192945521964,-5.332454737259115,-3.8534983231178974,6.75114580354862,-3.772338104615754,-2.3791271887513314,-1.7717647139384283,-3.9729364964959646,5.856792941143692,3.1345297201918445,2.2812267931533396,3.7822982186413197,-1.2532786080114984,-4.443560367853033,-2.2017414857436406,-0.022328671290654245,3.4402080463302105,1.4474836658183958,-1.6575234501985112,-0.60984196392624,-2.205485365195418,2.3077459782235383,-2.8707056750485056],\"xaxis\":\"x\",\"y\":[-3.0063218247512475,-1.125412876584311,-7.674095799865131,2.7192856870470274,-4.280822241014448,-6.596066402071262,-1.6449001202521187,1.2914326201764286,-6.378437727838246,-6.4161691141552,2.014689283572025,-7.588965972332899,-2.956200791755043,-8.184008211978187,-1.313600292603332,-1.7306343679402725,-8.05272128457332,-0.9250705299723367,-3.051651596349403,1.9351393857874029,-1.8312320902406107,-2.4362223152212485,2.780371684093173,3.8148381073713735,-2.025172968499365,-2.8855768893252356,-2.4081650573557987,-1.1484504458590625,-9.152304363789138,-0.7399826768488865,-3.7990957411361426,-7.88679958713346,-9.014456712741037,0.5938780091575483,1.4509504452442945,1.2690244875502372,-0.6258507884870659,-9.517636281346421,-4.260362820677671,-5.281982562519448,-9.921508617790296,0.43362575354522376,-2.9333127501351406,5.070843413398155,0.10607052624604056,-3.700208125134719,0.7234468690903193,0.6833830010933457,-1.1956068835929672,0.6224395337172102,7.503330735803543,-9.846429143903483,6.940499073988404,6.830774408486175,-7.296160207445246,-1.008994446094946,5.331465612096972,0.5949922753225441,3.2655413071114054,-6.283656622897593,-6.914510301097269,1.7852531185594556,-0.49459036729862427,-4.588118642495797,-6.714131697431804,-6.812233514704766,-5.790661341899279,9.384399666102986,-7.246118114125985,0.9229579669232788,-5.661165965378014,0.5290207150470204,-2.0128124735049697,-1.018125077179472,2.705327242654903,-10.982062788821027,-5.355839752964147,-4.626714685264658,-9.265135852485693,1.8288787988755175,-8.807874100947094,-10.58273350813869,-3.819679019437115,-6.260988121719909,-10.610302418630674,-4.0121431633772495,-5.145358552775028,-5.050515121218486,2.9823297851237607,-8.768545626136351,-7.728082233475254,-6.417933505916792,0.38937523810334956,2.178230946534325,-5.549086256821604,-9.99601255759276,-0.8174785906229498,-4.35821667576898,6.186450961349703,-0.26754769692530816,-0.8729697662219786,3.649073324078355,-5.932127901885248,-4.259136437782398,-8.909731050864888,-8.026016008006001,-1.1551508376914124,-5.917877751788142,-5.552364313363318,-7.07011225761096,-0.6121718276383001,-2.9011636656250346,-2.0726658753381524,1.6512979006491908,8.53190040286521,-6.788364947881003,6.4263646984562,3.7290367101311683,-4.337018328685733,-9.54955086770906,15.292863545301168,-9.609401669266353,-5.330903274526633,-6.891022057481815,-3.9475089710479434,3.932435638692721,-1.8178024003904096,-6.257722888256914,-5.432805619263887,0.368641416825638,-4.077875953812315,2.7805932266865683,-2.2073847307177497,7.885984040094727,-1.1208115164282957,-2.5895278139504674,10.932650883555473,4.166149069014098,-6.689646222892961,6.7157051843072555,-7.334493006363633,-5.655239096887034,1.1879019923136716,-2.6643733234037223,13.736280573362688,-7.367750453634639,-2.290923454267562,-5.0119072964670925,-4.494424964728516,-2.6452994797488945,-4.956361625820145,-5.562561067211573,4.280202891707671,4.578055924529749,-0.8007872864770388,-1.060390759298504,-4.643441451356756,3.620727964844323,-0.8247757464328654,0.7127602691193791,-2.769600864291238,-4.18615878681114,1.7358690448100853,-0.6110561895051234,1.3108727511859188,-7.084821105069761,4.197512736707978,-11.597114213846945,-3.6534904915831876,-6.739572132356892,-4.765163719415201,-4.039064846433299,-6.303229764754625,-7.252448394353134,-4.382133808368722,1.581909664220452,-6.2882259644511,2.634275098341138,-5.039209816730483,-2.1623484034772247,-4.364449082114025,-4.531935581843515,-2.446656054302471,-2.9989926661538804,-3.185132523566902,0.602627236488083,-4.046308645202665,2.1728273099669146,-6.090382298871831,1.0761479780722765,0.4730444071609577,-4.099647007051241,7.4369410081031155,3.6693855048963204,-1.3478703024181913,8.271415828486603,-5.255267613892611,-1.009373028799012,-4.33008657454272,6.04664888594749,-0.15672275251265455,-4.823953324789824,-1.3791347045294733,-1.3134184558695448,0.6080613877097495,-5.358676934297702,-6.82920952665955,-6.339579410927132,2.5724824571445897,-7.640645270462462,-1.0725225717657434,0.6432558081220451,-1.2596470741441306,-5.83880267737433,-1.5862577132688167,-0.8872395081798539,-4.4922683007608235,0.13308494396308274,-5.249797323197335,-2.0644284056731923,-5.854281493277867,-7.96382755657146,-3.438953619608253,1.6832671496556966,-1.9789494933200436,-3.2866096493456785,-5.715475380420449,0.4796764870578232,-2.51621155842707,-2.412678754378382,0.02381010396040884,0.5419392953182897,-3.7895439663894592,4.568272211973931,-6.5539899453734325,-2.082351329413298,-5.734219942668908,-1.3249012264880402,-4.206934658997283,1.2625605425304278,-3.811795271198872,-2.442438309547392,3.5608582709468126,5.671107630417446,-7.555535855836869,-7.394253710945851,-6.392751874564321,1.0466238142924915,-1.383345564477095,-4.102589177772877,-5.780682408116159,-0.17442968993238106,-3.025571271539855,7.800126966483199,-5.453227692333152,-6.35759975982044,1.7533155931428854,-5.145271986117661,-8.058712511033187,3.0203494365697154,-1.671840853335396,-3.2726898910997537,-1.1486800519161389,-8.022844978648262,-3.004501653818883,-5.418314122314132,-8.039241707632986,-0.5330001815878055,-1.4900020847978028,-1.5880317004749083,-10.301408608083396,-5.174667152253388,-2.607224585913124,-6.92715701757081,-7.594387531349497,15.749670608256443,-0.721626853101937,-3.2977353648871586,-1.9977917585575107,-4.445114523699442,12.915213218340767,-2.747156001850021,-5.5263650019846375,5.751606794078287,-4.250676163340475,10.088660337865807,3.5627409838185238,-5.700310115032709,-2.915599450714606,-4.967518461254957,1.2377441036201506,1.4794790436135594,1.398171847200849,2.978630069709642,-3.4473582155514837,-1.6053986568111125,-4.717789814772935,7.321803558446026,-0.4923583632303599,-7.700630855797619,-2.0771284439788333,-7.708969859935707,-0.17928792828322837,4.7296067436838145,-8.685530940679607,-0.4032281578126979,1.7495401617518465,-6.7571010558231555,2.317970327860483,-8.644486087104076,5.338432304823243,1.2218292783931195,-1.5584642673973697,-2.7899618263318695,-8.172338244592936,-2.8063469429648964,-8.861808926974,-2.714122481746155,-2.5593462892902874,4.369757401160544,-8.28102178198358,-3.9946740697174543,1.0163838221666424,-10.114360802024109,-1.0261034532095572,5.061823924849186,-6.58920396126958,-2.3662050479435064,1.7472651307760834,-3.343755980000948,-4.176813008514966,-2.0464841537353196,-5.34002548799022,2.199592895772345,-3.6961517690326793,6.670636826787337,-1.136721805671953,-3.697438043398512,-1.764554572967952,7.337391540213098,4.2801459363140095,-0.19023460863975009,1.2273749667049987,-6.047777686596257,1.630258385027587,-6.017103488854699,-0.07303191820909735,1.0476213084484414,-1.4160111329784388,-6.3281980270862,9.65326318369022,-4.595277970539657,-7.023469917365547,-7.203299667489939,7.374140804423409,0.97402628235798,-8.12582228971617,-6.6824327239271,8.83466425707479,5.711431305315464,4.293089046325948,-1.5778482923166959,1.7213528754663416,-10.83865369060343,-5.493776751083587,-8.244233618006154,-6.11020591723043,2.0053301247311768,7.459485729136413,-1.3280878730847818,-6.220287984977236,-4.146842366694133,-6.265715458579956,-8.342182964881543,-3.682686270405869,4.789130377273522,-3.452946256364464,9.836921077621728,4.047210032837562,-1.5485367459904027,-1.9065262963913072,-4.819339421798152,1.519006100767103,8.248775332127119,0.654252195609795,2.563333375799732,-1.4840347571631842,-6.582677130324196,-3.304134733051552,-8.838422962148844,-4.560934617193783,-5.38367501539938,8.1520940415988,-2.8951855953481886,12.88652129007724,-6.968695862252857],\"yaxis\":\"y\",\"type\":\"scattergl\"},{\"hovertemplate\":\"color=0\\u003cbr\\u003ex=%{x}\\u003cbr\\u003ey=%{y}\\u003cextra\\u003e\\u003c\\u002fextra\\u003e\",\"legendgroup\":\"0\",\"marker\":{\"color\":\"#FF6692\",\"symbol\":\"circle\"},\"mode\":\"markers\",\"name\":\"0\",\"showlegend\":true,\"x\":[8.584200542456088,-1.3813907342900358,20.00716228673853,16.908906683373445,7.3301750109919,5.921231433593503,18.939630203761094,21.252477887956545,8.745905140080815,17.610863790450637,3.5293556864867575,8.245943115601815,3.2581521104033415,5.429363120464885,17.52273185346247,16.406375382451454,0.11815705839224036,-0.10086099940048843,2.915521928249897,12.395587564979358,1.892672244476339,16.447955045629694,6.1649121553915105,10.502462691047867,15.624360972334316,13.46081634264749,9.095389866948144,5.554617669804802,7.452412423571939,12.055611328429386,14.899488883404203,16.653141290880306,17.149726859085735,8.916067247599802,13.382525118259139,15.967056300259204,6.734555681415212,2.358247024177903,17.079664462776268,8.953669691535696,12.739440302519588,9.507215364864857,4.664715101913295,20.912562013923633,13.135918585552547,14.691736829746304,18.617020590654157,4.448672832890512,24.112855581280634,12.999377834859494,11.413600881869213,3.5330309722112347,13.643078419394262,15.21472546929073,15.017346642583082,7.376278416750967,1.9207222210204828,13.402934847477567,26.820320401820755,10.242510410442542,2.0629465157164844,8.67237905973938,9.839799610786805,5.8332834568336365,15.036005434536454,13.019113025646888,10.009341946460815,17.4776337157934,26.73276980704225,21.276485036241702,16.857178678371785,10.54336774987687,10.517585759507812,10.906265638481353,11.028431918497855,-0.9970046668257154,15.231385997088193,11.577668666895882,-3.273865616536323,12.383868348409036,16.131834632402775,8.179897796693595,18.249720847847616,15.2062024043754,10.585895963161894,13.21015271467175,6.61908940622841,6.4453201355905625,20.469915785611867,7.595631912538925,9.44727481522896,12.278039648053262,7.351813593629255,11.455337304364669,4.6419257377020635,14.53522806629119,-0.2940832982179147,10.189373098261727,9.084305431243322,9.54739267496878,9.135500503067938,10.200608305608272,16.793877614221273,16.456888261358095,3.234815466917379,9.011473732725179,16.768549696498777,3.8479041054501026,21.005464096025737,16.47794346688038,24.83222122939596,11.868654813244001,13.14888710589259,9.832534885123817,20.620744045806045,5.025229279103776,5.609382757206762,7.522368039989093,16.498316632028082,13.845801588608216,14.158700258778104,13.10658031046229,15.948978105539778,2.7523359351366823,22.903534601620077,16.25579379509456,10.782009880248596,11.361273083134838,16.99264606830575,11.873432819486284,-0.2818801584551269,25.2502561435273,0.9437692742955707,2.776416181737581,17.129112086800788,5.071901202370359,8.494373001767498,15.081988413797992,6.441498173367979,15.982169417941318,17.642090847236084,16.498177237398647,10.841707386626224,20.013536275271665,1.7274789540345152,0.8747677500177563,4.0739432140827105,-3.6782417795070885,7.252298488914168,11.527039918641615,14.455581423716895,7.070465215193325,11.103953115036594,9.179051963499344,6.822210520218606,2.813156149241761,4.794231003763474,6.21220157563354,20.072771783749683,9.471466165269971,3.9253935752313307,20.49227811613184,2.531987410669107,10.002996324224831,15.253243946248615,6.097058343557251,7.073808457175687,17.76846604706333,5.8868760301823375,17.175564575650164,14.144874226023758,19.225104748872244,11.443551241680876,7.149495851646906,5.74799524916004,12.254308468756786,19.67965540711194,-3.2202482610599406,17.104035070506942,17.64110719016403,10.233106341484111,6.003367084237604,-2.62791627568088,13.287735669677069,5.408046793839588,11.153039534593585,3.683789625137129,6.4058356988475715,10.460940833102503,13.187477747048906,8.39079563538603,18.246917460693073,7.457275098019303,8.030557033864843,3.993126807426966,2.3222570636254822,8.99919276604382,18.139122653029144,22.628450190091158,11.991334521091824,14.082841981431708,5.368664035445716,-0.6320192942087431,6.408637961592021,2.8164723717509186,-1.398596352734974,-0.9153401502213959,21.40305239463718,-0.15765485081351524,18.571742809181707,16.258205680406185,11.627132393548042,9.782729798283366,12.931349534872478,-2.859068361129514,10.027553290912984,11.793841861569195,16.148175826543078,7.313068988688503,9.19632391558676,8.44036541135221,4.1748176038042555,16.10752695613594,20.401353001617085,18.491095995921675,1.8712276080288714,2.789827798534186,12.69564136664004,12.981992918164181,23.116088584825224,7.5320259186921685,27.72351237318593,10.857963628366374,4.98559801049884,18.59433778979894,17.81373436085636,9.310692507355038,12.846929351360538,18.875670139039155,13.725356605910084,2.3380089873718313,7.120504217723542,11.803664520054888,2.3152398434361228,22.99028168344488,10.230881954540418,5.952770819867292,14.843326128100863,14.949705398594357,9.924841240694713,6.423311430755012,10.32657925482227,6.385975168384527,0.032578419186703074,5.938486775094161,7.165396964548848,8.211734932472412,13.121899143006132,12.022706280224911,19.031724477619054,15.163791970768028,15.15346735041703,6.819438190984395,5.648963570992114,14.85686950297242,12.877131817976062,27.886477550944342,14.095272549234874,8.846070985794885,17.022980849491063,5.17540092002976,17.79488328626555,4.763434229104677,18.620988249090477,12.364393172097326,10.742870187143765,9.628392447795838,11.467423396899843,7.705495765020642,7.090464953578214,6.127933133664132,15.490834433596518,23.06495492042732,16.419821276471303,3.943009091448635,8.560590585172873,7.655377917443659,6.091261555772086,15.387019747253158,19.159973500183497,8.800402660984695,5.45606805806943,10.247424585779173,13.318785847084433,10.969713008204959,3.7931265352909698,9.072438582806374,20.070461274205048,10.802134746483718,4.406297484948317,21.582116549049328,17.265754231186868,6.279710815652362,14.441576674884532,4.730679602677078,-1.0615410884309184,-2.6612475304906966,11.830778727322363,4.327871593939184,8.281568798341144,0.3160490538443057,2.617800793733007,23.41928367495706,-1.7052277325943777,12.567491564144001,19.429693313094607,9.204656323015593,5.943893990554873,18.333771141538467,9.970813485305895,1.9418129940061788,9.269672289878121,12.280620066191032,1.1539002800190865,16.925460035820468,4.7109025733063286,18.19666941148875,20.635285972742825,4.762930760453885,24.9407850076417,7.133405582267803,19.324871322461487,23.345210524964077,9.487911285465973,-0.4908590118244782,8.709263735440844,16.384341532492737,13.160248506225424,10.569879170716732,10.52612492786056,21.975630258386534,8.73637781804239,13.676422384679617,14.728217148130259,-0.30983877006413324,1.6540046501878327,7.356697841597096,26.00555330403556,10.547706053516396,8.249844216762424,11.138668492587685,9.420737981017986,13.019286284968175,21.062379807609144,3.9029648871145026,3.0137620552223945,11.113132189057858,13.684307102572161,9.521007177401525,11.972984302485429,9.596874443604825,12.793287480717419,16.09971728145543,7.630327906753128,14.76880790643374,2.995207119286881,16.582565869860822,28.80543111996274,7.533277864105603,23.545454052203258,25.99216126895909,1.3110517505189767,19.183840184398008,9.583308528027434,12.686617609900011,22.9260892338144,7.735989133823343,16.381898705838307,10.71413818418384,2.2719046322208305,8.3806981951093,26.001240017763696,3.685439736405843,13.38571023842326,11.8836026825411,11.190927850246949,-5.648607410602816,22.852942832157876,6.829014261700842,14.074749728655169,10.222121739036643,10.962675676653252,16.685654667666977,6.103455115995697,15.73978570056491,8.12902642443212,3.5475841403008412,6.171881040478915,11.423228905254266,17.87420097708427,10.899040438674541,4.1174845261111015,8.852513351337997,12.086227335756488,11.178123169050812,20.365045430590964,23.363419890557942],\"xaxis\":\"x\",\"y\":[4.75664620823137,-2.138934745857895,-9.878158829163148,-1.0708625153158602,3.770074041076065,-4.164383235837811,7.28028879586577,3.5797813357091117,-4.244438203123628,5.188592327065682,1.147140508582272,-7.277134061688457,-4.480231621384258,-1.229518390372165,0.1814962406352531,0.8512012464630909,-4.848012597216837,-6.44333141365364,-7.164319753676352,-9.254505943997195,-5.237498985200369,-1.2624468405836513,3.8648262537989164,-1.7599581821059254,-11.863174092040698,-2.487793293108355,-4.035956798725607,-7.291030588227794,3.2731187858073687,-5.945632581111378,8.110511444315765,4.609112038752513,-2.5373148392018274,-6.5971203372351015,-4.095288565471184,4.52587369322724,2.3751539180755357,2.8502505624701637,-4.772317626668795,-7.0881044157376625,1.7339795416689388,-8.719705704066065,-1.4745245332334236,4.643940568933187,5.5218465652076905,5.663896987848717,0.006388812651576499,-3.756459696557516,1.0765666655582424,3.68011400139091,6.603398381936203,-2.2230447192154936,9.756237671888162,5.287881939820741,0.9727359981685384,-4.5973736437660495,-3.6044952901360237,-7.56765497689738,5.189778054469773,2.9147435217222566,-6.823753980352897,-4.766979617672339,4.426263989256478,-4.236521888352354,-9.992967605396446,-3.468406910745505,-7.961295218381174,7.021960001161574,4.2931046515844145,4.733000860430419,-5.000833622374128,3.201235479228721,1.0391488998194678,-6.48902575170205,0.5975457951711421,-1.3151135730293193,5.307802191715135,-0.9671905852174894,-1.9015322097498515,-6.427858195076432,7.966893972754274,-2.797409287319841,-4.981883594131893,-3.883269634438451,-1.912552624589717,7.609428535860834,-4.5770251393426244,1.367195038450403,-2.182740689771609,-1.754266545235482,3.0154692858858114,3.4015733947687528,-7.083191426366038,2.242947153928178,-1.5103638198808131,-2.3068225977587935,-2.513353240627101,-6.459734701327011,0.9838582639746736,-5.2769198244868,2.7059633855553886,-2.983573151459384,-2.325968086452304,-5.3621864040532214,3.528422363135287,-4.761053724669155,-6.978947924027486,2.6904565387326853,0.32729884015224475,-5.394442600496659,7.4323279708897285,-1.2823190468476355,-4.634035705902082,-3.9601285147987917,2.053261500265946,5.571185547963597,-5.223823538686559,-6.887843284581203,-5.2428588371946265,0.2462658789053368,4.282047631037476,-1.8743288295808629,-1.834573411729842,-4.069620707379429,0.8924549863321034,-2.1956086609233525,4.327820382607983,-7.390048115259955,0.3424079502110009,-1.2983711068682375,-2.8936098927302853,-5.381920181760039,1.5341654219204506,-5.747023635647522,-5.794090636420259,-6.189516491162499,-8.030427813090734,-1.8357734198792883,-4.406901717836499,6.740418703504287,-6.688919084155949,-7.537193876027024,-3.9923183727878753,13.480675889136348,3.9760060782303768,-0.3189485986424128,-6.17396085793983,-4.275764303734853,-4.590098272035904,-3.8702698212945874,-7.464306040786081,-8.109208749524198,-6.5691551955999845,-3.6680516257778715,-7.666213608687361,-1.1953516760385519,3.9365938473231212,3.687352077634572,-3.5435991508424043,3.8856749034906066,-7.139227240464133,-6.952154044334165,-7.774986830043118,-0.5145089942557328,4.665896856529414,-6.419878437499366,-8.27930668159136,-0.9521526039528573,-4.312460561532046,-4.171293020449366,-3.269783137131205,1.6005800816493927,-2.3025961617377675,-7.699664250680172,-0.03130102694583188,-2.8713810036446406,13.321247778534136,-0.6222745762774796,-2.5138623385906187,10.884354072284383,-6.621438825256727,5.168236707625003,2.9508899181585413,-3.158443754813139,7.061439941357736,-11.785469852547957,0.6486158130942696,1.346471853336869,-8.163514938203484,-2.1000550085471783,1.5623313564450054,3.976416309664322,-5.167108148450157,-8.165214352141913,-4.565502795648908,-3.825435583316249,-0.5494732636435052,5.641219249803083,3.012979078468975,4.152523443973907,-6.292611168842731,-8.072828291248301,-1.6690047603660438,-2.3175609128788053,-0.44900849595999676,-4.654094384836502,0.4469676748182852,-0.17246607915239628,-0.3426511643756242,-9.886570357931237,-9.17246067643635,8.427192568458615,7.262333152536249,-7.303648791095028,-1.7194492402848585,-3.601906590210362,2.7201113764400935,-10.003554515470325,-8.94180627235569,-0.5583570637061754,-10.473595230033276,-2.369297927356392,10.607552944047706,8.152337862605382,-0.9280591930841198,-1.6660791789750111,-2.071772078060651,-3.8270711514273295,-7.279030663005604,6.651666416813371,-1.9937112327928252,4.46409930386562,-0.12463570574767072,-0.7297856036832335,-3.3891536778661235,-8.92105131883288,4.155933551302564,-5.912316083949099,6.775899706516621,-2.2055036818759373,-0.5242559449268194,5.149498690606289,-0.5934332841562687,0.6672517872508161,-1.9171036531435899,3.233537420804722,-0.40623970499772266,2.6961190909263384,5.550131055507806,-8.425465934525926,3.9030444708099035,-0.5888967271658584,7.387565334070634,0.45737256135148685,-6.25916926937924,-2.305208866579763,-7.680815378893471,5.945580780243233,8.924184122316891,0.6050016950128357,-1.7251644912009811,4.557392924619522,1.7294920368148294,-8.841140161070296,-1.691290161261858,6.1745682855292126,5.440137172016606,-9.292284076290946,-2.0120748637882304,-1.9372294372193832,-5.254407532536512,-1.703390320359423,-0.6535904795589154,-4.3782426922982856,10.44181131888529,-7.645268620644194,-12.230628789466012,4.723232249100351,-4.423883415560892,-1.9219523482994634,-1.8562686784342215,-1.4252255215043008,7.267054461023556,-5.75093148537255,-2.3824310565347786,0.6943969646298962,-2.8395939369156187,-3.5211026911649688,-0.8966166596992945,6.162870161986812,1.149313269182264,-1.6426643364666635,-5.292166426904735,-4.130144573449237,-4.735102161911638,4.064011681720999,3.4149050401288754,-1.2549595841947596,-2.198373159516955,1.1454703960642156,8.865051675777536,-3.5602171500149056,-5.6813903431103965,2.953887735754639,-0.014866436342834693,-4.407673325003182,-2.7002113169681374,2.5518535018670616,-2.446367664838945,-5.372064981680587,-1.0925778191659425,-5.085210871455023,2.6128171878784925,3.4075023516504874,-6.485196893433279,7.428307394939527,-6.879479744087244,-9.336687858084955,4.810182756062572,6.078426699815605,4.095264771175505,0.3013646173806291,1.3590545430611443,-0.3745264427252769,-5.3935069784613265,-2.5136027774427743,0.08479776606494793,8.93729966156432,-0.7212677974064143,-6.029955350597837,-8.228432428444544,6.611321348637495,7.062371502795216,5.9578434724797695,-3.1522359792198427,-8.292841600748547,-3.3671489242147445,-11.998748562607396,-4.433323453609935,2.0956490550531206,6.024645134764199,-4.643583867751148,-1.9341579233116306,-7.404797057137933,0.33723896589630364,-4.854905160578756,-0.39468899409200636,5.063471029293344,1.5132194917546156,-2.780133423716857,-0.702326571287562,-6.86668851150953,2.688036972923928,-0.7663077855052747,-7.736320446416791,-2.483576602396268,-5.727773637514157,12.098944872919274,-9.712063506807102,-4.4044350143609385,-8.288805729421535,-5.291245830488552,6.882890737092168,-0.44417763423166345,1.48998995207669,-8.098959646142442,6.628322334835337,0.20632135653273537,1.9512499645669372,-2.7055000926166577,7.43647369924365,-2.106588285613108,5.166139719847046,-3.4908043757766545,-9.541534001057714,7.796353766007351,-0.563642100447693,5.238018778885529,-9.130526738093169,0.080423330091938,-6.40269293967195,-1.0765821106097984,-4.072551750585419,9.050547709211282,7.68221785527861,-2.3968215552474494,-2.431531029579035,-0.9477914636326238,2.843139496585419,-1.3668146277363458,0.8875031545497368,4.338952045448414,4.246052401197266,-3.9769637637294277,-0.03795096957537186,-0.825112416972896,-0.9227419652961616,0.5550543211195015,0.48433006569703546,-2.795479227988004,-2.6859443161884955,-3.4065872479221255,-7.260344005973116,1.0580926329864102,-0.13007389663329205,10.997205699131403,5.868860310708886],\"yaxis\":\"y\",\"type\":\"scattergl\"},{\"hovertemplate\":\"color=3\\u003cbr\\u003ex=%{x}\\u003cbr\\u003ey=%{y}\\u003cextra\\u003e\\u003c\\u002fextra\\u003e\",\"legendgroup\":\"3\",\"marker\":{\"color\":\"#B6E880\",\"symbol\":\"circle\"},\"mode\":\"markers\",\"name\":\"3\",\"showlegend\":true,\"x\":[6.61102062883929,-3.6954905189190175,3.6385020322281574,-4.255076253972223,2.953281857485223,-1.8769479282363852,3.0910420313763627,-7.920949588013549,-3.908361273606619,0.9066588358889358,-2.1285402904842687,3.43737891128716,-5.901782176909046,-4.3792288072095245,-2.8527121481295454,0.042380865889924596,-3.613378699927251,-0.16013366249221267,-4.020809286416669,-6.144198689167487,-5.838256740562775,0.8663513047714303,13.942909508743472,-3.27839498342731,-4.2259857140562636,0.4960417495378942,2.511697374747475,8.815375044926835,8.292360287845295,-1.576054291933862,0.7403852133980467,0.5738152562106773,-4.223132532593474,6.047915702377034,-1.4493621902003269,8.421221235510135,1.722001579803145,1.2560481587691223,-0.8780121691192861,4.912608963895238,6.566139805450075,-1.675100139729484,6.94220475178868,-0.3569954446054012,-2.8915707622096343,3.99408529068013,-5.32654628526441,1.8478931485021317,7.834190247704665,3.1664867202676215,-5.511628740300742,8.936167485927129,-2.3317837945737145,-5.487184074153513,1.0183943351059104,-3.017970565382904,-1.9313681009403674,-3.3572172593663994,-0.02647234401144001,-2.4973117309968225,4.467986422459767,1.9924456224534048,-1.0476236395680856,-0.004619781761369061,11.596810669183762,-0.4100357298670986,-0.8670956211371545,-0.924546354622756,1.135535152546296,-1.1846749530185725,-2.4122736816519534,2.101573994781947,-0.6985546215465738,10.160738552202224,-3.4755810857413323,-0.14513960204946452,-0.19163014313072946,-5.675395370825972,-2.927379275690724,0.5655066164908101,1.9486246581722644,-0.9255376058852317,8.917307209799185,1.7312922967315694,2.040553161367726,5.997195926447294,1.2424612126696388,-6.276962046965498,4.100592210165055,5.433561218003734,8.392286794034087,1.5269069914295943,1.9386657725924459,5.246507914120993,3.470982401461254,-3.2358813935052777,0.5976990124377264,-6.801913172060886,-4.013895483857533,7.072772828249144,4.687513377942006,-2.2140712094379373,3.5500449876368676,-4.534472389801133,-4.94939235450594,-2.909708110186424,-0.11769053223180986,0.25931323767268477,0.28772963245690336,-4.464524469100781,-1.4710380454578063,5.224577008472449,1.6040292692230467,-2.1084428920333007,1.150490190315218,-0.21278465145091655,1.1320199205613484,7.607440384071532,0.44200392705368646,3.423632657392218,-4.576679484652968,-2.3118832092051234,-2.245692527573276,-4.8194479297493205,0.8410774557763367,-6.178996418495528,-2.5475196974397485,-2.4252345898847874,5.4946749017469285,2.488557999371701,-5.467269222430498,-3.0368025493378736,-2.381399449091843,1.0321258198020629,0.6593447054261212,-2.026313966624379,-1.1467798887318084,-1.1227979608878775,-2.1583338910978385,-6.2117125883287985,-1.3797241805880185,-4.6891642814500445,-3.3367459824092114,-0.6863510233283716,-7.053209822392066,-0.747391868372886,-4.086245032799793,-2.827592295609785,-3.25405469825629,6.263351931320588,-6.485417414184784,0.04868074409195024,-2.996353184117464,-3.7813402237787477,1.5570874309812486,6.361733954109231,-4.721187089528576,0.1956440734701387,-0.56703078332446,10.45158110244942,1.5504006499441594,6.615836336646922,-2.367187113415851,10.365778947826719,0.429515123174117,-2.4672896471612544,-2.5922703654419816,0.6903210674116972,9.199014479253341,-0.5804302162009678,-3.144483224244462,0.7245324163905954,1.814936824758572,-1.7549376707447684,-3.872604976211829,-5.298160689841522,-5.115424531278363,0.48017606959965176,3.1754621917332058,-0.3786919200247191,7.240036821056642,0.08412662194106989,0.6859622700358156,-1.3714469746068416,0.4457524460832506,1.893165029685953,-3.3784101223530305,1.8948955132601504,8.845291909373799,-1.7718332667604773,-2.6194198158780995,1.3038632712364606,4.145940411624453,-3.2783215875203653,0.924449440237277,-4.208238055175704,-4.423688260394202,2.004309128062393,-4.123422084542963,6.166205511122268,-1.4264160869994742,-6.999987279453635,-3.0786094246892572,-5.819067051193214,-3.5162993454548177,0.22774680730492475,8.272026655233201,8.470620625083011,-5.027180711588038,5.25431170255402,2.330076932714259,0.41399423998808144,-1.7939820677936162,-5.083363040643773,0.49979802572019405,-1.8928888442787584,-1.3591899590547882,0.15102772445875526,4.207560702204366,0.35411707196898656,0.9989103382207,-4.392571848220504,2.9063924845583657,-4.23481161197928,-2.553699738428898,2.424054596483473,0.36648548179746965,6.1987727993748285,1.810579855721153,-4.832906919443011,-1.5144680733789413,5.606465004196139,-0.8666116065693963,-2.538840539218893,5.0518800184947255,1.0460566247547134,4.702548254310566,-2.111473464462448,3.3748517319610816,-1.1415687006152422,0.2490243711187291,2.8008577439173994,-0.2875094567794223,-6.202864295557566,0.04792675943809351,4.936390379198087,8.920170875567564,-1.9269852298415568,-3.3580776254734976,-3.6827481217032627,-2.9511303327627427,2.7211774431475604,-5.134873631513269,-4.268071501652631,13.96149106006234,-0.49817008754500747,-3.317162916225068,-1.6404261828423177,-6.5384654603814845,-4.769928140631946,-3.9093220022262587,-0.5237913828751875,3.0104378474341944,-6.728745792173054,-0.8589395593389081,2.2946462229876117,-0.7341155814834688,-4.834857748389756,-3.090666911473967,4.9276057103846576,-4.45078027225321,-5.338027045598864,1.4670252498455507,0.5837525652401839,-3.7848800471900583,-6.471593297738392,-1.761023990562807,-5.159995887549304,0.76692471798297,-5.092326200538937,-1.1596258408736488,8.294266204329801,-2.014930145727075,8.970917241140812,-1.293939425611974,1.7255332712038836,0.7801062507405778,2.4304992398136425,2.853049449220737,-0.29186166156712456,0.6777354269976816,-4.9671197949061785,-1.1438691772878904,-2.262729058000179,-0.6299827734783734,-1.662051071141639,-1.4599366456306928,-3.00948403013339,-2.92246038826211,1.4984311436780973,-5.065785893921166,3.1599892933169813,-4.3398318992612985,6.70051193979939,1.107241848106874,-0.22532345411766513,7.461510296809934,-1.583068846193025,4.321669368528858,-1.673522509278804,1.5333636800774677,-3.8180499830276884,1.431753529713083,-4.105246803619295,0.2176408585720864,2.4905848834113744,-1.6432494584376043,7.3102787730066145,-0.017063266732657748,1.0859721995217089,0.32030859357306285,4.798685741168723,-0.6830149165160935,9.78533795416857,9.963621985862794,0.05075209113261217,-6.150166538242075,-0.711303275087555,-1.1322797941933196,3.452709491613268,5.2152658779256615,-2.80413201927129,-6.7179814237079505,-0.7296297343181015,1.5378643597649655,-1.0524038902135824,4.580886632722711,-6.375080897011871,2.5829616906166257,1.947433407221181,3.534404977272829,-0.3102183520468985,2.869612408239528,3.145409631151222,-4.656199602589797,1.4950427202259418,-4.53930951712405,0.19453017208443535,9.749722372510645,-4.699477174761976,0.6906725603867977,-2.693536465153398,4.810669461417451,6.110376724928192,3.436506313021662,6.322992477868457,2.4538036726774157,-6.8597022846883755,-3.3414724854846094,2.6069945378105825,-2.515648977070434,3.3570968109014867,8.735707663820477,0.03627163732705648,0.4882670915661586,-1.7474806425115197,0.018811733322013934,-2.708557276945428,6.636718048049908,-3.4705363253233443,12.98347329181908,2.6142806751241627,-1.3817656573653343,-1.0694531551828388,-6.521590969209318,1.159972152895748,2.0501697275516766,-1.3580621874746277,-1.4100870473961171,-1.5680743052382877,2.634843661188113,1.625154930453227,7.072807068816321,3.8984901416571023,-1.7825006578355307,-4.238363362258278,5.325765553966377,0.3586584461742651,0.2663740892897032,2.8194714375859657,-3.246164978503503,4.640352971720544,1.1984003027490486,0.4815432884152569,-2.1932524199556207,-2.369507111794533,2.9652416882304053,3.6983321982705126,6.425830846601241,2.1984482470002304,-0.7532436101873251,-5.495938951243126,2.1023325854229724,-6.321337687940451,-1.2022082514855827,-2.023018855584569],\"xaxis\":\"x\",\"y\":[-1.0424731689197402,5.22422903516124,0.3754901802249235,-0.5731402063045424,10.188800413757876,-0.43336354847078484,-10.19869689193739,3.630838563263075,6.924373444244649,-3.0039589476518347,-3.1202566249830803,5.193865393313168,-0.6972981758849213,1.3642830887899737,1.2235784294606042,15.888331059413595,2.561161564094831,-1.4462943931830499,1.822683521391322,-0.5347876796848606,0.25434351394106186,10.02324969581033,-0.6360761596488004,1.0499985010679995,-2.8244426726672347,-7.1691177165105096,-4.924577808843975,5.995837186838423,2.7366326254342996,0.4542499564069108,-2.548870425770884,2.6696743158265215,-3.1589655250937287,-0.3711996346118034,-3.915419144300809,-2.94365748543061,-4.794098719898564,-8.581654895410212,-0.9743343115002171,0.6700173610976825,-3.6901975487090715,-4.037169117278094,-2.0744597217101632,-2.2233184894420024,-4.1119105596073835,-0.8748059671258125,-0.20084074091443643,-13.905935564229853,-0.49396001022883995,-1.3091782289613023,7.678918578978943,11.968443004489306,5.878005668661278,-1.033740792758924,4.546378116075489,0.7881754431289566,-3.5558494010144237,-2.0218423736819906,4.159925241567669,5.037271772166947,-1.9781109488374264,-1.837384556553396,1.1895662024714577,1.8495530556339053,0.8192331079563018,-5.349138251243123,-2.3773446797689295,0.2887439973382132,-5.845894472844393,2.5470889316927496,-0.8656864517549557,3.1547308671848926,4.986534414196467,-9.814691570338422,-3.3850344986839125,-8.025208189609108,7.592749930069911,-2.0656676054012086,3.3878540653148996,-3.6723277222167274,2.0668786087703928,8.372239985091602,1.7846669593888838,-5.845497358818414,1.8358191412383449,-9.523526799463767,5.03767587249544,3.6088374529119616,-2.9761174871885325,-1.4713238873027528,5.64265165391698,-6.415862395848862,-10.175673819904464,-1.3695936338944465,8.19939445407415,-4.569780947291753,-4.691708369770924,0.8557778703404472,0.3364718300832251,1.610615429355084,3.700039398546827,-3.801505055786933,0.9988380880707092,-3.0827873628906883,-0.7677135976423206,-0.9776369088819071,2.961485793489011,-5.155650103376716,-1.7586444630376756,-1.55847153943817,0.8347315854916231,6.936467932764234,-9.659730898109242,-3.8718781460036094,-1.3379502212730485,4.735574663425685,1.318536456357837,-6.828402520713515,-9.332970968004695,-2.7378527575653986,-0.9349025361639862,4.179663640037769,-4.599753893426811,5.778041424406145,-2.260191251916531,-1.104755747815651,-0.02054995406078411,-5.0788051166259605,-0.5490384000523034,-3.3493379821289335,-3.1225022774525124,4.701225114458142,3.480400874552928,6.149003245635404,7.636530273809067,0.7933668946726197,0.8314418207786518,0.570742340602799,-3.9035929367000404,1.7628650440943514,-5.006767722019867,-1.99091478500109,1.3468170715309569,-3.4287260561408255,0.8105893303953341,-3.6776143773644807,6.035318228835564,-2.3331682324296614,-0.055915862036870226,-9.761311195147004,-0.537952855680245,2.489444591888297,-0.32671174569316147,3.7672398294694016,-0.37349234606312476,-1.2029750771089252,1.3631680072757124,-8.497456957926268,7.014889065680953,-7.8614184511916125,2.617357943255209,-3.584819066893894,11.359435283102957,-8.029786729296095,-1.956313917847933,3.306037970380571,-0.781101340233995,-1.8232536025098178,12.411365415628254,-3.8318751016251102,-0.6899826889524564,-8.419627146698986,-0.6301764086255578,2.4741674588224165,-4.2668066948315335,-2.4901763818510556,-1.9414169822490497,12.518136185875369,-5.368273880644612,1.5519244592973724,-3.1854271474093747,-11.604407527954674,-1.989764925232448,6.481842965169352,3.42553287371123,0.5805359318324291,-1.6953626890732907,-5.580612718066094,-2.4140452829867156,0.1120561441810999,-4.021014286094748,-8.032632480792948,-2.4063768626691684,-5.745814115641241,-3.741973585563718,3.2330769999203306,3.4283247919318782,-1.650810089290904,11.996232253361045,-9.29848032816427,5.529472971053656,3.010766294485549,-1.0051927982843178,1.2786655673772958,0.3226899672559379,-0.5527596505843924,-12.148204648700387,-6.43510853385709,-1.1724636549579877,2.158039224587482,10.123472769774809,-4.631884328306568,-6.594185257702751,-5.1203398652823875,1.991035726641846,-1.58914338958563,2.9587874161626244,8.11235794060428,-0.9046984956193894,12.611153385745661,-4.492631435236017,1.6730995153481598,10.031283790936248,-0.4214001170274701,9.636964588294855,2.4732783883162237,-2.9865178721590313,-3.333585862517062,0.9663250801520805,-2.110379414937898,-8.073794419044752,2.8618017899040007,-8.198021066691814,-2.53285852905316,6.735003298505589,-3.963927356334712,9.454801759201889,-2.7936555830213705,-8.560500189717192,5.811251391266697,1.4988695035722612,6.253981832054627,9.008900743385356,-2.0580508384017073,-5.324330199865505,-4.049228942692016,-9.376397818969865,-4.327665830331301,-3.6072481234917224,1.1140308660430924,6.208356159632966,8.100955014156801,-5.166953738705173,1.2657784482978138,-8.576523945499885,-6.839184722495633,0.14664115687592227,2.4862418467116454,-1.5984837836530832,-0.01816266709219903,4.719000704571486,3.700925244546622,-5.308853017411221,0.8562702868149195,-7.405991601539132,-6.28995178182855,-1.9634922302978999,-4.326572825753153,1.5431693479865225,-6.197559499301221,-2.774867148496655,1.5184308402943179,6.997805144557709,-0.6151264063109101,-0.34327591509886746,-5.321027568526091,-7.021287332758689,1.7466343362400136,-0.1835760547888398,0.06477013228137002,-2.2000542490121355,-9.033333892072804,-5.634445180406684,6.570568835169727,5.114346534363422,2.181631570753855,3.043325675428546,2.379111142769916,-1.3041171095218995,-3.4996435802761745,5.972424476944856,-1.2123880753585619,2.202140014344976,3.1912246526328736,-3.2822042274188825,-4.486992089307962,-6.960317802887104,1.804713519693257,1.6493845681577595,2.9497775790142633,-1.4820671582254492,-3.9446111193834557,-4.8684096124035765,12.625059333359458,-7.436750985604942,-0.2240903388800741,6.689319832981158,0.29377051163834206,-8.192295472534088,-8.400803657773743,1.619073296770827,2.183662691963901,4.718773739386249,-2.347931166476959,-6.59166117663583,1.037271585023443,7.949823791076533,-3.6462122719430954,7.593746469172346,3.551881471788316,7.062167442010907,-6.391907707247674,10.399766907251275,7.216171502629781,9.370766032374439,-3.689428599908951,-2.201331516544303,-3.9795093795574568,-8.290487346904182,-9.933842024810975,13.375231052375497,3.4456058398453835,4.035284212082477,-2.5346072142296334,-2.727008713332836,2.8107469905202525,-0.7178207690661278,1.5298651836620176,-3.223581362490988,1.9888343712911656,1.9751063965569478,6.661198461837927,-3.487545656171255,9.436862353928277,-3.313837717204777,-0.9502290503359149,0.16255020258527283,1.7068012051466759,3.463497134255559,-5.666700082551485,13.209515906349274,2.3788241593983734,-5.98645132404006,-7.623071252835467,-6.461591527962511,0.05383061099918028,-6.897305736402958,0.2043114371512632,-2.8955540149127255,-3.5481337245106945,0.5205347173737642,2.092928314056996,0.10307074404637857,-0.23783299569052432,-5.799329505496765,-1.5880525567413595,6.891575829740679,5.987106437551846,-2.2054684153424624,1.4377069950686951,-5.782692879000331,0.3105935103827438,-0.3022481852312885,-3.5417171776528265,-0.22234218918189314,3.5374057485498884,2.9427958619913333,-0.7150876290870318,-1.144339294402625,-0.9549200415408572,-6.235021962368787,3.138241133939309,-2.1737677668032016,7.623836087862686,1.639525069865226,-1.700354850082287,5.559782546190073,5.799116814484827,9.916228412462809,-2.2771757832391906,4.962181136652673,-5.493771332408224,-4.7779630051522775,4.227456864697029,1.5246872891638152,-3.2371423267643027,-2.618480178278768,10.741693746623465,-5.07324958692622,-2.34232408158482,-4.097557777939667,-2.291293191257243,6.884281450339292,-2.209206569128433,-7.8510280764419225,-2.78849009984013],\"yaxis\":\"y\",\"type\":\"scattergl\"},{\"hovertemplate\":\"color=4\\u003cbr\\u003ex=%{x}\\u003cbr\\u003ey=%{y}\\u003cextra\\u003e\\u003c\\u002fextra\\u003e\",\"legendgroup\":\"4\",\"marker\":{\"color\":\"#FF97FF\",\"symbol\":\"circle\"},\"mode\":\"markers\",\"name\":\"4\",\"showlegend\":true,\"x\":[1.6725789300506764,-5.0988799535434834,-2.5976510614883828,0.6029797849320828,1.9438443005665391,3.3548545736475663,-1.6695027474978104,-4.0830346290666775,3.9601430186200153,0.2054602781790669,-6.402307718410435,1.4531998385077018,4.802148671980961,11.694387223166556,-6.188693166795743,-4.753154983218931,12.288770462309076,3.0539439068817074,-2.171216136841158,-1.159161686549961,-4.695121801786193,-5.7262257483476935,-6.434710971955006,0.782687520279321,-4.271122579539653,-3.9366381922129374,-0.33338781003171314,-1.6311118737363093,5.260084956486518,-3.592538595604759,-4.806513727743241,-3.1263851771723203,5.729738895897042,8.07211575845791,0.9270019070991748,-1.594623820953554,-1.430180526329013,-6.056132576634928,-5.121767867748335,7.651226613935094,2.8653386525962983,-3.9036238550315354,9.439311678875715,2.1231293862694236,-4.638858604341985,-5.239249312526378,-5.168857554062521,-3.3494516912223866,-5.930657793064731,-2.0132643351790427,-5.058699089237168,-2.722669921964642,-2.515773000370687,2.953993360758747,-2.406602186961039,-5.7177059161854,0.46432457827960183,-0.7325371126683032,-4.004623264729228,-4.153826319104875,-4.027759189559398,2.1570648625348214,-1.1386108799004528,-6.480541259558259,1.6713755632347438,-1.6026330188556155,-2.4250249088825777,-4.325892767261344,-0.09864461715625991,3.6853465542880586,5.859910554155053,-4.523133393166748,-2.553043755530862,1.0679535730928562,1.320992232765415,0.5407489098614254,-5.099071353222455,-7.0235351601334415,-1.5625780609426907,1.345038113968658,0.4305327921586413,0.47467582783412854,1.211339764913653,-3.5615633072323596,-3.7254640378033286,3.9211262425798905,0.4880153395158186,0.8660189034329073,-4.278245556696828,5.599794438549323,-6.770395822426381,-3.8755338210385815,-5.469056893832923,3.666133026118463,-1.9155561777236045,1.6462123458737792,10.200466790784432,-4.6182932521551985,-4.439696833341518,-4.564199120547223,-6.74578744674095,-0.532266716503941,-1.7747640442296344,2.1478066437363257,5.279245720163157,-2.1368610383628766,-5.080465493690356,-1.873594956525264,-4.638934166978845,-3.015192815217362,-3.9072148680235403,-1.5000337171932,3.006698509229136,5.861876188539428,-6.321049269568507,-5.712947071917559,1.4604535224772393,-3.303588486710964,1.9119255430221316,-4.47988840433284,-7.482028368860713,-1.3183454327326418,2.1483884281550516,-3.8676267883709987,-3.485106379059931,-2.70147468970995,3.5140237158992202,-2.328042640047902,3.2851738423107353,3.9252564432800776,-3.2851764804439685,-3.6030703877730526,-5.0802645907722646,2.444961853963317,9.43168068956093,-3.593725113702792,7.762713528497877,-4.211239193633746,-3.821893439154806,-0.7537939564303231,-2.101801387961795,-1.872716617606986,-2.646281367307798,-3.771669262907002,-4.321151778587323,-4.233078778663147,-3.549496782379623,-1.8871549548457833,-1.329586091596817,-0.954982946875668,-3.0934136676267747,0.7341299006704742,-4.3915642311683385,4.1659834110385745,5.656996904821651,0.6309335897179105,-5.175408656937781,-4.316631321832211,-7.464340459112528,-2.9017364076005694,-0.7215172104807049,-1.8998742002412745,-6.1517243294707455,-1.4638531497926823,-5.852319153227981,-5.166551620603109,0.617333398053776,-1.3642546798487396,-0.506683928582822,-3.1854613958853237,-6.327460987927548,10.678914470370417,-2.6874570944125593,5.606385183753843,-3.585609198450062,2.2672312051335437,-2.3219632439954334,0.02720485175799329,-2.2308706253239348,-4.876458212313851,-0.3851453657463721,-7.3213044649585,-5.172973642246155,-4.30994763853191,-2.957771934229062,-1.204520100221145,6.061297314236617,-3.013757740302016,2.55596738219322,-3.5835033224082027,0.34366595672478717,-2.9654012357091712,0.9160347600408515,-3.135050638821664,-6.18480877373298,5.332148241037618,-2.284629810635708,-3.6237181878712765,-1.6382029244198861,1.3347652590248982,2.9701704561852678,12.936459902864671,-5.672756022941229,6.125847301567725,1.7144635800855266,2.5469867854606933,2.6560531647307726,1.2100339378312148,-4.169538373512361,3.6053498354536284,9.156880698897114,-4.825869371286893,-3.1072682401589113,-0.6274201054676348,-3.2175644199598867,-3.381231924772171,-1.610787278516642,-6.623664880605253,-5.66782172023846,-1.7396118163152554,-4.69870952236647,7.618954539665323,1.8261826237569982,0.8770306227247564,3.555698687380577,-0.68568646326324,-2.4092374080865713,3.2475340714190235,-3.176307470784954,3.548144135983318,-2.359195876688761,-1.013164055785855,5.69149181115228,3.239340163515592,3.432017908584955,6.069179272085344,-3.4484339984739387,-5.673173925169715,0.8496047397066239,1.9336546085284123,-1.43519629078788,-2.7766041892654507,-2.398122867129705,1.1462001346099209,7.759371172424751,3.887633066970372,4.911592371549432,-2.657024829980271,-5.6778443275867945,-7.214536485238242,0.14888046795461626,-2.2875526468821366,-2.50536529133212,0.006904137307344595,0.7450687173713643,8.535240784026476,-3.629064304631441,-1.0674732904131594,-1.6150914965607361,1.0100987590464576,1.999227756653363,-2.6023627794511968,-4.362762776809131,-2.8671435983241005,-1.4724046401714246,-4.767004970733144,1.0498914570203743,-2.193744505067621,-5.28995003038936,-1.7453531894432177,-2.3920247817193814,0.6151340308142813,-3.9954941554620187,-3.1458324791857897,-3.229147516300444,13.540520694227501,5.625444172950816,-3.710147235734313,-0.14926764828308514,-0.6071359201215139,-4.422788598753026,-4.6263559681708,-0.41474740072624067,-4.384325151948564,7.709129390395763,-6.72343924756142,-3.199269175248209,-0.9130958492970406,6.791913967892862,-0.7082607821197013,-5.471144079454635,-4.544920132762681,2.233501697295216,-2.1616538620910637,-4.476833407303822,-3.640295533120694,-3.750227170872091,0.06369548321317882,-5.832426136948096,3.1103984579670776,-3.582351566398804,-2.231125125544827,-0.9584811512565679,0.3294214860325682,-0.06034679392737835,-1.2677701204565597,8.765449996396697,-5.799465580695346,3.7847893984000036,-3.5630106531731385,-0.08804239300822939,-6.506166792082216,-1.658854359245662,-2.163013794588566,2.631261305036454,-0.37886769385820684,1.887911708306868,-5.17928964543973,-0.6981990266888682,-8.37938872754307,-6.473135382256233,1.0554909425453263,-2.8778361001908648,-0.7049736547894272,-6.227317290738519,7.325595140909474,9.823495921103795,-0.6325450755455485,-2.7763879271969705,-1.410393845496483,-2.4040107815870546,4.53985094437363,0.6364301018112015,-3.403774938847246,-5.763113797166234,-0.3994694103032758,-1.5665821660926555,-5.211332353072418,-3.773482975810738,-5.909555953145848,-4.762830416176826,-5.513733607061704,-0.9717666150816755,8.799170072224333,2.5526732053868195,-1.1791862358988225,-3.129237411575642,-3.7467861666022855,-2.5083340767172406,3.2018113115263915,-2.144806434623254,5.897729549536757,2.5843351296617727,-2.9009391080265066,-3.311668781962734,-2.757564173342252,5.217626669203386,-4.57584949598109,-3.829510371766589,6.00311615948068,11.935349498521328,-1.7084761035908154,0.3723479261238596,3.0475133534366177,-2.522573572330329,3.011736751573118,-3.5500131774370263,-2.0861618901140218,-3.037992884456395,-1.764341876385772,0.6267823931017947,0.8831222625038778,10.02138873174075,8.222622579799978,-3.326967695236125,-2.6090560131608127,-4.406089823672794,-1.7276773606964004,-1.6096597592979112,1.0250419279195444,-3.8147862049615644,-4.715009065095047,1.3169630116499476,-6.447957507548116,0.10517122899688776,11.711410668259076,-2.726649311787471,-4.580709706280379,-5.349450237362104,8.530165156545022,-2.0360928959665423],\"xaxis\":\"x\",\"y\":[0.9874729749865537,-0.2943355698331546,-2.145463577317532,1.4640575470001822,6.014076039003386,8.125285309852421,-1.9350198732019186,4.663835440250427,1.470338857104653,9.51606798862003,0.989962094821476,8.264001468920346,5.50261271663442,5.293757477476456,1.492814130543098,2.322863226050719,10.239753905810138,4.798791126706979,8.690434583754195,-3.4036381459499907,5.7755818234967915,2.7404898410887224,3.8924304431185215,2.8481699276054924,-1.9518053808143432,4.889636776720953,5.6230117259237105,3.4732769349334336,10.785656364785932,-3.19492591146701,4.80252377731351,-2.1784644761053005,4.793485964482866,12.51546789000469,11.759908250514748,1.4149855108337894,4.04259739549304,-0.5034188512255569,2.275957753088948,16.973030635182358,0.7419798724166139,3.5039141041127015,8.487455184893921,-4.344776399386222,2.5695894781110127,3.1461594225847596,-1.013871316711425,1.2532698401398423,-0.9250175950660874,0.6535598756424579,-1.5457029160694598,-1.7796680366704272,5.261245069531596,6.7637143314754455,-1.7221643949770287,3.3401025977293135,14.579557943394923,6.487833776627378,5.749166442333256,-4.05528430429664,0.8820695928245399,3.6027065038619552,-2.7792960903109116,-1.608709219255317,1.0323756442300365,3.6956938678430644,-2.404221338593099,5.107739489532929,0.48430541596328036,3.4610882279202264,-2.1377615183009975,7.934280383901283,4.749314950543811,-1.105475873488235,-0.8726172208398182,-0.26795387016423067,-0.21970343767619374,4.8898343586932835,0.6266405529524711,3.3273259015701697,0.9393337297406171,7.233763327920602,6.859564462208329,1.537462915976682,0.9237877671924597,1.3167062480722334,0.1108060881155763,4.250453075868487,5.154070284560421,-0.3962660296189814,-0.7000485209432793,-1.0794122794383383,3.346206655448507,8.777225854513073,3.264886750127869,2.5556222445427177,4.7135989211675735,0.1518241005669151,-1.3586678633300708,-2.0617966955415277,0.2921395178357471,11.886869920821184,-1.0118180842510993,2.4522244363409706,3.829757710869211,1.567705121244137,-0.7339378758621596,-1.972346992301295,0.9478171683339348,3.7511268243406373,5.574506891556726,2.5037316384318076,8.234771866922785,4.229521511312827,1.0411650110932789,3.075792068860189,2.5872752703203026,1.8656668960058433,2.6883645909314033,1.004682877243492,2.0457164271701416,3.7874465280959253,3.331546683703455,3.7261691547642886,-0.08066951819831888,5.689578275309106,11.99416856228509,3.7994876295630107,1.6396350235115833,3.3489063158161376,0.5158348383956156,3.8546617996028014,-2.5645085502937524,7.730114510285983,16.380971306184872,2.2230399282172697,2.9104392631352423,-4.014245157063758,3.9957366935931296,14.67589071246227,-2.570592474669999,2.871130492669918,-0.9435485090997519,0.5137075938952234,6.10754805188603,0.9671473970910147,-1.8024586637233417,7.4591493894318655,14.26986684603484,3.274998005898013,-2.9337143726562394,0.8418951356403607,2.3843644769795804,6.91467653455271,10.369137070993059,-1.3912711233618031,-2.304136579435875,1.651694595885735,1.8630509766299923,6.6220846956644674,-1.3522803192973485,-0.6628570362900363,4.450505164042171,7.001453216932933,1.0841908389298052,-2.54020678920053,8.851825039349839,-0.3483111024773147,8.669383345475646,8.212896946716922,-2.0117531099897876,9.064842708087387,-3.221535247496086,10.860447843553915,6.821979106872781,4.85364260311453,2.322393773028362,-0.3440017953029256,9.260015677682864,0.06368952914089605,-1.7506864820840848,-0.9165493899570845,-2.113960977196967,-2.763957086167456,4.588892398989709,1.7140126606331374,4.244824477347634,3.3442717805940694,6.770288500735255,8.051648477604418,-5.361160917376697,5.750651758164491,12.466774192648584,-2.4774711977229913,-1.5214641108586153,7.6009339447751545,-3.6184289283024573,-2.242990998554468,0.8885935111514944,3.710506854123113,3.4760538930254374,13.648874716678053,1.9316049097250496,6.687763287107602,8.769350374168232,-0.10088482030903112,6.232350846806304,0.6302666132406107,3.4247280068055845,6.241825457301585,4.219936967451645,3.111651290116057,-0.8481306727411122,4.595725947428382,8.899036923001438,4.441113038162748,-1.2182976699455137,0.6974158364995124,3.6602103650315185,1.509182963706647,-1.827353112903351,6.2034564582696445,-0.133164138782312,-0.008377368899139991,2.854911891107603,6.734265057105846,-2.1537573612088914,1.1647017442240668,-1.7732266822852563,-4.595951080051344,0.6910598345736435,3.5594419443046315,10.794680534070302,1.236942544227866,12.082113049822034,9.000614230287205,-3.6830242594835725,-1.2364405403633958,0.9067567117217565,0.45303088842891753,8.407113344317557,-1.8655677529476802,0.16452643698480218,1.757909093462343,8.846794620358196,11.657239774594387,9.348374974114064,0.36474059458463703,-3.0998736078314306,-0.7033640283424334,4.251092465937356,7.773282231045353,1.136660473652654,8.524151163886781,6.668071895531834,10.710027308760441,2.6386755580403536,6.23135673249849,4.020447477314871,9.360215256831555,-3.178286748615073,3.674705046813467,0.8336015350817838,1.2186371194752947,2.211688480684505,4.723632569036456,-0.3272618470333883,-3.0276779167115975,-2.177338559300098,-1.9849876677412406,-1.7174925298061292,1.7036968959047651,-2.371199098068671,8.446987408940386,8.237130495131272,-3.3552434759282135,8.02810552768557,4.946518835684253,2.0032278463471864,1.7350312305532947,-1.4960899243751242,-0.7025534910223101,2.897802832088486,0.15024366923068325,8.928452427016373,-0.12346003959978133,6.376806874614537,1.0649128027592218,9.955954098989835,-3.69031009351532,-0.032141617031089684,-1.4469127075862231,1.3480844792382092,7.207233957923886,7.974980844323382,-3.951406721764939,3.8391633077087968,4.283456661919134,-0.427282086993676,-0.4444422568206696,0.7576304388058047,1.2144206279541918,7.8025507054069845,-3.2298330911032935,-5.455723207048491,1.818260204705454,9.015950981325597,-0.023694673112232226,-7.2047438352183955,4.031259678589228,1.4746816704441816,-1.427193353534216,4.914656143743115,6.271257793117021,1.1738467470055833,1.3452766846125739,6.3469973242173765,4.681287339158276,5.232976314175499,0.6345193410539501,0.23528651561558636,11.490458808802657,2.439247290016963,8.820861167039606,1.1008315462780454,10.458062213626828,9.150080641142818,3.8373872261474253,-1.267894081682764,-0.49508589396852565,2.3602815866137936,-2.7931113994316275,2.4292363061817577,6.907666250504214,2.1199613923857927,5.611734972589784,2.600323896656094,-0.3517063404762037,4.953391126088254,1.2512238082751064,2.8124074582717276,0.9776291933234739,4.068027400741124,-5.094784803401211,1.7516295085782005,-2.098022327510635,4.95050174194748,1.9494177032120015,4.1409860877747455,4.613321419343867,0.7159819922591956,1.7123714965185601,4.678917159317495,4.333609840626305,3.412366816661092,0.9970874205229528,9.77970221915593,0.3030550131032278,3.545350952935328,11.945487007242065,8.234919394510067,6.202917402351048,-0.3192320971304265,17.844535854685798,-1.0841203262651296,10.08332801711341,-1.899565820532176,-0.44431135636754393,-4.252319176472141,5.556428174209741,6.4604991970306545,7.050956540793344,4.5957208202141295,12.76976765105376,2.153729837808217,0.7983389715926589,1.3913404432286636,-1.5630413515984725,9.149700943866161,0.08372421363225326,0.46234005602620015,0.9841671098162876,4.304093197796881,4.5634628072167835,2.299002487729419,2.8471655578016066,6.235737743183694,4.243863521478233,-1.6712750478417957,6.682797908302201,8.344858992763363],\"yaxis\":\"y\",\"type\":\"scattergl\"},{\"hovertemplate\":\"color=7\\u003cbr\\u003ex=%{x}\\u003cbr\\u003ey=%{y}\\u003cextra\\u003e\\u003c\\u002fextra\\u003e\",\"legendgroup\":\"7\",\"marker\":{\"color\":\"#FECB52\",\"symbol\":\"circle\"},\"mode\":\"markers\",\"name\":\"7\",\"showlegend\":true,\"x\":[-6.128856778149795,-0.07414851633676726,1.1898305112987464,-5.005674422350982,-6.727747410529803,-7.534025625566536,-5.492670858647117,-4.92744517682272,-6.358039736612712,-7.033836043771804,-5.275154798393932,-6.319503385107956,-6.524155827246447,8.665607197845578,-5.818707969855917,-0.29745593096531603,-5.701200137349747,-5.745996781349474,-0.9256671612104442,-3.9721422115547416,-3.200563761201381,-1.3828288965567788,1.213203790873254,-4.971397586765295,-7.8457895257713925,-7.821929907565398,-5.977686658397774,-5.265719855786867,-5.834878056820936,2.1366473142170506,4.4964803347402515,-6.621945284539108,-1.895164072694662,-7.2709820675998,3.433317525751488,-5.414769327511132,-3.6715412726821617,-6.231259881358708,-2.9521909860401254,-1.4798968180993857,-4.219212351285576,-1.891725392837018,-0.6788034325702405,-3.9461751455045304,-6.885569412808322,-3.8887142271633754,0.5141407762118935,-2.5626140214971445,0.19043837725767682,-1.3304523801264503,-7.355204147410825,-3.777137367293699,-6.471704346882642,-4.4491619640195195,-4.699401769107313,-7.2236239788373995,-5.605935415161294,-1.5498746995566943,-4.689203845016358,-6.7153714940205145,-5.689517070165851,-3.7733485051243134,-5.430982573526285,-3.3436519899763257,0.9977173204124155,-2.815397495063186,-5.656303221930668,-7.694366949428572,-7.034714441467743,-5.291720190039717,-7.285618446817304,-4.173906640861133,-6.603302386588352,-8.264036596327859,-6.856514244692497,-7.811227218198662,-1.3217865367371264,-2.4566176428850617,-6.180655567757364,-6.8088915517882596,-5.977105700803106,-7.152239308748787,-3.467716982516561,-5.449986640302268,-6.185450150578681,-3.98052796930589,-6.203853559496593,1.428307503520545,-2.179040470144102,-5.704899659030495,-6.68093185755857,2.6509198070893123,-2.531548468971306,-7.17375888505888,-7.674229712762547,-0.10536768665233587,-4.798732716349244,-5.957598367328999,-7.400024116354617,-2.117849561471417,-5.026395534825869,-0.6521511760811785,-5.9049905528599576,-4.87435979673021,-6.425167146452876,-2.921878554162127,-5.276281406363938,1.3594801086295054,-7.750385009576875,-4.51374139649355,-0.3817445405370033,-5.652536129422871,-3.064822505794017,-6.6343597398818765,-0.6963846875501308,-4.687766622709467,-7.425312640720167,-1.7588838667103388,-6.861771034291453,0.8933265154439375,-5.106998680335544,-6.004016727715637,-5.269806578013374,-7.726184474606241,-4.5974634137615435,-3.0937064804540855,-7.193811995319308,-0.04953106098833737,-2.429585732148765,-2.7296794077355897,-6.296489567019535,-4.801026298525452,-2.0329672732379964,-5.501407787626925,-7.140225867474425,-5.3315533026448,-5.01135650598523,-1.555474905498152,-4.386248460190621,-5.237879159771485,-2.31915699929158,-4.3695299078530585,-7.953648634323584,-4.97235412897109,1.884994229278201,-6.249335544773622,-2.559867847528969,0.3169042227806549,-6.656436665381253,-4.708867027275988,-6.830580273048776,-6.937713390715111,1.8244599444713854,-4.29305409003001,1.5337108516502123,-6.8823124595182925,-4.464556059529619,-7.093885899895612,-4.475825179228925,-3.8455366811306333,-4.7647233730055625,-1.2210174737515385,-1.9358061491214025,-7.234403288722741,-3.003159049648387,-5.653861247968266,-5.068980334833934,-6.8492123855629075,-5.708706871191133,-4.615118185998532,-6.7874999512738405,-5.27605597506567,-5.6759954988027985,-2.896517700599114,-6.693005592579371,-4.697905579960349,-3.014461230823815,-4.488247379236087,-5.214679880841363,-1.927365422497563,-5.158970234701608,-4.352428428820446,-4.071716015659404,-5.65713166978546,-1.445761841885774,-2.848185966467153,-4.8163788153204345,-4.511027981013669,-2.7929186631357905,-5.864202484194485,-6.57245045643387,6.788790002510246,-3.853478664344706,0.3385108748466267,-3.563133578395206,-6.708420120426488,-4.52856995553921,2.3808371692621626,-2.9412181904418664,-1.2299933850758253,0.42651101954039855,-5.914080779573171,-3.8299300832291,-7.393635937372623,-3.824750786021879,-6.650958048961081,-0.2235605864654128,-3.957713735109504,-5.319860726718341,2.456158788099785,-3.8958282577566727,-6.483261683662728,-7.15643243731163,4.073317744205666,-7.596343333048547,-4.376915512908978,-0.24878725403325327,-1.4335844661523602,0.30206153397091123,-4.790310395784418,-7.318701483115322,-7.279306357328317,-7.795473652703246,-4.769220695761636,-2.091609051654892,4.7966108803478855,-5.526146836930375,-0.36394564020026016,-3.6692933061043007,-6.065340166370512,-5.870234355071781,-6.03796648137356,-7.584825103726013,-4.955388370862402,3.557952350830684,0.6466401741244395,-7.360122031153573,-6.932774866708319,-5.577133315263483,-5.82495719833306,-6.998789635724556,-6.512342011996445,-7.7831059861943075,-6.534579450902994,0.8437395808501019,-3.517246543900993,-3.35635021455915,1.429025920241719,-5.097399416191595,-4.460793932608252,-5.148213539903636,-3.820432324843558,-4.348762644646098,-3.106668334540857,-6.2727514567654925,-1.4923715249469813,3.924244675324555,-0.39689600082056004,-0.8035196601843902,-7.9955551342552225,-7.52624216918481,-7.301492225320247,-4.930377332730238,3.7055740437074487,0.4243745357238226,-0.5270633340025317,-7.343823083662182,-3.4812049788886554,-2.290768270883509,-5.810465354274644,-7.202591815869829,-7.814126804760212,-6.830539044564912,-5.256210366421379,-5.294227978092904,-8.076034033743202,-4.513961871628361,-2.3280591583013237,-7.132823826462391,-5.357779785337738,-6.876672210769553,-6.1093559855508435,-6.214340331577428,-1.9647399447083713,-5.953791986120682,-4.786862943818513,-6.388396952865002,-5.6457320667314805,-3.8979337507217386,-2.410061102065769,-5.865924768861937,0.09560649322080143,-7.356639170319329,-3.881087471298439,-5.849508912620044,-3.466213509817174,-6.478850862656305,-2.3965835510312,-6.827548344000229,-6.7758191021770715,-0.547699641780373,-3.1110015060566045,6.40205622744167,-6.22816717089602,-6.525878417818349,-5.211649393732842,-6.7345186513982815,-3.410772478713567,-4.602978713117627,-2.6219192764939994,6.998980017818005,-6.3876022900087746,-3.9995618285055112,-4.199822362849238,-5.1405231736355255,-7.272179757213977,-6.971542692356964,-5.809217738488076,-4.8380313215806225,-3.7504963552330173,-3.126417301083234,-4.671455514521763,-0.7742466236219678,-5.453493156721384,-0.38402017851148024,-3.202427818309725,3.289367149329257,-5.81078046836141,-6.277306163883148,-6.488003057513845,-6.269260225749456,-6.787366056316812,-7.728386706838101,-5.44727155598937,-7.166937634990115,-5.32566449788046,-7.0581123140182696,-5.333785113718923,2.029505792187426,9.840235417030488,-7.580661999119852,-5.499258376661312,-6.651287539226867,-7.6097604651620445,-4.450645176771114,2.77841504793945,-7.006780035530903,-7.009574551336027,-6.6652290075058875,-5.788091560982544,-7.422597008033366,-5.678000758194162,-2.033227033935151,-0.1732399228429922,-5.618456428525273,-4.657769625719077,-7.215509308166721,-4.007357505020566,7.3291338297591535,-6.952498106976433,-1.3117051722934676,-3.078249097636658,-2.137951010648364,-6.302530605758658,-3.8237114599813986,-4.133387370070722,2.9979173480558523,-5.010419518797014,-4.971785569534358,-2.9758465089009762,-5.460295540380339,-3.612291753744927,-4.198508221526802,-6.424358177149854,-5.295435564012067,-1.4009421059084561,-3.388419866686868,-6.728218361357714,-6.831110354541751,-6.422664137795357,-5.6248881108078095,-7.3407493957363465,-6.682927306261782,-5.291377385420199,6.573647292074834,-6.511780455717596,-0.8358733705579641,-4.883453833805453,-4.242018847447295,-3.1768543764928556,-6.3750185351237585,-6.625703777007242,0.3227567765537579,-5.715878552832003,1.4122707436053326,-0.054614790397687366,0.00006460191516551152,-0.7117021710682476,5.158431326291571,-5.057912805796555,-7.390454083552605,-2.8876681875908776,-4.8877100710478985,-5.167210778341016,-7.0062478232023,-3.0339137754977146,-6.410533515314398,-0.23026125797264999,-4.241990342207543,-6.6100464013368585,-6.363952537600984,-3.149984036344853,4.407559112516641,-2.659078856437212,-2.881079374498581,-3.8075110355139925,3.009183110204381,-3.654100486161145,-2.8463110784515675,-6.532776080032004,-0.487812690834461,-5.738982643086276,-1.1059360047955422,-1.2265474618235226,-5.037658301680329,-6.876438632858662,0.26960081175137873,-7.376848026671432,-3.366798052180023],\"xaxis\":\"x\",\"y\":[2.242556448228329,15.46571231641153,13.798007677419081,2.470893523101986,4.777294756490541,2.9748448587224443,-4.01380768836919,-1.668981438613997,9.932217923099241,0.9406028544804642,-0.13650563067440097,3.535862613566047,3.17642081612823,9.655604814909076,6.1768021053514115,6.47279590176514,9.859502744523809,8.463053233937325,-3.9088575171601008,11.34539520998039,3.076408589053811,11.585486610877904,10.881288050019608,7.393258935825806,5.43726914544518,1.564761568863175,5.910483202577755,6.548135717323899,8.968389583364175,11.69479760346519,9.80007930856909,4.5703260672778585,9.674536242385848,-0.29180800601035084,10.646671963131036,12.273516462683014,5.697748955741609,6.553824095632174,-1.5519983291544621,0.3027906389808729,2.8697257786841988,0.8413659630360409,10.335948789078389,10.770518264069908,7.489138491304128,0.7835945701159354,12.049116732739375,16.08777501051114,4.459053783873947,15.59029461060182,0.05898195883029264,0.8047868149122286,5.936971185575901,5.0564962295011044,3.3265731111817325,-0.0930174593865805,-0.6900989385338623,6.297789863217659,7.977209808588067,5.745656678332893,5.904953050982081,-1.2202373869398069,8.84291673012923,8.521645820037591,10.000127726020821,18.030717963149613,2.165557657026929,0.3153554720559426,-0.5204962300097415,-1.4455722890671006,6.438100130535652,9.860941127780473,1.526045168013263,1.6787802689061926,-0.6731444067218076,1.16808583790135,19.04877222112354,3.5085131708263155,8.562089588130723,7.679689693930398,2.1623346572904336,2.240303143014745,5.491085318561525,1.9909821145475606,-0.01287519734007308,11.246238803675048,5.565324191286548,15.163530873973789,6.370161796892329,1.5655343694925283,6.711178585206588,21.249162812932934,16.658726000742487,0.31973991036581983,6.2380141813256476,8.495035712649816,3.4477828883375428,3.9324487186091748,2.76231429271088,-0.2022263738665631,-0.8526786233535198,5.9797682870922255,9.773099789902517,7.7300739418769995,7.132255854204119,4.843677975516831,5.601297777129193,12.017335122069888,2.8902896286077855,10.007112353409529,5.603624348844726,-1.1015172786707623,6.504388869352851,0.8756618626565567,6.077790762177506,-0.5531045274983629,1.0796077521190808,4.292621511983883,1.4678100952500555,1.0522423441627826,11.946112503563963,7.750109820410023,4.292491388761167,1.0568597146954717,10.991859401697255,11.154700649717377,0.39308316373158964,18.8131427312579,8.658339730648436,8.469938618498828,5.764935799742759,11.377193503464287,14.322434826581812,3.0736699641317666,5.071347853622317,0.7994428836731401,12.27381521404746,12.928234908966292,2.4189626365272363,3.9149036435309292,4.886028161270718,10.914578555240983,3.5130833990118253,9.91829068196191,3.4263246103593783,3.8105527507081134,11.477806078930191,1.0268212758921,10.070655821660242,8.99335885932226,10.908126389846549,2.6142303435893433,0.6253606798443495,0.9853207707011281,18.83922483547042,0.7213399167924662,2.187252953801263,2.8464438314559146,-1.0606164144381962,0.8945553757272718,4.6262806096810944,2.2392413361147767,6.484214007005003,1.1676358363011057,15.680468968221673,9.170345968178632,14.461721507898588,9.420527998974388,-3.531623602418573,18.133231142807862,7.643849522072764,-0.36612773033916773,6.856807144319972,9.480991444886678,6.9506742510386434,6.252097087822027,5.121273423570669,5.766564744701762,6.65087674981246,8.7055775362321,-3.1439840933783336,9.258326993707671,8.00077992220632,6.76982228888299,6.131970243851425,-2.161414580811596,-0.12312875462339352,18.074956238896785,9.935299082446413,6.1361869416673365,6.800288339105206,13.306659977560322,5.612836498811238,18.27231328109046,13.765350655600113,3.6576058856654816,1.4909092671018744,13.290238830793673,0.4848029488502053,13.765530166701645,-0.3439767806760265,5.212693951046392,8.9685691579493,5.218620176542868,1.1650748870572896,6.706501060967427,2.273781108541584,-3.2364496972623855,-1.2072222044490102,10.5858471501859,2.644405302030175,4.9829852433827755,4.830975195642916,-4.198027589736714,4.360192211822846,6.872806610984677,10.265285706662794,7.636733234693038,-1.3693334565102542,6.671408359855331,1.4041163188634174,1.99638449093998,4.801077441044247,2.168993781658124,13.90959578461208,6.571983733411607,3.6882290960863267,1.0678293251999529,7.501535536259263,11.78183820271121,8.105831095661328,6.124161138707682,3.841140266285734,-1.3272262504971315,10.667528766515288,11.768403736485933,4.952312777419924,1.8225046491560308,4.083752858817704,4.217946297097629,2.169190529822779,10.243730862084986,2.6934439805460983,3.6075498658257747,13.535113948856644,8.8693657669342,2.559349804575787,-2.7438081396939027,8.888632267161038,4.40213892099087,6.608542074587935,0.2179263469316788,4.398849510645634,10.679762292462161,9.884325566201774,10.018071051740405,11.456584538523007,1.832480559527762,10.849608890316421,2.7642308383108234,10.062869225158597,0.9087373268981767,10.196167650231773,14.925214811215337,4.477548387626707,8.144202346379544,5.351826689943988,15.612853064276814,19.512648205232605,-1.2575558860938916,5.069379496272923,-2.455537161306605,1.8583554660464618,9.951672588815272,12.301919237262693,2.120607364987997,6.487760116907574,0.7719296710749175,-0.9856070610504362,7.815455994243218,2.7496023538280827,11.276081252319115,7.355408465564365,0.48746371522112103,2.019372283339642,1.8359735652248967,0.6863087532859221,0.6309693118906253,15.611139542906537,4.582497568818044,9.345472384082115,7.61522827092932,4.838064067109091,3.8222976599930165,3.3347884510192727,3.212119101200342,2.374495097415674,7.3714993627869605,8.533574307463326,2.8651226624008066,-4.100578235825578,4.550474102963686,16.841119029100664,7.089626740708621,3.4108427205774383,13.155074870086086,1.872060796407892,6.160452422165741,11.49603618119754,8.293403517220053,18.454711296273445,3.1847203928123284,9.968220991950018,12.934489116435063,1.4527882399458798,3.84400114449808,9.24752528852772,11.696869353458023,3.833215081980606,8.781108194438499,-2.5608786014497764,7.783361508610829,8.07648895155703,0.3540735705404191,11.332930470157947,11.209355050236532,13.732565813269716,5.750867525610614,0.4874620732920903,4.985703285366197,7.270455556029951,1.9445136203576012,-1.9851847909642815,-1.6519018292111238,1.827460480489401,0.7256122191385677,1.8868430518806207,12.122651200787294,14.491276955702,17.63193557959158,1.2370865088563523,3.7162846053283785,-1.9328347209480923,5.854252328466051,-3.2883082203946548,2.558397330449451,-0.11627862796159993,4.213763932353098,5.56040321895405,4.040983940035023,4.254818143106825,9.664450600342942,8.01322973121487,9.251407365735558,15.037383277807457,-2.808276107698904,-1.5302510598034251,-0.05753092719303131,14.039623524938035,7.60394946576133,16.581183604858772,13.00230622795614,8.03095536994873,4.210651167690042,-0.70435814546342,-0.023570687025848677,-0.16694162419043482,16.957251126953555,10.56515406161363,0.44227887905784424,4.697379745316817,7.930178731760403,0.10408014295702521,7.142659992224962,0.05521027865096685,6.762598698509561,1.406453293582961,6.663254975367341,8.912464444689764,2.9911492246820446,-1.4939449078637925,3.1907812642261533,6.362075653018485,8.424973369705624,6.9589861948375535,-0.8420446751430238,1.2288404170157825,9.610019828780715,3.0942659460316326,12.84057414330656,3.6661330905794443,7.259086449114584,6.85014419211627,3.203680116294404,16.545279171628255,15.547615290370286,3.51589847235249,9.625141708541069,19.563494629058802,5.0896250858979135,2.313690758449293,2.8237856394667675,6.549299745583859,0.4076625254880886,3.3964599676567544,1.1925857402644426,-3.247865444647073,-1.4640797885661399,4.153011097872274,0.2824349070509927,1.0935754866775225,2.9448455817396186,14.097360013253057,4.8023371259278145,19.546459098697262,7.608111285988023,20.690285341081626,4.806363825762774,-1.1897096863138985,4.795047912778945,1.1554664191266062,4.1580860017079075,7.333787642339483,13.563340177524376,-0.4314338866617255,4.542039326478743,6.1569142399002414,2.985923622753343,10.815597396511306],\"yaxis\":\"y\",\"type\":\"scattergl\"}],                        {\"template\":{\"data\":{\"histogram2dcontour\":[{\"type\":\"histogram2dcontour\",\"colorbar\":{\"outlinewidth\":0,\"ticks\":\"\"},\"colorscale\":[[0.0,\"#0d0887\"],[0.1111111111111111,\"#46039f\"],[0.2222222222222222,\"#7201a8\"],[0.3333333333333333,\"#9c179e\"],[0.4444444444444444,\"#bd3786\"],[0.5555555555555556,\"#d8576b\"],[0.6666666666666666,\"#ed7953\"],[0.7777777777777778,\"#fb9f3a\"],[0.8888888888888888,\"#fdca26\"],[1.0,\"#f0f921\"]]}],\"choropleth\":[{\"type\":\"choropleth\",\"colorbar\":{\"outlinewidth\":0,\"ticks\":\"\"}}],\"histogram2d\":[{\"type\":\"histogram2d\",\"colorbar\":{\"outlinewidth\":0,\"ticks\":\"\"},\"colorscale\":[[0.0,\"#0d0887\"],[0.1111111111111111,\"#46039f\"],[0.2222222222222222,\"#7201a8\"],[0.3333333333333333,\"#9c179e\"],[0.4444444444444444,\"#bd3786\"],[0.5555555555555556,\"#d8576b\"],[0.6666666666666666,\"#ed7953\"],[0.7777777777777778,\"#fb9f3a\"],[0.8888888888888888,\"#fdca26\"],[1.0,\"#f0f921\"]]}],\"heatmap\":[{\"type\":\"heatmap\",\"colorbar\":{\"outlinewidth\":0,\"ticks\":\"\"},\"colorscale\":[[0.0,\"#0d0887\"],[0.1111111111111111,\"#46039f\"],[0.2222222222222222,\"#7201a8\"],[0.3333333333333333,\"#9c179e\"],[0.4444444444444444,\"#bd3786\"],[0.5555555555555556,\"#d8576b\"],[0.6666666666666666,\"#ed7953\"],[0.7777777777777778,\"#fb9f3a\"],[0.8888888888888888,\"#fdca26\"],[1.0,\"#f0f921\"]]}],\"heatmapgl\":[{\"type\":\"heatmapgl\",\"colorbar\":{\"outlinewidth\":0,\"ticks\":\"\"},\"colorscale\":[[0.0,\"#0d0887\"],[0.1111111111111111,\"#46039f\"],[0.2222222222222222,\"#7201a8\"],[0.3333333333333333,\"#9c179e\"],[0.4444444444444444,\"#bd3786\"],[0.5555555555555556,\"#d8576b\"],[0.6666666666666666,\"#ed7953\"],[0.7777777777777778,\"#fb9f3a\"],[0.8888888888888888,\"#fdca26\"],[1.0,\"#f0f921\"]]}],\"contourcarpet\":[{\"type\":\"contourcarpet\",\"colorbar\":{\"outlinewidth\":0,\"ticks\":\"\"}}],\"contour\":[{\"type\":\"contour\",\"colorbar\":{\"outlinewidth\":0,\"ticks\":\"\"},\"colorscale\":[[0.0,\"#0d0887\"],[0.1111111111111111,\"#46039f\"],[0.2222222222222222,\"#7201a8\"],[0.3333333333333333,\"#9c179e\"],[0.4444444444444444,\"#bd3786\"],[0.5555555555555556,\"#d8576b\"],[0.6666666666666666,\"#ed7953\"],[0.7777777777777778,\"#fb9f3a\"],[0.8888888888888888,\"#fdca26\"],[1.0,\"#f0f921\"]]}],\"surface\":[{\"type\":\"surface\",\"colorbar\":{\"outlinewidth\":0,\"ticks\":\"\"},\"colorscale\":[[0.0,\"#0d0887\"],[0.1111111111111111,\"#46039f\"],[0.2222222222222222,\"#7201a8\"],[0.3333333333333333,\"#9c179e\"],[0.4444444444444444,\"#bd3786\"],[0.5555555555555556,\"#d8576b\"],[0.6666666666666666,\"#ed7953\"],[0.7777777777777778,\"#fb9f3a\"],[0.8888888888888888,\"#fdca26\"],[1.0,\"#f0f921\"]]}],\"mesh3d\":[{\"type\":\"mesh3d\",\"colorbar\":{\"outlinewidth\":0,\"ticks\":\"\"}}],\"scatter\":[{\"fillpattern\":{\"fillmode\":\"overlay\",\"size\":10,\"solidity\":0.2},\"type\":\"scatter\"}],\"parcoords\":[{\"type\":\"parcoords\",\"line\":{\"colorbar\":{\"outlinewidth\":0,\"ticks\":\"\"}}}],\"scatterpolargl\":[{\"type\":\"scatterpolargl\",\"marker\":{\"colorbar\":{\"outlinewidth\":0,\"ticks\":\"\"}}}],\"bar\":[{\"error_x\":{\"color\":\"#2a3f5f\"},\"error_y\":{\"color\":\"#2a3f5f\"},\"marker\":{\"line\":{\"color\":\"#E5ECF6\",\"width\":0.5},\"pattern\":{\"fillmode\":\"overlay\",\"size\":10,\"solidity\":0.2}},\"type\":\"bar\"}],\"scattergeo\":[{\"type\":\"scattergeo\",\"marker\":{\"colorbar\":{\"outlinewidth\":0,\"ticks\":\"\"}}}],\"scatterpolar\":[{\"type\":\"scatterpolar\",\"marker\":{\"colorbar\":{\"outlinewidth\":0,\"ticks\":\"\"}}}],\"histogram\":[{\"marker\":{\"pattern\":{\"fillmode\":\"overlay\",\"size\":10,\"solidity\":0.2}},\"type\":\"histogram\"}],\"scattergl\":[{\"type\":\"scattergl\",\"marker\":{\"colorbar\":{\"outlinewidth\":0,\"ticks\":\"\"}}}],\"scatter3d\":[{\"type\":\"scatter3d\",\"line\":{\"colorbar\":{\"outlinewidth\":0,\"ticks\":\"\"}},\"marker\":{\"colorbar\":{\"outlinewidth\":0,\"ticks\":\"\"}}}],\"scattermapbox\":[{\"type\":\"scattermapbox\",\"marker\":{\"colorbar\":{\"outlinewidth\":0,\"ticks\":\"\"}}}],\"scatterternary\":[{\"type\":\"scatterternary\",\"marker\":{\"colorbar\":{\"outlinewidth\":0,\"ticks\":\"\"}}}],\"scattercarpet\":[{\"type\":\"scattercarpet\",\"marker\":{\"colorbar\":{\"outlinewidth\":0,\"ticks\":\"\"}}}],\"carpet\":[{\"aaxis\":{\"endlinecolor\":\"#2a3f5f\",\"gridcolor\":\"white\",\"linecolor\":\"white\",\"minorgridcolor\":\"white\",\"startlinecolor\":\"#2a3f5f\"},\"baxis\":{\"endlinecolor\":\"#2a3f5f\",\"gridcolor\":\"white\",\"linecolor\":\"white\",\"minorgridcolor\":\"white\",\"startlinecolor\":\"#2a3f5f\"},\"type\":\"carpet\"}],\"table\":[{\"cells\":{\"fill\":{\"color\":\"#EBF0F8\"},\"line\":{\"color\":\"white\"}},\"header\":{\"fill\":{\"color\":\"#C8D4E3\"},\"line\":{\"color\":\"white\"}},\"type\":\"table\"}],\"barpolar\":[{\"marker\":{\"line\":{\"color\":\"#E5ECF6\",\"width\":0.5},\"pattern\":{\"fillmode\":\"overlay\",\"size\":10,\"solidity\":0.2}},\"type\":\"barpolar\"}],\"pie\":[{\"automargin\":true,\"type\":\"pie\"}]},\"layout\":{\"autotypenumbers\":\"strict\",\"colorway\":[\"#636efa\",\"#EF553B\",\"#00cc96\",\"#ab63fa\",\"#FFA15A\",\"#19d3f3\",\"#FF6692\",\"#B6E880\",\"#FF97FF\",\"#FECB52\"],\"font\":{\"color\":\"#2a3f5f\"},\"hovermode\":\"closest\",\"hoverlabel\":{\"align\":\"left\"},\"paper_bgcolor\":\"white\",\"plot_bgcolor\":\"#E5ECF6\",\"polar\":{\"bgcolor\":\"#E5ECF6\",\"angularaxis\":{\"gridcolor\":\"white\",\"linecolor\":\"white\",\"ticks\":\"\"},\"radialaxis\":{\"gridcolor\":\"white\",\"linecolor\":\"white\",\"ticks\":\"\"}},\"ternary\":{\"bgcolor\":\"#E5ECF6\",\"aaxis\":{\"gridcolor\":\"white\",\"linecolor\":\"white\",\"ticks\":\"\"},\"baxis\":{\"gridcolor\":\"white\",\"linecolor\":\"white\",\"ticks\":\"\"},\"caxis\":{\"gridcolor\":\"white\",\"linecolor\":\"white\",\"ticks\":\"\"}},\"coloraxis\":{\"colorbar\":{\"outlinewidth\":0,\"ticks\":\"\"}},\"colorscale\":{\"sequential\":[[0.0,\"#0d0887\"],[0.1111111111111111,\"#46039f\"],[0.2222222222222222,\"#7201a8\"],[0.3333333333333333,\"#9c179e\"],[0.4444444444444444,\"#bd3786\"],[0.5555555555555556,\"#d8576b\"],[0.6666666666666666,\"#ed7953\"],[0.7777777777777778,\"#fb9f3a\"],[0.8888888888888888,\"#fdca26\"],[1.0,\"#f0f921\"]],\"sequentialminus\":[[0.0,\"#0d0887\"],[0.1111111111111111,\"#46039f\"],[0.2222222222222222,\"#7201a8\"],[0.3333333333333333,\"#9c179e\"],[0.4444444444444444,\"#bd3786\"],[0.5555555555555556,\"#d8576b\"],[0.6666666666666666,\"#ed7953\"],[0.7777777777777778,\"#fb9f3a\"],[0.8888888888888888,\"#fdca26\"],[1.0,\"#f0f921\"]],\"diverging\":[[0,\"#8e0152\"],[0.1,\"#c51b7d\"],[0.2,\"#de77ae\"],[0.3,\"#f1b6da\"],[0.4,\"#fde0ef\"],[0.5,\"#f7f7f7\"],[0.6,\"#e6f5d0\"],[0.7,\"#b8e186\"],[0.8,\"#7fbc41\"],[0.9,\"#4d9221\"],[1,\"#276419\"]]},\"xaxis\":{\"gridcolor\":\"white\",\"linecolor\":\"white\",\"ticks\":\"\",\"title\":{\"standoff\":15},\"zerolinecolor\":\"white\",\"automargin\":true,\"zerolinewidth\":2},\"yaxis\":{\"gridcolor\":\"white\",\"linecolor\":\"white\",\"ticks\":\"\",\"title\":{\"standoff\":15},\"zerolinecolor\":\"white\",\"automargin\":true,\"zerolinewidth\":2},\"scene\":{\"xaxis\":{\"backgroundcolor\":\"#E5ECF6\",\"gridcolor\":\"white\",\"linecolor\":\"white\",\"showbackground\":true,\"ticks\":\"\",\"zerolinecolor\":\"white\",\"gridwidth\":2},\"yaxis\":{\"backgroundcolor\":\"#E5ECF6\",\"gridcolor\":\"white\",\"linecolor\":\"white\",\"showbackground\":true,\"ticks\":\"\",\"zerolinecolor\":\"white\",\"gridwidth\":2},\"zaxis\":{\"backgroundcolor\":\"#E5ECF6\",\"gridcolor\":\"white\",\"linecolor\":\"white\",\"showbackground\":true,\"ticks\":\"\",\"zerolinecolor\":\"white\",\"gridwidth\":2}},\"shapedefaults\":{\"line\":{\"color\":\"#2a3f5f\"}},\"annotationdefaults\":{\"arrowcolor\":\"#2a3f5f\",\"arrowhead\":0,\"arrowwidth\":1},\"geo\":{\"bgcolor\":\"white\",\"landcolor\":\"#E5ECF6\",\"subunitcolor\":\"white\",\"showland\":true,\"showlakes\":true,\"lakecolor\":\"white\"},\"title\":{\"x\":0.05},\"mapbox\":{\"style\":\"light\"}}},\"xaxis\":{\"anchor\":\"y\",\"domain\":[0.0,1.0],\"title\":{\"text\":\"x\"}},\"yaxis\":{\"anchor\":\"x\",\"domain\":[0.0,1.0],\"title\":{\"text\":\"y\"}},\"legend\":{\"title\":{\"text\":\"color\"},\"tracegroupgap\":0},\"margin\":{\"t\":60}},                        {\"responsive\": true}                    ).then(function(){\n",
              "                            \n",
              "var gd = document.getElementById('a5be1b5c-e3c8-409d-b200-c33f6bd83766');\n",
              "var x = new MutationObserver(function (mutations, observer) {{\n",
              "        var display = window.getComputedStyle(gd).display;\n",
              "        if (!display || display === 'none') {{\n",
              "            console.log([gd, 'removed!']);\n",
              "            Plotly.purge(gd);\n",
              "            observer.disconnect();\n",
              "        }}\n",
              "}});\n",
              "\n",
              "// Listen for the removal of the full notebook cells\n",
              "var notebookContainer = gd.closest('#notebook-container');\n",
              "if (notebookContainer) {{\n",
              "    x.observe(notebookContainer, {childList: true});\n",
              "}}\n",
              "\n",
              "// Listen for the clearing of the current output cell\n",
              "var outputEl = gd.closest('.output');\n",
              "if (outputEl) {{\n",
              "    x.observe(outputEl, {childList: true});\n",
              "}}\n",
              "\n",
              "                        })                };                            </script>        </div>\n",
              "</body>\n",
              "</html>"
            ]
          },
          "metadata": {}
        }
      ]
    },
    {
      "cell_type": "code",
      "source": [
        "# Converting into 3D"
      ],
      "metadata": {
        "id": "yJOxrOMC-TQq"
      },
      "execution_count": 43,
      "outputs": []
    },
    {
      "cell_type": "code",
      "source": [
        "pca5=PCA(n_components=3)\n",
        "\n",
        "X_train_trf5=pca5.fit_transform(X_train_sc)\n",
        "X_test_trf5 = pca5.transform(X_test_sc)"
      ],
      "metadata": {
        "id": "LuxQWdpT_W6Z"
      },
      "execution_count": 44,
      "outputs": []
    },
    {
      "cell_type": "code",
      "source": [
        "y_train_trf=y_train.astype(str)\n",
        "fig = px.scatter_3d(x=X_train_trf5[:,0], y=X_train_trf5[:,1], z=X_train_trf5[:,2], color=y_train_trf)\n",
        "fig"
      ],
      "metadata": {
        "colab": {
          "base_uri": "https://localhost:8080/",
          "height": 542
        },
        "id": "dJcjjI_V_7qe",
        "outputId": "c5f43ed0-704f-4091-96b6-55618ba90d4c"
      },
      "execution_count": 45,
      "outputs": [
        {
          "output_type": "display_data",
          "data": {
            "text/html": [
              "<html>\n",
              "<head><meta charset=\"utf-8\" /></head>\n",
              "<body>\n",
              "    <div>            <script src=\"https://cdnjs.cloudflare.com/ajax/libs/mathjax/2.7.5/MathJax.js?config=TeX-AMS-MML_SVG\"></script><script type=\"text/javascript\">if (window.MathJax && window.MathJax.Hub && window.MathJax.Hub.Config) {window.MathJax.Hub.Config({SVG: {font: \"STIX-Web\"}});}</script>                <script type=\"text/javascript\">window.PlotlyConfig = {MathJaxConfig: 'local'};</script>\n",
              "        <script charset=\"utf-8\" src=\"https://cdn.plot.ly/plotly-2.35.2.min.js\"></script>                <div id=\"21622587-3052-463b-8566-fcf4fd8d6eeb\" class=\"plotly-graph-div\" style=\"height:525px; width:100%;\"></div>            <script type=\"text/javascript\">                                    window.PLOTLYENV=window.PLOTLYENV || {};                                    if (document.getElementById(\"21622587-3052-463b-8566-fcf4fd8d6eeb\")) {                    Plotly.newPlot(                        \"21622587-3052-463b-8566-fcf4fd8d6eeb\",                        [{\"hovertemplate\":\"color=9\\u003cbr\\u003ex=%{x}\\u003cbr\\u003ey=%{y}\\u003cbr\\u003ez=%{z}\\u003cextra\\u003e\\u003c\\u002fextra\\u003e\",\"legendgroup\":\"9\",\"marker\":{\"color\":\"#636efa\",\"symbol\":\"circle\"},\"mode\":\"markers\",\"name\":\"9\",\"scene\":\"scene\",\"showlegend\":true,\"x\":[-3.8231769706174745,-0.6306627388265016,-3.541819977064219,-1.3995934879744174,-8.46431797848753,1.246416897376468,0.5180562052041777,-7.38359697773367,-5.719296620924666,0.43721028124888056,-5.369898850233694,-6.325123880867439,-3.1209801057320714,-5.4035232634148365,-1.4093197053732887,-7.15778767958782,-5.412436307187083,-4.146415042405763,-2.4887458429869347,-5.670339055213849,2.9215985949686845,1.8780410108618617,-1.6278608770923915,-5.643813446735279,-0.7666637448810623,-3.965566125568508,-4.7465874458994595,-7.189904579261299,-2.489808100196573,-5.710723587726406,-4.066631478142839,-4.3434299725891705,-5.762632811722348,4.79138090065767,-6.288261031027485,-7.804056356843495,-3.16388079103566,-8.30372051188963,-6.241239472500719,-2.5635324445640584,-1.919334314717707,-8.195296119399899,-2.7820892681548703,-6.562200754009311,-5.957919215821337,-7.882697063821329,-7.262889472493708,-4.6267614532954235,-6.595821656228256,-1.5688399596409328,1.0916761929695529,-4.387582406323278,-0.5990983132080929,-3.732911365243313,4.436967701393429,1.0081328711108246,-5.368172691294105,-3.475950230404512,4.280792759337647,-0.2897474660983542,0.7244036870040818,-5.170691849374799,-6.897577136126536,3.153391109944017,-5.6252777360283135,0.6438853965379598,-5.334721078068777,-2.5764153147014874,0.6235037226682741,-3.573970384720605,-4.572847816865443,-6.281550732654737,12.422790733664089,-4.114295060552275,-3.944035152154123,-6.056915084224529,-5.867673631479448,-5.9061245598967345,-2.051313984672869,2.0732740283597137,-6.7388495655002725,-5.377981622138272,1.7792680651719817,-8.15018897019713,-6.824479296638121,-1.3711463323842874,-6.807906639818661,-6.361021808386771,-2.6589792691085044,-7.209012906951174,0.3892003272876503,-5.6948179167344035,-4.321953332530396,7.877205361783162,-5.28784533367942,-2.0883353219853977,-7.319254417727293,-2.509667392453589,-6.85677345955938,2.853108151631176,-6.2502977227772805,-7.570763787090546,1.7335929167729907,2.9155945366277534,-8.210203986920787,-2.7777005018135936,-2.9027634482510236,-3.2546790074639538,-5.109229546177531,-4.41423436520188,-7.544146996369001,1.7706544081478666,-5.362995120379118,-6.876178048032365,-4.106327606627079,-2.540473948276479,-6.522638192727032,-4.3077760695398855,-7.415777085552841,-6.002872889431031,-6.674170270650019,-7.769112724853964,-3.2174880307020985,-7.7494301420138,-6.479017241482829,-3.828516801942414,-1.9146531223133523,-4.262499355102475,-0.581834487440929,-2.5758755565605664,-3.9319665581894117,4.999466586324471,-7.700349750928279,-1.4605211670005827,6.154131343890704,-5.0305366700071845,-7.007962204909422,-3.1835448572166323,-0.5063236451282096,-5.6962575850769985,4.197369510086189,-2.2216100323851635,-5.266083677737581,-4.768407866659481,3.015153139301499,-5.617639661144148,-7.414746509411325,-2.8995216368766847,-8.285919374077869,-4.932940242580538,-2.37597211731526,0.4782684721136176,-0.8066595990863603,-5.445525381776597,8.258057879962427,-7.560512006158624,-4.917730804179375,-5.5019298649133646,0.7794187066278904,-0.017823432653336937,-6.436123285174198,-1.8570424164895891,-6.422151491745627,-7.671569045628049,-6.183070261731065,-0.39117820833427663,-5.741298694419527,-2.6319829456160915,-6.993483868898819,-8.140728599994937,1.3623905070119031,-2.443007244234171,-7.032709143542625,-8.827844027545341,-6.59884039769457,-4.547545273467967,1.7538869784085394,4.818686396249048,-4.880788273352346,2.6615540844542958,-6.782600626177284,-6.805337538452262,-2.3364529359590853,-6.462066080456754,-1.4022157137407243,-5.211368389795624,-5.656895907377147,-3.882023095978698,-4.410390425498142,-7.567792500360708,-2.296913330302977,-1.2992231491960664,1.278989069076862,0.9416218517587148,-7.584583163385562,-3.995244635047307,-4.543710163457181,-0.6607274990230659,-6.148391382120828,-3.612738289957626,-1.924976118566996,-5.135057542204551,0.6158651499935595,-1.4714407640391467,-3.634410508082635,0.754442986820214,-5.2967568865049515,-5.2726808670061605,-3.1735038863852094,-6.421169928051002,-4.832490242433992,0.17700830375664167,-6.814202439121785,-7.764693513721056,-2.7222070980753554,-7.902050162993424,-0.4851578695023884,-4.698287766288758,-7.08091139126386,-7.4435492363967946,1.5439253491579026,1.7080960687281865,-5.75448076314133,-7.215166050443286,-0.8444921060702606,-6.109790854585009,-5.180074037396857,-5.476820682134024,-5.98306502746889,-2.2168324418077394,-4.558528072517821,-4.8717079962112715,-5.578153897728859,-4.198403726791961,-5.39336345321518,-4.237687614031436,-7.451852818096747,-2.4122829485063932,-6.138508381364392,-3.2353672856752005,-2.634819535669059,-4.697006514190454,-3.315414695904432,-5.624491921121591,-3.70774540687568,-8.507188211171341,-4.951497848314742,2.219125827295764,-2.2017006742687486,-5.259116841969524,-7.883927747663696,-6.942303029334169,-6.381595595098816,-6.434072736044316,-0.12876608124858943,5.459430386014974,5.663529433865866,-5.488287768808354,-4.885909849922528,-1.1808673317343745,1.1581191681580199,-2.902593223481442,-1.7400167437367435,-1.8195242292418328,-6.96591281531514,-3.6983641652504717,-4.341441921213597,-4.454739506262503,-7.672916456603662,-6.212876993903841,-6.524359172888781,-5.418639220428832,-3.9360151383379613,-4.567111286641631,-5.661262006573686,-3.182745585667866,-5.877216632419684,6.887973546186164,-5.424159219302033,-2.396777054713338,-5.7207569293227385,-6.447409545018716,13.149064145180436,-6.552590230677395,-6.341889092423483,-4.144916645534443,-2.376585778464054,-5.26669842706126,-5.305859094941751,-2.075382828627559,-1.9282067825304148,-4.26802752031093,-0.4078738157054998,3.5022280418058127,-3.569272689489629,-7.154229555218726,-4.1851711819457424,-7.169387933166461,-1.1824421514484453,-3.959532749558941,-7.2264407519625715,-7.519765304979595,-7.62661661091556,-4.351432985058133,0.5433520312988268,-3.4858421804102715,9.121032767802122,-6.365802454805954,-2.819424657723842,-5.39139813777096,-2.673187280357295,-4.094918704332249,-3.1128264169301385,-7.534293242632261,-5.6135820030961465,-6.536245126877418,-7.96003791515198,1.0882676841423053,-7.708429560980764,-4.145937009452108,-5.374395014500626,-6.736514178059826,4.317012082727645,1.1414147787318312,-2.6769476060812045,-6.979929925222381,-7.2199605780775515,-5.24496664990168,-1.7215824778569546,1.6084569920678502,-5.210033705048023,-5.244774262230756,-5.152733972270415,-3.5975613499752352,-5.774187527750682,-6.080847580398152,-7.747358677220473,1.1050541441573476,-3.9022449215484616,-2.6317709135826997,-4.724778684003639,-1.569959476628113,-6.8070829937731085,6.892207329454467,1.8523245597143536,-4.816459321837385,-6.1865152026069605,-6.006659998374056,14.747274367374397,-1.7492780312345224,-6.668592658234349,-7.017050184069468,-7.917390017397535,-1.016051120682934,-5.713292065052791,2.333717902444631,-4.6406512684765335,-2.2961092492113524,0.7217142331301757,-6.376651469975167,-5.74567593796349,3.4553507675428348,-7.750540596093011,-4.153034666936479,-0.39512300607984197,-4.081005707105468,-5.935098058688395,3.509599779348191,-8.617867781619163,-4.805800894735078,-7.19246799034532,-6.964620986079203,-7.658078022669144,8.558402559018251,-0.3328578232303832,-1.515490254739431,-5.684552089801656,-3.6162318451715065,-7.642173596770968,-6.612052634753447,-8.2751660011538,-3.745771628156975,-2.674192977978971,6.213615581886348,-8.919632011274524,-3.588023074529582],\"y\":[6.544887722563542,3.616795469957998,1.09446347231913,11.845211616605868,-0.4464853926957793,2.6020524969647685,10.713974045950842,2.2182588415280184,0.7801349264591089,9.594714431010015,-1.749615999226715,0.03299203668676653,4.3380415736402895,-0.30215565075626566,-1.2285409456182228,1.9155994529954758,5.149585420056046,6.861981470208287,3.561046747405221,0.811924325073084,4.481939003395903,17.044987200641074,1.780101757146178,-3.7969874912378376,6.178287197569072,8.434235817940555,7.507286434166692,3.5069299994424306,11.409980302638116,-2.083971064545335,4.653061708764424,-2.0052086123773973,-0.42436161999799576,-1.0081884406457426,3.469960835192857,-0.46994006132688926,4.973364157472297,0.31613021397556024,4.943022817795433,5.779471934794748,11.31012411236719,1.1707744898012205,4.128240098382052,0.23273291440505536,-1.129803304662079,4.000786894206917,0.6907750866648396,3.3181773166645696,3.237067514496542,1.1824321744338293,7.992866262829004,11.26194131505735,5.879736519776833,5.852600066693965,7.372971884927464,6.1095629546579096,7.847511828811866,-0.6495814785083807,12.63587128609734,0.40303580060803107,9.233846230842937,4.5903873961790875,-1.937916323228071,12.288353262998708,8.81676282875747,-0.5794743439056266,-0.07255439278782816,7.65394343867323,9.028699993600243,0.812044594059286,-3.2091932499661184,-2.8426215518090507,8.110745019459893,8.66285640050708,5.271658663077375,3.068292959811677,2.8770824567496778,2.8740584296603187,3.1383211955485306,4.596676710245363,2.3829279711567963,3.9790913964575814,14.423624439728115,3.0824348860553377,0.2864090927755653,8.337207665719545,-1.0523415892569756,0.12827450756586803,7.62218734745973,-0.962178472447284,1.4497694250061857,-2.0540954756130527,4.578167473573374,14.277396420533673,2.865978185360735,8.791664463832676,2.870523340007244,10.439262833762932,1.1690955153568627,19.39307817387019,-4.46814113475419,3.066306906633806,5.314344269963334,4.6680692545415265,2.419231446758746,6.040970189314735,7.386864809243757,-3.5101821065690797,5.00100919627558,2.4245534190404743,1.9412326140687914,13.041484942575826,4.883349506462107,2.134743163243175,1.5064356942818835,8.165212990600722,1.600692243230083,4.362785615821843,-0.21439436620419575,4.0550614453618605,0.34582152732608756,1.2251303723124682,11.281358365038125,2.386076993683787,2.351781782113004,-0.09164602964358505,0.4456969573392807,6.555329047673811,1.9511344644321058,3.018528474241262,5.742487278038569,12.091556451442734,2.124041273230441,6.392579427655652,3.3726103727069137,2.6330143339813183,4.990789371294994,5.157231738507562,1.0482905041364552,5.0386755343148835,3.6336269811003126,10.19027902435564,6.0831838037382235,0.2714406534389041,10.863935148909189,-3.1415861136884207,1.4465930820807829,-2.595506933111861,1.3501107109267416,2.41725218994993,4.150434709494342,11.051618361332084,5.578339040383643,5.23702511400209,16.042728135119095,0.10783284844972628,5.752913588530275,2.5085048270969774,-2.246094229023739,7.338717207408272,0.056175139431291404,9.541876652822166,4.6384511481470785,2.2608275253155994,4.24094122533754,9.67835423534182,1.0224302403921517,8.709261539539934,1.529482030179514,-1.134024387282741,5.618011589492658,5.655035505984896,3.785993585529976,2.820819210737005,-5.284935830119433,3.4659410127220744,4.412325816080953,7.323249644494188,7.115735173579934,-0.21936055077193217,5.172330638782073,1.1363187589244452,1.8530592018934517,3.4614473400963526,-4.532994486737703,2.046839239956096,4.673024473254334,0.5103040496065423,0.39648441018833647,1.5614704221253624,-0.8801634469237648,12.474757733750879,1.312193525381188,12.686839571918517,3.7197005026595256,6.874978394412614,0.9686139429701037,12.697435224948372,2.5409594780206106,6.592355486266631,5.646887204733952,3.8658909666129304,10.878253575762924,2.332996887575526,2.626190187515725,0.9960785613761721,1.3841877741329953,-3.418038828563689,7.2425993472205565,3.098960959783178,8.77986969007423,8.192978772964247,3.1352935790786867,-0.3237648992679204,4.651097888179314,-0.024921235054889964,13.634413871686093,-0.22502185611349218,-2.478116672448596,1.4232589677033987,14.798430179559219,15.193811523916068,0.42817469649985274,0.2803623951134309,-0.5272720454938711,5.728359899544736,2.98401035142392,4.412578651111187,-0.030200647365844796,13.857756995221752,2.6550844175952144,5.087978134990389,3.116730277841934,5.3681292035456885,3.745192429240901,-1.1537919407831452,1.4193836214924047,3.659789674595652,1.6227624796242224,7.997449318268645,1.5218612420754234,3.120365616827674,4.0242790355786,-2.1638494802907022,6.789354226369419,0.7605597975414383,5.406989647991089,8.999130890416984,3.7688951659952474,-1.8867442416051519,-0.9906759975511936,-0.22122030440825508,1.8931093920823825,5.599235719723028,11.031685477252806,2.5813513264273005,11.330363534459655,-0.973134129340271,3.2468232748855432,-7.469429400634163,6.356521329374199,8.56212014556553,10.375413069720675,4.617801524830328,0.21542693997034715,6.411049419344527,-1.7947077383577608,5.208940327829241,1.2736181560590938,3.458849325182482,3.4368142263548016,5.626978537968624,6.9261052900670625,5.50239196319753,3.8047107159134046,4.527728754902263,0.6845533207755132,17.470947792429858,-2.135451320127398,5.638250487857061,1.1534197446914702,6.630600180882851,3.868485395788193,1.3830797405459625,2.8264149148085775,5.608341566465449,3.3798469779216664,-1.6836702595200739,0.33611046473901723,0.831752648268389,-2.914417272455951,4.103571182079499,4.672567749114842,10.077218131898222,5.0089563380904405,1.224024235914592,8.122944467938373,2.61237727751038,10.787274794338796,-0.7002269749584717,4.696439042647699,2.432198031741275,-0.1920657100840681,5.874915904181318,2.2051016143027105,5.3895808059353,14.686001304969892,-2.362798075934519,3.603867113838419,1.4463966134075126,6.316812748686017,5.127595059076171,2.1339758057932383,3.530168001581942,0.8930417309118321,3.0646343546700106,0.62557421486432,10.919779583515359,1.3219121606267024,2.882791621247543,0.6963931085564875,2.799554836396629,13.733955455710179,9.329013649369768,7.620851540559186,3.0968158342089813,1.7055752712891892,4.854168527960834,3.5737834941131394,12.678939202065564,3.442133026882498,6.845776576415187,-1.3040842271113093,8.341527126075977,3.177462301629666,2.345131727995007,0.5618107513953443,10.408371865354809,-0.13575296800747416,2.2050566240000427,-2.1399715331124822,10.763494044330496,2.683170088911696,18.955846292008353,8.714662891556278,6.680801848681947,-2.0455005301205573,3.3936523038789965,11.455160921241612,7.477060714975745,5.757382721845021,3.3120797833824853,0.0238396838341926,6.264895733268778,8.078331398127343,9.47197482354824,7.644678040429407,-3.0461099169397694,10.051087157249881,0.73284259504683,1.9783988812223217,-0.40864433463938604,-1.3552588533073615,2.9780949466169715,5.546036820266137,2.5153522402654023,3.5801756363006674,12.765479106784555,-2.4043449716135683,-3.5383073710637074,5.920853966353667,1.0774039118535985,-0.6136580716473574,10.132228671343888,6.457583547177067,0.44452830430553975,3.473523684233943,5.909821237043602,1.835005622504163,1.1165348956812737,-0.9852222028996152,5.6060322076136755,9.888113607459683,14.220651099203012,0.5371792132705568,3.513871245197658],\"z\":[-4.402460138782257,-7.320288540338772,-8.884070692010955,1.3409298371858849,-3.2345618953663937,-6.014636125259576,-5.087225687741553,-1.6506238783158886,-4.405609386044358,2.0120417730684452,-2.9754910448237353,-4.246174654546613,-0.5075147489695222,-7.24261987452724,-6.46213321626162,-1.0420083240148335,-4.945407546745216,-3.591028467347166,-7.240896641896841,-2.63130830124238,-11.340750107339066,-0.9533456387057965,-8.68542356943498,-4.4505994014372705,4.593849616495584,3.5589296111915343,-1.939656600663195,-2.8789211507750667,1.087300004846415,-5.690351247325738,-0.2923522016605162,-7.631843560979809,-5.532592290446588,-9.206000382827508,-1.9756966956680637,-0.6687085559651497,-0.3733732719497648,-1.3501748013810013,-1.9534420603174325,0.03972317384578742,0.2820511468029438,-4.080119587328795,-6.484726144578456,-3.575295931454181,-5.707712804276687,-2.2920080451063165,-6.079846296651482,-5.07521578001186,-3.2216804050313708,-7.469585992785306,-6.626490210972447,-1.7479083521619405,-6.880744052981817,-5.96779472633687,-7.875496060232064,-1.963139205053185,-3.230785012856649,-4.94215295724397,-6.280777306271132,-6.398286100279773,-0.3395736074681041,-3.6477089143369366,0.49148707014655413,-2.6487460279728947,-2.387259043581161,-2.8561060265823026,-4.3846455615103945,0.051503274732229515,-3.678246434803164,-6.636169422212697,-4.78244297427542,-0.9362316216914865,8.761322409718929,0.4016986146622317,-1.4237131134370422,-0.8284803758837594,-0.767311076187647,-6.594533768873327,-6.058011476925848,-6.658877902308435,-4.542512722619577,-1.0207103675020968,-5.5165194452772806,-1.7849907336577469,-2.4119456736625615,-6.062573121550682,-4.547423044443893,-6.811149574771189,-0.8163015858201496,-3.820545811183855,-9.798451129907054,-4.253037712108161,-5.198253954531688,-0.8091150382547919,-2.0046005893613086,-0.9764661740983426,-2.62499598594434,-1.6342845547909268,-2.387395821252765,-1.0380995073520152,-0.3698416451220739,-4.216181237652916,-8.343326022115036,-7.493181856873863,-3.4739654839187026,1.7317839290693926,-3.9544994991941236,-5.969387731060063,0.21005069112036764,-3.98087226738873,-2.5255815100239047,0.8550547820658198,-3.377084138121395,-4.446665430841912,-4.9823287117056605,-1.2850868589778772,-3.208906472609963,1.2290894351696615,-1.4140432566255905,-1.7121870103695607,-3.2371317040300416,-0.6393125579668378,2.2049221967301795,-5.719277601528919,-2.4228714885983242,-7.929138854396065,-7.732851585071912,-1.354253301722039,-7.594200733120879,0.8246946083889288,-3.005118542554348,-3.3939963947701037,-2.695401958805716,0.6077174486083248,-11.408224802622561,-6.982091042880302,-5.876667303921882,-4.784101030560204,-4.4785366703536,-4.472983545216586,-10.276547437993163,-1.200375777374923,-1.3270675568588224,-6.568711400532729,-3.159957996303444,-3.672362436442253,-4.4861701649088275,-3.2425403881209194,-3.903029135098146,-6.052733341163614,-7.37001517839423,1.5024787351438207,-6.092420502179458,-2.447011445019588,1.4504926482872091,-2.0534227309480904,-6.210192740318522,-5.814090570903832,-10.837213164037,-5.222951880523432,-3.4708830076906625,-6.873534956809072,-2.824031854062266,-0.974937421327478,-2.79738122966597,-3.4057776761020064,-4.683750917885179,1.1285597847398938,-1.5648676877593195,-2.6093587596447545,3.0987494339368795,-0.2643823310672141,-5.029227658208657,-4.209905395509802,-1.7362125237572934,1.3624985455140588,-10.377592750278554,-8.701882968679431,-5.3401770386773,4.191991090334352,-3.16119008580573,-3.024301596498369,-2.6958690399264116,-1.1281232929125915,-7.4225059252113255,-5.416114568277948,-1.5199315834253666,-6.474780102276964,-4.417495251197565,-0.16370918087078215,-2.2649513639262624,-2.249935806790868,-2.003153619257074,-1.7545815434281908,-4.015224806596203,2.1351724838259694,-7.233085380132409,-1.1762936102362127,1.4073091410848741,-3.266725467178124,-2.4567740939501372,-1.2001738856332256,-3.032369759809502,-6.053122357854301,1.531664154735387,-2.5068399421542074,-5.510046631727919,-4.203377556257338,-7.406599998507378,1.1540341440331177,-2.17907761883586,-2.5512151339269167,-0.9830889222676517,-1.7552073897382403,-3.454355950503735,-2.6061633995265185,1.2281612922643192,-5.2756364982034825,-2.248902680859222,-0.9453280309849666,2.520617695975572,-3.1555183101886293,-2.997202850742993,-3.7333218527267196,-6.493539880399494,-0.2668323603170196,-2.8369258955284704,-4.09340149920165,-3.322082533394113,1.795071092793816,-5.456540207604225,-6.089636087288029,-9.033478747121574,-9.218843639068089,-2.327979701326,-6.861189176096783,-1.9539730651311962,-3.751075140803961,-3.900204889122934,-0.9412338691543903,-8.089434731027806,-4.71369610405046,-2.065904289653478,-5.531979314782855,0.24097136892521837,-0.8016165609416064,-3.603912594577776,3.22453458670174,-7.084414342544276,-6.306579654569638,-2.7247152395849796,-2.985791264434559,-5.776239909248163,-3.740311647069038,-2.4483690861809593,-11.218495641482777,2.0720304650431145,-3.628456969741391,-2.8710044651278457,-5.924296109371693,-8.36095887907377,2.2612596326811496,3.005384796578105,4.516476259338409,-3.463016766387243,-4.45018118557,-7.561237688857097,-1.845218863735382,-3.3017169047488757,-1.2580347612250924,-0.7533972760447012,-7.028663665203772,-4.454073754485653,-5.231213575026452,-0.7921314372585012,-1.8522653576693267,-5.5620787544946975,8.049566268563074,-3.5639157080224177,-5.265179476862136,-4.849838775240153,-1.6321091918167008,-8.649983685580693,-3.183818178149511,-0.9191850579420152,-7.728590942412212,-3.57391970700999,-6.059672665051721,-0.03826144560890443,-1.5475511304505614,-5.575455187331961,-5.215368626033916,-7.45737102052,-8.096278278807933,0.385807610476776,-5.406259114847315,-4.291677945499093,-0.7385893198885216,-1.0295118133850623,-0.05342482666253189,-2.6156027451902206,-4.297463398753539,-0.5486359503659936,-1.9671557566263154,-8.662358138752577,-5.54771333978437,4.571670540422322,-2.3175211550859904,-9.914770247075383,-3.0239900834246876,-5.332400553105201,-0.5400545515063354,-7.326515250890713,-2.8002810610498514,-5.852774981677571,-1.002381765035827,-2.6868501984512734,1.0943821515064565,-1.6265220747671538,-9.407811058196948,-5.4161239542461095,-1.9914798926402846,-4.505923768089224,-5.482784921149443,-7.089322302698562,-2.210479282291578,-1.6178891422572166,-0.2665698222082589,-5.404257396542623,-3.3134400637131836,-5.970928194166447,-2.948705069675165,-6.833669881626382,0.28818079992969486,-2.208746038786906,-7.126830473089034,-3.068211907308356,3.0819183007395616,-9.512322847502714,-7.326277055517859,-7.433459476441101,-0.9416562411238096,-6.014923285789108,-0.41255771801574725,2.0498114692446463,-4.6201986176526635,-2.567670655800518,0.13001539618408095,0.28774343294990345,-0.9282897661282012,-3.222807801965418,-4.1016102915028725,-1.3814290616222278,-8.610670780122716,-1.8928499655956703,-1.6394750998959193,-0.048187396642754836,-8.032378365328308,2.307671798433391,-3.1855581261153905,-3.720032674862641,-5.429874778700959,-2.3110301100780504,-7.667472143318555,-0.6187045068564916,-7.881170713781023,-1.4279405294238996,2.89709183244859,0.20543341314535343,-4.297988359222254,-2.73293593313601,-3.6676515476190246,-2.8432226736279897,-0.9316297212753487,-5.599020321384628,-5.246057688152029,-0.6292244835300411,1.964958164285377,-1.2536328104540835,-3.0781533322306394,-2.609212990659108,-5.913339034697026,-3.310267487248996,-2.922021750716212,-0.2612508387760443,0.5788164819967849],\"type\":\"scatter3d\"},{\"hovertemplate\":\"color=6\\u003cbr\\u003ex=%{x}\\u003cbr\\u003ey=%{y}\\u003cbr\\u003ez=%{z}\\u003cextra\\u003e\\u003c\\u002fextra\\u003e\",\"legendgroup\":\"6\",\"marker\":{\"color\":\"#EF553B\",\"symbol\":\"circle\"},\"mode\":\"markers\",\"name\":\"6\",\"scene\":\"scene\",\"showlegend\":true,\"x\":[5.45504101216833,14.319722417860488,3.5610664634773532,9.992801747738023,0.6376544984478422,5.06591450131651,3.8100419344655836,8.797688470657839,9.034340983594225,3.9889995233374402,-3.5253440987901317,2.2845889108147834,-2.1514512691244585,1.0701800291644663,0.28494703382482534,-1.760201451491788,4.450350920406514,0.792429047171448,1.0367726556791694,14.215553866317896,2.954607540128111,4.87847261620421,2.7310229523677076,-6.285919462816403,5.645997993856938,0.9823330061054293,2.1200399422296603,11.589070045720513,0.6575025031471862,9.177644019684513,-3.859570347273204,-1.7387664399318392,5.582775494651446,-3.330781365929953,2.0989067814282407,4.117509375402808,-0.7709358982131157,3.4945905406129,-0.370712759043273,11.619239322538212,-0.41587593410156803,-3.0384497027490864,8.903498815916288,1.534160694214976,-0.9597269131406931,4.647695233298435,0.18442510780695578,6.582569690386593,-0.824832201343901,9.738824540097982,4.330323266333261,5.911576055769086,0.4590343789179893,10.965808254929875,8.512420485483727,2.0518563426764103,-0.13236326738468723,10.491674285199576,7.0384932548561245,1.8789099448349293,5.148319955794797,4.337994335945713,1.6748739410460232,1.1348961207809403,1.1148781310281353,-3.6346944778252093,2.9244610932192425,10.540671468202854,12.534327219854694,4.557670219256843,-0.4934866535075284,5.343364011811394,-0.3754731386326315,-1.1602826568140474,-1.7592165038920047,8.213469274958989,9.649402131779013,7.307057578515644,-0.9144605433119326,4.946749211235514,16.95988604179492,1.886589333909181,2.0830064187173116,0.7147207649075371,13.195255482454264,7.131862714487024,-2.129802027335435,-5.275436343673066,-2.093679592682146,10.59769356919141,6.905947135332738,9.64115365965044,1.553946205559036,7.76021545388859,8.116645431023956,-1.5216176232556147,-1.733245356416417,-2.652261818458816,3.7753573730096943,1.8983187784190128,-2.9555584256801786,4.844328508127575,0.0014410463762339766,-0.42069557670346347,1.6185209514781465,3.176372827298741,-4.106458526877155,8.721111303868,-4.19789196842808,4.323757563714544,2.338460555196414,3.508601566810383,-0.5470644175228441,5.581395569934015,-1.7089564505996513,-4.332471659101555,-4.667971191261644,13.124354414212837,3.6438255618240234,-1.7788188008149852,-1.0971913804254267,1.4635950567116438,2.680337971868456,0.8254737204647624,-1.1504568215879845,3.4877773680938056,6.504524447177899,-2.4073745279895866,18.331427205752263,6.688724857044579,-2.3121555720416525,13.569646965925843,-0.9818803382317629,-2.0492677424377113,-1.2650296149392206,-3.5642256541944324,2.742478166428491,4.41144589325485,7.896413614272025,1.6275494577743062,-1.6037918626411651,-0.8599686161647712,-1.7558015368394173,1.8006283916098595,3.438050587372424,2.674161565291606,6.7256222246568536,-5.71406748375076,-4.6961196187776,10.673012818087582,-1.8925038659661122,2.4933588308575887,3.7438974954293816,3.029948879072684,5.218225886494549,4.287298123118724,1.9616707608905788,11.699341401542657,9.076525620177899,3.52720078453794,3.5919154347424236,8.413617735618844,4.591226853361692,-4.729498368326971,-5.925674302911391,10.063416166320325,7.061287369713687,2.4919946109474966,3.269345772581909,-4.300577219305035,-1.6079439450441484,-2.80611563382631,4.149258679108646,-4.215880549804192,-5.8593910313767745,6.689825650714732,2.7750320781201827,5.5184668784824575,-2.4024291631024646,5.277457218882431,-0.1885873291155224,1.570662469085755,3.6860784814675225,0.9600876344699538,5.034244236272378,7.670546968656426,-4.193120775656444,3.47091566313883,6.961688420181598,-1.951261926266027,5.669267541210629,4.611969169301446,-1.2068713366801125,2.2160703623153672,13.738665603935756,-5.726374534504735,3.8883508019492945,13.150996496894262,-4.110862776512356,-0.08423902256701979,1.5231832607504485,3.9894013429164517,-1.0810890861674864,-4.545362167687831,3.383619237675896,13.971853902706062,9.749517232813517,0.5296101818339886,10.342262276983568,-3.4654932660867828,13.317994605970824,2.285866081161564,-1.9900001326230405,-2.792003147609196,6.613511962357581,2.930128936354448,3.026698136123514,5.7224864381919325,3.8135759402445104,-2.5357035424430383,8.738536666845427,2.2553647386846007,-4.821304251752805,-1.4836227640867279,-2.3616101335697173,-2.3630597360661647,11.00482958223758,-3.8632176081290455,-5.088972971935927,-6.170751043276131,-3.668301868572998,9.202273160959596,-5.697613222065655,-0.21535016778299312,9.352341295038446,1.4184872243627475,-2.5063706285265113,2.271262062554111,11.751309635212614,-2.220179763551888,11.464507073440554,4.762894410058489,-0.6058461008975117,-0.8682469826732241,-4.8255881510271,9.299210605137791,15.642316098577759,10.300624551881247,-5.456024469258866,3.0447470977585223,14.919432788637417,11.571804416582388,3.1075509687941403,7.484942333275549,-3.192147971502266,1.8168005772940508,0.5223255434914552,8.104393969652028,5.625156680381484,5.369296554126606,-0.08921426720636212,-5.1318262128917,-1.5152429041993356,1.1087717400285455,-2.9899412719661913,-5.501709067618201,0.7562710595801838,-0.3368218116622837,4.938403966873088,4.714932573275944,14.729766495516358,-2.9717158952313687,-3.5397577895434904,-2.2269711627423763,-6.108967318515046,2.816628452494634,-2.0131156968278754,1.499210178681296,6.139051497323817,-0.5252762798252727,6.092908138723928,10.076416013487135,1.3151777337851118,-4.754427088089946,7.3883606983676815,16.927662125384405,-1.7340156187739804,-1.78788035255139,-5.866295334059576,-3.2573686265011457,0.6614026239783375,-3.2049408684792917,-1.862861893471671,3.0145238490878015,5.246752463514723,6.37050571273773,5.18451474963693,-0.22401641883340564,1.3792922884013372,1.0885149716278697,5.214624102631919,0.7823215280386482,8.639027164075062,3.547712959148463,-2.2751801602270243,6.1817934336303235,1.8690055649153363,-3.532716697916035,-0.8104017283382273,8.531063351150664,11.791548198066128,-4.149452393147236,7.7249264115279574,2.1029580267199557,-2.090975310354014,-2.67013515452847,1.0264534268699443,2.1494834408671637,0.14794639917523503,4.227844146052866,4.639265050697302,1.8368824577414724,1.0221507115396853,3.9965300219984803,-0.9865059761085939,2.526589864227459,1.165151164859828,1.995800361338536,-2.4055479937764335,4.3454193279443185,6.771013935317508,5.4766038400288055,3.916489983261571,-4.288893523674228,2.3216169805526934,-1.4018299540490358,-2.0738330015241777,3.4124934053013893,-4.852715301744884,2.375400858018911,-2.6937507855479867,5.911729373117327,-0.36171066217510817,0.932797432003454,1.747129893204989,-6.347061098584696,-3.956442413575709,4.192579522582005,7.445439658740092,1.3227102920927063,-0.8392333504439846,2.6292003603920415,12.053679550182682,-3.5695606770827744,-2.1359159937842196,-3.9257817415006016,-1.253639187222539,-2.6736505478396007,-5.129778958964152,10.91671431394896,-2.253141204722107,10.063327925230025,-2.3446924931253186,0.1269070564356193,2.83846651666219,2.9391887773408554,0.7616026230992983,-4.097989789244743,-0.8057947498525122,7.204033845093695,-0.0044908965790569156,-0.2337807542404831,-0.697605227259915,2.6536733680990725,6.346917285803946,2.0480159813152574,13.973454857198982,-3.7850615894339033,3.065847353781814,8.898269484482363,-2.8287311455421214,-2.0210668071043307,7.07108890951856,1.9028127109876023,-3.730864298641881,12.431402879491216,0.4656728337308729,11.847820206781213,2.6084231501947763,13.03133400062611,2.5198372536762834,3.4033867269284523,7.531574751033564,-1.6381192731582943,-3.529275531968295,-3.109585466523265,4.430118301410441,-4.671724401374261,15.088608576376682,11.972071855641293,-3.7884091066367342,-1.7493131962565989,2.13505388533777,0.15937524205194048,-1.3927338525437893,6.634668583861278,3.5113495297564796,1.4723937284692863,4.426091114059583,1.5475041880102165,2.1628639005029306,6.9804239846206215,9.05374713373074,6.501915935898092,-3.290334901826238,10.872668640250097,9.078391610543614,4.149671018395397,14.498489713769478,-4.347862326607506,1.3775574970782114,-2.8760746898783274,3.3585063837491167,0.5381484138243341,-3.431979222663492,0.03231515814753969,6.791223537527469,-5.535781094166134,3.5523099235661673,8.486787178180297,15.063783264847949,-5.023372728315593,-4.953604125332514,6.784210351651651,2.9345372066426507,10.323361648797839,-3.5883669398913036,-2.2014834268408774,-3.2787179662665733,1.434868898086116,4.220177801570138,6.101901413060977,-1.3840487068790566,-2.2621766120548217,1.126435617786266],\"y\":[2.6476953494649247,7.33088109051412,-0.37743309908736555,-2.883288973321571,-0.7892990317604422,-3.744621290915042,0.48737491880251665,4.727758745302299,-0.04737076840381226,-2.6966537771839705,-2.2913319688125844,-5.168474170482398,-2.1514133203199775,0.6984227666208039,-5.900565550617136,-1.567336859301235,-4.07036404471629,-3.2821659092366895,-2.0222232172567756,7.001796222556006,-5.892644007524928,3.2981096885462797,4.589103052243825,-1.558904110259742,-1.7881699518101122,-3.699522202607637,-7.041918871016504,0.07218755993418105,2.392522453777412,-5.174237558830845,-2.7052611825989703,-6.247981235492562,-5.285547427617196,-1.3380269222549903,-3.6262480389193104,-7.368540372577629,-3.30178439699473,-6.605393586424667,-5.4559985773840145,-0.6901462646749028,-1.3178886114178656,-3.3977292628443463,0.7249419578729546,-3.6352373641474847,-3.873292246576701,2.848621197512709,-1.1583965696324807,5.240271868985559,-2.128494927474994,9.214177321550533,1.504163852910651,3.1826472867691598,0.7644066417192423,2.8452061043188404,2.2604910644464984,-6.280820703972716,3.7478208459705837,-10.700405757483207,-7.482512526121199,-10.110084125388795,3.943840538798401,6.3155882329807405,-7.649938420226339,-6.468567154192416,-2.9750261422985647,-3.5124466103030976,-4.438983930107426,-7.910175830454842,10.08186982581961,-1.2592342721089493,-5.089618634802081,5.3441853843553195,-7.179451703072259,-3.813775324754901,-3.083159197897713,6.242400537192608,2.4936558402562596,2.5276426857015775,-3.24596043851676,-4.803177424316486,9.77950130099894,-7.590580056053715,-4.7600167848529615,-6.8666480672636645,2.751190326378264,-5.202063484081426,-2.8078441545371975,-4.795841264045687,-4.111181520346274,-1.4121186085487636,-5.860702625670994,3.181253864235197,-3.269982671252486,-1.4941736598390956,3.7487864075349617,-5.085337827881612,-0.6334731934121703,-2.6722233145346346,-4.6449368814812395,0.13953757310639794,-2.078734822406999,-6.201472956406122,-6.815867600834282,-7.14863146212657,-3.5703914868929507,0.49092693160318623,-2.705637108194099,6.382367877955278,-4.099009537292185,0.49500176051276823,4.9054381945309595,0.2676805660245608,-4.420804694612738,-5.027074515912352,-6.785786369329868,-2.6786924922985333,-5.968598883895579,-0.46083893891178584,-2.1182343200798757,-7.546538472744606,-6.402023582663242,-4.414105030983262,-0.44486132350840796,-2.9028592738723846,-4.868209982076784,1.9771616011332864,0.1496939723292373,0.6868419758930057,-2.2916092481660493,3.447821385077536,-6.135027796553264,4.171459766579134,-1.7641684923076364,-3.143766357521337,-8.033307109741315,-1.4157115104730582,-6.193806757888149,-7.543500822152381,7.8513933868795505,-2.679273076906133,-5.4346754004188655,-9.941253706990189,-6.262879487507839,1.8145286547833357,-1.7094873261570163,-5.724429212373067,-9.177316287651335,-4.280148867432425,-2.7286711816276807,11.198772578663391,-5.055318868172292,-3.8167906129298155,0.8802877241462985,3.6618892975340804,6.446546915846518,-2.545564033541152,3.003611143806336,9.456314862412889,-0.390022556030314,-6.340117912827878,2.0108356299318157,-7.221108404432252,-1.2883942661167442,-3.2860424768660943,-2.6491293873816377,3.3968794615862805,4.58864624404303,0.9118220779694038,0.6626242594734686,-5.815899862000271,-7.102032209189761,-4.813511936074236,3.294702871529811,-3.0154944558848715,-3.9523912092716937,1.6943318415792543,-0.7557231098499442,-9.364144138902494,-3.9213810828486695,5.726923048229427,-0.9145073342509702,-1.9146689257518243,3.3929373272607695,-1.41701616109471,-0.504884435559201,-4.032178037227785,-2.871825760513039,0.3616985670864007,-7.7742515933427745,2.1687645538317066,-6.546770799220478,-0.6822989453267495,-3.172861665363385,3.4388090932374933,8.41434408666187,-5.10104311714017,-5.449120650802445,1.6942204263874607,-5.907966602220616,-2.319591789693541,-3.809247625630819,-3.760462392064475,-0.018592427680979982,-2.3245141496686603,1.052457352217076,3.184886192065448,2.2305367695477334,0.5334459359929455,-2.4640966980403207,-6.028223096281461,5.676930289324145,-6.810105459229516,-5.276717396847576,-4.233405764857506,0.6182485741875888,1.5179470611197028,-10.942272764333174,-5.304271008375394,-6.387063687840994,-7.198718032189403,-3.249584123869732,-3.5906838347782055,-3.39802119627684,-2.700015898292654,-4.661795215397581,0.10434945160986435,6.05924459221292,-0.7030239942220141,-3.1393678473212425,-5.016970059751123,-5.8022985246335175,-5.254191640785038,-4.203742484028741,-3.8506338064320604,-7.90032246986395,-2.554588763201819,-1.738370875056336,2.742502410193785,-10.473518715910455,-3.3941669085564476,4.202516487748939,-6.510030708070646,-6.312330240373486,2.198363670122309,-4.840902626265572,6.561098161112998,3.120686314261487,-9.442484347452844,-0.7497500743564911,-1.507203817810868,6.3552360915968,3.0170143960281215,-0.5530754983368368,7.379766363255921,-6.847868025042522,-4.713397495317992,-5.304752644958346,1.9175676853273609,2.3420666766556986,1.4258444739271185,0.8288045203174375,-5.772754212283613,-4.825859480688487,0.2515908014814149,-3.7186016828178894,-4.229456225511467,-8.228830796654623,-5.4922913706056775,-7.366124504091525,7.594941755047287,-10.69483847207556,-4.373526212757998,-4.731813338976221,-0.7857196443212403,-4.146901053225672,1.6245818511550438,-1.9601438584373303,-5.165888450465865,-1.5661832423900441,-1.7347003682734168,-0.005673376353623682,5.429380359296673,-5.836623626737505,-6.0727689619414535,-6.061437822242434,-7.052366526807267,-4.9707837770364955,-5.554902500060671,-2.4981051110491173,-6.331877990672996,-4.641009555503865,-9.372740580641683,-2.2304058753052205,-3.845675388640733,-6.775648379802079,-5.018409125542289,4.871904899788813,-6.6108726640511355,-2.139398722075665,-1.0063105405152601,-1.5362061568998397,-6.755974883225286,6.239940978143739,-8.461203317365841,-6.4854991673282765,5.477315129204182,-0.16772552777206307,-1.763145615092296,1.144419624732523,-10.517417841105564,3.640198700076855,-6.203352742347568,6.548306140999322,-3.2921819798581327,-8.75215037314959,-0.9782594203444104,-4.953651569558057,3.1471316166809706,-7.690847022073474,3.2258529223406676,-0.6455601988112722,-7.663929889060148,-1.3895799880540156,1.4588222877414847,-4.642158887165631,0.44121770228050367,-2.0620243179653293,-3.6113217303985157,-3.9989342826586385,-8.630013007959878,0.5595004321495074,-3.5123128018150442,-4.205177580409772,-5.361933094126943,0.1094623876042937,-5.9347261838787455,-3.472564932865511,-4.046014285186312,-6.964866364821456,-4.865481325543913,-3.7517610535463812,-0.6796165769314503,-2.5420862034664706,-2.8758488330464407,-3.3619734179145375,-3.833546146606316,-4.251186528922235,-6.199477082137983,-3.269653625097353,-0.16758169436902853,-4.580913757615451,-5.710957046294039,-8.207086708366473,-4.127348217933082,-4.05081264728325,-5.877456149383475,-6.036352657297497,-4.307407353677305,-0.4534765638573957,5.598814491060981,-5.160479401971844,-2.732042130135529,-0.7058258307522101,-2.7823039687197144,1.1943627837800057,1.1397274435498863,2.2456417805000966,-2.283043438680806,-6.253640082692878,1.6270027723038682,0.8193126389640336,0.5286046938253988,-2.4001077773037154,-2.9369110145813973,2.780793973585891,-1.583387490962016,7.4356318974622955,-7.381384484655729,-8.683042920504171,-3.185705429260793,-4.419400568085558,0.736554364753813,2.1064563094913806,-5.062229607483705,-2.7812798715643403,10.380104277373842,-4.354777544851736,7.8174566664379785,-1.8452416611971403,2.323407810319497,-0.944059072075017,4.195333391164572,-2.6745832594033567,-1.4027807522276696,-5.610283042889381,-5.2484563663242385,-1.1630423077038337,-3.55531222714667,9.477471443621324,-3.0695999562621052,-2.642092409639213,-1.1751233574407176,-0.963979610593584,-4.435755444419325,-5.97372817996713,-4.357667791950055,-5.79120671360656,-1.353053016214397,4.53546671680656,-1.3140512938737707,0.26555087022232854,-8.395339325846114,0.02672373814262953,3.074957841617523,-5.430038404669249,4.246028128356305,1.364643248811491,1.8573897215883937,-3.520008770712437,-5.326384824744871,3.3740700875208884,-5.795310501980523,-4.565958859501971,-0.8489417551631327,-3.417294312589447,-2.921196972560322,-6.808638272387532,-4.192971298004414,-1.312422569842594,-9.53417849353314,-3.5672079583099214,-0.9816902572811623,-5.6313017676019665,-0.09298871498989211,-5.747277378682156,3.2885059435935604,-3.1038982729067883,-6.832834608332701,-4.6306960216654085,-10.528716092493875,1.6921612959846228,3.346820164515602,0.09726526689345363,-3.985458953327366,-0.07908774168010908],\"z\":[0.6400653076671287,6.661530035689297,4.077583795208304,1.695304723257105,2.635026165299294,0.5198699218746973,4.545361681029654,6.125294298739797,0.7249870549953082,3.9738223827924575,3.2735767692942805,0.9501825352846961,1.6478037799290293,3.6727317138013564,1.4062067021120703,3.944246314198803,0.731874767687129,4.644607973208259,3.6611579565334793,-0.9038655068440439,1.5760178352736096,5.136042231755054,6.9618181391889635,1.9577057347426152,3.337313101864521,1.465515672200982,0.5902681346724943,1.1616250865110125,3.607068794397605,-1.0859930571668797,-0.2611097983756815,2.0263520060158977,2.6086071140593194,3.377931470183934,2.8559328480716903,-3.1349148754782608,1.869408577802521,-0.7139336892678746,-0.02562254343793357,4.183990738301178,-0.5127769227939705,2.4847066400904283,6.657776404026645,1.104709455335731,1.7509935925983962,4.752060509671138,1.3164031533063318,7.2921207101303445,0.9355727524526374,11.509844754850995,1.7968662310869539,3.334538809363999,5.2168412068490335,9.27437942538497,-1.1299679199100938,0.1383384193300162,5.285746746983494,-4.248703058558936,2.5905662877595477,-2.189282496743954,4.785165068995159,7.098099239579568,-2.1583833198378692,-1.711890937336322,2.5576354764905584,3.3045115177352278,3.3729573923347203,-4.027820162644184,5.050428203112999,3.3946450330279663,0.965519005824241,10.467524206107559,0.8418218904584812,0.34286944519030377,-0.21303956549456535,3.2878457807661303,4.166542553576096,4.46337163584805,1.6679512822351044,1.205801628186056,1.0713647510171973,1.8618293290068413,0.11916117854769627,1.4727096407154507,3.1779916230200573,-0.6767893873034853,-0.27776837236182866,2.698378805747973,0.03695286314070923,4.051224354774639,-0.2874516884278252,4.674287540182394,0.9492886553471643,-1.0927920601410086,7.96536545193853,1.3787922240107462,2.749282987302606,0.581939117996474,-2.046540025780307,3.2068747256070864,0.16504529928767986,0.881410166532501,-2.550251068417721,1.974543980691869,2.565455340823269,1.5882908756437701,-0.836762211243323,10.328386458088588,0.9972797569879903,5.275098218043326,-0.5524860751539877,2.2639147057126783,2.271305073234382,-1.4999192438873632,0.379124840081885,2.455652546127139,1.3015571547538451,4.256806625460091,1.386928829915745,-0.30954548057119835,-1.2225754245255798,4.837170925318752,2.4011660790582154,1.762288049925759,2.729139477364913,1.854610889276956,3.759532646167505,-2.5548829731100997,1.173978293208411,6.817823901342382,1.7369185668119151,-0.43779065413981005,5.534981041505666,2.867447668254151,1.0270106719195107,3.6225594771008103,1.266099401429149,0.4950955932754643,10.110507483354947,-0.9500893582780083,0.5314090340492927,-0.052980413853907664,1.4621661126527925,0.7790843401750066,4.971156237961792,0.35882142189281585,0.20418806468462747,1.9107116865293812,1.7491152908769323,15.158875872721396,1.1580751159437672,-0.853044672189471,5.3218612521451645,-1.9334332362287963,-2.3061750209836855,2.1552723520583212,5.064994990384523,9.71116075900764,2.780680208419755,0.7247822269652557,4.351266589941068,-5.335070942104419,2.620729272104259,1.763154815351815,1.0298648296304633,1.317262949963105,4.886321908489018,6.586038175339354,4.183952103090034,3.0865830780946313,1.3786966167410217,1.1147802044598012,5.231831316276429,-0.13348860149818223,0.8959716130602424,4.045838947308346,1.0755300100376735,-0.7165854539062796,-1.269131904702393,4.046627826268289,4.4126904887539125,-0.35623917995003773,6.21931149787078,1.0162202615666542,8.512146299208009,1.7010528830612126,2.8403578136680347,4.796435446407909,-1.7276512938178765,4.670203327259993,0.7594191942035694,2.842316190213192,0.202688968530496,1.251341183703662,7.856354570765226,1.9196046256170232,-1.975366847676282,-3.227026433264101,2.237730468740179,-0.28718845523626885,2.2813953036029564,4.129868758468946,2.2228800111968128,2.4527897732158905,1.5617057751081618,-3.609476331846734,7.155322093021931,2.50017052800475,1.2807544890198337,3.4331208895519536,5.103602639542394,1.2335119436338755,1.209586549461544,3.013624721133557,5.255299073731576,2.1023149823137115,-2.02409583386054,-1.3291176640422762,-1.7339274138816412,-1.2403428892440864,4.237726917647572,-0.6441879332198757,0.696455262702072,1.328218747187155,1.4770041563726235,1.239628812411286,3.9054590923735795,0.5940430815840743,2.4963726927191003,2.144480860967644,3.0683411453720986,-0.4285156690198677,2.1562322461416477,1.418458417521101,-0.14969950617229685,0.6674702855491675,2.2906516102202046,4.789244678880932,-4.179173170322284,2.7762252650977213,6.4153229329713,0.6523100713056978,-0.13075148492118321,3.2872085607320196,1.0351275564919074,10.368162966345077,10.284041581866964,-1.4428247626070025,0.39278473793968,0.7616880405253029,5.421208007989236,5.892365515872849,0.4299049850862243,0.14618571744268982,2.155100501684883,1.1361366312939143,2.87899833965511,2.9879505223239886,-0.05496554419914961,4.142069072488144,3.6256942403176318,1.647978428652369,-0.06317121895010328,5.893993971990683,1.3252873015510147,2.1979046385679855,0.5457015445498864,0.24026575966422306,-0.3180129611895386,2.778850125328502,-5.234004666903588,2.023637914383447,1.304836391516518,2.036146919514383,1.2958160511688053,3.8502061047106286,4.3967284254279155,2.3816796857846505,3.3805070027291815,0.9503594067646003,3.5788326597947537,1.2049596462518555,1.4914472483771937,1.0470448097351894,-1.7852012259197527,-3.5359303889245943,2.392178009020775,2.1706935306912785,0.18505610700341368,1.023311705694529,0.5198238642509554,-0.5516458709988742,1.2321164898471004,-1.0559979375628936,-3.179865400169784,2.8310769772963087,5.190451638361266,1.003285571263125,3.042381173620126,-0.8453872579101785,2.85711287266936,0.11178251807617767,4.1119099117767455,2.3686488837979094,2.2679199533854746,7.039033825694432,5.319112684614119,0.6684596003803736,4.592101739297029,-2.013440103964086,5.880334834311246,0.6598699119196941,2.7997719904270975,1.790391646692249,-0.5516961260036074,2.493813746280499,3.847324234813045,5.873847112010767,1.5297365641140193,7.065460633030224,4.537394727012713,3.004122280599118,4.8129845497818895,6.946594240124254,1.422209089976085,1.5118494805971268,0.18122845350597916,3.9223893001097268,1.8960861656183337,-0.07682001643679033,6.791547978825538,0.5797031651573036,4.196833736356381,1.3727320214165735,5.0031287255346815,1.7622314451364278,1.2664235467768343,-2.1116498567097017,2.1943398050890566,-0.08766935003894208,1.3904133345712897,-0.08162096865695306,1.748374096417373,1.6783498840724242,2.4160859666402015,1.5488104302235912,2.1531331284034625,1.0817816258053328,2.1580218247210357,3.606333380017878,1.5413210999291418,-0.40526529365488473,-5.683899399490318,1.7328226931568578,2.329361370908149,2.6363228274191552,-1.1310116861551376,0.11301799958194991,1.051382128889831,6.165124082761878,0.6104356027377542,-4.106364974614553,2.443362582736784,2.979031666524628,-0.16712152100032257,5.186923968588502,3.6547644559875017,-0.5963391859357395,0.5512267665396252,0.9855315509923289,2.304017002065366,2.353730060019069,1.6329711308168833,3.8787067289143526,2.752060964508248,2.2586996116112967,4.354903618468913,0.9987941259323813,0.49230254473582163,-2.886467970909554,3.6922829154286156,5.065130147025301,0.6846368290190148,1.2827019090596676,1.5790387881189674,3.925482976028718,1.7753165615211903,10.335208311204278,4.580122285725511,0.2062726956276933,-1.2614779479893217,4.0942001588297225,3.583573296545032,1.437949669598764,1.4942674607745379,1.9725765794466743,0.9566996011857846,1.1351474909439188,7.360132439942,-3.2176530847241063,2.368543030978625,3.370706811039376,1.1914422629918449,2.6701695240081014,1.4150059483042985,-0.02568647370601538,-2.043578040318362,0.6611508907595992,5.563383055251272,4.50938325405462,3.085224571671378,2.060197370062205,3.549665703197638,5.953247018672487,1.9119592206430858,10.449890222505877,1.7221484927745379,6.262863249492542,2.092431411238824,1.668506964814602,4.90738252291921,1.2129561047056883,-0.22726639816429536,3.4178051188315215,0.4406661870970889,2.105052864004177,-0.9980223187431718,1.3226072612937434,3.213231469157054,-1.2954874959850253,-2.8496504785701906,0.06904222753359952,1.4463752490384134,3.646886689932351,-0.17971861682124501,0.40952650805713947,1.276015134662925,0.6841013800028963,1.9769671330252032,-5.659824292056048,8.499255113225349,4.516793042870396,2.621572265182023,-0.14908899581149918,4.413599180892383],\"type\":\"scatter3d\"},{\"hovertemplate\":\"color=5\\u003cbr\\u003ex=%{x}\\u003cbr\\u003ey=%{y}\\u003cbr\\u003ez=%{z}\\u003cextra\\u003e\\u003c\\u002fextra\\u003e\",\"legendgroup\":\"5\",\"marker\":{\"color\":\"#00cc96\",\"symbol\":\"circle\"},\"mode\":\"markers\",\"name\":\"5\",\"scene\":\"scene\",\"showlegend\":true,\"x\":[11.043613216332707,-4.546636941412192,11.55959304979089,-5.725024851556328,-2.107002187608892,-2.9115622905585994,-4.464408081391271,-2.5820519986755084,-0.454503114600363,-1.0983499529786505,3.5456737887133345,-1.0188545468308514,7.385844952074972,-0.10127077928226069,-4.546108075438784,-0.7857910950745532,1.754832421130379,-4.4143970058926945,-2.5352280212203078,-3.2244408644800178,1.865737067429097,-3.856372566602097,1.008358404307152,-4.848649123652128,-1.7591520587663783,11.663155190941405,3.7140797264214127,3.2698027027373544,-4.9747487905704055,2.3304895461536934,-1.923090361944321,5.452972226356912,-3.3105796713444393,13.61693012484636,-5.50596408211944,-3.8402677890056625,-4.620192637555802,-1.6720730907513324,-1.1781945873723982,5.07436136787813,1.7490262844384559,-3.9872958349928918,1.22031607818824,-1.428368288184286,-2.5071697853378936,1.418679779132028,1.8708690643806616,-5.614891030345481,-3.3158848508185677,-0.8752163253335153,2.216894239660662,-2.0706358349352243,4.629268803236488,1.4314963282162312,3.633105854290191,-0.009238868795658996,-0.4976436275469781,-3.8400275573551257,-4.73815674433969,-1.7175448869118897,3.4172530814642768,0.46206341618386043,0.5385429746772926,-4.212997488164932,1.3779005757570804,7.312647860358295,-3.172889925361922,8.56423911661513,-6.124680065162625,-3.994150377129003,-4.436683050002522,9.369956465587912,-3.8416831447273077,-4.629361403099552,-0.44092426962517545,0.6203861840061361,-3.804517013266874,4.133949471520779,0.39823796545177437,-3.9854955572513324,-5.384497582796098,-1.170077963689266,-3.885321452818359,-3.728496170118564,-0.3591457579428093,0.1344781769344797,-5.300679625266438,-2.083158393522696,6.866478964573864,1.3686447829225203,-2.2442639701899965,-2.204575591698522,-2.483918547524447,-4.173174648390493,-3.612208377372384,-2.9755876839448474,-0.3585098377905194,-1.2102910163964546,0.7135933365218917,-1.565875714513658,-4.824607375436715,-0.43023470076310233,2.200546146707103,-4.853356498496198,1.6988795776034769,-4.538724016507161,0.2746747012116152,-0.8554870391956846,-6.002164981036058,-6.045995409332901,-1.537482668774034,6.3419529201573255,-1.8540812348270865,-2.0332973499990845,-3.1790815643865984,-1.287683656258165,-3.318584475086296,-6.37137208053964,-1.306738686810762,8.835673121192416,-3.84570130288719,-4.317596266990605,6.040442964750541,1.0101923310051995,-0.5968220217568907,-4.0591086349485455,-4.017741860047034,-4.849565237621743,6.987207544285698,-0.414450043090606,-3.061575291815824,3.7211829534391136,-1.9330396223801487,-4.5489173950803545,-3.178977911430805,7.276671422312306,3.2668703925734874,3.8359451005278142,9.324154245093737,-2.2196359999254,-0.17412087381303823,0.907385516712121,-1.068773523375185,-3.1843549933527946,-1.5326395672667057,-1.697697227443951,2.373824524352359,-2.4320198163834528,6.472156358489732,-2.6939462457209777,5.77502295347873,10.233944307314335,1.6398659735575998,7.373802148241448,-0.6293215784742411,-4.367299641980395,6.6350039114127135,0.8452641920914284,1.5094621227384395,-0.08419956631596397,0.8164820660034581,-2.8208005141429933,-2.354340165637859,5.333387240622795,-2.4019630844781625,9.242223295828909,-2.3526836794491253,-4.1815822228841695,-1.9371826300048245,-1.7218033765412926,-4.106207374611336,-3.028566629450791,-2.3124997706123116,-5.927071050424151,-1.820393182887561,1.9171315806407436,1.0859528735322275,-5.289915746857333,-1.7126331899196263,-5.045075787684358,-3.8786481655077827,-2.3245769650767008,3.5842490622350285,0.17839984064591952,-3.696086450601629,5.406084767474596,-4.487538935644068,-1.1428680988142799,-6.643415976254797,-1.488246183566017,-1.952569448763222,-0.23973761799084384,-2.673343769454457,3.814572065827895,-2.7591920682693045,-5.179710857320885,4.589234672552455,-3.89746227096356,1.750985640789806,-0.6410061152294186,1.6568843862226714,0.36664945301422364,-0.6821264704689969,-4.879697405649335,8.276815054476312,-4.088371079446505,-3.7145551834780313,1.1081533182389813,-1.499791697860895,3.9503463368597482,0.36262927484523294,3.6905822533104784,-6.426603597567758,-4.599696891402453,0.919232574609584,-4.533449584452094,3.9602738069350933,-3.4905243494538687,-2.5633431608612156,-3.171506083105774,0.600764821586206,1.6591149578435413,0.4291655506665373,-5.086555519069486,-3.8538497239144895,-3.3993690286027873,-3.959069859976028,1.0643714960353212,-0.7408408991329763,-1.5820283627172769,-0.10672919346101258,1.2985103921936947,-3.52927373640943,2.857416181019433,-4.65948837501286,0.6780273715244576,-3.5906861071124463,-4.393534158828465,-2.209513328984314,7.269560754474499,0.2425245433151244,2.010695964546783,-2.7288823127873743,-0.2544305328781661,-1.9392898748286678,-1.7587857497020283,2.9079788797302295,3.806166618599304,-3.244076890512556,7.0473221049989965,-4.020812429331381,4.709039043975288,-1.6594068263391322,-1.226100497489569,2.1051708085630465,3.6649926991327786,2.411832664559894,-3.396585043498484,1.9982980407641737,-1.1648391038544859,1.5419975768193435,-1.2642406589994741,-4.282974024077414,12.436367687800177,9.694377232546135,5.045229091046815,-0.31531142081959423,-5.967469543672736,-0.2774893631822891,-1.4623573800201655,-2.396005069299842,-0.528836634027973,0.29306675232111756,-0.9649107547219808,4.015331381720685,0.0028767601125582955,7.694401740021552,-2.3885164724256627,6.077466128685368,1.0093484905296688,-1.7845176967714298,9.771723694405939,3.7902831947739286,-2.910806071465622,2.562942895842098,-3.7779836017218873,3.762489606576564,-2.809932423228103,-1.5550258787195683,0.5415026762448852,-0.33189405231001523,3.0113533841998787,-0.9457527510697369,-0.8302723808565696,-0.15826669504449573,-1.9452622001507052,5.387468450872752,5.385823829339965,0.6543397389394271,-4.8744794389678825,-4.940557901401681,-0.9401961871414217,-0.33588166267791236,-2.1098821464452926,1.9449744279697911,-5.6229044116667675,-6.456634312377883,0.6164216016369028,-4.267437644054716,-0.8069200238533857,-2.3961404632355694,-2.8531449801665305,-0.12121661536210547,-0.24614593184141076,0.037162042308738645,-0.5851386852726433,-2.3195432136908787,-3.2425089043102333,-4.486450382359379,-2.513781050982441,-3.5660130671556796,-3.641766860641813,2.093730138270904,-4.340445456421411,3.6152028050957252,0.49734834005844475,7.872464732273561,-1.6038528309724691,-2.357507740578366,0.842704272128377,3.902745787473637,-1.8416736210366758,2.685191472212214,5.988239387952643,-0.21106274656142643,2.682043091122026,-0.22126113460621308,2.7932856046592205,-4.355339987328024,3.946895433449285,-3.3151667305538743,-4.507642252974917,-2.846983497698405,4.504748738495704,3.515929743718633,0.7790922260447123,-2.8300874635351407,1.3069350521266712,8.276506721213611,0.46218941948326325,7.7027202817345515,-3.415589191342828,4.810784075500383,1.5497645369091375,2.7792150474618103,0.765143622857575,1.6488170209017259,8.272593382031458,10.895658068282971,8.106464901594538,-1.464973837693618,-4.710901760215289,1.7044003595411743,-2.2704597366285517,-4.989182367257273],\"y\":[-8.311537135827086,-4.80247973916156,3.5088537234323836,-6.523999261039295,-5.496681295489626,-1.0235381131801384,-3.7891637531292206,-2.6668143016263124,-3.9476066843992927,1.0016323982359214,15.134628138076762,4.567517195651316,-7.088777411599229,-6.587420156124145,-3.86661025461102,-3.722997398873768,0.26704717909201586,-4.494879157509897,-1.9789555225977884,-5.900733046789746,2.636363638891687,2.2076394740585488,3.873791387841488,-3.1611902262156364,-5.305927342655176,1.7247537043719439,-8.450405697714654,-7.636404003513288,-2.336286070319043,-3.8836350616467192,-5.530540447302754,2.5564245608993494,-1.4111111588653935,3.8125510612852196,-4.603065093570023,-2.4765948586819677,-2.995932722874967,-5.732477805960048,-8.646467247625608,-3.218388546555276,-6.76350242087658,-5.159180177768192,-2.30380995872344,-6.528959115736105,-7.312441021697072,-8.185368290447668,-4.584479444293659,2.6872212542237723,-8.009686055804252,-2.8636379299114365,10.00707639397629,-6.535312934527659,-0.47075107896285895,-5.316440351616773,5.609888671630395,-8.570331484242066,-3.9916685654348543,-4.723869072568739,-3.5523820392570005,-8.488803117953042,-0.4083605261195059,-2.1601792408813805,-13.20667616620279,-3.6557814593706524,3.950268314059142,-6.519621786304354,-4.042604558455911,5.184417103896724,-1.355352442288182,-2.121107267742782,-6.258670335853432,9.73657109971007,-4.446344871015248,-0.3292664974074303,4.259700650553671,-9.225609548236287,-8.340458392910804,-1.6495917996526712,3.82924471967743,2.171886617628855,-3.553353682273017,4.350487896340916,2.6837810116313103,-1.7509965676430226,6.302669008254699,0.5988501683943745,-2.4517403181777535,-3.637763093396803,4.633499883039611,-7.930109891925494,-3.5134002798781783,-1.2443526025203413,-5.997707949152048,2.0143018976706983,-0.8650982608353822,-6.000034462916081,-8.782263657518895,-1.7137212671170414,-3.1956314220661093,-4.587438670598986,-2.5141379001904807,0.3643942486128033,5.034632466516375,-2.7231412338026435,1.3023399368573738,-1.3877945066936166,-7.2392278879466,-6.290175802511319,-0.4128070218179953,-3.180439582981315,-2.662988421214924,-1.8647214303422777,-5.819067132885658,-8.660866063072447,-4.120952764760842,-0.6621294867621794,-3.0328801847733824,-1.2358109464069271,-4.104723162086285,11.478992142526998,-1.6135736069451387,1.5159716428833074,5.876118452111829,-3.9066912077891303,-3.6079479075168184,1.6333880873471112,-2.886575747754958,-6.3620716604466345,-4.232684950828225,-4.442855142279073,-4.787052317231655,1.178941949030098,2.0648292437223374,0.06647323887519646,-3.390427465264683,6.760728691097702,-3.779215288822647,3.6449519329859688,-7.663480258613741,-5.481442860766712,-5.1823533511935205,-3.331451494646007,-4.327941221386016,-5.018784005602221,-7.363193678716278,-6.8908359212742285,-0.33825895953036195,-7.2734201642412515,1.671752192137619,-4.096209069635098,-5.513362962881596,-8.487506822858537,5.7190184408773534,8.690524626112449,-6.618629599983016,-5.487865159579131,-1.3957632495549772,-6.641332136940568,-1.7355640367529803,4.112157988130141,1.1792586211049938,-3.553655454360682,-6.158037039486859,3.3490470526153406,-5.678466827278877,2.3226334490007785,-6.4056544606227375,-7.210671164999536,-4.184249687926819,-6.5852010447367695,-6.549155450413175,-8.159854883935834,-3.027086022797855,-2.018688080766693,-3.0552766935422846,6.866301962442667,-5.899115505076556,-2.672124404543492,-0.7905812377844046,0.07021172759994157,-2.9598621979877477,-2.354162007406399,-1.5354754810825118,5.586156155824654,0.9279973582964995,6.425875357625192,-3.0195802539230296,-1.3596687068151774,-2.2858733653770735,0.8370711720845704,-6.713289295933919,0.21305797908563462,-5.690407126756221,3.5027447914528365,-6.0223306541313395,-2.735389679206337,-3.043562294926135,1.6663300673884118,0.6158593674763281,-8.320344408365449,-3.0864398671845774,-5.778520748554354,-10.064315508538158,-3.8946167608406634,12.923547044928462,0.4115132034478996,-4.7833863895800866,-2.0940160415767894,-3.596663109302625,-8.601932920657482,-2.4546115671800237,-3.9050036359335465,-1.227451767248709,0.5589801161488334,-6.813607566727729,-2.308171523388214,8.090562781754835,-4.651480473313067,-7.227291258131419,-5.032765179941256,7.893587004973654,-6.881655482636222,-3.6709764090518227,-2.819219699334196,0.14629257472579044,-4.146850778817441,-1.7399714683050536,4.663037489590617,-0.8117765203433817,-0.7604832598640798,5.14212768541876,2.3803591044643344,-4.035265712722096,1.9840166205728504,-3.2828593917064235,-6.75006079839996,-5.236600005401,-2.2998538743195955,-0.7687603942039187,-9.522241144771034,1.4003176963711916,-1.8554423781956397,-6.43036709665077,0.968355233928478,-6.604037369811022,-4.909829102709491,1.8074430688398677,4.576202951860134,-8.178237922695303,-5.6960945599997475,-4.435823386875738,2.1104100387832023,-5.922768913931692,1.1729933277928912,-1.5908068516971676,0.4309389381863982,-8.268484343769954,-2.449987584232668,-7.706568836434702,-3.2894413357973877,0.5979431079409658,-1.526154093281355,-2.574919476520365,1.6399636619911753,6.25637786385466,-6.8570418357517715,-5.137914690217061,1.4165102089094337,2.8724658680995425,-6.482020207825163,-5.827285456822187,-3.2163910561960503,-6.182057535153893,6.205385035319053,-7.2046305766127015,-4.773330390261261,-5.146491394094459,-3.5136952180618244,16.43519122138795,-6.571857002783702,0.8898240962889947,3.7927496152930558,-4.16281722884618,-7.169926749076586,-3.6268910396134446,-3.2131151602419425,16.396600006898577,1.7374807765434195,-2.1654853778377112,4.4992623294308665,-1.629383336382682,1.2487746228334897,-0.8051731241203881,-4.989375359370222,-4.1086966851194875,-5.59672522603785,-6.456441526140969,9.051206350753437,5.179960445451857,-1.512737787202806,0.012498195151225282,-3.5159715102776747,0.4498886125524635,5.794602954029896,4.953112962086686,-3.534808069293025,0.08041520261563408,-3.3863548057167403,-3.031022493569799,-3.7731086336958635,-1.6246945236773995,-1.5356367937516853,-3.381717648092735,-2.0262149034740293,0.5778704885405362,-14.13645637700237,4.287663029885401,-0.88110197080888,1.9464384100282175,3.285583745880888,-3.863239278746592,1.3334860247951612,-3.133771826016355,-4.8947697568398585,2.9698441695885234,1.2398892355942008,9.197313292877634,-3.010406241807487,0.8984828281678864,-0.7851917870078023,3.643823985895529,-5.139507637577995,-10.47754768498189,10.213145890880403,0.6107949233526825,-8.127738187598107,-3.240445354696619,-5.1698978966375115,-3.796181755198983,4.963316311977587,-3.8988480135755004,3.080460894788486,-2.9644955938515025,6.57496476735019,-7.15891646420504,-4.7129416613374975,-4.442217749621598,1.7255842908286516,4.171141802244793,1.3010782058461048,10.265473968202446,-6.181146538111926,-11.469333637756074,-4.023769391136727,-0.8515709573627688,6.725651188353043,6.474111312922233,2.7154724419916243,15.168958880193747,-6.004901770872963,-3.2935881427962768,-5.071778708718895,0.5387766094619839,-0.045330480732517595,-4.777214070777943],\"z\":[2.537364760003816,-2.2480615142194575,10.291227925553855,-0.3156363601897031,-7.484649579636317,-8.27797723894717,-0.5549819254119583,-4.440580307194648,1.2184728320996823,-9.698460794637496,1.6038879332214178,2.5826665076185478,3.427816193240097,-1.0720494672377918,-1.5917645245627603,-3.7439286984644067,-12.486659438330054,-5.986037774561725,-7.422718260005045,-4.630606040954057,0.9743854531663366,2.847653731830207,1.6945093382239194,-6.979806322718496,-5.7228327327780875,7.656492560352019,0.8006782353897713,4.1956182501995825,-5.8511691932483805,-7.853987237863725,-8.878052230389802,0.7738132823680226,0.09084106461042178,4.388384211788279,-4.814489359100266,-1.0583432538118918,-4.334176153797979,-7.136096650435541,-5.1237929775392566,-3.733065256424849,-3.453761111761239,-2.7168748899725457,-0.40484519477893094,-4.47150294690488,-4.27531785398551,-4.455400103435415,-3.5404118751315385,-2.7256870688965913,-4.177556527891153,-3.1646585115122057,-5.331613090258977,-2.962396307108303,1.0785932308027826,-5.512512152867618,3.585719006560928,-4.066945642118946,-8.117446775721348,-2.019818113401824,-0.945065968977927,-2.201651291173801,-5.5268361879328625,-3.2647532226466733,-3.4582579882852915,-2.7026969289153286,0.6683050505214776,1.9392559079243272,-1.78484823565351,12.483594854472667,-3.0177883584136547,0.5798579072694866,-3.6366504104880844,6.608215255798967,-3.345096818457758,-5.3041919336839305,-1.602921520449161,1.4695911864564557,-4.421770162783308,4.629758093958456,4.375802307692604,3.1688960592610877,-1.2614522167016218,-6.720605299343201,-1.6085118024933742,-2.9439135128752376,-3.007079255688906,-1.5750871506788702,-6.822084831085084,-3.4305296589640446,6.449691413033483,-1.6095871776744513,-3.0318024495423876,1.486955229697991,-0.012169095083795163,0.6819105064593133,-0.5568211150054507,-4.093464208748926,-5.858703906941712,4.165294756727872,-6.989166916004173,-6.27527859244593,0.6708448002060942,-1.5443799345400537,6.426354357695759,1.1910751846861847,3.4931495804252926,-4.2704876477462586,2.9264974648158066,-4.523176415677473,0.1619512348230559,-0.8291239960870873,0.3240452889113196,3.8027926488421135,-5.261003723759191,-7.817324835507967,-9.04991508287111,5.087287121701974,-4.8346053701657405,-3.9901125376160445,-6.961630247037065,1.982960509598021,0.7313151896869532,0.7789433283307686,-6.935472968737668,-5.5852351742664075,-5.3902921343265655,0.4677770263482783,0.2419322170004913,-2.4651669701768855,-1.2682691462752895,-4.9486509738120255,-1.6149060166239853,-10.83934771730692,-4.149741811465428,-1.9242726779331867,-2.6547244157412617,4.820836896271002,-6.3789012069493,6.874203803048859,1.1468201857733666,-1.3968456027777691,-0.358975983491571,-0.09728405580142328,-4.67336776650659,-0.534606450417485,-4.394350785548463,1.4241020893827752,4.027526033150474,-2.8383824492141585,5.69374636833074,1.4589133983305866,-0.6314324846481315,1.8019083371342968,8.203392248789726,15.736733936948788,-4.732781591637297,-9.123062771530089,0.9341596390130066,-4.8733558409771085,2.7565526529559845,5.5474255605182705,6.2419277675143485,-0.00020021776246569733,-4.467420722217187,-4.873757047011391,-8.827199457729224,14.813894690907807,-2.112067800073612,-4.2169865617316775,-5.842615180838224,-4.126332231436146,-4.424484790401541,-1.7036597509025755,-2.2053605518307293,-8.015904749361626,-1.0993616144636913,6.261128551275005,-2.271522629264442,-2.279911637715279,-1.3789709101464043,0.040793575926983294,-6.683225051750836,-0.8064074706643488,2.817793335409571,3.0939491499209377,-4.819457674451108,6.471911476235249,-0.7427773211210288,1.0607326719764276,-0.5246839370566502,6.472195864251573,0.6653911210003934,2.5297847832107028,-4.3428785301279405,7.619541494186401,-3.098050984867566,0.5059106373180776,4.676935474204208,-5.351266516868905,-0.6354008476878672,-4.713275600501091,-4.217842535773032,-4.993591880329305,-6.090699344709249,-6.36335271036623,-0.11025222933214505,-1.2025416001258398,-1.1717519254907616,3.369888496945184,-4.129065385041768,-1.1392455540290272,-1.8627095247612604,3.903702027024674,-3.0463573104719472,-1.4292054680457258,-1.5455540518299016,-0.8123527535803753,10.468272612502815,-1.076188323356009,-3.8440898067123355,-2.8668274119909465,-1.1654834101080411,-5.202802297165911,4.656509086117763,-1.9061464660762304,-2.8979576402456626,-0.6679120607681511,0.7948971198348657,5.6077610293706766,-0.00027243923129836335,-1.8816898169339424,-3.8215148827431227,-5.160882553324727,-0.7879917318193926,0.4821607538351599,-3.5373980175746933,-4.947100622145277,-1.845734132023686,-2.5468270076227766,-3.8442093016417913,-1.255007820502083,-1.4095588001663273,-0.680366521755672,-5.787385244900501,2.3460590509363812,-3.721686710699011,-5.221630788104358,2.2678753655691284,9.02541674001185,-1.6319979671414253,4.971736431576062,-4.576970367819217,1.2378384590958151,-2.5140087232374775,-6.496279064401743,2.5541806173722916,6.2318141702660474,-4.857376542509601,0.5784088988553602,-0.9005835170038998,2.814812782222594,3.3043443040280405,-2.7571775330934916,-0.6853581544895985,2.401605759212006,7.833960662326669,-3.0967958738130057,-8.34386529826428,-1.865896020272715,2.7783424325676154,-2.309169941485694,-2.0187573085667876,3.103602842767377,2.5588931305670175,1.0957191489391183,-3.8254906626990186,-3.301741808259989,4.652881635070966,-4.6355373306819105,4.48467321999065,-3.0988154356169813,4.797928692294715,5.033314534244469,-5.560517423905991,-2.6760245562330804,5.692421426096561,-2.5630760467202736,0.37948880140135716,1.3356653132068494,0.10455919829804039,-0.883988424352995,-1.8601484540560307,-2.6929024672896085,-9.281152251378764,-2.9635779102016264,1.521721194161932,-3.79907260099035,-1.8148215742969382,7.686697065588206,1.4877982455953582,-4.927896491243909,-8.424594257839878,-0.3540022196293105,1.423661266025207,-7.260330237864753,-0.050472363989701514,-2.9230476506437744,-3.244067610356611,-4.7538943061842724,-1.7878977419454443,-4.312782904910491,-3.7093938437065552,3.589519874786611,-4.618079489310005,-6.636715653142027,-1.1257211442332757,-0.9368600903758055,-2.55943579432011,-2.494510988048791,-1.9269905018138904,-4.5731424475849645,-5.315071556846042,-8.199490231849389,1.4030238285872365,-2.5710933229324464,7.018880630178992,1.6625532722842937,7.60660895053188,-5.489195597048364,2.052769152157794,-4.502362845733602,-1.3836383729113035,-8.578245101001317,-3.186358858815475,5.439419035708734,4.84960707389685,0.16061308988516565,-4.198500221589796,-6.130403469705244,-1.5166653159036287,11.54692706689277,-1.727231527982283,-1.48758462792486,-3.9280166958053706,2.5934289479688135,-7.2635226418336005,-5.685999891696704,-3.627544308912417,2.1881718574790003,10.972630072197125,5.546326703672508,7.429154007829637,-6.714981618221996,-3.0697611095167487,-5.9426027076996855,8.156314200851318,-3.9757148046071196,4.821253111534472,-1.2098589794121544,5.7751734305713605,-0.921900899504519,-3.567820681110535,-3.2444972085582378,-0.08836619310031428,2.0999411134101797,0.03746835112017663],\"type\":\"scatter3d\"},{\"hovertemplate\":\"color=1\\u003cbr\\u003ex=%{x}\\u003cbr\\u003ey=%{y}\\u003cbr\\u003ez=%{z}\\u003cextra\\u003e\\u003c\\u002fextra\\u003e\",\"legendgroup\":\"1\",\"marker\":{\"color\":\"#ab63fa\",\"symbol\":\"circle\"},\"mode\":\"markers\",\"name\":\"1\",\"scene\":\"scene\",\"showlegend\":true,\"x\":[-0.9684261593589647,-7.103270753654988,-7.536998800930568,-6.578700951589705,-6.195288617819705,-7.139345846355662,-7.941396382371201,-7.422524229140437,-7.5662570983438036,-7.189306207306039,-6.5522099214454546,-8.708696431189852,-7.389253344960017,-7.905824477871176,-7.83035994949257,-7.964643071745476,-7.475682824995432,-1.7461196541643829,-7.726468452774647,-7.809172104284196,-7.220571589504731,-7.334861990869597,-5.862866010237193,-7.772683784811564,-6.33138981078332,-7.836100528595695,-6.4571940953914915,-7.430241105283805,-6.809885760940738,-6.850633159660852,-7.745698012824649,-7.0680239847687645,-7.716671527082548,-6.713059435011178,-6.140360444273764,-7.994661390215876,-7.475486366126924,-7.680858384849305,-8.152506032089823,-6.814911730665886,-6.569538762507932,-7.561786623599826,-5.081553564645692,-7.91971129229293,-7.263418735967052,-7.589838586153136,-7.666983841576929,-5.851275929830033,-6.587833419805689,1.0238005781738373,-7.066370027528447,-8.323948873817619,1.4499415553212407,-8.475318758696348,-6.081292832709169,-7.76420847833663,-6.3625216887647404,-6.9565080549157425,-4.017777863155092,-8.531897057869145,-7.203729205814325,-8.228651682677675,-2.7344261735169684,-4.931421515344745,-7.1346291581492745,-7.361544338124368,-7.761072561414867,-6.940764587431774,-6.907256575861314,-7.298237479200967,-7.6645645047035,-7.365084515665806,-7.42326626649619,-8.47895292662052,-7.702655950580087,-7.773505468057179,-7.55496847405925,-7.710450598018834,-7.50235254469027,-7.4193033026677515,-7.538571696297216,-7.423023162455502,-8.481558611113844,-7.504981426792515,-7.1970783596061425,-7.6862459837303545,-7.575479487269664,-7.858950893864689,-4.812141810028354,-7.710104303128492,-8.010253756549854,-8.024945587660492,-6.898840817675481,-8.504488880525152,-6.458250095220068,-6.849914030433318,-7.6407866408809975,-6.371090929935831,-7.420296742751744,-6.170664446806964,-5.0895870632951405,-7.741769582810645,-3.8574791331479967,-7.950035524247995,-7.353415088399568,-7.410387549674822,-6.946427434458357,-7.836101596124682,-8.125117012686195,-6.7432102830556975,-8.812413643309004,-7.821668689437792,-7.438084632750198,-6.836517558113078,-7.7391929223745315,-6.189675705750692,-7.763139138883923,-6.1501458972638865,-5.0605717665402095,-7.338818811258942,-6.995483867412551,-7.30485030670262,-7.251013738800519,-8.350318612468758,-6.818041124219312,-5.744938612588098,-7.7631736530479705,-7.703126490825632,-5.190914214378955,-6.6583956763486505,-7.553121708592974,-7.500990693370134,-7.51305385436116,-7.0676385471094925,-6.812729885236855,-6.019275631397924,-7.372350750030316,-6.810306522059292,-6.427822779071513,-8.129019923898527,-1.3425374239593322,-6.472912957462379,-7.471959690856644,-6.398362560107327,-7.632647065847556,-8.18640546537755,-6.004263627065758,-7.636034273584,-6.945991871439216,-7.070583901310999,-4.058868372338568,-7.368218856471323,-7.109945457108625,-4.4825830722323285,-8.369880708746575,-8.195780107381927,-7.677336884048554,-7.724146604748884,-7.469542721803321,-7.582855241773428,-7.382388255191634,-6.803317533807243,-7.843559870414907,-7.417063936643075,-6.166890112323516,-7.562264183595283,-7.917171588734721,-8.143574707069913,-7.510443523405819,-7.860343102023949,-7.595595955324744,-5.958634056177252,-7.142551740799652,-7.977676831877569,-8.650157763696754,-7.871857464302089,-7.352376484096384,-8.467999900357869,-7.388676128145276,-7.79528137918758,-7.427186730007252,-7.477013697231519,-7.726399862288123,-7.720827784182879,-7.321569724920121,-8.070494824204538,-7.938215073246425,-8.014942405184845,-7.726170030950417,-7.547284567208196,-2.695067281453816,-7.232847246813103,-6.13923084404533,-8.472663590614255,-6.456846494196269,-8.269036290800802,-3.3389490337952905,-5.115732566676071,-8.002382330309935,-7.718897463849158,-7.768424741740971,-7.5449580220616435,-7.11635774449086,-7.903370846759148,-7.628815024102797,-6.370874226417425,-8.17253010939779,-8.600678571137635,-8.171759064023693,-8.018436901500026,-6.986332449522784,-7.157433651173455,-6.420307692659875,-8.170970365287303,-6.460740770332645,-8.151560803303257,-8.059680340843228,-8.679897925971924,-7.614100571675854,-6.422111793253813,-7.961445284588423,-7.826071241353026,-6.130089415715743,-7.118627398224702,-6.709870507370663,-7.048208972476439,-6.857025455655985,-7.856017325512791,-6.307737848987342,-8.474005224320052,-6.704200038769504,-6.717415868302683,-7.761174207768696,-7.384904957139288,-8.24881076770832,-7.6931169896561125,-7.833643932735118,-6.051433100950296,-7.883937352655501,-8.161183496622572,-7.90953874094056,-6.727544872440924,-7.277655140272897,-7.707759561573867,-8.044789654472307,-6.562412945220259,-6.280006134651022,-7.29773808170688,-8.05423812493154,-7.705235093388557,-7.551902184300635,-6.745654676579577,-8.209741165729016,-8.012970327157994,-6.645915722089656,-6.568100415098849,-7.708371729214416,-3.163096889650158,-7.291004170007221,-7.5911342896769805,-5.9646788204041785,-7.053613769466828,-8.124447590575661,-6.121093727834734,-3.5722039323717056,-7.864196182663406,-6.385433552761974,-6.575358300933534,-8.448220931212882,-5.8286105650769295,-7.958734884758391,-7.373926791025835,-6.976853049628601,-6.701640197592789,-6.828426865077427,-7.365871662679383,-6.29041915982385,-7.781055679450096,-7.359326107416133,-7.0829775871691485,-3.8308054155345004,-4.470659790702597,-7.799702181861869,-7.370317409891841,-7.327603722546971,-6.732538262117198,-6.83647676264279,-8.231543856361789,-6.707911174091706,-7.553422889647053,-8.039797086598531,-8.027601577886506,-7.214487138172263,-5.761741852307489,-7.073805756906031,-7.644395590817324,-6.942207775140685,-3.379851605148491,-8.737777965272985,-7.175227172706102,-7.803555209123877,-7.51267814809007,-8.21266128262226,-6.91814926070219,-5.704024716676985,-6.694026796978436,-7.7043460772417065,-6.870005194358139,-7.714705794702865,-7.959468325118634,-8.13587102881415,-7.268111479598149,-7.646667374693496,-5.724924542440613,-5.608532751999788,-7.331310218912297,-6.217117322261412,-7.2747813651582796,-8.17320022618315,-8.868571651768452,-7.238153036800054,-7.43312271085423,-7.329428917249256,-7.227663574098164,-8.057385902101448,-7.833269071494905,-7.325493417311654,-7.70352917560971,-5.625414837824786,-7.062325711710782,-6.88496164662061,-7.934613025702731,-3.156483093619229,-6.81062560558108,-7.461438869321423,-6.814771834850742,-7.611709380066314,-7.42671057773667,-6.813028252683839,-7.558825085087204,-6.722659523093323,-7.2286937402450135,-5.3663592974502965,-2.5981491361971867,-7.390999350258582,-8.012094749526181,-4.754676956523243,-7.587221263004861,-5.605574454946873,-6.708346678879238,-8.534424180184917,-6.735703723453363,-8.573882485637789,-8.194772184060442,-5.377116259857672,-8.407201240593503,-5.918371699751111,-6.388472200895839,-7.64715026445256,-7.730790376174205,-6.976328019715269,-6.990274267400059,-7.530050083150036,-4.345088586203885,-7.569388086648907,-6.884466967228744,-6.8556398650049735,-5.664178929575953,-8.466172322600032,-7.369717520746013,-7.649900473014853,-7.858506087270703,-7.870341883594641,-7.621657022717167,-7.184350073396704,-7.422419642611942,-5.355624506196037,-6.905280998015905,-6.519421133570002,-7.14246097823913,-7.85481322196138,-6.960401195765068,-8.460544152785282,-7.271547728963169,-7.901054458312363,-7.679873997091867,-7.637412064565204,-7.117505498066517,-8.35224220549899,-7.639740105477671,-7.635717393528807,-5.7995813618100716,-5.815274136490086,-6.812349350625656,-7.3779588672677505,-7.526611684464689,-7.396782291198664,-7.262305586337919,-4.243303023721328,-7.741685130295911,-3.5667106336150396,-6.256129978719716,-5.250587804635085,-8.514399950570374,-6.002393922269902,-6.995115621178652,-8.09012396505972,-7.636217566323929,-7.237164230594143,-7.849424212564097,-1.32362640234107,-8.34262098820339,-5.819396942562704,-7.658975100976849,-8.47391250516909,-7.925421801134583,-7.4080566293323,-8.426485882974394,-7.521986893756149,-7.435789843497792,-2.93587718245489,-7.601914759607552,-6.595226812358251,-7.650765027890751,-7.628049564491534,-7.346832264051357,-8.096320811157904,-6.879110459025877,-7.835639581500625,-8.11909605059778,-5.604811002627962,-7.5513355814935545,-3.334410416479783,-8.43170396846141,-7.529111254070374,-8.324051763898591,-7.07498809040953,-7.680200972285656,-6.624598542294951,-7.301086584030612,-8.426748630803669,-5.963249785073339,-7.44850320802127,-7.955644182655479,-8.085837809011663,-7.340137411860998,-7.767859870667883,-7.716351741856913],\"y\":[-1.0317118402862702,-3.6242240184120513,-2.3624888480636583,-3.1172654016572463,-4.793443900780408,-5.760382240807922,-3.464053178627557,-3.898533083086739,-2.5808853486081724,-2.469980311167733,-4.820880013782914,-1.6693577011122585,-5.20005739597387,-4.924498733135924,-2.01753957240437,-4.203460200210845,-4.142166264824498,1.172583981632243,-0.8493046036551262,-2.266688625071043,-1.6010014990970252,-5.227842298916384,-5.894657721110226,-5.284552721777685,-6.735491171653426,-1.005795979486891,-0.06731830619362414,-2.5399007970969834,-0.5274067284293025,-4.762067811101696,-1.5708684069985763,-3.033836388628375,-2.5049162934162887,-4.11673382940208,-3.6783464840419486,-1.7914088489856714,-3.060452174921042,-2.8146069770753837,-3.3067435583365867,-0.460761769985671,-5.560802339876102,-4.914095396188528,-5.286101512753642,-1.3757568595376612,-4.791178733052597,-1.4598683398077836,-2.224937908140054,-5.883935696865575,-2.963635269944186,-10.778712008678337,-2.248831118069131,-1.9942447825287475,-0.1680506911673281,-4.051254000706501,-6.391441632119537,-1.1273850427600849,0.44082217271814206,-3.2384791871143315,-5.796960704684125,-1.393169585364418,-0.19998553690036383,-0.39177593453068166,-8.160094806944135,-5.57650117190839,-2.5660186004106182,-1.7860010086998883,-2.5926064573871135,-2.166277275385671,-0.719929103005519,-2.7730293298943867,-3.0694119043659565,-3.386980138406172,-2.1461522834487017,-2.442856122085104,-2.391025827566546,-3.07505655690519,-2.1552814186290137,-3.2316761801260503,-3.5438253139962272,-3.343798689659856,-0.8776788192184497,-0.6969011190652808,-1.8572194477420372,-0.8837340524770688,-0.23547029200229988,-1.302911517456587,-3.540725200359844,-2.9426291905433217,-4.6030372919917975,-2.8320938839003595,-4.462997644082224,-3.309613957597243,-0.2638838008435168,-2.6826834318234862,-5.696093493924175,-0.6519179658232496,-1.6966389014619654,-3.8812980822645637,-2.694716612426811,-4.190444851254619,-5.994004689255883,-2.310624989366381,-6.787094752270877,-1.813795810089698,0.27100533411015515,-2.8987730365927074,-3.28565898693917,-0.5045795009352662,-2.817345064751352,0.21281712898170058,-1.642275115892601,-2.3092915575450013,-4.886051931126231,-0.7340111626041597,-1.4674643190626975,-4.648545995681638,-2.0066349622651978,-5.441378018267403,-5.691066838967983,-2.5291396173586906,-6.122924953759713,-3.066799999283197,-2.844055220890799,-1.4782836703643165,-2.816863402748662,-3.381051711265735,-3.5329906890721587,-4.454362164689991,-5.325585040466394,-2.423639099371801,-1.0788886973679033,-3.0488810242874806,-2.1980441946014007,-2.6347548140584083,-4.892732299120534,-5.7996414329383335,-5.495452516980574,-3.361997963914482,-5.792808449511171,-1.6089770302451045,-1.5431184994935998,2.1297252616207696,-4.3205629625051785,-3.999341139083775,-3.3084443121650033,-2.5814384453319668,-3.555577146049201,-3.5041357687753982,-4.393734912841464,-4.194944039024143,-4.022798466948451,-1.3835874394902254,-3.706902851930992,-5.479293435154929,-1.9449062389457388,-2.697934264818937,-2.1765694362896997,-0.7097250842249981,-5.489166125237385,-2.4027031822310487,-3.6792552545302346,-0.20261872134526845,-2.056447489399312,-5.091503619087112,-3.9838031427256824,-2.7152307357969487,-2.184924424625612,-4.063751654918359,-3.71338103816292,-2.3126927469651473,-3.0108173118187946,-4.745269820906771,-1.0637595300531997,-3.1661288124127016,-3.2450925944019997,-1.922186322403644,-1.062503073387046,-2.978166339649785,-4.230474870378759,-1.9518405182001197,-3.8665849962539993,-3.3345867084623695,-2.90201381865003,-0.9776916306996022,-3.523493561233104,-4.1008058784965336,-1.0341677006045413,-2.1787965704450007,-0.8446282311221236,-0.9549042608205218,-8.23272466702282,-2.727591396002258,-6.034026325915429,-1.9568566880406966,-5.775252805005035,-2.552324081936284,-5.858847976972463,3.0399804095376637,-2.5761841957812384,-2.6730014304776817,-2.0037781948063174,-3.7867720707282793,-5.90867887990621,-3.2387005490820164,-3.014154238375993,-4.334245768537588,-2.650001317693838,-0.9167982839685628,-3.0181373089119212,-3.2698676623356078,-0.48527588592414744,-1.006324315619207,-4.022033631257536,-2.9200497809536783,-4.3765361447249544,-2.50055348454621,-2.4329695908216182,-2.1139150937595943,-2.578728642659082,-4.198896987004484,-3.5493238421620434,-2.226094178211632,-0.675399086847811,-0.4559138226142626,-2.609457677574669,-5.84002726088363,0.2513601655822983,-3.513163454194484,0.5023305307467609,-2.5972058288711772,-5.154567826889366,-1.1177011533948258,-2.925086699871955,-4.065548296444698,-3.2714382326769935,-1.8062048912081825,-4.472992886949431,-4.1689072287472815,-2.6186013192408404,-0.9438199120006673,-2.955419176848276,-3.3155339217343047,-0.9567483454081154,-3.477246011342014,-3.3386269781377536,0.6644578929581815,-4.28138034800662,-4.4088719525122295,-2.2528592894065045,-2.9675216911001145,-1.1833658270151415,-4.961893141513181,-1.121322268007294,-1.0954417138721886,-4.897495691822687,-0.7118527815795711,-2.1986640077040627,-6.999334194274476,-0.5718282425731777,-0.7261155975728083,-5.775126561961432,-3.898049168231079,-2.217647043752788,-6.489594408630623,-7.531922528297189,-4.707114950098416,-4.699505253332131,-4.5471060206737945,-0.9552294118095844,-4.349439879881052,-2.279867519757671,-2.9485746751851387,-2.8254767045139166,-3.58187509985069,-2.611877150815212,-5.147807712085041,0.6750580414896566,-1.6882226765791744,-2.4109987746111305,-2.395623074825266,-6.446406840241153,-7.069584526405098,-3.6824091551016247,-4.661514614001611,-5.277494061933037,-5.882147992145832,-2.6399251028226796,-2.0419958386484574,0.4351608098589289,-2.892919381509735,-2.4584664515123764,-1.7613899275952438,-3.555848739520849,-4.746805670768734,-5.49938594107784,-3.652519145029277,-4.014517830456861,-2.6871620369074134,-3.1793861947859687,-3.862859727934784,-1.496966673804584,-3.741235321267429,-2.750297776382912,-4.36559796664241,-3.795901607694011,-5.585938579783093,-2.22113839295016,-0.19838545989894638,-1.6312945332647695,-1.0921755129113058,-2.5122056317081785,-1.477199859042467,-4.8403593259372935,-5.374113973748122,-2.6510472814208437,-3.275546809598362,-4.468427954552321,-1.0267318364922007,-4.263220176890027,-1.6423135274932534,-0.2946881384877522,-3.0198966048728724,-4.731492447363189,-2.550187566050983,-1.3784363761709422,-3.3500289418429574,-3.772865292036577,-2.7436014634699895,0.8720728794583886,-3.919512432264241,-3.0876867346556427,-0.3344813677862921,-7.23700525314973,-4.96885239150095,-3.469882976501395,-1.5887389179662266,-3.0702515426940646,-0.12423690663693343,-5.36106022001472,-1.9338444114211344,-4.562038547717829,-3.0728033386508993,-5.001991611312693,-0.8803280320032225,-2.529171265068711,-1.3319452474135658,-6.109658820613446,-2.5490240494827563,-4.929796278833275,-2.7956092868043405,-1.2661496860525219,-2.8088082608872664,-1.7058775296871187,-3.831690297091862,-6.705026537615829,-1.1483379932738025,-2.8758192520530366,-5.535201243501072,-1.0125561397960612,-3.8476420027682288,-0.44618384378254755,-4.441389533229156,-2.290380202376789,2.9618414334146443,-2.329585501492641,-3.4384364648868244,-2.944696719173238,-4.9230507157909775,-2.1101355462464277,-1.7656580258830725,-2.663694510721891,-1.8799142693329514,-2.7131538285230037,-1.765473674833183,-5.630474523145264,-1.455785474227553,-7.089745356074712,-0.24437159177160145,0.6028507645423018,-1.443826178765231,-3.418051696809529,-5.126835319849516,-1.4013357227700942,-3.8942353173768884,-1.1625381497679375,-3.5095769247125523,-1.5627578663237258,-0.877294612422889,-1.5753888279305421,-2.0182813604883663,-1.155479703241658,-4.997348563462994,0.3442626801724182,-2.998697464079938,-0.6670881361564154,-3.7345444621537576,-0.1265967805132733,-1.7655265242824827,-5.679497729941605,-1.1902986387262444,-8.473344228216055,-4.107544968701455,-5.660534317002215,-5.200690438574642,-0.4337553773336015,-5.302757685097669,-0.773732247396571,-1.8681620487273491,-0.4244545207606069,-3.6319950966893875,-2.242882163622114,-3.4105393081011877,-5.478662289754582,-3.1182456932879856,-2.7045440255994864,-3.118560291083525,-3.2532368851478126,-1.613745086268134,-2.881043025358442,-4.411911354929449,-8.642405883025782,-0.08747186817299894,-4.841119339847854,-1.1192545941667476,-1.3233589667406684,-3.306689607796983,-1.3320946329273364,-4.829509072279488,-3.0434451949073194,-3.3321902672484907,-3.2535564260699936,-3.051453981403929,-7.86028479066619,-2.314368806340147,-4.988969356184556,-1.6502041861145418,-6.104588835116564,-2.392013315845404,-4.204168646024365,-1.5001500360685214,-2.6404313730432216,-3.883435483959379,-4.226407846716806,-3.3328752309617977,-2.111949099196638,-2.734078672034221,-2.1798697477518063,-2.736844641337315],\"z\":[3.3452855909557893,3.826564030667777,2.738041414965733,2.9586473003819074,3.277321384542576,2.9611584650802905,3.1765373598921465,3.499014890752229,2.882791163932735,2.9314202257597746,3.450321698770292,2.1193530515328445,3.544430946714996,2.717712749813141,2.255031034856188,3.5291809683231707,2.8901437662458602,3.560585690822756,1.4984177536804495,2.308428045682683,2.1987640895453087,3.5428031960715156,3.6195881996550616,3.3452402221263724,2.1835702340883874,2.042976677022053,3.0334036378449167,2.9245243998655033,1.5400246928385342,3.9112481129199423,2.028971635695385,2.4873451445032977,2.225477032918494,3.669371158851411,2.015291200517293,1.922550633228378,2.653375814890784,2.542038566599342,2.6664542858863696,1.5573094443099873,3.6289211115955404,3.070617327252614,2.351107520942562,1.3799122380514883,4.018294493926388,2.6063588465065455,2.493827685148732,3.81753698705815,2.219436509001464,-3.8917231845150533,2.9568009093774332,2.1887035072605396,13.619015912666438,3.096262928917075,3.2513664225882497,2.4413765905454134,2.7422471953990284,2.751503138253186,-0.017760663040674068,1.9077939403812565,2.2453549715645145,1.8186105136166753,-2.7969489625694437,3.169101249428916,2.2095800076335372,2.1418548254613916,3.0840781982332555,2.3631149284381077,2.900464980547203,3.9024093565574405,3.2103794683124023,3.3330676794803367,0.9432334216387392,1.7773812643182545,2.657911001444032,3.122229217308484,2.8519361324807577,2.9855854229962433,3.8921959309446055,2.84801009848192,1.8875991083667245,1.9971124828189986,2.061004370020197,1.7104137073535248,1.121890608181286,1.781782678150042,3.114350456000981,2.7736291719540644,0.11207779416770665,3.07513177317061,3.1183464916144996,2.3999985025855297,2.2711190077451384,2.217809898173668,4.0947541636970906,2.5013979957416614,2.467708984276186,2.0111463233644504,2.8174782228101045,3.8085834673565566,0.8495550500036525,2.1912922758735927,2.1053402912103336,1.4833539205683492,2.091435154937719,3.032384018472643,2.3238856663250846,1.489418537353486,3.0094090184799724,2.2356527108118525,1.8577290351175781,2.9813052048107758,3.108532920426939,1.5975461419594241,2.3082968628201685,3.7496801529910413,1.876936554626186,4.535824132937287,2.673851249044055,2.572797824750909,4.071444145929832,2.893788167913103,3.331481849210313,2.332193550261714,3.4041946403449277,2.1843002739650412,3.3533361764686465,3.669946665209489,2.224449647830573,1.8305696133166984,1.863953075579055,2.4440680325923725,2.7972570595744575,3.090951560521096,3.210015460812369,3.2162519219439742,4.492107605894061,1.5280405781158684,4.226517466819497,2.0249946334307807,-4.716034051617068,1.8728684928709411,4.215081045243975,3.711087888998004,2.975314606877265,2.607466871127597,1.9887399939855859,3.506810125569338,4.070161640279643,3.8515023407039473,3.3372932166993707,2.187617960435003,3.4451195929889695,1.0834717948431,2.413204053902048,2.6653801318483534,2.2779065475758458,1.5859638394870983,3.8350877580937777,2.813318344666494,3.393228524010736,1.0550185410282582,2.5570416570753136,4.095891535651011,2.844790833884987,2.9489133206993983,2.3304533665906,3.4808056667678398,3.371970008391033,2.6193759281675986,2.528425931548992,2.9710966509436965,1.429165255082625,2.874303851894673,2.527474855919508,2.162791352606897,2.725618208340935,2.4235069446544046,3.359736335827853,2.527732362586398,3.218032568824293,2.6919908849920557,3.0047299363919238,2.189617684185998,2.2546320104394857,3.6534545966886336,1.6994807843892734,2.310445899066752,1.9144920142945965,1.7318924439487156,-1.01963772215334,2.8891219122669423,1.2566313483144602,2.0463470109791855,2.4318620481694744,2.8307447458642327,-0.25956335983449763,2.736084393469992,2.152674060821845,3.0565226537618067,2.2189474309298305,3.559750847568368,3.014826778986065,2.851450410168404,2.9665298158575997,3.8059667081725235,2.4104158017484405,1.7316974326486148,2.6556633799525478,3.4000098774961653,2.164576252385025,2.116771209563269,3.2612744031087613,2.713337268233809,3.107910373750815,1.9764712994835085,2.9058665917865203,1.8792275511494572,2.8496035424167774,1.7656586597137376,2.6565951770899106,2.5219604560792552,2.454160550606194,2.0415766129394983,3.2619014347389026,4.638130628968375,3.090865910302986,3.265951831329147,0.8636914037933434,2.4053351251090893,4.510027003695188,3.0459394433014175,2.435190177683242,3.968110994760393,3.2786240942113474,2.322572949132181,3.63533581599923,3.2621235405244327,2.5982263362828246,1.0018586985521012,3.8736069077995423,2.813971134044548,1.7430923697251322,3.1364402141241587,3.7532156142376203,3.178439971362888,2.664252493323223,3.715545259690515,2.198403573402169,2.8021003931398853,1.8562157285156247,4.384629279184368,1.703286918431237,2.126274552754035,2.3964893401054277,2.2947547770349837,2.503429096378571,-0.6785408272041105,1.4426720332367324,1.0343350296160039,2.8717817274977198,2.5107536213324013,2.6049747947307553,4.1433555884804525,-0.7917660100895368,2.7607995384713737,3.4353735201189437,4.223833363349989,1.7366739268128624,1.6203179129722365,2.3094298747359407,2.517008329236991,2.2209181377694875,2.147669197834486,1.5805296549114647,4.208301513656092,3.1168063946149176,1.5935028475628907,2.7076358848795308,4.405185283064315,-0.0677383328108945,1.0358888087768003,2.693960206948069,4.008090084750202,3.5645017339321994,3.278319782189359,2.5175715485149386,2.744085873126006,1.0785318886969093,2.749031272829649,2.3130825777459694,3.141512663372456,3.4957200628131258,1.7469917514188074,3.9572561491394995,3.4401129438337406,1.985029164745163,3.674811787918475,2.426503535299074,3.568221689785428,2.046274993564518,2.6020780706834588,2.793431651624474,3.778007167117786,1.3974468238754694,4.126944264202135,1.8472408327266423,1.587611068122629,2.09154716174751,1.8196564315256394,1.4704331940137532,2.6749188530843817,3.328963371937075,3.2768801513732835,2.0218875260584555,2.8294631854305643,3.7556566648284764,2.3200395309157114,2.3628445557427065,1.817080697847712,1.4039191033883098,2.086561725434358,3.154090005683091,2.189469025529742,1.8397364745633333,3.167682290692074,3.9026964075322494,2.756779460584412,3.5227887975440706,3.697389190428582,1.4103429950638717,1.8853074617569079,0.3351931827158139,3.8749530973661503,2.3873527142345012,2.837231921755502,2.1039349587067226,1.2903223819577414,3.686924060094202,2.479975528044697,3.6264732760903384,2.847864175266821,2.1261819411305263,6.666228468279756,2.7146611666054445,1.571431333379511,2.9578966560621227,2.097019102801158,3.481080523399648,3.1349157127460567,1.6353357070898678,2.469495687592671,1.9503083086423907,3.065394569823185,2.824577657542977,1.7235864263177392,0.7845872016094239,4.841023853949704,2.1635593228990104,3.79477760965785,1.5903451690549142,2.9649275499462835,2.5081727267944607,5.0130459455320295,2.7067657457790464,3.722654465964679,3.4976498886619676,2.7547651105317654,0.9247477546512705,1.4667960910739881,2.8221579806464407,1.591526503134737,1.5453220191626207,1.6450326987923893,4.145120848714779,2.0745600757684604,3.85296432684029,2.2458627138102534,2.7042270885249815,2.7795985319615535,2.5271993572533384,3.711179591105914,2.019007706686534,2.5303249563017163,2.1272075535536916,2.7633307914974585,2.241517854527708,1.7485798126098044,1.2845397887860113,2.824729218444327,1.9228193102995224,3.606853396182385,2.9569785518889597,2.3526550881848642,1.1918931026227149,3.6982759071086906,1.1176143580873397,3.8355334876274485,2.3439121762121364,2.1147818879524842,1.073654023898729,3.218408380989275,0.19246637094287483,3.595391756226372,2.0193855917359036,4.164128650919874,1.4338964648164834,1.7327189369662734,2.0642640427308283,3.513716788476007,1.9092826388209996,2.4921211399505876,3.72873258351283,2.967461196443848,2.400968081775991,2.489088751879642,3.0616282254312033,1.961259827517576,3.1074422986811228,3.669675545107007,0.14237691797001362,1.0207381342347988,2.1026933193729036,1.8511522046629154,1.7892228440928089,2.531815092089835,1.411488827625482,4.0205849690715425,3.056416167857679,3.112343791653501,1.1672133955752888,3.846872927408441,0.943023891436509,3.020381814563833,4.182122243357676,2.0812887700402305,3.4505813405756123,2.6579600458612345,3.945511832970623,2.1862913365479706,2.84927653482986,1.634444333338711,3.563626120578154,3.0118293400204292,2.1998540640052773,2.9445359406201863,2.4591819529216608,3.013896124154262],\"type\":\"scatter3d\"},{\"hovertemplate\":\"color=2\\u003cbr\\u003ex=%{x}\\u003cbr\\u003ey=%{y}\\u003cbr\\u003ez=%{z}\\u003cextra\\u003e\\u003c\\u002fextra\\u003e\",\"legendgroup\":\"2\",\"marker\":{\"color\":\"#FFA15A\",\"symbol\":\"circle\"},\"mode\":\"markers\",\"name\":\"2\",\"scene\":\"scene\",\"showlegend\":true,\"x\":[2.7630848558121155,9.09440157216484,3.3309492534085874,-0.8204923747186033,5.559493006413581,8.098348064868178,-0.6173304767252158,3.8489334045434576,2.2232941403911015,10.068845891556508,-1.9809420968257008,4.551982372345405,8.747780432532481,0.7507889166992825,-3.4051549893051076,9.980994093014909,-2.173980600463965,6.904009669923469,2.481036697454093,-1.6549363949939366,2.742631941044224,2.9117738567931686,5.13580176750228,7.650722189754814,4.776446831581482,-1.6102397003123288,2.0036944882805323,4.13579491278136,3.338600332873892,11.617941649651534,-1.3728848875374764,7.3131769468805725,0.2004391281527258,0.9442388540276452,-4.619074141274926,3.95747210532319,1.8096964147192376,-4.954592812261081,1.1153436489289836,6.873525718978191,3.1798860838509766,1.2790233998649503,3.1228683267108774,1.9385659125915744,1.770023851867941,7.798363292068343,2.1936424855306935,10.869727191218518,4.667529579199913,1.83468269082613,-0.8997730222925276,-0.801608203397645,10.01634179033029,3.5573317461914336,1.7529551752353958,-0.5173545107394145,12.701327112252857,5.244680327637726,-1.5264073577439088,1.5163577238616568,0.12004900041502548,-1.6850852181154834,3.2808676969281456,3.3282882514673524,-1.3194732882337514,1.2795478472257256,-0.8323278084873178,3.038948301301231,-2.0105471635210677,-1.4695170444755206,-1.4736433430189309,6.5385162723146335,2.2083595225429207,4.899096767700259,11.298832084972538,-0.8480756820573455,0.01275266597321081,0.8537592297666033,9.62758787092098,7.109877099724907,-0.10612360353645764,6.097969756776675,-3.1821591840671237,2.5267247806261923,-0.8703569214528428,-0.5209452820078051,1.411750351067301,-2.4695618725271284,5.882465524048554,9.962931794546028,3.732719518534089,3.13706867272043,4.914710370411477,-2.115909982431463,0.2117114830943227,4.349835280635695,2.022109080862177,4.8334300489870055,-0.862132099649531,1.874271385181053,3.3607111820044584,0.811960191163485,-0.43697251427785494,4.412603086687788,10.90115707695543,9.847018511806938,-0.8094758101729111,11.997257176294445,1.4041891674226956,5.723873750721496,3.167495998145368,4.3400218175214835,7.857648935020397,-0.05363601661748937,4.896519439746388,-2.011106205132468,4.9239369578295555,0.25112227091527783,-1.625986119771358,1.3860588324218834,9.962621880495167,4.302345904367103,-0.13183018308400798,9.696490977089391,3.5729519027831036,-0.3402283652787122,0.38358212455861657,12.882372294508334,-2.859551710832901,-0.17948274242842757,3.4898423318722283,7.633721175998319,11.681538110705185,6.19442895318526,-0.6867851553833513,11.01207357169685,-3.8203001320853693,5.397692255996146,2.403144471098769,5.937882255046252,3.145777068888888,12.151694272499517,-3.3984725774324733,2.3621511891158113,0.5925847719726806,8.603565253158836,5.7984289784728675,2.1025471178056856,1.0081630708704827,0.37927331684883786,3.132800978521875,5.194772727152266,3.770059134688424,-2.7841813229795416,1.145127187937571,9.87936846839203,2.327674856292049,4.09245709592782,1.3253176852321367,4.594182350740328,1.8730194894860905,6.387645017649449,10.87266137735904,0.3178456358048428,2.857727366527743,4.9385164838948725,3.177441031103854,5.2200545658311714,1.1653228996267442,6.993154272406028,10.708328642266858,9.082346663035196,12.31185411433206,15.86935953832516,3.9738127009253823,3.807607806269825,8.836450232478322,5.7359688223731204,8.041005282795815,-0.9050092217479819,0.4425646892823105,-2.213680832434033,-0.7619345792076815,11.35764554255838,5.188746921125927,1.422691862169833,7.736408989438187,-1.3215323076160903,22.419543889255625,-4.812356707982936,9.675279962244025,-0.36046773065133775,6.729220649731473,-1.4742894112905507,13.470009071848951,-3.302927129176258,2.7438965167029252,5.369615704260277,-2.3304573079048447,4.819650898259329,-0.9675746739681812,-1.37917651805777,4.54200494459422,-1.151622447573612,-4.522715612353042,-0.10093915013657112,-0.9243900557509859,1.706886035405471,4.794566108643359,-0.9001431718191599,-2.2360515254304913,3.5552317077298583,1.2735091710632451,-1.2265141869942362,0.8934459727714984,-0.19190511251135486,-2.4577371808380457,1.82861786634428,5.845788575934321,11.366677020850446,4.272429580204529,-1.1257377270657236,0.529243494876761,-1.5283490351959992,1.6431393258502953,3.6306667739428797,0.9484226350489632,7.790738083880869,-2.551535609425181,0.20348900572800954,-0.742269736493289,-4.630016938912589,-0.2497650717283769,7.989431787273878,3.164116649602813,-1.3010700372448518,3.274615136379752,2.9653522808436494,-2.3519681693133,3.798204659465828,6.630609906083441,0.8884910815975718,6.9613187881297485,0.7702331209552095,-3.2083644402312137,2.286953091819266,-1.0430869475556201,7.267928689039447,2.9349661998631147,12.58825879855045,7.195971353400693,6.039746196524375,6.997215277435724,7.663326956558024,3.168296019659358,6.35410524818333,3.4582248440242376,-0.4940517204406041,4.0751875990534465,-6.309319831527188,11.55113845035148,3.144762027575846,3.0438603233251382,2.5477501861808705,-2.4550959685557565,-2.3672390390180276,-3.7904496359692623,5.1324356134484805,6.63238345932919,-1.8033213182155337,6.631555913347322,-2.0373471897800357,-6.520663233953944,0.9636288922347126,-3.045049792249436,7.782354813383003,11.001857998674508,3.418687342859072,1.7707254893236202,-1.0457260995337556,2.6550125087107177,8.245003979192347,-4.176314484314402,1.9863810558820216,0.12513859125582893,1.6533173930459408,-0.6678622119570673,5.45055054444026,3.6550397212464354,1.6467837248062809,4.933652838942119,1.647843522607895,-1.3399811781519828,7.30123612706705,11.412339167825975,9.628138171694753,6.349543782287144,5.7739784843053386,8.255627831284063,-2.579834976185698,3.8998596621521058,-2.993460396967566,-0.4041615465487161,-1.5882907509416782,5.856731701843213,-3.4993902751027033,-3.3432811876792585,-1.423731152217676,1.1485879754754962,2.8125239300925413,3.489909822570852,7.835751342156494,0.7460113000760119,2.366516341163149,5.8723886004470724,3.9552407983547835,1.2086150696362934,6.16201484406653,1.7357088378484726,-1.9764177349906573,-2.442158759811328,7.609572130308618,-0.5286787710737132,3.8309161098871853,3.8833656853187954,-3.273880987841181,-1.8827122206760347,8.34703826882428,7.328250043244443,0.8895344187755001,5.131389754089572,5.5916852513835265,-2.5562613070674396,9.02356145542102,-0.3053815032641055,3.676127499902445,8.372000755100975,10.851956100688271,3.073348115078068,-0.399970905239001,4.7763533413645245,5.305496608242836,9.537147070334745,1.1593742587027935,2.8116689587195856,5.528603804518582,4.264775476454612,1.5663761302920485,0.30874442494428045,1.036809548107625,0.5315325006469326,9.708980766512951,9.00474136735023,3.113377290886905,-2.8331089576157904,6.636224509281054,-0.7264891464631957,6.144084814981273,0.02094845060238373,3.474231808902731,0.7357877656209536,5.267835876927714,3.8916965011050646,6.087892791076763,2.8137101497734407,7.053116208533322,-4.6625544271881845,7.200511971719202,8.16661645965105,0.1682029730343972,3.3575192820335613,14.607926720002718,6.645674194725357,7.685278809059358,8.842396579718644,-1.5344589156896058,12.9633696308112,5.2369094507625205,-0.4854971109109372,0.8866908545967802,0.027604338202721786,1.763511498929087,3.9252389911601586,0.2931250180511401,-0.35841337239053234,5.800973715704686,-2.6943067748257388,4.8541905343705345,-0.49807934524168684,-5.3248890845813275,3.4245992603186637,0.20456576082416,-3.26359081306366,-4.122397455885632,-1.5837028865823184,-4.2674955500651075,-2.18627589605072,1.6525427119141225,-3.0193807377758013,5.8809375468927545,6.316462095330082,2.5965157621546298,2.7629434715828802,5.850910526793272,5.494181609852127,4.759168189428578,-1.9853004448665128,-1.180289389873408,8.458953997431028,6.669973300915639,4.067382651251707,-2.7211357120298323,3.7836174237130056,2.478598272660891,1.623164261507676,-5.488441751431992,6.662473948890355,-1.2076713546357856,0.22289388909180147,6.418019640302311,9.391066587145332,6.770777189981576,1.605780963424979,6.869933511605645,8.609568780982395,0.9858922384940992,0.7869560663293443,2.850836971031381,8.212673245011919,1.2533612430981167,-3.012246253742198,8.505263661727815,-4.881038492447757,-1.4824640693387334,3.920433278227367,2.464310127200256,9.050935912295634,-4.372942303035137,2.893794819494651,6.7411554797355375,4.360911514593022,0.17521262348713085,11.935319968339936,0.9793502965906444,-0.6238332807469003,6.79645395803183,-0.046884057733154225,-3.1514171306006116,13.417331194993391,6.75759062434942,-0.600652312055154],\"y\":[-4.030184734626462,-5.891732514677334,-5.831868683831012,-6.799864074166729,0.0160788558595501,-7.066718019230297,-4.326893579867325,-0.3588244958119298,1.6305379096836425,-4.114663223939718,1.7703384522450354,-7.5051662257247855,-5.177872236189902,1.1183707283008848,-0.5790075909768608,-2.4566013511577243,-3.3968807749483605,-8.884390883113001,-1.1957078382542468,-0.8904508576121348,-3.6815356573295643,7.7052547005607686,-0.06028315692430425,-1.4370084580999989,-8.655320673971834,-0.7418803239479603,-1.9766722699956627,-0.6305453172327488,-2.983841012048316,-8.062616918609663,-0.6453163137708157,-7.366807533662505,1.8447158196714506,-3.9616306706822564,-4.302786622051052,0.09855083755805226,-0.38533762609820876,-1.0281680307417673,-7.842638493445909,4.356393488877954,-6.885872848700862,-0.5483107482545198,-0.15675687429486637,3.689091005190292,-4.494739563274651,-5.53692341559961,6.903472814973769,-5.32681902904195,-0.1656566915873473,0.9589498122203158,-2.1589025014454446,-3.3602082354319,-7.901513756439304,0.4324844089138885,-5.827993895484432,0.7365066722558101,-11.581604642309651,-1.9502332953007024,0.004055716178684572,-4.022341395950445,-4.07478719238445,1.8576490405492232,-4.221073500257449,5.866127581392458,8.063971871905087,0.5141135030739991,0.029346172340280866,-1.5647683310715423,0.891341499832369,-1.4504535383707644,-3.9666041409890638,-4.254680084164535,2.988381309144686,-6.091087855814987,-7.205239925522614,-1.956009508034011,-1.1873951069814852,-3.8246171955373707,-7.88878689597163,-2.1903599924259014,0.5061364120442053,-4.778700378834774,-2.8847875410314705,-6.379832770497339,7.929760238642947,1.4395908414602323,-0.8582751595251326,-1.179388988170818,4.2772189054989544,-5.26975339923618,-3.6006981358754815,-6.399323605418092,-8.009196156893857,-2.170000321491988,-4.1589321055249,7.396539904510498,-4.532176729108932,-6.9365324871364145,-2.665330213715054,-6.261866383762801,0.15943549383847838,1.3102551013951709,-2.8936118022195347,-3.943534821689107,-2.6284778346348725,-6.6585407151260325,-4.731093605967344,-11.803426880856998,-3.068366684431566,0.4505392314270546,0.5164994295827204,-3.865121139668532,1.2936605329941433,-1.291893712269575,-0.004757970269310937,0.9645852011481824,-0.06186887962756464,-2.6904315699563783,-2.4468453369964682,-1.341083117278018,-9.743024759149,-4.0107500831983325,-3.2585219991602803,-2.282330268044297,-4.1147307248041365,-0.6170610235452361,-5.3696569597082435,-8.725550968796245,4.8804030018649565,-1.4335954127794852,-4.363923399274533,-5.93601014114104,-1.6679141736422194,-5.563638578855805,2.1270553193861015,-1.9849749157731558,2.128182678326111,-7.467438835511298,-3.833673875634341,-2.7765311159471726,-1.2569205717344967,-10.756550458200223,0.0783019320792633,3.3242027435439345,-2.653571903688929,-9.85266458712632,-1.392327060265554,-2.756324740342999,-3.858060870506,-0.8645238016917202,2.5825095824102604,-0.8547272178074504,-2.8914308512959948,-2.3628890112072134,-1.1109470904223764,-9.383943809183684,-1.0552737834194972,-0.9229913246503341,-2.7773826640147337,7.852489438980934,-2.1984265892808814,-2.064673813934354,1.8114368859728227,-2.5676545604293146,5.190839410529661,-5.2671931125735565,4.834622057414074,4.470329829079838,-2.042607526339926,-0.4662851008578158,-12.616064006109873,-6.583178044387056,-1.2907143084278823,-6.7206171705117175,-7.892722791940542,7.648281657588026,-10.03814664201334,-8.501391827800145,-7.263148313842321,0.13378517349882244,-0.41262627586911027,2.4077441242631537,-2.2129789969972737,-11.14632007998849,-3.170108643658093,-4.143079528008482,-4.040578324361262,-1.6412960763183284,-5.3334564525795995,0.6475112075584498,-0.40618050909363346,3.6101791815810533,-12.405425309185878,-1.144914898752036,-6.548327620105904,-2.3351198760077807,1.8943823298686455,-2.9708858619136285,1.4162373894863693,-3.089249903519312,-2.9730999812686196,-2.0952541219692074,-5.747735982876169,-3.178337707448692,-0.3643166778965922,5.0725868076558465,-4.336059510937453,-3.830081495273295,5.865534781742989,-2.316051038256973,1.0238308525356532,-2.970653578374774,-0.0641853555676576,-0.31411348094308233,-1.6452300376911986,0.17973085074123626,0.8454167087685849,2.635738866307301,3.4880507404542156,-8.536724305279067,-6.506331166273035,0.5937779080369233,-2.2202825610039802,-4.298033054485816,-8.260807953057366,-6.251687667204652,-0.07134488663886591,-5.357338374186745,-0.5138706191163136,0.24203675135504485,-0.955307076107734,-3.2615564636456518,1.9226269508001936,-9.884325964248989,-1.8084239067740016,2.48160949274097,2.9698457062092576,0.20851624454228948,0.5325365808871751,0.0848797003961221,-0.033295819377177724,-5.589439019821938,-5.720639640739051,6.385206904437843,13.357796223162998,-3.4183086927927615,-3.001352222838364,-5.878539328898352,-7.138127680377978,-6.248001387043126,-0.9445674400156135,2.1935701816914355,-7.951150115160479,1.1421449522950047,-0.8715108957550498,3.9514521810482455,-7.223801029562835,9.486253100063106,-2.526029006324457,-2.011914808284978,-9.751985537962469,-2.339405626837429,-3.092042989692472,-2.0934646866586837,-6.761182710375574,-3.0333643672725707,1.6239146083148386,-3.6316872215739826,-4.9507720976260705,-0.5939538688226358,0.9105203430179618,3.3895971147531867,1.3660886309630815,-1.7989379855807839,3.6758101642334613,-10.8177076921054,-3.327146636464981,2.0898609691664785,0.6505324429634975,-2.6606736453637696,-1.6710857721212349,-9.706458631172271,1.7110953277183691,-0.5563388422997041,-6.888055382909402,-5.7631664402776295,1.6495282573081136,-2.9937884106492385,7.837759679039754,-3.213213191934223,-4.36914784632294,1.762712522848587,-1.4640888703128343,-2.628118582563402,-4.348672937172307,-11.484030771748158,-7.15870687639,-1.9969822492088434,-4.641981400000798,3.0486960703066552,-2.506627465735184,-4.457687967229256,2.0375970340813465,-1.8162909865429162,-2.3494467967593398,-5.627001748565413,-2.8529981783683604,-5.658929237847734,-4.791808799222457,-2.970136004062528,-0.22568269985707679,-8.84182687380625,-0.5239225581443651,1.1342601118254503,-9.480110071222645,1.1195841235819186,-4.3843302649541736,-3.8905767524508854,-2.629446242445871,5.608348449493476,3.534567853220024,4.5003985078010205,-4.150411075877195,-3.045944596969783,-10.353414231793971,1.4238630482606922,-2.744603222374393,-9.198817714706495,-3.9767958625151056,0.9239618574580484,-1.9612617827272718,-9.431044725442296,-5.514897685926127,-1.656834501113019,-1.0344490569081644,-2.5093824770220046,0.8545247358599597,-12.74797276009889,-8.749025788118152,0.5833151066147241,-4.428679004583379,-6.966801736445776,-2.99044871017593,-0.7464852646524519,-3.744128514509684,-8.402789248633324,5.311246344877113,-5.068726173892686,-4.7389409507557225,1.6184329370407622,-1.0611308923851548,-7.277346900037504,-0.33131440534655043,0.4457484369931138,-3.7976761455287815,-2.01561204307286,0.5711748237453875,-1.092374695199914,-4.669362490594198,-3.392405253147183,-0.10909610050499174,-4.960911399616463,1.882054356696834,1.9800775604165048,-6.622355172606243,-8.226588332934552,0.983596495028941,-9.550789155275528,-3.41438825988673,-4.341749022207001,1.205350165569845,-4.562563954974665,-1.4627345413198396,-8.652528590241115,-3.475076706379131,-0.43023149213528517,-9.791076151564678,-5.439749357587558,1.9840730726387124,3.3889365182805036,2.5973397250875676,-5.81496086241045,-3.4685502868544513,-0.30753881441821596,1.8364133061859775,-6.096899325623054,-2.343783711026882,0.6311823327526449,-3.652823812529945,-0.1436461000366311,-1.917021490114693,8.483142821981364,2.1920278367798898,-0.058753986349369625,2.8114355946414302,-1.120989656892315,-1.7050726487041181,-6.167610625733607,-0.01129903940296464,-4.5575101878718485,-9.677466702651218,-0.8629212460006428,-5.442755232981209,-1.867929036637692,-1.4683426461061424,3.613252828694972,-2.9068716443714466,0.4847521773314964,-3.0056694188560957,5.665683264663233,-12.19101756809454,-0.9883323968222519,2.174981953757793,-2.2988129541394224,-4.384117049527513,-2.500276941666451,-9.154820964043365,2.6282136997288257,3.7391174408958565,-7.7867211886486345,-4.570930668467703,-3.707944492410644,-5.8763821544022425,7.0388401682233015,-8.477026888528354,-3.0258624015525433,-2.687742271622737,-6.41905183439418,-1.2262408705999317,-5.3772792209001095,2.363825555682697,-5.51584629168555,-1.757139531006165,2.837320496284487,-5.033339275161164,-2.5351295521818513,-4.717505287111747,-4.265255111558616,-2.7098696097429307,-0.8467875811415443,-4.552330289326983,4.265131150410038,-4.065316082368169,-0.9976136227322728,2.0399502210289078,-10.010027025761955,-4.420338644757046,-2.576535187276782,-0.07242296756715703,-7.575298745058402,3.0575678981137155],\"z\":[-5.0583977292663285,7.857097939714549,8.607816988972505,5.242317509342056,-0.6257735815007653,3.3288365091082026,-1.417041234808999,17.624715562377272,17.91948616521152,7.411479983863392,12.849637667585434,-4.112353988637358,-1.808081891510948,6.789859954142437,7.375075348195528,12.703783721244793,3.3794141341157204,-5.500480450520813,11.032900285022386,14.924027708269733,1.9716141077882892,11.92479039501353,3.9150408180542264,6.295324140550737,10.286879375742418,0.8344162905660406,9.817629974807236,10.454404186162837,10.988508326051043,5.406424095085502,9.903126455625292,6.605561367197815,8.699290839611528,12.421716343535971,5.410884327799848,17.55530723319419,20.466071016418727,1.7578192385502658,-3.7536310064446115,0.25409125185619874,4.459825958957016,1.6179276588332334,13.200139738873776,15.778850651440706,2.8121258501855335,2.936979196155133,10.777883639366465,-0.21427438914999605,5.245258118613601,7.505095385121431,8.525491914577984,2.126279747486386,-0.9105561484145948,9.769417469283344,1.5473915199927002,1.297796888194045,-1.7784140438827731,3.0399266535950695,10.258080739509936,12.409395693795199,3.200264833824796,5.510069949622978,4.138145102392223,6.325375703180572,2.4926981710740828,4.242648746689605,6.099710938562226,17.51387038749237,9.97707838183092,6.25925136667437,7.852989775622491,4.649136610373206,12.45616358462033,-1.5810216254336216,5.149355895806745,3.922761232095508,7.915162108604364,8.101463342612337,5.850153877119802,22.37034078014034,3.8170472587989783,-3.88960630427262,7.055124527182565,4.673414195663757,8.577224998353602,4.7853356515900245,6.310971233254732,1.0251931769085945,14.249305272686465,-3.481383176143852,16.122127615868965,1.9095130801628921,5.556931331677755,10.332396854595652,5.350479293477532,13.537977006088417,-0.2997699837771113,3.85361501233244,12.87510369581314,8.569813689116454,-3.8667928208282607,9.909069532938721,7.62736926570753,4.892276166507418,-5.533991438742281,-1.0096566405651688,11.939581065555753,-0.8006420933224954,0.24346467486147305,12.656028674917948,6.565972053291131,9.524368821774878,1.843014729399478,2.4193285274775853,3.2537686340990377,10.162860635050524,10.559066777585164,6.0826092969386005,13.389844629664353,11.897785569243368,-7.55339415350375,-6.737630928143961,1.1212451056335127,6.728819142706569,18.51123145723445,13.442736161668611,6.254632239355479,-4.435495159332866,5.643526849765445,8.698340589365957,11.596293379944788,-6.754229316856635,1.7929302394771605,2.4110836305766656,4.347982378527227,3.5287757081640563,9.266885064801672,8.820798185962579,4.283998596215416,-2.648338589329822,2.4548935764706297,2.2273610200207883,4.0617922949572565,4.947863079850548,13.054389484527563,2.9920872344502136,4.1897016097139606,3.5166062249674845,-0.2716927098833461,-0.7339672697405615,4.013451918887765,7.690046277293712,4.888704368957626,0.18934784722464224,3.6293231098030154,4.264403476970777,1.132148473585388,18.19295002031557,3.092546625577521,10.008788931389914,1.625762422332164,1.589436975074451,3.8684751777656405,11.289471658821387,21.878522874488006,-3.1502933080355238,7.524665359177023,9.48952367122768,4.95127450958478,13.35148722031003,-4.767012761032797,8.019069755779729,1.27496677209178,5.037008992999307,6.005368789241881,-4.765874441347527,-5.994433164713997,-0.753937589867307,7.062350861061656,19.854674150278875,4.005910841005939,3.9686425988180773,3.670030705283298,-1.530772685262822,-6.96797170523107,3.919292952763799,9.60562525167467,8.839402035906383,6.768144368710717,8.34394864309834,10.313223461008413,3.753086610978276,-1.3462369738406044,5.478873151233531,4.208062011424183,7.682921809848441,10.709497828489388,-2.6908187403045565,0.8044830069128307,8.42502950669038,8.52854050763945,10.714851980174268,9.193661993031087,11.006100285522196,4.885475921688423,4.362562783702082,11.44843706945602,5.553882606342662,0.541792778179157,11.91924556290435,2.2520745141353964,1.2861128402141015,5.294329143615345,3.0598655838632,11.526057683473612,6.743557323544624,10.134581643347548,19.331530930270894,11.371626267889893,2.995994221493962,-0.4851564237800935,9.940217378785587,11.874399587396763,3.798543875250499,7.9595578434968495,-1.3021930238884967,5.03215990867571,5.311099458292814,8.759716589989326,-2.369864935053088,5.784703133617931,6.630320530638631,-1.8203691046593888,2.9624108797181044,11.478896004075896,5.4239194224862475,-4.854200317558725,-3.3215558160164376,7.53762438064635,3.513055298649787,0.8972116742932565,0.8011771869646342,-0.8733257020491072,9.843583761033187,4.988505140043423,4.3491806703098455,9.34347113352376,0.6912422711245159,-2.2651357629975086,0.30431132323344334,18.672161498887657,16.618517508717833,-2.7399027235875377,5.774728236869472,11.97938009302363,18.8996535418299,6.004432937788494,-0.5677448133602457,-1.9673024361510345,5.828638997311523,-5.329652226668964,12.699640117077356,13.555219978516538,7.721855589157821,5.815309840491266,4.327468590924793,7.9233820869895855,8.097896121800591,0.16701468093188884,9.847756083035431,16.795123918912164,3.3119563318501664,-0.5681926577112079,1.6185254824335256,6.286944154243394,-3.516980838061705,4.275651463390824,14.080216052827797,12.44775827726833,11.938715067211048,-2.6843070793937964,-7.657758014211375,7.221272275783135,6.917731222202253,3.193944500016881,1.2610880779546034,0.7953499571273539,1.2799126684343969,7.770635251629458,7.679638072741209,3.395556679607317,9.440244640088023,-3.0910953032433017,4.122185973376753,3.510508889533326,-3.481210505022233,5.094156259652237,8.260668606161992,7.864690687635384,7.86926873234736,8.015705404023995,5.872231885757655,5.2700445671622616,1.9742001248775238,2.5241898461038463,3.854020745358849,8.88219380941371,4.736605261893809,-2.6926486782646295,9.325723966346688,13.971693290185753,-0.12977807393625837,4.002957017171746,11.534877707772422,0.9905633213483954,3.0850416738749256,3.845304131814718,-0.38037646346088966,19.21775811328128,8.536447989285072,12.198872231510734,11.260827490077668,3.836577696513229,0.7364812955343293,-1.4343483271680837,0.19379194714207829,5.445060746899937,-3.9251090722331248,11.491763457439816,13.575767647709528,-1.3906741584586735,-3.308444460685792,5.891410162052423,17.262613696281228,13.101209626727929,-4.299194475183358,13.16042547947429,-2.9585429762104614,-5.357374252620844,11.371158857231611,4.528766340116001,-5.118008703706694,8.074140395369714,9.418188071169595,8.932310293562482,9.900828059636025,-0.21781544896422103,3.577457738743591,9.423241167590279,3.3867864753251813,2.099642605321558,4.263138115909141,14.556907188877515,9.476544193612858,3.817685653342649,7.8016004674349,8.074302787307197,22.49592429204154,1.2433122372610985,7.058853389502109,8.451710408514813,7.8883961348738945,11.779471614295678,14.013346808307688,-2.2627347803371936,-0.6031139201359133,2.8225079391081875,-0.3061810442560481,-0.31499278808549147,11.624506633540554,4.757669943201192,-1.584821536355402,5.7518718689734625,-7.205421163239449,8.861999844010219,3.329138106833013,-2.11475312225552,15.375188451637152,7.575073155901483,13.516530173025643,0.969257191043568,12.836255660394366,8.481748533358376,10.703042833323044,6.227627752215887,1.4943127059359387,8.022463947604365,10.003977622599734,-0.23050712311959853,6.5237856719566665,13.638141035589912,10.857159249169522,13.842779426823762,2.159677483548803,11.566951326915502,4.886482514490022,6.5516270329844195,5.118110636893513,8.458964781549124,13.841230576032574,7.80949491637408,3.309261143602814,4.448362223427769,7.091845834648185,8.108132496157245,2.1347497016204233,-4.165394559855018,-0.6938528821698317,9.203479134498746,11.793893338289692,-1.5107842609464712,9.292837137667792,12.256891766534617,12.450420681552101,-1.3854894062949261,2.0830067469254785,-6.710501817620869,-0.4078091029234219,10.269223700624282,-2.7952575392643646,1.8125856266891291,10.951648436833858,8.796653149405525,1.9452971670470154,-3.0581846599846205,3.3013845271401623,10.531028695232806,9.164704301784953,5.694809766421945,-2.146406778472839,0.04416244009016209,0.6211918249106737,6.754482437904987,14.619940021497692,-2.0778497642900637,15.825179592719799,-2.333745833910871,3.284416538879905,7.631352761659665,14.35412533566453,2.6098228363966975,3.4623043848929473,0.9869960814273769,11.024459232032891,0.7227786877725166,0.7518407882373426,5.698171612398975,3.8533408105643945,12.932864394493926,-2.4310798500569533,16.620565457440733],\"type\":\"scatter3d\"},{\"hovertemplate\":\"color=8\\u003cbr\\u003ex=%{x}\\u003cbr\\u003ey=%{y}\\u003cbr\\u003ez=%{z}\\u003cextra\\u003e\\u003c\\u002fextra\\u003e\",\"legendgroup\":\"8\",\"marker\":{\"color\":\"#19d3f3\",\"symbol\":\"circle\"},\"mode\":\"markers\",\"name\":\"8\",\"scene\":\"scene\",\"showlegend\":true,\"x\":[-2.914092946766324,-3.463939968740064,-0.8575672013613574,4.162176724250608,-3.7408307510407384,-2.683662850318421,4.754250144517385,-1.097954885260465,-3.055564547636246,1.3236355072144965,-5.082798161568154,-0.8099865588823072,-4.963832378703884,-0.20810089818185828,0.6705587117566049,-1.1714582461782355,3.111671644934595,-3.7073574368288256,-4.684305707495858,-4.25191182958489,-3.884554097892972,1.4229290791439588,-3.032131609020932,6.326148048442399,-6.009303767978161,-3.6420154471443835,-5.759082616705275,9.98430138332146,-2.395318541202769,-5.0617965674233085,5.427422254271609,-2.1781977162737642,-1.8635073243022096,-3.61021931635133,4.172874441929001,-5.602071861503639,3.7594440874207917,8.764985164416588,1.3114678688565196,-3.021597717334825,2.1527177652075253,-2.846890903884786,-4.133046541794948,-0.8144984259585819,-1.9208346599043225,-3.6101711396911242,-1.9603635492230431,-0.957531954585644,-5.597093781772836,-4.192614261094627,-2.261390020931812,1.6296277668290666,-1.5162678279753101,4.505801861205133,12.258141363413841,0.6039350918599565,0.4558357408423908,0.8383301126308341,-2.8556531236030662,0.4303148775493788,-1.8839405389711423,-2.0253539474635156,1.8697874460338006,-3.9701551201124063,-0.5978212410298356,-4.196066452986837,-4.248331883462128,-0.03970316581468581,-3.0698240706384405,-2.998588026592078,-4.865243141506037,-7.5674393772684,-6.160553557307649,5.2266597685033975,0.7816497768931344,1.5578414159990235,-4.383911263593836,4.802882768607419,-1.0449346231209715,-3.5605507657135895,-0.16969933104852133,-0.6659324752499153,-1.8762042202929594,-4.1844817681275535,0.08819928806483296,-2.7086751431291365,2.0400230827047015,0.1335686537648013,-3.7436679672757665,8.760523093506142,1.246747013864434,-1.4488539716613675,3.9851791765456306,-1.8004523772659817,-3.3757326586992105,-1.2200232843846266,-4.695628995067596,-3.2396292234199504,1.0107105949846087,-2.061693730332259,-5.331248778424356,4.0198755279663505,-2.863258248656942,-1.166201428208458,-1.953007439689028,-0.4159523608059886,4.22720117728402,-4.2036686784784045,-4.2812200600876835,-2.748842852110024,-4.735983932522881,-3.1059947710455726,-5.950590227083118,5.718090555835538,3.186717581562758,3.6588617093897713,11.730729680717996,1.8064216468868024,-1.8778792308953536,1.0787969053045459,3.0021769901686146,3.132637766772638,-3.0582163479105913,-1.2080318108097892,-4.5006765780536,0.524245303558149,-0.21228414715358804,-0.1368933302803718,-2.213188298753556,2.321540921347246,3.3725535054004276,1.5409361994564854,-2.946067562719884,-3.1550871742168476,-2.3084611718034536,-5.0598960192995674,4.146698395719643,-1.5811730536993882,-3.2655925400570394,6.145460010774166,1.7889516213993737,-3.638829785033809,5.785550141058347,-4.5925521009682155,5.723445781675085,-1.395192830872083,-0.12409120861066007,-0.7476276728348927,2.0858715452169165,-4.6630936346131024,-3.8292407297108535,-4.341241597417536,-0.9302266430869609,3.9477002125205587,-3.655105641948484,-3.567781325770812,-5.486461452953173,-1.6014486494689064,-2.742926897969884,-0.5704025831071399,-5.101844523702101,-3.8220421468181747,-4.495047077537226,-3.8806179904149936,-4.389771416948611,-0.32895027633305246,-2.24453646631992,2.793182103942406,-1.0176542352572662,-0.31281793009592485,2.242025218323228,-1.7369468552159153,-3.2264534150901354,-1.0351792364483932,-4.631732734413293,0.8415351231331721,-2.692469931295585,-1.622200979520248,-5.160566637381025,-3.46488435901988,-2.5929958368193526,-4.1475010118157645,-4.734351437721969,-6.512874301669181,-6.271835822602911,-1.9725078340997206,-4.008764964668207,-1.7060707466514526,-0.9102121473504167,-6.57832641612552,-2.7364859926852976,-2.0739306212918605,-3.770031979287742,0.04274315584797107,2.34572401649604,1.234289515561131,-3.1504089724377775,1.4186718338060187,-3.1778086623048436,-1.0753549992795266,-3.162135796810692,-3.2583258680011076,-0.5606841384643879,-3.1748335068177833,2.454214714327525,-2.747266737218147,-2.513932308306854,0.1761334342298265,-2.193047849666532,-2.4141428706280372,-1.429198726158829,4.327519758346472,-5.64753189486449,-4.570220391804374,-0.6207056740302319,-4.192949169594996,-4.234625033797041,1.648852757244026,-1.8363536469167512,-4.413370699978059,0.2692895902306426,0.22750730243795297,-4.2762440055869195,1.3918633849134268,-2.365345954624936,5.847901518037766,3.014802554924044,-1.2202572424108178,2.8578050762646225,-3.939343137575665,-6.00214601580849,-4.142892891049099,-2.72431700198815,-4.086636091446209,-1.9392404313802987,-1.9966851468446092,-0.20186145270999084,2.127418994457771,-4.195982432725264,-3.644795457414098,-3.997531780383308,-5.492949720151859,2.2829302406184278,-3.447721408536324,-0.7394225352352157,-4.278570814013786,-4.513527233380866,-0.4166825309557945,0.8321981682278122,-0.6284857763860513,-0.615352703561896,-5.296091067725885,-1.3655138255941615,-1.8912296957324026,-2.6779903112628176,-1.2383201316575259,-6.503872810247175,-3.8203493428723805,1.097943189837658,-1.8204774344177985,-5.807736305623142,-4.128286024504737,3.157652921570717,-1.1219040495031412,1.2191699019618372,-4.808744325230465,-1.16887041473331,-1.8434412132413112,-7.240792216653556,-2.9675927946240446,3.917883182179254,-1.024628455363444,-2.2953872837888256,0.3041037262301877,-4.471242719539277,4.121420072044508,-2.3007089419965894,0.21838730240937945,-5.989723541531,-2.640406730951836,2.799862975712787,-4.246285320506961,-1.8668265202083387,-0.4544788380260365,-1.3037914718447483,7.919974400381319,0.32466082682200426,-4.570949449743392,-2.029846389216148,1.5275436075320348,-3.0772125626465443,-3.238599669800807,-4.047374302955427,3.630416248312666,8.118130645746215,0.23004964409369996,-1.5982968113145222,-0.5968882392519695,-1.4506903509073101,-0.5197307928007898,-0.5286157553878442,-4.39012476435447,0.6780721070576292,2.26923257546614,-0.24857735087638083,-3.5641857428979518,-2.0560032963328485,-1.2882118565391705,-2.272979347583091,-0.16781819852943697,-3.012637374854113,-1.8593347517297896,-4.741119067260796,-2.50118238205616,-1.7805815234851712,-3.0665149602065243,-0.325640503296868,-3.359668249186274,-6.100559624612734,8.449428735849699,5.809774046985018,-0.027331848064192445,-0.6948683811179482,-1.6579896043067974,-5.964952221414665,-1.7294100619354007,-1.697092729520437,12.55275777304603,3.105864768585814,2.2344888094341875,1.3211041635685734,-2.8482518973740993,-2.324048386927267,1.7628050856317357,-5.4398507968221015,1.274798589449489,-2.5592935300576225,5.59404688627925,-2.7317186280372106,1.1565067730350889,-2.8509636900574047,-3.4918562575705634,4.916835623968073,1.7040072760070624,5.280408092254556,0.42875650746934074,-6.659015966400148,4.860201309838935,-2.202907399142151,-4.698679598666876,6.011242930477477,0.2865184457339737,-3.0979884520110303,-2.0694487031520934,1.9680456907742152,-2.584128555607732,0.4789731656436162,3.7895824375242775,5.508506491494457,4.268746051200452,2.5483532703220013,-5.739467082624115,-4.104250731126279,1.8790182051668607,-1.2827598310945387,-1.0025241934984377,-3.843560131049377,-0.8948563152342603,-0.48884219055343564,-4.785732123388669,-3.2915227044637203,-3.6156097050145917,2.7323882446717134,-1.2012493903070165,-5.332444259802392,-3.8535477577942094,6.7511130272308515,-3.77235968432477,-2.379127678645776,-1.7717688129774012,-3.972937364053974,5.8567413289297505,3.134446660944931,2.281141526623935,3.782329225339608,-1.2532391609984672,-4.443535905648746,-2.201720128609865,-0.022337670752992585,3.4401880197011536,1.4475045191470366,-1.657505794611534,-0.6098539854541546,-2.2054739553353486,2.307625508764321,-2.8707085793870206],\"y\":[-3.0061873337632448,-1.1253990842080621,-7.673878112203769,2.719294916991957,-4.280654213272968,-6.595942137244189,-1.6446450102666834,1.2915267135257942,-6.378327954826749,-6.415871876303682,2.0148141769137244,-7.5886893140741565,-2.95619115670575,-8.183666324544433,-1.3132574847987681,-1.7305853748588573,-8.052218867556611,-0.9249584616140586,-3.051653487214353,1.9351514436664772,-1.8311018576795421,-2.4361759463771757,2.780239256817728,3.814324125545724,-2.0251533020370154,-2.8856800168021826,-2.4080830300909857,-1.1482271312753354,-9.152290821594566,-0.7399260849141026,-3.7987803627082384,-7.8866613694927645,-9.014542463611884,0.5942137269111686,1.4508499939100865,1.26912465833647,-0.6257679470462382,-9.517351924658344,-4.2603457123024615,-5.281664702171798,-9.921417800328603,0.43406011990704957,-2.933248179676422,5.070819511855633,0.10628637909823466,-3.7002218614136413,0.7233114545631915,0.6832207135444711,-1.1954653272949758,0.6223787461407705,7.503348694072891,-9.845730457503894,6.94053266623907,6.8306651603214075,-7.2955754857411526,-1.0085716084796914,5.331689291743614,0.5954054391208516,3.2654972704074217,-6.283412616024983,-6.91423952765965,1.7850582994537352,-0.4945208372261289,-4.5881135116771725,-6.714158305978171,-6.812469739121571,-5.790699613862373,9.38440106620001,-7.246035995427927,0.9229875159443413,-5.661271760040006,0.5292091030821876,-2.012779378705265,-1.0179046855731761,2.7052060874013093,-10.981327892606126,-5.35619362617529,-4.626334338820659,-9.264914624558715,1.8291260585330256,-8.807375639445885,-10.58264887456359,-3.8198391536669267,-6.261028312457313,-10.60990012913527,-4.012100484723602,-5.1453856416291766,-5.050291354093294,2.9822213981467587,-8.768220761499615,-7.727342990495771,-6.417816952035206,0.3902830612853216,2.178139108593989,-5.5489180899978425,-9.99588757268467,-0.8174369642094964,-4.358079185753272,6.18659063040829,-0.2673315347432344,-0.8729463941398504,3.6490402237451764,-5.932092459696906,-4.258886186230371,-8.9096285043937,-8.025566737034291,-1.154958827633326,-5.91779376129171,-5.552394909672179,-7.0699134163302935,-0.611912001647558,-2.9011475488324705,-2.0725235562227082,1.6508235029363845,8.532151704021787,-6.787619511179286,6.426110833437212,3.7290054369609837,-4.336941626201584,-9.549081676924066,15.293321924284319,-9.609058739407516,-5.330601880903237,-6.891273041382603,-3.947479077134139,3.9324942778661867,-1.8174949619516219,-6.256712873397022,-5.432800081692021,0.36905184594594487,-4.077653249895842,2.7802887717526317,-2.2073573927714314,7.886166235739561,-1.120753361795193,-2.5894373742092407,10.932670745264117,4.166114298826858,-6.68976389937769,6.7153835110811055,-7.3342746289918495,-5.655428054023918,1.1874050568922274,-2.663961132509159,13.736053021542666,-7.367609597159751,-2.2910530013231725,-5.01204850093356,-4.494230989274504,-2.6453636276455965,-4.956341155021267,-5.562738207853497,4.279926455301642,4.577848229482991,-0.8006612306135502,-1.060439086538303,-4.6434647621424165,3.620786592354657,-0.8246201322087383,0.7128134511471799,-2.769547309175848,-4.186261335925932,1.7360854791510296,-0.6109073371904838,1.3108264325708259,-7.084645924413739,4.197365848297856,-11.597034884265835,-3.653226167534314,-6.73942859722593,-4.765228649190064,-4.038754504526407,-6.303206154910815,-7.252403898793131,-4.382015603745965,1.5823604367508188,-6.28812063089665,2.634432814484982,-5.0391353145449695,-2.1625548024477643,-4.363972110282965,-4.531870202069601,-2.4465912882576877,-2.999232015464755,-3.1851827585838732,0.6023005358945556,-4.046452940897643,2.1726748724799125,-6.090163314898921,1.0763658020645488,0.47297982880952,-4.099966095018203,7.437096535429136,3.668958721239971,-1.347915529025551,8.271385427550106,-5.2551107940279245,-1.0093464061277009,-4.329850219832924,6.046727546847069,-0.15671223686450297,-4.824347832969206,-1.3790468412785744,-1.3133442547097034,0.608001249800985,-5.358644357913278,-6.82956003890782,-6.339717084188028,2.5723414084575036,-7.640654767471802,-1.0724710645411988,0.6428821029939165,-1.2593318466688406,-5.838750231974186,-1.5861813579333393,-0.8872398812617154,-4.492249986859925,0.1328708453765074,-5.2494148984023035,-2.0644045451264184,-5.85449554423741,-7.963050218055746,-3.438839914498774,1.6831306887540727,-1.9787716493244056,-3.2867164644693303,-5.715264857241943,0.48008980751294567,-2.5160848209408075,-2.4124426290730554,0.024059514498972614,0.5419265918070392,-3.789512298131595,4.568296962641228,-6.553965552269457,-2.082197434478568,-5.734063096571594,-1.3252014030561916,-4.206819578341763,1.2625262813539664,-3.8117507426893593,-2.4424017423672355,3.5612877285799964,5.671064723843883,-7.555143740577702,-7.394365298969431,-6.392774818630781,1.0466613197593475,-1.3831802820482146,-4.102449518119748,-5.780662142775294,-0.17441100862509995,-3.025533659756116,7.800108719369566,-5.453175856458749,-6.357497295816877,1.7533247049878171,-5.145038299753424,-8.058128045289783,3.020397159522517,-1.6715852592300446,-3.2724023893925134,-1.1485072484153378,-8.022807872416013,-3.004024575301578,-5.4184005412162675,-8.039148074193688,-0.5328263565810901,-1.4899340030074064,-1.5879370775614094,-10.301149863132574,-5.174696565666955,-2.607086316110427,-6.926777679462354,-7.59479280201531,15.749618930058256,-0.7216114815736773,-3.2973365936434162,-1.9977982911623928,-4.4449836444699775,12.91522249084244,-2.747071659182809,-5.526189813188657,5.751515162946655,-4.250570110639277,10.088231374633741,3.5629115421417588,-5.700504029867541,-2.91517903383877,-4.967174465164129,1.2377429497534185,1.4791818909516596,1.3981423988192427,2.9785486350834876,-3.446920658613764,-1.6051734919006095,-4.717917050999055,7.321929444653376,-0.49215643043399704,-7.700563946003124,-2.0772424743962192,-7.709253229946712,-0.17911161771539746,4.729646473688357,-8.68514750011857,-0.4031431045337978,1.7494876731522042,-6.7569550311398725,2.3181691457510776,-8.644749863849116,5.338410507243453,1.2216077696248833,-1.5585059592261814,-2.7899954364820205,-8.172292178134523,-2.806264158051255,-8.861820000458435,-2.7142236185363244,-2.5590646981220426,4.369067041795774,-8.28017942422284,-3.9944025079066456,1.0164555701370772,-10.114389910232427,-1.0260361962149038,5.061854159074691,-6.588522029516485,-2.365463301017033,1.7469119562323652,-3.3437438698643476,-4.1767342666180545,-2.046331442092627,-5.339996276648695,2.200149057036493,-3.696209101089771,6.6707293955538445,-1.1367465929005334,-3.6973913522625392,-1.7644959056646619,7.337429566602147,4.280175647111319,-0.190099220969998,1.2270855838689656,-6.04774700949635,1.6295740214553935,-6.016966819972634,-0.0729159108836764,1.0472100556417252,-1.4160004863685192,-6.328149221102213,9.653953616604543,-4.5950260693128095,-7.023240946078153,-7.202954243108938,7.3737260088427234,0.9741818953967043,-8.12529497288487,-6.68148825779621,8.834426958385063,5.71176142045094,4.293232228861731,-1.577679571078818,1.7214329150398373,-10.83797994504497,-5.4938679315406915,-8.244126656595823,-6.110106405410785,2.0053369502655074,7.459486058493066,-1.3280256548646645,-6.220210148823146,-4.14681412439948,-6.265444918143187,-8.341953864517768,-3.682648134135939,4.789352502402262,-3.45252830065167,9.836918490339023,4.0471378330326,-1.5484958619862168,-1.9065391270358731,-4.819114170309813,1.5194668759730272,8.249033718235973,0.6541784535791888,2.5632062122035464,-1.484092254982042,-6.582671310696984,-3.3039358701139183,-8.838362772764272,-4.560868892574737,-5.383480833845576,8.15220582498087,-2.8951005268785837,12.887043906533007,-6.968554250574669],\"z\":[-0.48161740957805405,-0.03213891973846362,-3.4324348586513445,1.6903113045394893,-1.9494630458714057,-4.375330515146993,-2.07869146111323,0.9943223840651374,1.5910180285110387,-7.933000839704867,2.892896066176851,-8.14070084591289,-4.332788794400471,-5.202270629194449,-6.078503222450657,-6.658714312093088,-5.019761480428991,1.5962976075313975,0.7021610657530204,1.0746806182539301,-0.45165249127520457,-0.53369283880634,0.4402639892992954,2.01252864581922,-2.443054610571939,1.3214486486367554,1.4614492679946467,-6.897700959989194,-3.0695139759071397,1.4250984290444628,-7.213505071422897,-4.007148030525138,-6.101752950515328,1.9066374238680739,5.781009019510276,1.1638895716696465,-7.7511726118541375,-9.748869552737805,-0.693823874727539,1.6668422710722448,-3.5168629947665244,-0.33999850758835265,1.7823871670088607,0.7759855156680662,5.70872090714983,0.4502833474888863,1.5215336338236756,2.609576148771759,2.1430395679133545,-0.8375378883180301,7.215253128386251,-5.3550605480746745,7.200498137139463,5.188505781764092,-5.13046913728747,-9.446774764222267,-3.6160651625863984,-2.2070412838598767,5.514086275398562,-5.6820524189461565,-4.397881702502228,1.971242490292864,-1.4940303468780822,-1.853967747529097,-0.12730073095662967,0.971505659004306,0.8925200094506096,-8.29042874154462,-4.943543134607048,4.674711846680425,0.6172172399760592,-0.1707199967532509,0.10421427834958183,-4.854072727982815,9.114719234465706,-3.2427617540007962,-0.4138747808873378,-7.794486369569755,-2.3787768046086235,2.9414845021023206,-7.00949575437192,-3.2668769305750867,0.4393217579754212,-2.4437213651686718,-5.757498542682521,-0.6995458195955027,-3.9066881133264406,-2.544811487990732,5.428872758328361,-7.242400714359141,-6.946183335388382,-4.943419167291645,0.8712059858681672,5.938199040081643,-1.831594190503776,-7.203358288712625,-2.1654217041869854,-1.5416012686841936,2.4556779620040214,6.471669101723749,2.1375729998476842,0.17750438823969403,-3.533430897603036,0.667494403714078,0.09454128439740182,-5.743197916053659,-5.070228085996991,-3.1855204645799855,-3.17116742298777,-2.6837050369682243,-2.6438547911003423,-4.975487713639148,0.835007213331078,2.7166474429389478,0.9921386321015029,-9.019769843901162,3.043880932704763,2.8615131654568917,0.5488888544587602,-5.615486644499798,8.849887405823068,-3.366344239346008,-1.9437210432518452,-3.9136208567927184,-5.63012002488228,4.245569428411315,-1.2687164821669943,-11.78409909043598,-5.102560433613245,2.0731947779678874,-3.4901640750091185,5.999399822784358,3.8153196190916305,-1.2132084089925472,-0.21298848426292247,1.5137992145631993,9.445555799289881,3.9749146525031827,-3.1875673826600917,13.691794690301696,-6.952747580380796,-2.0844280725320186,6.37130401279022,-6.790712429452369,14.45063808665953,-2.2883112141471673,1.612628831772484,-1.1290537648137986,-3.7520228923270604,0.137867198582899,0.9544550714947722,-0.09865115213337962,5.506368783203299,9.591510197780808,-5.17772791858107,2.1948137921902804,-1.6039171647960055,2.914680686366812,0.2266409556756408,-0.40909887855714927,2.925083963151304,0.1276005761445995,1.835918574932307,4.169761116298516,3.083419415411123,-5.829617652129815,4.175153772037807,-5.205398422078093,2.6887618722092794,-7.082523790855988,2.837069797340191,3.3069936094769363,-2.6838693216046527,1.9579903169439523,-2.7068698825754987,1.4094544804163602,-1.9043010622112015,5.394220137541776,-0.43306128101025254,5.123853497996526,-8.285754875575481,-4.010718769266812,0.23128427449713296,-1.6512773881663734,0.7151095451360112,4.53455386120598,0.29024408108499206,2.7719158378438884,-3.7761826280854436,1.525713415795785,-2.21632339335098,0.411831992930263,0.7098955760263742,8.335155907412684,-1.8987616793446982,-0.4236477562718994,-3.4427983950442402,0.8392247859661436,1.0417809929651385,9.288816464707603,-0.2588035331667844,0.3148096404262842,0.3830761620346394,1.611508119822768,1.203652525584982,-2.8662153564026647,-3.456158150018168,-5.956477335688492,1.4634558948977716,-2.8270848339062753,3.6401593856442696,-6.844853979313624,0.4678269390654786,-0.9458410547701723,-1.9312959459758514,-2.037668905219945,-2.716435197349925,3.8447049039958845,-2.3796782371239735,0.474378056695367,-6.084837855738133,-8.5657536450704,-5.631452390532529,4.5950974585233215,-0.7201399105733173,1.8832178593367044,-1.0999649132931146,-3.7550264331479517,2.5237143645153672,1.23650726452715,1.124764914496708,1.0900396538125887,0.3228891596540685,2.142867652485676,1.9721390338374063,-1.0138616875090005,-3.447494170359772,4.027635402774157,0.3081488837035774,2.2472991813805963,-0.951512965540291,1.6535894022584408,-5.995928176114248,1.7626337580847242,-5.932439509052877,2.269594214225867,-2.5666253846269558,1.4590158498172214,0.17525751254635416,-6.222380655773767,-4.2685708791684,2.4759908984161862,4.185587141323914,3.7679740543875133,2.654069900598232,1.5839179678908328,-0.8083666785210509,-2.1594994108516365,-5.756862466087796,3.286184950091871,2.6587313361878966,3.3034181940567335,-3.7406510268091964,-2.505950009122844,-6.79145520050793,-0.4710075588743579,-2.4961063515771245,3.7775494647484114,1.4120745504657803,2.636316962640556,-6.316510778961909,-3.1623776126287955,-0.34600294757113725,-4.8487535633562215,-1.4546112656809997,6.886752575965302,2.5294340316067587,-10.909257381657115,-2.2042835784630674,-0.8940825699985172,3.684017130960303,1.3518439197146066,0.21524332441654234,1.6212706836584867,-3.833247192652351,12.59558262900734,-5.033951319252731,-0.2881601374365452,1.65180687128125,-6.983055512072759,1.8087319381938287,0.3102447581078043,0.4835085209980336,11.12953042114161,-5.750876057109597,4.22028818372056,-3.1297374788553918,1.8262056367070314,-6.50994750239007,-5.342147465536072,1.7428431759177174,-1.9151621098378842,-2.512954160188546,0.12478657904553657,-5.8907746185995915,1.005495699995714,1.6273907418477622,-4.357853063078541,-2.491064334860617,-3.937863068194307,5.699995922599209,4.754718763709613,-6.687681502625234,2.687100212424251,-4.1500459659804285,4.319954920405798,-3.826176134837195,2.009324341445324,0.7663713863903304,6.225555409465735,-5.199440455528898,-0.37928919611578754,6.2486004202664125,-2.8805879985728304,0.12309228015612218,-6.0915969004389625,-0.8730150217180033,0.6831318266826291,6.5307755670899805,-2.932678601490817,2.755622558600373,-2.600848480356811,-3.9866787340446077,-6.733008900016906,0.42166185080844387,4.014815844182947,3.3692487081010687,-4.868892971751695,0.770771309767693,-0.28254216156767537,-4.997460453769265,0.06737640254302245,6.7037756485258395,-1.432776840866641,9.694214732456459,-2.0167319203297853,1.7452961054886236,2.5392774140283576,0.7285478658480291,-0.6779627973939285,6.021474488911964,-0.33512870185372023,-3.740227560492922,-2.2957539269174454,9.227779884586521,-3.86200013167115,-7.739776818317074,-4.671089351833182,4.121856144136934,-2.38420831735874,3.730976529979318,-1.853998820326399,-0.6524490402008059,-5.757065187659926,2.74357541346137,-1.2310110316927274,-2.93393190998032,4.806103645566478,3.1656096452650133,0.5447135160025438,-3.780934143983579,-1.8070743884552016,-6.063392324938918,-2.3290198375999442,-0.4766502904117973,3.440562943619118,-4.230738743504803,0.9757807976030005,-3.9293910529300176,0.6840570230262805,-1.4059662580374614,-2.132154492939355,3.8339841836101907,3.725647704095548,-5.003568412606826,-0.4946253403990925,1.2271378842031129,-5.381215123033934,-7.704261099666964,-5.22535690994012,-5.082731951698924,-1.2124626127383087,-0.21848409041594083,-1.385860520041077,10.30188032799092,-3.9614311375546727],\"type\":\"scatter3d\"},{\"hovertemplate\":\"color=0\\u003cbr\\u003ex=%{x}\\u003cbr\\u003ey=%{y}\\u003cbr\\u003ez=%{z}\\u003cextra\\u003e\\u003c\\u002fextra\\u003e\",\"legendgroup\":\"0\",\"marker\":{\"color\":\"#FF6692\",\"symbol\":\"circle\"},\"mode\":\"markers\",\"name\":\"0\",\"scene\":\"scene\",\"showlegend\":true,\"x\":[8.584265632642747,-1.3813511370623037,20.007101739920415,16.90893786935535,7.3301876184874155,5.921233395358806,18.93961569911526,21.252572267565153,8.745934017145569,17.61091201595956,3.529377855772873,8.24602310258378,3.2582110405218763,5.429406265997739,17.522711649847256,16.406467997818357,0.11826713997269471,-0.10081578734626435,2.9155863113919707,12.39556709649583,1.89272152395129,16.447944071929687,6.1649365001373395,10.502358748115286,15.624330346899557,13.460737770070182,9.09543111036502,5.554534284072745,7.4524404007559255,12.055585481642478,14.899445266912679,16.653090283790412,17.149762638954343,8.916034978168481,13.382555993881132,15.966943759363117,6.73460050964035,2.3582558610382165,17.07966229818161,8.953688815211244,12.739469767336407,9.50720073105525,4.664743573735204,20.912585228380713,13.135940890345884,14.691790534566946,18.61700643869529,4.448654839549434,24.11287523093753,12.999389852713232,11.413679100194743,3.5331071616045793,13.643081385708923,15.214690108619523,15.017276862379534,7.376312539443837,1.9207864295918868,13.402939710168457,26.820249620080823,10.242458079796446,2.0629871588032596,8.672420450452766,9.839874932878615,5.833336947238015,15.03591087606027,13.019052818596553,10.00935053842054,17.47760372155156,26.732766333470767,21.276556223468628,16.85710340552177,10.543406450927279,10.517603643737433,10.906262034069009,11.028471818980682,-0.9969493755631526,15.231434272739486,11.577709113773597,-3.2738615097618204,12.383940068408556,16.131891193947325,8.179999895727562,18.249674684711128,15.206137175856004,10.585863925737424,13.210161942010384,6.619165808825303,6.445358722123594,20.469967010520282,7.5956488695015105,9.447316284796075,12.278067457093629,7.351891214194622,11.45538843635119,4.641966288124481,14.53517570717351,-0.2940465624736804,10.189317204400522,9.084312053619128,9.547466050405136,9.13548563805749,10.20062720241905,16.79374957661656,16.456810730201767,3.2348442959734363,9.01145358344144,16.768531709234114,3.8479087345997267,21.00546245779994,16.47796129227309,24.83222969937496,11.86868667131477,13.148900915359746,9.832535138305202,20.620726063737873,5.025252376707478,5.609417135367191,7.522377709585082,16.498290684698627,13.84574129249814,14.158689893125963,13.106612703217682,15.948972719699247,2.7523869254651787,22.9034414867879,16.255843771269475,10.782040239955764,11.361258027309404,16.99265515558666,11.873397974485025,-0.2818438084615591,25.250280581364972,0.9437834024833746,2.7765168202561936,17.12908633828849,5.0719381584694805,8.494333870877867,15.081985108376937,6.441550045262478,15.982207071620355,17.64212187433195,16.498182245649772,10.841732570973067,20.01359155905323,1.727476610353289,0.8747709639822685,4.0740230205869405,-3.678214603963238,7.252384002881109,11.526990817298834,14.455632263797327,7.070539006696611,11.103946010637182,9.17911301281796,6.8222939055909375,2.8131695866475352,4.794242814995027,6.212176393663258,20.072719806647523,9.471486297840347,3.9254931257789574,20.492234639152006,2.532015320984767,10.003032721852367,15.25318818680983,6.09716228792932,7.073912768705647,17.768415497211837,5.886925821315423,17.175471011250632,14.144921926438677,19.225101430850977,11.44358629810791,7.14956676731345,5.748017822199315,12.254365539593659,19.679694633340514,-3.2202040727125985,17.104023199641404,17.641121300765832,10.233107626451098,6.003405912576484,-2.627909819458356,13.287742702626847,5.408059159549679,11.15294692340537,3.6837965771656904,6.405858234521818,10.460896482023381,13.187443030585449,8.390846491453084,18.24693075346284,7.457282253840835,8.030603611120528,3.993187666099641,2.322345680393402,8.999175375742851,18.139160018729598,22.628424213480823,11.991335151794713,14.082872228745174,5.36861534125628,-0.6319792183700628,6.408656199654559,2.8164795331782964,-1.398501111160423,-0.915337167654119,21.40304971718358,-0.15762427788915384,18.571727209671327,16.25819504638041,11.62708003055079,9.782665977728692,12.931294747547007,-2.8590283705272443,10.027505622750581,11.79389857330239,16.148102372926374,7.313129662626617,9.196358690162297,8.440423129271034,4.1748814886840195,16.10762075233432,20.40142689196033,18.49105490507577,1.8712826467323092,2.7898859624181314,12.695683160329864,12.981934132026067,23.116109057136583,7.532003300713744,27.723571887263155,10.857981819987534,4.985641020502309,18.594323097150273,17.813722503988107,9.310696133470357,12.846910686647952,18.87572746929087,13.72541454232811,2.3379885667926117,7.120521752940906,11.803738824086084,2.3152411303917244,22.990279693166954,10.230891892128815,5.952741750041751,14.843333004353488,14.949659079901174,9.924820322223649,6.423259956258021,10.326554443658123,6.3859877286955955,0.032573276006839326,5.938518907808499,7.16545199563785,8.21169047933324,13.121958800857513,12.022705101686626,19.031716809565122,15.163796410092194,15.153494509245819,6.819454073863996,5.648977546480456,14.856874194003407,12.877170048841878,27.886449676788402,14.095217517772175,8.846002475148346,17.023006239288403,5.175476378653732,17.794873279859047,4.763494925623873,18.620973848024555,12.364354232132031,10.74292652267144,9.628341627342392,11.467375356790704,7.705387694516226,7.09050899784728,6.127982174435545,15.490884121534146,23.06501613969804,16.419810986496493,3.9430020248228277,8.560586047757505,7.6553440794835925,6.091270641326855,15.387011044474397,19.16002732541167,8.800385952936153,5.45615005061045,10.24731861277573,13.318819796137413,10.969594889077147,3.7931339240092288,9.072448233369986,20.070451285015974,10.802155723630046,4.406300961507809,21.58218903356234,17.26572518289955,6.279692626451471,14.44149297054316,4.730625480089078,-1.061468169008254,-2.661185941790898,11.830777574105356,4.327890958644128,8.28150441148889,0.3160737997886383,2.617874170785637,23.419261053126014,-1.7052340575490472,12.567393857399301,19.429658479283184,9.20458694265539,5.943969463282627,18.333779180191982,9.970837360618367,1.9418175268853868,9.269700760884726,12.280617310706011,1.1539320898362737,16.9254352771918,4.710986829636066,18.19670426575365,20.635300410797083,4.762958850879655,24.940687428186894,7.133417793104201,19.32482337629984,23.345244406742005,9.487901794594267,-0.4908251601191035,8.709241450678906,16.384349377760504,13.160278468670652,10.569847381316768,10.526088471513361,21.975577251730645,8.736332714572491,13.676470735728616,14.728234166521368,-0.3098229467903725,1.6541281132104326,7.3567375572013365,26.005582830320208,10.5477427294262,8.249918259391736,11.138685453766072,9.420684017523495,13.019300041169684,21.06239155716421,3.9030221936236362,3.0138224734616443,11.113212029925549,13.684342591868175,9.521052141103123,11.972977975719262,9.596898863098964,12.793228152984945,16.099737729221115,7.630308745884129,14.768833609713472,2.9951889688695195,16.58250591053175,28.80547361258624,7.5332907092107595,23.545464457842105,25.992197217183563,1.3111112100354838,19.18379277022979,9.58337494176135,12.686650356078859,22.926170031646933,7.736065296234808,16.38191287211615,10.714043913942547,2.2719250081424156,8.38070746368671,26.001223749899207,3.6855368139176106,13.385705452117335,11.883634536310463,11.190965112210392,-5.64858582626756,22.85299020108342,6.829030565773705,14.074761197256425,10.222105025979632,10.962656365258775,16.685632764418614,6.103476045924825,15.739790045639689,8.129048096800375,3.5476150271781166,6.1718898514031615,11.423227467137261,17.874227148293812,10.898986053525288,4.117560368887979,8.852518894427568,12.086227883922843,11.178115102410523,20.365089555600147,23.363496924756436],\"y\":[4.7560575500858615,-2.139010478287948,-9.877720039381568,-1.0706538945108828,3.7697547893742267,-4.164358017684147,7.280082709488603,3.580035422074948,-4.244844125614417,5.188762647263486,1.1469394085382725,-7.27732286763831,-4.480458310107045,-1.2299093106812897,0.18168856433551359,0.8510017462415381,-4.848334377570968,-6.443849061325232,-7.164552498543106,-9.254370663182833,-5.237685023457512,-1.26252467291509,3.8646183753588375,-1.7593258041082964,-11.863077908886606,-2.487336068384162,-4.036142740310232,-7.291270710317441,3.2727938643033747,-5.945449000738067,8.11013498997851,4.609011289574765,-2.537289453016624,-6.597086951321413,-4.095322126633217,4.526278547535325,2.3746503908039225,2.850017529058682,-4.772282520837581,-7.08839559663616,1.7339550217374697,-8.719740860510525,-1.474602639982918,4.644056504116837,5.521642490448951,5.6635035581245186,0.00639864126848479,-3.756659738008597,1.0768340137045616,3.6796622855125647,6.603428664160218,-2.2233028060658553,9.756347962502808,5.287683374616594,0.9730067469415502,-4.597339616300305,-3.6045874306637575,-7.56744839271186,5.189985539170162,2.9146587064000244,-6.824165846947006,-4.7671743664338315,4.425760461197149,-4.236586167322548,-9.992611144869363,-3.4679468489027574,-7.961316060680158,7.021794016959319,4.293271617823208,4.732769077888269,-5.000313441558519,3.2014637199934306,1.0388936544421155,-6.489031254781338,0.5974272316243638,-1.3154420858341795,5.30774718207694,-0.9673019907399246,-1.9013733027407331,-6.428174275070665,7.96674281197523,-2.797827802802111,-4.981390691150425,-3.8827471035360173,-1.912597917049146,7.6095367726952965,-4.577241973096619,1.3669622316750265,-2.182738703427292,-1.7544359082285765,3.0156926274674842,3.4018414898957228,-7.08341634734415,2.242679609678063,-1.5104847439610538,-2.3065453021514624,-2.5133620802724916,-6.459071429948379,0.9835340096046199,-5.277148765931122,2.705630499687539,-2.983581235235841,-2.3254995547096793,-5.362012831569238,3.527915835393055,-4.7612255161033,-6.978341632618646,2.690183538970316,0.3276593788083616,-5.394495223559299,7.432099661769049,-1.282490897717263,-4.633908328371017,-3.960372856354879,2.0535321606296337,5.5707226300785555,-5.223836240912829,-6.887745296443286,-5.24242417476927,0.24667964281982832,4.281695686525947,-1.8743910046392827,-1.834924071275069,-4.069612973826564,0.8927244630616863,-2.195752691067596,4.32803746376188,-7.389571687170534,0.34253392637556107,-1.2981975881731793,-2.893690524587315,-5.38190565207084,1.5339968069566874,-5.747647157578795,-5.793938588373336,-6.189544135022946,-8.030213628279572,-1.8355627258481475,-4.407066998285023,6.740475675394507,-6.688849265684714,-7.537196053399005,-3.9924515419739803,13.480396344716361,3.975765819491724,-0.3190619816004774,-6.174144713766133,-4.2757062338450185,-4.590321145495915,-3.870460565555206,-7.4645363457575655,-8.109700429591701,-6.568918488258024,-3.668299790620183,-7.666508881832866,-1.195280177936547,3.936350727902474,3.687055245004221,-3.543037406526768,3.8855083501509866,-7.139612850775935,-6.951579244047414,-7.775364339005664,-0.5149544173508124,4.665927041154904,-6.420272294449794,-8.279965428129566,-0.9520599222057853,-4.312548888661978,-4.170696385394911,-3.2699696523153094,1.6004891092881905,-2.3026162149087686,-7.699745621601833,-0.031499778637931006,-2.8715045642703156,13.32089003319573,-0.6227410251409395,-2.51376804091777,10.883846136831913,-6.621442465755166,5.1678111694925555,2.950788208011492,-3.158385066418397,7.060892243190172,-11.784756647894389,0.6484129526493176,1.3462085993356154,-8.163759631341359,-2.1000871905184284,1.562011070508991,3.9768275315646058,-5.167163356353666,-8.165149151816232,-4.565613957394432,-3.8256861963438498,-0.5492376060075927,5.641414838396164,3.013169359788471,4.152541113398974,-6.292853552227324,-8.07305901261578,-1.6691674499757407,-2.317687464265595,-0.4491511786858342,-4.654559095759033,0.4468791508527545,-0.17254968658151715,-0.34291431147020246,-9.88638295319817,-9.172337514023662,8.427264801510347,7.262140157606673,-7.30347834884025,-1.719600798658959,-3.601541987770058,2.7197893220078453,-10.003015258949208,-8.942084207138599,-0.5585762479139815,-10.473976924246097,-2.369778259114609,10.607383449770929,8.152485325921868,-0.9278092301776821,-1.666226048832159,-2.07188584567566,-3.8269842676245855,-7.278761842736987,6.6515925994683425,-1.9932698245451332,4.464031967420104,-0.1248273353833351,-0.72996090137812,-3.3889574254769665,-8.921358631962018,4.155586749999529,-5.911758521781768,6.775572107955607,-2.205653058806484,-0.5242034336658304,5.14923179111089,-0.5934582568151867,0.6671499723012742,-1.9167002842214347,3.233420757133899,-0.40641723513491107,2.696164979560942,5.5502101366697785,-8.4250690745314,3.9030050809723718,-0.5890787213807717,7.387277024284435,0.4574743512012162,-6.259082914267639,-2.3053574688775615,-7.680718577221356,5.945767900456588,8.924115424539705,0.6051051312496682,-1.7250620778506651,4.556986752679493,1.729613590415812,-8.841119739058305,-1.6909979688984564,6.174737047693948,5.440225647309778,-9.292081026923656,-2.0115395616335476,-1.9374528872744803,-5.2546182229532326,-1.70315132264439,-0.6538084862351782,-4.378397076795973,10.441750692542783,-7.645477932958743,-12.230292789540849,4.723140665060852,-4.423643396275961,-1.9221271599759475,-1.8563808447727488,-1.4254685024022666,7.2670227659413165,-5.7508517676914295,-2.382589475640141,0.6941745542074395,-2.839371732439219,-3.5211645760869263,-0.8966760941114512,6.163013061306718,1.1496484676700367,-1.6430946612932071,-5.291451276573776,-4.130451497567929,-4.734790326481137,4.0637440951590325,3.41450307657597,-1.254559559869081,-2.198743440648354,1.1452341819738647,8.8647291233362,-3.5600894564786505,-5.68122520403754,2.9541653478968093,-0.014696269018523753,-4.407793747672134,-2.700198700848423,2.552248362936687,-2.4463144464134636,-5.372053288341518,-1.0924411149358082,-5.0853744774876875,2.613107005394255,3.4073637676719537,-6.484727435879445,7.428090086093684,-6.87944098868089,-9.33719251759974,4.8099313137331725,6.077875514196642,4.094863537599614,0.30102349172303117,1.3588252423520535,-0.37480310196858313,-5.39304621703175,-2.5139175032964416,0.08486591355466212,8.937192915391423,-0.72162410116523,-6.029618929457018,-8.228733826376619,6.611262107593209,7.0622647069801445,5.957518386490907,-3.1521232886801274,-8.29261696353827,-3.3670947836074436,-11.998833842325956,-4.433122119951533,2.0953423772709954,6.024982795325506,-4.643715743692624,-1.9344297866436064,-7.40446084882738,0.3372300477537741,-4.855296134425361,-0.3948710404626808,5.063863221137058,1.5127861197563748,-2.7803005066402946,-0.7022255898278981,-6.866402541057896,2.688278321779379,-0.7662561518315111,-7.73666221576695,-2.483819404862003,-5.728125711311239,12.098496732536546,-9.713027083354007,-4.404583402241719,-8.288896205063491,-5.290634308890351,6.8830641485814565,-0.44427886660864835,1.4900951034438112,-8.099580836446647,6.628339070521081,0.20641802418539257,1.9510409738915424,-2.7057914359573716,7.436238557091895,-2.106772256911586,5.166363738555021,-3.4909706071975997,-9.54166036731812,7.796421384887774,-0.5639207620536101,5.237940955681306,-9.130225734783508,0.08027112456900198,-6.402558917376104,-1.0765952233865432,-4.0729950724667665,9.050313154687567,7.68226440238612,-2.3969041793680215,-2.4314680080659206,-0.9477940628046917,2.8427204113658204,-1.366352982554383,0.88737152900506,4.338551801259276,4.245627580754782,-3.9769802109398347,-0.03720886453268962,-0.8253487633356456,-0.9227482505765404,0.5552391800554896,0.4840914978478028,-2.7954633757226643,-2.685862794784338,-3.4067911972604814,-7.260174396328804,1.0578572458541289,-0.1299523199926482,10.99705183090376,5.8687446882864815],\"z\":[2.5304153782172936,0.9963092270101732,-9.517528294842686,-6.101858730120785,3.7408421031866412,-2.1903774774523024,5.463010570157991,-6.383659425706038,-7.499043605726012,-1.7273458304733516,1.6352984627928717,-5.804168710137559,-3.552501060542794,-1.4527051086832883,-3.872491462993346,-3.3441991340433606,-0.48823005018546684,-2.31818290408178,-1.9600358771302049,-10.100507785624451,-2.2404104953957895,-6.3242174846214425,5.838260357567697,-8.357064109021113,-13.2824673086658,-6.355349809423894,-5.234869178068854,-9.641605967709099,3.4410324649978343,-11.011996009040482,6.922145458352338,4.088389643109496,-6.775702444343179,-6.732753701736086,-5.479220368319683,1.0718571065279723,1.1262509117158315,1.9081100195896534,-4.953472027496013,-9.204354905448419,-3.8772872784195984,-4.787765791859055,-3.538252780935701,-2.749892041976548,1.9295430824542952,3.792698579731289,-1.229035891569566,-5.204860493916761,-6.338095167548039,2.169240687395865,-4.27162518557086,-3.098145426272915,3.4668668465050185,0.4129029443758419,0.26218846028858084,-5.883067310595661,-4.1499321678778065,-11.72136616042908,1.3668322173181644,3.831023946903938,-4.513903031268852,-2.8480252955513703,-2.2034050112097066,0.04526457040296005,-8.52553861694385,-10.394964074790726,-5.607943508294416,-1.084953658649785,-4.676231831104334,-2.9792620594773465,-10.247134988114874,-3.2757860586579057,0.330617568584408,-7.746814832964075,-4.96207308004538,-1.4988064319204164,-1.389116731118864,-4.102822587365637,-0.07043369408769129,-3.9146176456229655,0.6513660028592435,-4.752595643957562,-9.764752102677965,-5.213374545209842,-1.891135907750011,-0.5687797676407299,-3.4884597101097987,-1.192116247599713,-5.813538859412182,-5.757442503546809,-4.838817517008243,-2.173604179733891,-5.795340610935171,-3.628371868412505,-1.7690479508226813,-10.58337747059736,-1.7312203884736315,-7.182744268298313,1.015621043453051,-5.079960028525646,2.2424024132510048,-4.24424696817379,-7.260343135266216,-3.4837359852608936,1.7969865446625772,-8.165738234603493,-12.057395380986973,1.818264277092487,-5.996131769171724,-10.750213300478471,1.245441978758975,-1.863416913075384,-10.133632153538287,-3.0149847903126403,-6.653701393312008,5.412652556235053,-5.478224764058995,-6.400184510582735,-7.3591911000790065,-6.027613296926429,2.318663743130569,-6.7266523886825365,-2.7406896979930075,-4.933455136870398,-0.18419786094244286,-5.465951037657138,-3.252895295829142,-8.294135694465819,-3.867668800965299,-4.8422197127083075,-2.627834158748062,-6.917778777027645,-0.317756704967165,-5.445049096476879,-4.64551741629974,-5.091596233065063,-8.480694993797112,-6.592022883726058,-3.7509401714817594,4.014951604248469,-9.397743383093193,-8.622834411640138,-4.829286235898483,0.11104172153918339,3.7516751117484826,2.2658589805421148,-3.140915846989371,0.325159905413468,-3.9202293637501486,-8.508428995292373,-10.11886411449099,-8.047674510937282,-6.928523714416067,-4.4999598057395875,-4.733435849067336,1.6672382444062668,2.1022762317897,2.7003721660839153,-9.481619992954489,1.3305530553683116,-4.461450565843331,-13.164145614721694,-3.84958144333089,-0.08790710464449165,-1.8706050739996454,-4.292495958140121,-4.969082212987272,-0.719331010148718,-1.4287991821187598,-8.87112796888007,-9.545134620458272,-2.513907353664573,-4.867955132385283,-6.7730950495845414,0.6387490494002701,-9.0672434041718,6.986123225083318,-3.213629856567121,-3.212351903827325,3.468091247465919,-5.117197548415375,2.3275099980686575,1.7735840659575537,-5.239774543625318,7.126878249902328,-7.27248542304545,0.040847369149317296,0.8557745112838455,-6.446898892776969,-3.441566542515853,2.0006481228027875,-5.8835462991898515,-6.785726097764237,-4.507035854227521,-2.423824217103319,-3.0755820621961836,-6.009526614090221,-4.946144235012129,-0.5833213949303098,3.692512020967248,-7.845531105829765,-8.88788356540302,-0.18899234412044638,-0.08576520819835165,1.058606944360083,-3.4342237228785835,2.2316055761772517,-5.5490379499599936,-0.9613846563907064,-10.177961296149613,-7.863206840290497,3.917171345920606,1.7662018269537945,-10.456686215777582,1.1768113891576684,-8.109390815188926,-3.7310048432059837,-9.693997781976826,-6.280145792538458,-1.401134038628539,-5.905283580178096,0.8891908052251168,-3.5235316862558346,-6.032687269124066,-8.367207870265027,-1.1605527847733639,-2.636716596415561,-11.292161683112411,-11.06770161663613,-0.0965755342293673,-3.247568318844225,-5.356302301237321,-0.5299253641361289,-1.8320998194790152,-6.53870674575939,-12.302435424893618,3.9881675648944515,-10.231596081493821,1.764971948759703,-5.158427367459007,0.7787399438427872,-0.45150347337659674,3.236835993175892,-0.2726343833745636,-9.492898020592683,-5.716985958442831,-0.387416889034127,-4.94933101953326,0.9006618897335275,-7.3321143737112715,0.03345099674088565,-2.7651670752450612,-0.06017161636994127,1.4655330090465428,-6.2331652514231,-3.877445910010941,-5.9836122136713525,-4.694162870090597,1.6509942143031398,-6.9538124509328165,-4.654707501493734,-0.10651316753658158,-4.392176482310468,-4.021218214819057,-9.51133840734249,-1.482651857968468,4.345741192628946,-8.694432216650998,-7.979410947574913,-2.1288324569649784,-5.505575528054728,-10.273846919200864,-3.6583924222062287,-2.6907168116035103,3.3803957859019795,-5.340479795350679,-9.283911415043965,4.570652850628862,-8.255196519147418,-0.9735018068056417,-1.7558190985533053,-4.097161613930379,-3.136555904682985,-11.233961329658097,-3.7595133947533217,2.4799027116536574,-2.499093715500003,-2.080982343132424,-2.2997061176720113,-3.8956719697498747,-4.691356012260153,-7.897925725138007,-5.553015427487097,-3.630933053994903,-3.501574935959333,2.6564530743881187,-0.3329315255005126,-6.336534203473723,0.7029143765992683,0.17519877364850853,2.228602759067579,-4.569863934926789,-5.786710385380177,-0.2189188185963584,1.2833500371858875,-0.5123339330131979,-0.09708968243383824,-4.469968450953019,1.6820483121333443,-9.473388102552493,2.330908513305651,-3.0406931867688876,-1.6977528271619793,1.1766648476198833,-10.024588352166274,5.692136234948587,-11.764282988013466,-3.6113670037460888,1.4898849007441284,3.5825981105071953,2.3645073435509762,-0.8055070952440161,1.5384122903030042,-1.3996416445080913,-9.05349081876672,-6.046486033402241,-4.938479242785795,0.6151196805392726,-2.3130484266194653,-9.167848464940745,-3.752972526585896,0.8965374410144021,-2.596311320491659,9.887813153495918,-1.692642504178864,-7.250579598154825,-9.305294723111551,-6.9975809609981905,-5.662398084847899,0.5641463733374393,0.24743214069236844,-6.063189400377214,-1.4570645481179865,-8.395079220282122,0.16066664363604252,-3.867136076060601,-3.26682449978503,-8.369014776441391,1.7856382096307486,-4.160064599246538,-6.70957830674774,-7.083571942518929,-5.3815139917852415,-7.809625366031738,-1.433362682757027,-7.990801321948355,-4.78957515618597,2.1706077313187704,-9.431393878111457,-9.166621633569665,-9.391257424781752,-5.627145346854981,-1.1400914316766362,0.1418449061448044,-6.61204766858198,-7.202700928180401,-2.1354421857507964,-6.629017200863613,3.205958269788119,-8.867186039974598,1.341049190463546,-2.325715945657346,2.0787021066967193,-11.412940784896652,-9.795272917149532,-6.732678552128092,-3.4592234551529057,1.0920472740988039,-7.674015629529304,-0.5205022100638442,-4.353148784808504,-2.2184007586402643,-0.5323008214607637,1.9361038945867115,-0.9527583029599799,-2.8224596183017185,0.571669688132068,-8.475971936686385,2.9375005988666647,-4.288401429451725,-0.39954392566370395,-1.8257371693076252,6.687323403659625,-1.4704166467818314,-6.761239782036214,-1.0980268773575512,0.3266229174911624,-1.7411318138767768,0.5318964715794905,-6.9584598548040315,-3.5434301658191694,-0.45209032414226674,-6.966414488529481,-3.5114387085960628,-3.0544882597386698,1.826221280935036,-2.2058619228220935],\"type\":\"scatter3d\"},{\"hovertemplate\":\"color=3\\u003cbr\\u003ex=%{x}\\u003cbr\\u003ey=%{y}\\u003cbr\\u003ez=%{z}\\u003cextra\\u003e\\u003c\\u002fextra\\u003e\",\"legendgroup\":\"3\",\"marker\":{\"color\":\"#B6E880\",\"symbol\":\"circle\"},\"mode\":\"markers\",\"name\":\"3\",\"scene\":\"scene\",\"showlegend\":true,\"x\":[6.611038425121191,-3.69552391244034,3.638520964251631,-4.255036305296272,2.95320716971121,-1.876952434015668,3.0910364315587517,-7.920997035843229,-3.9083569418569275,0.906687812969999,-2.1284811193931725,3.437400488962546,-5.9017754368383555,-4.379203169202098,-2.852686633191128,0.04222706731160509,-3.6133786169239204,-0.16009034896662042,-4.020780309775984,-6.144204917271849,-5.838249441466018,0.8663212558933755,13.942930781352038,-3.2783742832209484,-4.225946761433655,0.49610549302961504,2.511723233185775,8.815399689976422,8.292450531158517,-1.5759920792781117,0.7404049923469318,0.5738432430131406,-4.223104793982973,6.047947568398403,-1.449341656357236,8.42121774963044,1.7220584761694215,1.256054159486706,-0.8778851208626702,4.912602878358548,6.5662053302366905,-1.675070378603554,6.942292613421279,-0.356937607681541,-2.8915442799091906,3.9940302831907184,-5.326568366245702,1.8479051599398217,7.834210549557577,3.1664996658430797,-5.5116256383108055,8.936095044575177,-2.3318396998141546,-5.487164172981658,1.018400351886922,-3.0179219624599467,-1.9313685704510788,-3.3571821074489727,-0.026431487900530688,-2.497307666780589,4.4680189999771125,1.9924472072773651,-1.0475811109664162,-0.004581366280042675,11.596763550364315,-0.4100348214366535,-0.8670617141190756,-0.9245147018719955,1.1355617436245424,-1.1846110526477844,-2.4122242313759337,2.101588832319913,-0.6985854850168397,10.16076738812628,-3.4755967812508537,-0.1450881718119887,-0.19168926566529998,-5.675369717662024,-2.9273253382908924,0.5655664880166281,1.9486668364285382,-0.925545097423601,8.917364471591558,1.7313183225653217,2.0406131983870455,5.997142188072264,1.2424402312035572,-6.2769872420866015,4.1006132165996165,5.4335948474736835,8.39236764602129,1.52686820938933,1.938676218914472,5.24656319528263,3.470985808234324,-3.2358780200672337,0.5977063312939022,-6.801910827942523,-4.01380442772396,7.072772832640496,4.687476074470553,-2.2140475712525602,3.5501171213072187,-4.534412175210241,-4.949404489012339,-2.909654731032987,-0.11765703397587415,0.2593200698562354,0.2877885222441575,-4.464477520170782,-1.470975895780853,5.224548958649432,1.6040662664788208,-2.1084312448594735,1.1505279396255452,-0.21283954226547605,1.132077391212822,7.607459498860144,0.442031737576865,3.423628695960004,-4.576674074196108,-2.311797159793162,-2.245712795960199,-4.819492312523549,0.8410607800735446,-6.178982783596815,-2.5475115503660866,-2.4252591110170534,5.494669107512867,2.488595305080469,-5.467236514628536,-3.036845121405055,-2.3813612738727263,1.0321386367507153,0.6592757829416447,-2.0262593795909236,-1.1467179826815732,-1.1227624482164322,-2.158327271089156,-6.2117487399934666,-1.3797057391693746,-4.689142841863438,-3.3367199729323658,-0.686307412947103,-7.053258936522984,-0.7472124771846239,-4.0862931415950445,-2.827581918699891,-3.254025279457564,6.263380967835279,-6.485427451422413,0.04866699874755694,-2.9963274672005307,-3.7813566080920977,1.5570757912805768,6.361840009414391,-4.721179075925389,0.19559839779658786,-0.5671148194124737,10.451610402301101,1.550449146381525,6.615863302946073,-2.367234702620094,10.365835691862616,0.42954462024784623,-2.4673093892687668,-2.592222138816153,0.6903776194096694,9.198928598565395,-0.5803905325582819,-3.1444752195549537,0.7245375805332965,1.8149635556685102,-1.7549244734740101,-3.872547273539451,-5.298123843505803,-5.115408895477771,0.480116854465171,3.175475463395481,-0.3785877332773399,7.24009627352512,0.08410733202288649,0.6859894387559166,-1.3714347068711734,0.4457227495116622,1.8931696469492478,-3.378395685475061,1.8949087086002652,8.845277376405623,-1.7716749550010416,-2.6193762252379518,1.303843535447783,4.146011483767723,-3.278297772212378,0.9244600794687913,-4.208249068083022,-4.423703596398167,2.004367567136314,-4.123461094569194,6.166199545063366,-1.4265450400386044,-7.000009067133678,-3.078599095477917,-5.819090155909086,-3.5162762395344918,0.22776424028511374,8.27199993731157,8.470650559555292,-5.02716465935922,5.254315651856896,2.3300443851398405,0.4139705654007787,-1.7939438041498406,-5.083316361891743,0.4998129207146428,-1.892856579740343,-1.3591539844045817,0.15104387899850602,4.2075341752638575,0.35407284878962586,0.9989421473092769,-4.392505155662904,2.9064052622066985,-4.234827921565912,-2.5537420908917157,2.4240587663423967,0.36655892591460787,6.19879126393248,1.8106147968429869,-4.832906165397976,-1.5144747036767332,5.606448610232125,-0.8666403149801469,-2.5388144869998164,5.051872172079884,1.046112672832477,4.702546428362606,-2.1114580336907407,3.3748470408390934,-1.1415794134047808,0.24903775123438807,2.8008369518230665,-0.2875675909971109,-6.202858539708504,0.04796711651539357,4.936433457625187,8.920282174012744,-1.9269569724864606,-3.358067342205871,-3.6827442959647825,-2.9511497807306646,2.721153832192775,-5.134822071990239,-4.268066426585791,13.96146929329094,-0.49822647890599736,-3.3171694979642132,-1.6404185815007664,-6.538456031525068,-4.769889769829587,-3.909350480001184,-0.5237598491249041,3.0104870220796904,-6.728776468477554,-0.8589786353045978,2.294683551784459,-0.7340490985863981,-4.834818806992111,-3.09064386473815,4.927679978646764,-4.450792941447202,-5.337956518336402,1.4669637309708041,0.5837963673554263,-3.7848878662692353,-6.471576925468346,-1.761009845370074,-5.1599727246659715,0.7670022597260173,-5.092306003896355,-1.1595331969494964,8.294256504562222,-2.014880437689933,8.97094060332996,-1.2940012790537638,1.7254882033904353,0.7801582979422309,2.4305291622437353,2.8530300657259366,-0.29177537577945667,0.6776681525960183,-4.967054499161507,-1.1438120585635456,-2.262712148330835,-0.6299825601902588,-1.6619823657358899,-1.4599281486338582,-3.009437474171442,-2.922461256766112,1.498476707830601,-5.065695532747789,3.1600089534644593,-4.339800768973236,6.700468229861496,1.1072530090591632,-0.22532010575266667,7.461499118943066,-1.5830362477776152,4.321608889220689,-1.6735258198956036,1.5334273492990742,-3.8180314697199136,1.431788751059771,-4.105259829683402,0.21766262623925964,2.4906209090228724,-1.6432283217834454,7.31051684512645,-0.01711360545430915,1.0859898172545417,0.32030320164941517,4.7986986793544,-0.6830787705769494,9.785344601342285,9.963551724367209,0.05077679785849867,-6.150153596325284,-0.7112458557914138,-1.1322531946777337,3.4527237884170425,5.215224372536177,-2.804112881272894,-6.71800829319702,-0.7296138382427688,1.5379091221862522,-1.0523692506240483,4.5810111551704225,-6.375037481117679,2.582995328349022,1.9474339845065811,3.5344224105855333,-0.3102780908351671,2.869687734605968,3.1453794068068897,-4.656201837510127,1.4951242967533087,-4.539316311818327,0.1945920518165482,9.74979817785494,-4.699472155251551,0.6905940419874563,-2.6935237245053076,4.810674635609472,6.110405153318701,3.4365058361386747,6.323102483309453,2.453855126095226,-6.859698029831746,-3.3414474426403986,2.607060706831275,-2.5156048159823166,3.357149972260959,8.735777400103016,0.036286270705287046,0.48830684102413513,-1.7474492508398305,0.018829059808277763,-2.7085888328082004,6.636720983112452,-3.470478393899167,12.98348481853768,2.6142866606609765,-1.3817511970782415,-1.0693984713076383,-6.521612036309523,1.1600052917441943,2.050205687620499,-1.3580303672945593,-1.4100545411850958,-1.5680046578005966,2.6348605524215585,1.6251764311557575,7.072869469773112,3.8984123553709225,-1.7825023410508263,-4.238327841855797,5.325746829713188,0.35868280939140185,0.26627214372456554,2.819515844253636,-3.2461681977312034,4.6404287609534896,1.1984529349940616,0.4815460115127856,-2.1932485166768125,-2.369508686957631,2.9652932712231057,3.6982335759679557,6.426096769478869,2.1984702340818916,-0.7531736256795285,-5.495917711086506,2.1023852314966183,-6.3213530688282225,-1.202216797439597,-2.022997992321553],\"y\":[-1.0429777487201948,5.2243177448394436,0.37522766735430013,-0.5729183501939016,10.18877334034585,-0.4334022756719865,-10.198491600564441,3.630971012891434,6.924344912886923,-3.003761213084569,-3.120381604929101,5.193521295074886,-0.6972382384999323,1.364285890104973,1.2233702267207907,15.888438932620621,2.561206300199389,-1.446528906632891,1.8226321140684856,-0.5347831442234289,0.25448545801985833,10.023009290271077,-0.636325609088263,1.050111559242324,-2.824403105183663,-7.168995352696878,-4.924926315614952,5.9952880823435475,2.7372092364443774,0.4542014141025139,-2.5489561241164433,2.6695700201562635,-3.158890952517073,-0.37112669082397676,-3.9152871323353193,-2.943440409890728,-4.793614242757923,-8.581130708859824,-0.9742155737852675,0.6697926735503178,-3.690255960942963,-4.037219580787494,-2.0745938616882014,-2.2236061225251897,-4.111930566296573,-0.874871230816905,-0.20070527409829994,-13.906369586211857,-0.494258007977949,-1.3094711409388484,7.679218030512481,11.968162158590713,5.877931686617765,-1.0336204591355271,4.546457473429052,0.7881943709819598,-3.5554529380200663,-2.021485129928556,4.159592727009025,5.037287921934641,-1.9784906197635133,-1.8370968589184975,1.1892706752968332,1.8492373133587463,0.8195705156067041,-5.348915009713,-2.377556588035098,0.2886771514602928,-5.845038105632583,2.5469828740018428,-0.8657503819020392,3.154808459256094,4.9865416431315985,-9.815064287436803,-3.385065351088237,-8.02412499667879,7.592539388325816,-2.065466325883923,3.3877566090294784,-3.6723663867409675,2.066911910310358,8.371882615385617,1.7845504783258483,-5.845570799120951,1.8356782848095523,-9.522777439324067,5.037401902068998,3.609077873652532,-2.9762534301625343,-1.470932374327416,5.642575611780958,-6.415141573869726,-10.174817212094274,-1.369951397577122,8.19899360331984,-4.569965157078604,-4.691835627689446,0.8557968924005038,0.3364652427325468,1.6102907155644604,3.6997038860854508,-3.80147552249989,0.9984208397964311,-3.0826618206432372,-0.7676149900301414,-0.9773060300462812,2.961314627060621,-5.155307276201512,-1.7585325517004635,-1.5583884400841193,0.8346765604494825,6.9360719983845796,-9.658997500063629,-3.871880005107922,-1.3379422561683771,4.735847058737715,1.3181991951693839,-6.828690241925291,-9.332349332260538,-2.7373158611842223,-0.9349504982590926,4.1794262319075,-4.5995058584374,5.778277567131332,-2.2600638767889896,-1.1048106173830996,-0.020631570755788673,-5.078698020299383,-0.5482537810745267,-3.3492308513270435,-3.1224851505442364,4.701203927962419,3.480039997930404,6.148604670258679,7.636438428996508,0.7935453683537667,0.8311608510733604,0.5708272224513872,-3.903060517724955,1.7629517688852443,-5.006666365858541,-1.9909190371068735,1.3466215021107335,-3.4288467813490118,0.8106794414064344,-3.67797026808679,6.035335802170405,-2.3332070659338022,-0.055907184811263014,-9.760756426183006,-0.5377670230106502,2.4893390394353463,-0.3266635569413435,3.7671644203021297,-0.3734017393000077,-1.2029400960379562,1.3632621722182916,-8.496740288661051,7.01498053390421,-7.861354232119067,2.6173257070393854,-3.5852661938711394,11.359406900331017,-8.030096353115301,-1.9565938412662411,3.305938566891817,-0.780863890547348,-1.8233012272801643,12.411134844335344,-3.832070950350721,-0.6900436670670012,-8.41984067388506,-0.6301756824216141,2.4740185421324745,-4.266719188742488,-2.4901032428615726,-1.9412013366436378,12.517761564196178,-5.368247854443259,1.5521971989434327,-3.185581476735979,-11.603618900062793,-1.9897423131040122,6.481782529131638,3.4254075534603463,0.5804366280004057,-1.6950566503438376,-5.580636002702874,-2.414313307575332,0.11257094184988048,-4.021186482546157,-8.032090788791121,-2.4066375419181645,-5.745612480641523,-3.742142812907642,3.2329142768352037,3.4285417965106433,-1.65100429657153,11.997906539971815,-9.298586475064889,5.529845406397454,3.0107700123357426,-1.0051898406395463,1.2788648644171112,0.3229698399669485,-0.5530067245645226,-12.14781120307092,-6.43483461219223,-1.1725306296148308,2.157743608119876,10.123138631124913,-4.631473859569379,-6.594145229746986,-5.120209704565943,1.9907893358956599,-1.5887870804983453,2.9588127217835956,8.11202265500975,-0.9047542161037371,12.61079180999642,-4.492149771577909,1.6731175026218552,10.031553436610347,-0.4212769874606861,9.636989705652129,2.472804023844889,-2.986759408949071,-3.3338292753232635,0.966066449484594,-2.110270650327646,-8.073528416223153,2.861205185927543,-8.197460667672141,-2.532773604003511,6.734444864903663,-3.963910724372547,9.454539675234736,-2.7938173536638775,-8.560118920083783,5.811232334613357,1.498499620232418,6.253903162639995,9.00880782431498,-2.0579566934322018,-5.3243013345127075,-4.049695690063186,-9.37706031891718,-4.327477447522818,-3.6068584328076243,1.1141285704363173,6.2082984571094055,8.100876667707624,-5.166300502732258,1.265873396714172,-8.57619638478989,-6.838716034632675,0.14659759143190298,2.486027835158722,-1.5984024331565712,-0.0178297158713912,4.71923842723999,3.7008744599070367,-5.308770880648799,0.8565247400719457,-7.405952564889791,-6.290087430798684,-1.9632413008954013,-4.326377268004529,1.5430703031449406,-6.197813396080381,-2.7746788137386766,1.5182549907823188,6.997557391703517,-0.6150470934612801,-0.34343511444556596,-5.320983039016811,-7.021154617770397,1.7466053967644637,-0.18383246577149975,0.06472806912019154,-2.1999291487670014,-9.032868282892634,-5.634247968182076,6.570405504120741,5.114570870305477,2.1815589718362816,3.0428297850559334,2.3786456415531263,-1.3041243480951392,-3.49947315497652,5.972206258333465,-1.2118123969321752,2.2019025302152824,3.191143668443348,-3.2819029651510854,-4.486635381307948,-6.960448316003283,1.8047368921742277,1.6492446796414353,2.9494836369708,-1.4816855704188092,-3.944896092991918,-4.868632650734656,12.624748612278326,-7.436672195563757,-0.22412905824657786,6.688945680967377,0.29364250643420986,-8.190862536101795,-8.400456989552378,1.6186581231133454,2.1836528099562416,4.718504900310512,-2.3476512243665004,-6.5916896419374185,1.03696477258978,7.949760521002916,-3.6463919919465755,7.593613347076068,3.551937902475557,7.061938496282956,-6.391570860288186,10.399867567648304,7.215760859596629,9.370080649911813,-3.6892734458576584,-2.2012272291220776,-3.979200561350168,-8.289802664833912,-9.933618939388948,13.37475487638413,3.44554921062341,4.035288101530316,-2.5345514272236707,-2.7271809699122698,2.810738584315164,-0.7180892264053684,1.529946492170545,-3.223896766503517,1.989235163169818,1.974633862624439,6.661260372421644,-3.4876767777791904,9.436604025104607,-3.313937061902854,-0.9504613669016441,0.162537832394581,1.7065837603956562,3.463486411565898,-5.666730313111662,13.20979680978498,2.3786114346545792,-5.986171871880465,-7.62301257474956,-6.460129910248817,0.05341572352509322,-6.897730509682615,0.20435267851954358,-2.8948144058852265,-3.547903435961165,0.5205958883594024,2.0928351944372756,0.10311676589960939,-0.23789292253688585,-5.799459986600528,-1.5880950120373998,6.891207729586245,5.986812287502695,-2.205548077451067,1.437647436306023,-5.782533588452444,0.31035919669182543,-0.3019160536832391,-3.5417920456405274,-0.2221721955291528,3.537307595798538,2.9425846508280222,-0.7148977550763271,-1.1443782914193472,-0.9549137191168435,-6.234706644322234,3.138507737701289,-2.173479170953716,7.6237261769633005,1.6392186952152021,-1.7003219969484766,5.559332698629205,5.798772045481742,9.917181149792842,-2.27684079680102,4.962075794990537,-5.494139002635789,-4.777952116207306,4.227118393701125,1.52443286431602,-3.235763189571986,-2.617885571904686,10.741506990734049,-5.073549924077478,-2.34225901149185,-4.09740091999604,-2.2911915468700546,6.884411399862314,-2.2091891204165703,-7.850298205131101,-2.787966327909437],\"z\":[10.240024428520766,8.148866384082769,4.676877327274501,2.3078209966432763,1.6268882895342023,3.347622257214542,1.9929169894250895,-0.5566004044959645,2.6536957078308765,5.001647352886942,3.723065132828745,7.1900599461760395,1.2170190783039152,2.5308324447723853,8.87899897740307,9.03747659242227,3.75784699405927,2.9101129179004848,4.205481833957402,3.4245398922915093,2.2829499997917164,10.69697168028164,12.968930429641311,2.841480203983893,3.84065273453493,-0.8063948974919503,4.856260570005433,8.831051698988048,15.948749068151464,2.9744850112993104,3.092262523557517,4.462824142563542,-1.2704834819671422,7.08936511940916,-3.9451332234584977,12.01351890930759,3.968596583325218,1.8013277238813659,-2.6731664575375667,5.482231821308975,5.979085714401971,5.341326974561008,13.133512762205124,5.392884692489923,3.439761020579639,7.993890859824547,3.424713609128844,-0.2038106519020713,4.741565304273639,9.728884396847741,1.2750437414056077,8.036412746842906,7.305478696380082,0.9679579711619569,5.432317769763189,4.711539697362388,1.8379063257787729,3.2349518419475616,5.816239487061539,1.6242163959162108,4.31048369890164,-0.796553863934945,6.998891655690167,5.595792692023912,-0.5277176970296327,4.233436127453057,5.6281033095300845,7.339661425549336,7.403219114388179,7.653936884720361,4.904831585197235,10.598501545549803,5.687644259231833,2.6771971135983086,2.2439434592937246,-1.1290490340122081,12.38168427617864,0.6682672109402903,6.556689626210015,6.75411892487528,7.60246225737617,8.709230817449491,13.770215245260275,5.191087269647444,14.498310772864558,5.97669168852779,9.59765959860678,-1.3732997162129839,9.236764264744755,13.38749785665266,15.504001255567607,-0.9908176926974773,-0.013714417426752062,9.729588312339452,12.361553967594627,4.160965483264541,4.954170126962307,2.850691118441529,-7.2104894780226925,12.373327411747546,7.976561628475711,2.5702809005111624,6.5254290208492876,-0.43806021736822387,5.862806624801902,1.5272472014115204,12.972920302053653,-0.7039756077754808,-2.98030795746159,2.260096156540054,8.041436575233135,10.27466014389404,-1.087681304604192,5.607540296492575,5.2437404848453335,-0.08857049938197381,10.61020208787962,4.905189177019666,-0.24499538023375741,-1.625938692164927,1.7124066798819089,0.5744036769939947,0.7575609033160248,1.8972396820139095,5.373190470264823,3.1927857970461466,1.9127095369686327,4.506510172658885,-0.5315040949460479,3.0629465760282595,3.6470101505310843,4.921596849815202,8.33546833663696,9.384907287849407,5.380893321693395,7.716246275200887,6.842271959190425,7.615473970381908,-1.6448804658027252,-0.15039121228939029,2.1101275054977746,4.013971341212609,6.638151011647693,-0.27079246578116944,3.1518379862060053,-2.694466268643149,6.961962191706081,5.5538071687864,7.156568007370185,1.4196922851133458,2.1518840540983226,2.1941777111409175,4.154301302710151,6.923928758218438,3.176940604650668,4.431344568189984,3.8491606835553225,-1.1818375814907636,3.98360929146889,3.8314523443469057,9.219364089518555,6.234639641404755,-4.406530068204879,5.428069697311879,7.489773463497118,5.111497541064844,-0.2745047778491852,-2.2768419037142427,1.4545725756564327,5.979820645366413,6.48164103299149,1.7109958496724862,5.598207141163076,6.6439949827637745,0.1528154958263978,1.8744972868870156,3.9448994072087986,7.2610260045932975,4.305296004845278,4.5625441265448705,-0.4722857999409627,1.0364900158790555,7.855644952945378,11.236705198485751,6.566184318590704,4.441537742099853,2.0506777736126613,0.1855135491719159,11.659263923247654,9.872776907463852,4.619846275001667,-4.001879969843306,11.271942920041408,3.158619428475845,6.322009365538921,0.837064428072318,-0.08479307253575087,8.08079314805813,5.764133411659697,-3.0946654186752958,7.780450889921006,-0.3403706587953857,3.2131138192392,3.813961164342523,4.183487157246338,7.071780098853862,-0.20715454653501877,1.453337040000607,3.2797358255531077,8.955816337770448,11.913690322311703,5.783119110385994,-2.774312690234553,0.35649619264844834,8.647162370414778,8.402577510375767,4.6112434624437375,11.034573236472665,10.438912233957117,11.089500051687132,0.39438862160706695,-3.023823769827664,1.537615166233471,6.61603810941094,5.48829081656469,11.758508002458685,1.6919662111636184,6.988001345427528,12.17720482118466,5.151827430254498,-2.6803257799661613,13.924486447255983,-0.22251599929425298,1.793823177653057,9.183081257039929,0.9274708170574281,10.055052461383639,-3.892566666510735,-6.133904654753224,9.086809903936052,5.844735951099237,0.32091941141107383,14.215593264815585,0.8010687969979728,4.010978066139079,10.148351238277082,-0.2536580414350297,2.7950712553117283,-1.5834693238369342,1.740594165330795,1.892854777507784,7.374081966541786,-4.4890975254197745,2.302690948364778,-2.0896089456727185,-3.025152715365043,4.718053271959523,4.610033919416722,3.8348350814941727,-2.546578241775501,6.514853025217528,7.853588742876436,0.5392967211337374,2.30638330016058,-6.068941812331399,3.751439468871481,3.8871390776479964,0.8933764887855783,4.721945799585813,3.2246385353504614,4.33670807746915,-4.354015740907564,10.412407739274363,5.707268820328817,2.1659034147216336,3.8745260334337326,3.0374921611876458,5.00498034383986,4.180371565357307,1.8398053052881085,8.28750453546692,0.3791763907599231,-3.549829680842557,10.820059381304437,7.379996716969305,11.008589621288687,8.492193910260877,8.909760956429187,2.935502585091869,-0.7319740133161612,9.440608645648203,-2.9357052602211033,8.31799227571102,10.935907386254012,-2.758181685324309,-2.5716670312980674,2.812816197505699,6.0784259116269155,5.539040206842511,6.949003390762471,-3.9630592732597836,5.501635621519406,1.7782117318964965,12.547883292603938,1.4433103576035398,1.475678696709747,13.10776234024583,5.207557178531048,-8.494904694024829,-2.1048422967955625,4.16912637102767,4.234059652809028,6.851446372095726,3.4830678387859675,0.2322812740115147,7.563756692843931,0.21706814898533078,0.41287784747759326,9.375182767735502,7.400690544968459,9.896935508549682,2.1538563571249054,5.490689518776061,10.966857569673923,8.81783913825168,4.26945520817292,1.2981504279232825,0.03623052696994681,-0.862383842113919,1.591566862911615,10.628269559250281,6.010188987828211,0.13616058955263763,5.90788804218796,9.432669926636846,2.9366708557138224,-3.786324294441309,-4.56834323983181,4.227388216528307,-7.011428061584623,12.703174869057687,7.320090741545568,7.641934860363447,6.950527748785479,3.9347197324138303,11.177241011102518,5.61583458033779,7.156943909658681,6.922516652489988,2.67662898281135,7.9459855777694655,6.330893762524814,0.5846694162468182,2.2408366517218687,-2.5807263358070083,8.54833030961668,-4.107853625782719,1.1039999357259747,-2.343001708119319,11.125223933332798,1.7506789054888123,12.713438453807871,-6.530008343243545,9.645209769055867,3.0606040764368174,5.8333842209557405,11.284399342762399,7.355215808199468,7.045111695810956,3.1227521733830517,11.13664795292313,6.9757072053311235,4.54812110077303,6.218590827783887,2.3076518208703614,11.400172569852005,4.172084673702445,6.470475249531476,7.571928533729072,8.745187393785471,3.8194658290949324,14.570089542935973,3.128394843636619,8.372479458350426,3.479376483140848,5.3117882453529965,11.48574242281987,6.757784118074219,11.238352606566695,4.92862266315826,6.708563266625577,4.006945297714608,4.350193658034503,8.271661300252486,4.850735627272928,-2.866241599941071,2.3922507001949143,10.101234767116322,0.5496669497614138,6.36512721617096,-0.2229626078686166,2.9940323306269114,5.393785007835267,2.7755799658171854,1.6208157645851817,0.4708771482308801],\"type\":\"scatter3d\"},{\"hovertemplate\":\"color=4\\u003cbr\\u003ex=%{x}\\u003cbr\\u003ey=%{y}\\u003cbr\\u003ez=%{z}\\u003cextra\\u003e\\u003c\\u002fextra\\u003e\",\"legendgroup\":\"4\",\"marker\":{\"color\":\"#FF97FF\",\"symbol\":\"circle\"},\"mode\":\"markers\",\"name\":\"4\",\"scene\":\"scene\",\"showlegend\":true,\"x\":[1.6725921173255285,-5.098850978632337,-2.597666999190209,0.6029620931392208,1.9439038198263925,3.3548844548098224,-1.66954232181857,-4.083029022877104,3.9599840500900467,0.20553110339422198,-6.402363127693274,1.453277090337847,4.802179846464667,11.694481548073856,-6.188719511801844,-4.753134086155381,12.288895665030017,3.053942222111212,-2.1711759999416103,-1.1590659214354964,-4.695135964735685,-5.726261341712155,-6.434759938634594,0.7827100233190208,-4.271173993411272,-3.9366502162554853,-0.3333546128457883,-1.6310838508418812,5.260194684175233,-3.592523002659831,-4.8065520826831785,-3.1263724462403277,5.729704448206019,8.072204016838588,0.9269396812066504,-1.5946880629950162,-1.4301912233485288,-6.056130004162454,-5.121718171028356,7.651393962814467,2.865291212211136,-3.903715472291456,9.439323804370655,2.1229916990332476,-4.638873298795539,-5.239272493698946,-5.168878632342381,-3.3494324128016,-5.930706542573682,-2.0132104375663977,-5.058711446775756,-2.722706005485834,-2.5157391915734206,2.9539534521221387,-2.4066558138800906,-5.717716424772089,0.4644221700262426,-0.7324836200098511,-4.004605287836399,-4.153818956503205,-4.027734679334242,2.157132220263947,-1.1386800376102546,-6.4805292180101794,1.6712421714435732,-1.602662360161848,-2.42504079269521,-4.3258589006410055,-0.09868916522678677,3.6853113251152774,5.859873606575496,-4.523099029881651,-2.5530162239531062,1.0679680047331932,1.3210469320592508,0.5407046271366412,-5.099094231693366,-7.023568233431598,-1.5625602059069994,1.3450259743740687,0.4306087887954033,0.474727244881232,1.2113553620707076,-3.561579579068325,-3.725480744403818,3.9211265290308575,0.48795177486640307,0.8658974542464966,-4.278224436641765,5.599878229706363,-6.770436539679537,-3.8755290471579436,-5.469073452535122,3.6661844377737953,-1.9155405777062746,1.6462931352725148,10.200508811760406,-4.618287046921905,-4.4396998945683475,-4.564172336945629,-6.745831169567685,-0.532211963277732,-1.7747838005414078,2.147748280611813,5.2792250497303925,-2.1368322142443255,-5.080478336300108,-1.8736515919764727,-4.638952390809383,-3.0151882838950743,-3.907170102804643,-1.5000212892604161,3.0067666377921194,5.861825303667243,-6.321061510216277,-5.7129890152717,1.4604563687332255,-3.303576758276841,1.9119281933441123,-4.479902713839566,-7.482063815566453,-1.318359548212889,2.148443268981576,-3.8676063555870357,-3.485128461261555,-2.7014835405987365,3.513990682984881,-2.327992175172699,3.2852293947530318,3.9252392775589646,-3.2851609692562853,-3.6031076061944067,-5.080254316197417,2.4449862774636095,9.431852225553891,-3.593720021044481,7.7627473026455185,-4.211256643200899,-3.8219152522463027,-0.7537276548369325,-2.101841559595634,-1.8726932223046429,-2.6462499610150356,-3.771687274005732,-4.321163868210524,-4.233080197636059,-3.5494969986470926,-1.8871317334980657,-1.329549229710323,-0.9549709733310967,-3.093361074690503,0.7340593106490243,-4.391581210699559,4.166030787460876,5.657008676079217,0.630934763122205,-5.175362906480551,-4.316692933291579,-7.46438719199239,-2.9017248170201566,-0.721504041257779,-1.8998379763032445,-6.151753199709021,-1.4638722052455129,-5.852367692165415,-5.1665516564867735,0.6173806344094035,-1.3641885419602475,-0.5067062112262871,-3.1854149945976595,-6.3274390080268885,10.678987713505446,-2.6874495122639117,5.60643042768488,-3.5855865601435126,2.267304525502402,-2.321940331024609,0.027173156020830033,-2.230820807634584,-4.87646177950128,-0.38506007993687846,-7.3213409806750045,-5.172981731193474,-4.309915183769196,-2.9578051459281007,-1.20447840459239,6.061348152287364,-3.0137418493216996,2.556072771980713,-3.583467191590248,0.3436570695917966,-2.965371369410206,0.916134003112195,-3.135057928535665,-6.184810620576697,5.332208439417898,-2.2846704676894203,-3.623692559962545,-1.6382556444669787,1.3347353367782766,2.970224197626455,12.936424697537047,-5.672789957441041,6.125837549987794,1.714480350190001,2.54688127976642,2.6560754147196435,1.210027828486668,-4.169514758919371,3.605426245382866,9.156852522166966,-4.825916724324547,-3.10725553469899,-0.6273921364582834,-3.2175542094915666,-3.381221326391171,-1.6107929162272197,-6.623660117631431,-5.667855744489771,-1.739652679533973,-4.698699978418089,7.619006469604327,1.8261839930953296,0.8769575228727955,3.55569029345336,-0.6856749797491523,-2.4092132365450336,3.247516287452802,-3.1763465205853922,3.5481428938284862,-2.3591732569094326,-1.0131106034007824,5.691492415771462,3.239401762545162,3.432091586795404,6.069265835717778,-3.4484101580774182,-5.673159031394063,0.8495254782950507,1.933643265952287,-1.435126231439823,-2.776601524373329,-2.3981721177186235,1.1462461743944026,7.759447699618676,3.887858831081146,4.911601533130558,-2.6570703971587797,-5.677806066348173,-7.214553778682286,0.14894994395525119,-2.287567337433473,-2.505342234318225,0.006917017471747846,0.7451140052956488,8.535347131519789,-3.6290608991408955,-1.067470056665063,-1.6151204958599799,1.0101367977411515,1.9992113436596561,-2.6023434904462586,-4.362754335384055,-2.867150441632762,-1.4723529449850603,-4.76702725025327,1.049928103099405,-2.1937150438434125,-5.289943966685386,-1.745311990013254,-2.3920682052703954,0.6149837920100122,-3.9954477246392477,-3.1458294047125883,-3.2290852199055555,13.540555596941243,5.625438244439678,-3.710120702962876,-0.14935285117003777,-0.6070708950454514,-4.422816626197882,-4.626338816124673,-0.4147785462326737,-4.384347642658895,7.709207227993468,-6.723438753064761,-3.199233500940034,-0.9131264916850013,6.791996475217569,-0.708287015314251,-5.471163374652325,-4.5448499512441405,2.2334970134015877,-2.1616562772714025,-4.476778245191373,-3.640269791129174,-3.75021426079988,0.06364726960767245,-5.832465222419483,3.1103725836811056,-3.582325323663183,-2.231164304430691,-0.9584501416580828,0.32931119466137465,-0.06035089555411723,-1.2678368772657878,8.765416552912669,-5.799499073654038,3.7847653750006143,-3.5630069668412796,-0.08804453741882906,-6.506141773879244,-1.6588680359134553,-2.1629966846827395,2.631327153280643,-0.3788226563513772,1.8879535962063234,-5.179287833094549,-0.6981809170783841,-8.37939957668539,-6.4731621839549485,1.0555853010439618,-2.8778511844521155,-0.7049842961443188,-6.227326394320577,7.325553699293297,9.823551479813748,-0.6324939061182693,-2.7763933074856255,-1.410389849632296,-2.4040206994344637,4.539796900979088,0.6364435017930222,-3.403765079634301,-5.76311942785747,-0.39946068420339575,-1.566556297806201,-5.211324367291659,-3.7734700797606378,-5.909589170905843,-4.762859152542309,-5.513777704173767,-0.971810874301187,8.799130412879894,2.5526344828541876,-1.1792774425166117,-3.129262037978849,-3.7467275221430474,-2.5083385048550126,3.2018585377856192,-2.144769215596804,5.8977534951009885,2.5843946040679477,-2.900897025160158,-3.311670154479625,-2.757526103358992,5.217661583636139,-4.575861975007046,-3.829474837206111,6.003176024805153,11.935362561557254,-1.7084423773080697,0.37227962636929174,3.0474302494579306,-2.5225554602670495,3.0117005984507808,-3.549964337700539,-2.0861237854170054,-3.0380129958320907,-1.7644150960647498,0.6268282684783315,0.883131649632689,10.021400084680272,8.222660455286382,-3.3269575013763104,-2.609087095433157,-4.40607070153598,-1.7276598380090349,-1.6096124151937037,1.0250662094729996,-3.8147814081010196,-4.715042764609796,1.3168949254351248,-6.4479500797570575,0.10508376280773414,11.711421949613788,-2.726642778366279,-4.580711521725152,-5.349433909220872,8.53017686711212,-2.0360444692781314],\"y\":[0.9872018556610391,-0.2946352310972588,-2.1453456498931747,1.4635495069598863,6.013653447853701,8.125065572942338,-1.9350725802623199,4.663698145836333,1.4710981338950782,9.515800058091083,0.9902531385189934,8.263726673339058,5.502207337890464,5.292951326155275,1.4928888792818178,2.322613589048657,10.239218779205174,4.798444926410436,8.690277177304086,-3.404204838642813,5.775446240437317,2.7403851043224905,3.892403036779072,2.8479620136173196,-1.9517889406761266,4.889428596449246,5.622803814834087,3.4729221998364816,10.785368889575672,-3.1949613055517285,4.802487348930349,-2.1782581898401023,4.793360187442874,12.515345875992933,11.760182415035251,1.415186788287982,4.042564127689099,-0.5036307425371175,2.2757046239568743,16.972838473551516,0.7419544463671538,3.504094507281303,8.48750348936018,-4.34419295768498,2.5694611578423427,3.1460382561134144,-1.013615354818501,1.252973852971751,-0.9249058653200073,0.6530737600382701,-1.5456137941801147,-1.779454759716569,5.261132478941518,6.763723096439973,-1.7221299623408317,3.3400074849375856,14.57965091133881,6.487815608827535,5.748947451468663,-4.055753930390186,0.8816769680769645,3.6022710126402253,-2.779397103254553,-1.6089011728663567,1.0328117362126314,3.6957817457143225,-2.404602625329439,5.107574809933642,0.4840388566574326,3.4611634510693676,-2.1373098718788595,7.934177138104511,4.749252852811891,-1.10587126867704,-0.8730806791558992,-0.2677470208148023,-0.21959273656606718,4.890016697699693,0.626217463929555,3.327332796602741,0.9387085926762943,7.233404114208225,6.859414614579381,1.5372798830524534,0.9239902694451293,1.3168604462517834,0.11099692149300253,4.25064344104922,5.153942011374298,-0.39692194664043695,-0.699730876603794,-1.0793169646904868,3.3460705722334745,8.7770296673823,3.2645608338635976,2.555178584029108,4.713223500635376,0.15160165389262456,-1.3586294109479193,-2.062111503002839,0.29231919727097544,11.8871359361783,-1.0118702682982792,2.452584351634352,3.8296480071185797,1.567244276434942,-0.7340036937763259,-1.9727124042675168,0.9478846784402213,3.7508232033822004,5.574381598259391,2.5036613030019654,8.234419797567172,4.229844964929686,1.0410268918437284,3.075776584715444,2.586974231989211,1.8653343389608101,2.6881917799884603,1.0048373966733188,2.0456417214943348,3.7873187048025554,3.33137026432454,3.725992505099127,-0.0807257893048262,5.689139731039471,11.994230015400651,3.7993606003994476,1.6393839410294442,3.3487438074799867,0.5157663156079594,3.854697701014912,-2.5646826237011253,7.729950720449922,16.380816575126445,2.222791184254134,2.910372705932084,-4.014467066442354,3.9957419653221726,14.675842911849612,-2.57062466103215,2.870821726799067,-0.9439366082638591,0.5140119713572082,6.107642888751667,0.9670232231408614,-1.8030352471782563,7.458982012792089,14.269855812479701,3.274726542213363,-2.934341809746228,0.8421814826183687,2.384294963441132,6.914284413271809,10.369286648057395,-1.3917786095741997,-2.304520459036244,1.6519177309759643,1.8630481900893734,6.621877747710291,-1.352508509790439,-0.6631486440551644,4.450425111063221,7.001415189157342,1.0843786759187217,-2.540194580477856,8.851468352919902,-0.3487759849703538,8.669308242693482,8.212960457573299,-2.012006295715861,9.064908679693751,-3.2214525923475956,10.8603795946465,6.821828617596493,4.853903088584249,2.3223665245662555,-0.34453737692092873,9.25996811079476,0.06361291011019388,-1.7511969941649785,-0.9164236525388066,-2.113676004731935,-2.764341177829101,4.589000095659791,1.71395301893489,4.244305142785291,3.344072420599684,6.769918516486886,8.051726734045877,-5.361704524612161,5.750512384946581,12.466653095978966,-2.4775440646629012,-1.5216704181561327,7.601125405021231,-3.618380084120854,-2.243369538007679,0.8888032215178752,3.7102636253744055,3.4760505531713672,13.648623104636625,1.9318812685358806,6.687964516638078,8.769262712348292,-0.10050498842598772,6.232051706585686,0.6299217087402484,3.424632098261472,6.241437374137563,4.2199554544562705,3.1117168491967733,-0.8482977816609629,4.595352285167116,8.89876315216455,4.441050936004597,-1.2182148457250515,0.6975485566651678,3.6602516569265755,1.5093011638877585,-1.8277451992099583,6.2029584445369865,-0.1332496067291232,-0.008427025977142883,2.8546142855974748,6.733930262760333,-2.1539516811966712,1.164707444257022,-1.7733274403197927,-4.596524738666121,0.6908029869134786,3.559244396572888,10.79486234677168,1.2363838197682426,12.08264535200018,9.000422114298445,-3.6831811787706212,-1.2366792399666697,0.9067884913325556,0.45286496333789616,8.40707300751395,-1.8658794472764364,0.16453670079990168,1.7577142108096018,8.846860171528501,11.657194006967295,9.348364185928414,0.3645736882149263,-3.1002226341739196,-0.7033293548782142,4.2506190755078235,7.773268076692574,1.136777773004792,8.524095092970498,6.667764550010033,10.710256649215214,2.638397575689858,6.231090875044498,4.020562625174945,9.360222484795873,-3.17845878974812,3.6745943855849332,0.833543421224529,1.2183743094249848,2.211085355980588,4.723550373540908,-0.32761017489472627,-3.0278323242344904,-2.1776853926953876,-1.985001265857103,-1.7176960074421426,1.704208057841116,-2.371808778161633,8.446682297706294,8.237524301032755,-3.3558661040274798,8.028314458882416,4.946430776728454,2.00331599774053,1.7346193260296967,-1.495814589703314,-0.7029646220481462,2.8978273438187143,0.15039444909586352,8.928202034891894,-0.12358507530650208,6.3765874909587446,1.0647796039111344,9.955733492483583,-3.690746178179801,-0.03223648758594866,-1.4474713500409275,1.348151453082088,7.207381539859509,7.975197221803962,-3.9513754133459673,3.839032806162021,4.28351251663332,-0.42703258141378675,-0.444842668472696,0.7573964615090617,1.2142762521032064,7.802291082432432,-3.229562955970331,-5.456266946974048,1.8185851788378904,9.016445630695282,-0.023600214437871102,-7.2055608141233565,4.031245929883477,1.4745815056203275,-1.4274520086014035,4.914485196439907,6.271014482044785,1.1734453975151675,1.3448679800865415,6.346713904652948,4.681175920661592,5.232897894036212,0.6344073085752694,0.23559966942823776,11.490326010453217,2.4390022547122463,8.820740734079683,1.1007922548656415,10.458408235443201,9.149911947323641,3.836991613096312,-1.267823772527025,-0.4952470406996954,2.3601885369097646,-2.7932881720853495,2.42924698245634,6.907734668713519,2.119745252072858,5.611443625558113,2.6001977731847257,-0.35179457607192516,4.953198975362089,1.2511767106325469,2.8125178331176555,0.9778282612800162,4.067934834396493,-5.0946556805222425,1.751304907902074,-2.0982840151473767,4.950227722455787,1.9490433074754292,4.1408438184935354,4.612876321726405,0.7157457488127595,1.7125449612790538,4.678731077333382,4.333598404816404,3.412068391840477,0.9965952189853885,9.7794960244806,0.30298365572977437,3.5451582038266714,11.945457674778684,8.234853760342217,6.202707910682422,-0.31929448095546425,17.844997258925495,-1.0842580566661082,10.08372345305056,-1.8998429678018358,-0.4448025345285383,-4.252176584000821,5.5565517756465885,6.460277004052628,7.050869797476184,4.595420766946394,12.769795747042803,2.153373568359208,0.7986114662140316,1.39117519421801,-1.5636183149693426,9.1494550843347,0.08311161326451642,0.46206199067561,0.9843665202739887,4.304175917739157,4.5635955782285,2.299312949054011,2.8466521291443456,6.23557508948187,4.243774677536068,-1.6716657923543843,6.682750203071263,8.344545955377455],\"z\":[0.8062074486363946,-3.1208126444798476,-8.499032195761467,-7.245723966923291,-0.1526005368566871,-5.120101776818134,-8.502879165212793,0.4211430878475179,-7.9147953916229685,-1.050830839558635,-0.31273027742248877,0.6384519930699971,-0.20291814299255906,-0.8976457850465122,0.6776907208458994,-5.692376411719882,-1.0181184381554937,3.5945713320823236,0.039185966480206315,-0.6792444623586932,-0.09624201215672372,-0.3753105710774236,-3.362246586406245,-8.372959199946544,-5.054683244067415,-1.6288100514964494,3.2820778441179446,-3.163591543615487,-2.123673005926832,-5.335583852200003,-0.3420671691756324,-4.595899338487552,2.1606660839092218,-4.405852383028331,7.2810681802110775,-4.878516818125394,-3.619059746374369,-3.7296655444472164,-4.101459325469684,1.890756079670807,-6.478930650313594,-6.730046473183763,-1.1678573835328534,-7.821905571727429,-2.8823226203408825,-1.1958702455369568,-2.7792495808522837,-5.087492393748989,-1.2470624916387087,-4.401251601912793,1.2731777400853364,-5.954186394550829,-2.5163927066445604,-5.346809306918436,-8.063849115864288,-0.8896061177104153,2.6295690350819405,-3.391686807259597,0.005688043088072267,-3.210164646054658,-3.6204112909356034,4.713144146244665,-6.873770461476992,0.19038485756263568,-10.460095692885135,-3.7447031797600903,-3.905556445454926,0.3976699106639599,-7.368301055907128,-9.617729872554726,-9.585498229518759,1.293091879934939,-3.1847313889483693,-8.561341700414356,-5.919359112864801,-10.553300974500635,-2.8843096926441443,-0.3192408681412116,-6.916456296909591,-2.876345762152874,-3.4903486459224093,3.185556467523176,1.595132274065472,-1.350878083087579,0.5947482972236416,-13.706631497847901,-10.551207652012282,-6.309461434496374,-0.12491635983343166,-3.382465216895507,-2.413347522977653,-4.084794430279967,-1.5657944521939633,2.0766010951880656,-1.7732239898794362,-5.802865846893274,-2.9260151206882297,-3.1942924465641442,-7.980099769855326,-1.25455517047894,0.281919432421243,-0.048319571711611116,-4.598734499627646,-8.723210669879775,-7.686745149990775,-4.622154074362265,-5.284372831243326,-5.698171366053277,-6.814418107406179,-0.20068684585781188,1.0685228755302243,-3.6560608542427793,1.5396977890205295,-11.272811318254467,-1.9832261422990978,-2.7369277168094728,-5.880169293741933,-3.4163643350403086,1.8522561056206284,-0.9475455953884694,-0.27483390122968376,-7.22398551485611,-8.787812759548256,-0.9393591371614621,-6.370296823608929,-2.7622598958182234,-7.838554540168691,-0.286125669727475,-4.527144779203161,-6.700137184406238,-2.0762912358277776,-1.0703439076528918,-3.225990483816635,-2.8176079967865104,-2.0662731987387133,-1.8628347932842624,-11.072067890300929,-6.02659440160086,-2.6480375019279556,-2.9434335010215626,-4.932889246383901,-2.6562136861729813,-4.856894473679652,-0.9200501200444546,1.0690240750604603,-7.34024963427455,-4.001358545924928,0.7077243732772492,1.9155124014091993,-6.085168878312255,-3.644719932306623,-8.199530030335929,0.8512532297442519,-2.6624400612209818,-0.17355014786728826,-5.328868634190065,-1.4120037823810438,-5.77241524487558,-0.1639467639015303,0.07049483301988672,-6.457078022244809,-3.6961124078784016,-0.4388042190860626,-3.3531119764438735,-0.8089258530467426,-3.611021586478525,-2.817943319922222,-2.6214534703353087,-3.94275427542118,3.2215975248594475,-0.6042140331541301,-2.8966958791323827,-8.0434579043662,-2.0721922985543557,-0.498270977855807,-7.16797070543865,1.1166191012822395,-6.8235810966167945,1.7929819755133383,-0.7910589924384769,-1.2064365278241131,0.28004062072261693,-3.087536190044254,-2.306787204034116,-6.143868207485824,-1.3980514205063412,-5.890342321029674,-2.8658338141982633,-2.615627278094497,4.127265220552543,-6.7908675081147605,0.20748524689608655,1.1212002952641613,-4.438036153169765,-1.4236284986209031,-2.940922456102395,-9.437312044094233,-4.710247411862408,-3.703350317178009,-7.307885079890206,-2.5052122135650676,2.9112925375131495,-0.35056057883138336,-9.284459995077771,2.514545768637189,-11.316968804372697,-1.5463055234174803,-9.465941115188816,1.114712465673351,-3.157573577476916,-5.719212746227549,-2.5738804701195197,-1.5833923483868508,-1.68944925297502,-1.9005555289011642,3.4360515412612402,-0.5691772027109405,1.9627953482578266,0.7313648685712342,-5.422190313282488,-3.5328191085634266,-4.370799702457742,-11.77040174896931,-8.618230980131852,-0.5077354390908556,1.3404892665741357,-4.686314741615351,-7.877833844918097,-5.590125644294743,-6.971272726376641,-4.819440150236353,-2.8996778378810757,7.696056411503632,-7.216947873589688,-1.3452536052974917,-3.3876960993597867,-2.8542673764271247,-0.7843851591478255,-10.236789266038217,-8.208823718738826,-1.5356465323016735,-5.0645865101269365,-7.715944502450943,-2.357670828367331,1.8047328111495426,-3.518570755526349,2.2883890707526193,-7.675265668145078,1.9936043995263968,-0.3875531033454439,-1.669930924158813,2.852109612493645,1.3501945828855517,-2.7096368916913542,-0.29122431339841476,-7.642383569731104,-2.201031922601472,-3.148300798042247,2.637619646337227,4.007010581944179,-7.916163546345334,-0.13884269440348357,1.5448197982242546,-5.7580025598289755,-1.7665082190268933,0.6328205989547527,-4.320379101247511,-1.2897383163584188,-3.033052110315974,-2.73579471121673,-6.378631970764109,-12.373404517869183,-1.6285434412054787,-2.3686493193985694,2.427406153988249,-8.178389809163647,-1.0300488631288018,1.2681000583251034,-9.205673502663776,0.4612190711165824,-3.3952562634675454,-2.3585583616356556,-5.957737911101898,-0.5075927156624938,-0.9110383689837354,-4.1536491293539,-0.25101138487121055,-5.704698095578148,1.224549200024007,-6.851411340110133,-3.961574159702183,-3.6904676377914574,-10.785953230397618,1.9612318661000003,3.6735697190044347,-2.579587704561196,0.15288038718355498,-5.560893505787188,-0.5280746155394327,-10.323435954937997,-4.901166736694485,-5.905357839752287,0.83279628609787,-9.301794119915003,-5.983672650045588,-3.574669992717881,1.6927959604474352,-3.9399340312034807,-4.46127514488662,1.804957517861809,-7.204190428660266,-2.7113127735308167,-8.22637443562482,1.6339502817135314,-7.135947531926366,-4.457938196698791,1.0758635743400686,1.0656221525669876,3.651780351448394,-0.9047407930179209,-0.22003587537269925,1.1383872609359769,-3.5156503156860732,-0.9454995323065725,0.48939595982096773,1.6195732029287044,-1.2640292187829196,-4.648050798011512,-3.2249433501745624,-2.551511575677508,-6.351229919748241,-9.373192887708104,-2.797045491587138,0.1825994532594735,-2.6271462432763166,-4.010803019019781,1.511360926223559,0.5467897909886985,-0.6418669254785339,0.24271325626286133,0.4368198130075024,0.8269555478805714,-7.633171037411549,-10.918998821574103,-4.135751297014241,-5.353288290984803,-1.1633625909064964,-2.044615704561639,1.2168340295102844,-1.9489533235992913,-2.581143257963481,-8.491670462125402,-7.236697576831059,-1.5607138871350426,-1.0652412974737568,-2.891443750910294,4.22125180249913,-3.231674224630091,0.8322011440017137,3.4966182170194515,-2.8738579614789033,1.2251516307275723,-9.199660118932082,5.824039809201559,-3.8410198488959413,4.5578711151335405,-3.334136668381575,-2.253831698505687,-6.951920253388705,-6.2823581256127765,0.9289981965670469,-2.542937401756969,-2.4531861901360696,-5.72134931365217,-4.495414241805991,-4.2157065649828285,-0.41181262825457327,-0.31049096249150215,-0.7971402163129417,-2.7882825854900353,-1.2387365517514317,-0.534393763145786,-9.877277903385902,0.4793171707171971,-8.049500339571066,-1.046581352907331,-3.0502303315310417,-0.5798211488399494,-2.1270117660975,-4.201009367341481,-0.12476229813049101],\"type\":\"scatter3d\"},{\"hovertemplate\":\"color=7\\u003cbr\\u003ex=%{x}\\u003cbr\\u003ey=%{y}\\u003cbr\\u003ez=%{z}\\u003cextra\\u003e\\u003c\\u002fextra\\u003e\",\"legendgroup\":\"7\",\"marker\":{\"color\":\"#FECB52\",\"symbol\":\"circle\"},\"mode\":\"markers\",\"name\":\"7\",\"scene\":\"scene\",\"showlegend\":true,\"x\":[-6.128869414348538,-0.07409750553813209,1.1897969393735695,-5.005689407563698,-6.727768543985651,-7.534047694535375,-5.492577056199603,-4.927437815340271,-6.358103333910012,-7.033793711141266,-5.275078965680727,-6.319462977351612,-6.524110149151778,8.665596445551541,-5.818704978534318,-0.2974394766932838,-5.701247526159474,-5.745985281747058,-0.9257031179988413,-3.9721579313494453,-3.200493210516231,-1.3828390976493243,1.2132444439058792,-4.971361306807448,-7.8458270818690865,-7.821931042908889,-5.977739401311815,-5.265708226504095,-5.834941764540635,2.1367068741353115,4.496469350703435,-6.621982406415854,-1.8952293423631936,-7.270969814330609,3.4333894616099694,-5.414829737195263,-3.6715388351179765,-6.231249908622094,-2.952106732611448,-1.4798312720341569,-4.21912722731906,-1.8916336293898712,-0.6788102638476223,-3.9461986464323995,-6.885608677581948,-3.8886384597510175,0.5141848078200075,-2.5627211076126026,0.19052593108919602,-1.330517691048998,-7.355119988995089,-3.777087377259193,-6.4717415471430435,-4.449118024559766,-4.699358244231865,-7.223588002769144,-5.605833118696582,-1.5498715611356828,-4.689211816129454,-6.715377434032847,-5.6894926302307605,-3.77334475109172,-5.431034603704379,-3.343593697525488,0.997746253314681,-2.815507400492215,-5.656251348468039,-7.694260470045248,-7.034642841608469,-5.2916431560568356,-7.285642838861301,-4.173949708155896,-6.603296177504903,-8.264039828667496,-6.856466618358031,-7.811171706489744,-1.3219792054566228,-2.4565455315276,-6.180716761396828,-6.808926163580525,-5.977098651447185,-7.152184491654333,-3.4677101966478756,-5.450015921183021,-6.185385589365139,-3.980648308549621,-6.2038416224624005,1.4282720275330179,-2.1790489435426115,-5.704833677701819,-6.680978872786234,2.6509657853285056,-2.5316184245368745,-7.173740212143941,-7.67427668675486,-0.10539631983738662,-4.798692145645793,-5.957638594250276,-7.400052539400495,-2.1177939087955706,-5.0263547593134765,-0.6521320822293147,-5.90503916634326,-4.87436347366154,-6.425188828982459,-2.921870391370145,-5.276271901166947,1.359506166981644,-7.750374475509737,-4.513775382300801,-0.38170990415975825,-5.652471397498739,-3.0648295457699,-6.634322264084884,-0.696341204366132,-4.687721278558635,-7.425294185083533,-1.7588267894061016,-6.861802468659174,0.8934776996884284,-5.1070824555139,-6.004073956687983,-5.269810922651058,-7.726232300425949,-4.597538441999593,-3.093795542653593,-7.193824959953459,-0.049666356119114144,-2.4295817120885044,-2.7296970894786226,-6.296537577697965,-4.801114931724435,-2.0330539513829575,-5.501377893756399,-7.140222303079732,-5.3315127544186645,-5.01141304258388,-1.5555632407488296,-4.386152379103529,-5.237823094201402,-2.3191747375924034,-4.369512314862163,-7.9536548417372614,-4.972388961570653,1.8850317608216354,-6.249330609392311,-2.559899553192391,0.3168611672431389,-6.656497005263988,-4.708909960348405,-6.830689560679805,-6.937708900979939,1.8244706647078164,-4.292975534170249,1.533605775924611,-6.88228772873197,-4.464520912910972,-7.093833726643795,-4.475797195656472,-3.845454967085553,-4.7647086930221345,-1.220886618290235,-1.9358152041454264,-7.234404504385755,-3.0032389486669495,-5.653917740371951,-5.069085346398356,-6.849254717359881,-5.70863140334925,-4.61523714249344,-6.787513606957346,-5.275960831108379,-5.6759570522411655,-2.8965372904933835,-6.693027406043091,-4.69790772763578,-3.0144649249403095,-4.488230126554787,-5.21468688340006,-1.9273576722149637,-5.158925274538358,-4.352442005040575,-4.071697996798759,-5.657153117781727,-1.445805488668558,-2.8481314953784245,-4.816315630169681,-4.51106168732548,-2.7929782648546295,-5.86423503499048,-6.572457319551535,6.788799637646451,-3.8534682957189377,0.3386196285198214,-3.5632262696587524,-6.708408417145798,-4.528482989104058,2.3809072540489806,-2.9410922606899876,-1.2300339315118787,0.426506048821262,-5.914117485569623,-3.829953314105941,-7.393661844147946,-3.824648756369709,-6.650975566282861,-0.22347275725096152,-3.957673977043692,-5.319769023191896,2.456146260756342,-3.8958331801163393,-6.483273398872696,-7.15644478460758,4.0732720246994045,-7.596396224320167,-4.376903145046913,-0.24890092473980963,-1.4335306387587976,0.3020206912746851,-4.790335390183859,-7.318637525751814,-7.279332023498171,-7.7955126855215635,-4.769153882379669,-2.091608211030392,4.796676444471671,-5.5261790353392835,-0.3638897168426878,-3.669276112988849,-6.06536817856685,-5.870257450308535,-6.038001669585918,-7.584875114555185,-4.955316809221374,3.5579712415251774,0.6466052919448128,-7.3600920072592215,-6.932706432267091,-5.577141686134577,-5.824946766950547,-6.998757159499654,-6.51238348090765,-7.783155218199606,-6.534629499009388,0.8438434384988313,-3.5172334642118264,-3.3562536236945903,1.42905967758089,-5.097431608533737,-4.460692613702445,-5.148244691819763,-3.820383790940622,-4.348714105523003,-3.106771608571351,-6.272830526941334,-1.4923728491131294,3.924255230504502,-0.3968235095234035,-0.8035525932266117,-7.995585669458579,-7.526302686271542,-7.301439228423596,-4.930431944174776,3.7055506977240324,0.4244101955185442,-0.5270176756654402,-7.343865760259701,-3.4813754334669946,-2.29078590844006,-5.8104001420003355,-7.202599138292015,-7.814070305302451,-6.830472509112007,-5.256261990186988,-5.294296988276782,-8.07600909576824,-4.514010126678504,-2.3279624990840317,-7.132758339502467,-5.357827949693625,-6.87674038155069,-6.109431143310839,-6.214364370203813,-1.9647153464485605,-5.953842666072499,-4.786873649692294,-6.38834616479825,-5.6456424442286925,-3.898004297244098,-2.410067275368304,-5.8659672446608875,0.09570605534089695,-7.356661198987305,-3.8810541769188567,-5.849417547785989,-3.4661591705672294,-6.478784731969689,-2.396571308802486,-6.827604347554065,-6.775736552412673,-0.5477490920036082,-3.1109535095131173,6.402257574106429,-6.228219149917661,-6.525816088932119,-5.2117124873204075,-6.734475826020772,-3.4107033096516717,-4.603046327171425,-2.6219103473489955,6.998963968503438,-6.387549654943516,-3.9995821287042155,-4.19989771061777,-5.14050606233913,-7.272192837446456,-6.971605600540937,-5.809284088365145,-4.838013353152959,-3.750506215443605,-3.1264150319833717,-4.671463678122251,-0.7742239008918355,-5.453507039530281,-0.3840318583272629,-3.202393145477255,3.2895701900194267,-5.810727678473293,-6.2772442606201695,-6.488023172230491,-6.269307251529822,-6.787296683508179,-7.728324938182888,-5.447199956044013,-7.166976755406284,-5.3255673299013075,-7.0581162396893085,-5.333840125736023,2.029454371166175,9.84020102271341,-7.580656525928261,-5.499220153022265,-6.651209694467736,-7.609800167764177,-4.450678498930598,2.7783837252869628,-7.006777006434263,-7.009499414461384,-6.665237165429463,-5.788126878739647,-7.422579128206803,-5.678065561454372,-2.0331683990640776,-0.17322484533212862,-5.618461345708547,-4.657685233054832,-7.215492145359048,-4.007303588161246,7.3291866592640815,-6.952553005964202,-1.311590389606061,-3.0783245189672033,-2.137936093560886,-6.302555516474186,-3.823696438359688,-4.133321246711209,2.9979079923563847,-5.0105099947148215,-4.971849098605712,-2.975808300604761,-5.46029934426174,-3.6123091166087082,-4.198413832618104,-6.4244218316537625,-5.295374029406762,-1.4009163946660443,-3.3883488467170495,-6.7282496621060925,-6.831142063530147,-6.4226980052736105,-5.624831851580383,-7.340736351042361,-6.682978027691986,-5.2913754483739455,6.573695712037433,-6.511735797346368,-0.8358504024556654,-4.883493916115891,-4.241952415001833,-3.176928009474847,-6.374984543696548,-6.625741884333569,0.32283170365377206,-5.715809195297457,1.4122396936731305,-0.05464205591118663,0.00014678984735884139,-0.7116823873396748,5.1583351964839705,-5.05793316875016,-7.3905110887471706,-2.8875371987410294,-4.887750872121516,-5.167142539963697,-7.006230218749902,-3.033837417130696,-6.4105088210102545,-0.23018444878130934,-4.241945194531275,-6.610006152644654,-6.363984519413297,-3.1499315634337366,4.407640743733571,-2.659060199305693,-2.881155024757314,-3.807495621445222,3.0091004965261337,-3.654117837386579,-2.8462950857577525,-6.532801595289225,-0.48775129418547125,-5.738890725252501,-1.1059700007652367,-1.2266096770305586,-5.037654386611579,-6.876460885381923,0.26964708430703516,-7.37679689823569,-3.366790531664851],\"y\":[2.2424703198583047,15.46599063228341,13.798237080376023,2.4711629875843584,4.7771679137236855,2.9747219126228326,-4.0137445563758645,-1.668906689931503,9.932320983113144,0.9402790590861546,-0.13661520918411618,3.535589672718155,3.1759962066360488,9.655843562581861,6.1766305769430385,6.472779408573182,9.859637594453908,8.462625391678015,-3.9085704757071316,11.345379304771297,3.0766905688069093,11.585578810106416,10.88105908822782,7.392731768533622,5.437171272179737,1.5646996113346614,5.910501309794173,6.547785693194557,8.96827277664912,11.694813882397668,9.800247518836935,4.570137295062597,9.674402313153054,-0.2918619328650962,10.6467833996565,12.27310969822594,5.697539465353143,6.553372098672725,-1.5516532995302057,0.3029993986867516,2.8695142990905556,0.8416504458619558,10.335905284123541,10.770031774751164,7.488976441147002,0.7835937943448998,12.049300772542574,16.087681066628974,4.4588286757142495,15.590650795972213,0.05877530426793068,0.8045272940959405,5.936941400035645,5.056594180977159,3.326361949670852,-0.09326572902168338,-0.6903653411839452,6.2975345418224915,7.976964017329475,5.7453490679067185,5.904606126325511,-1.2203018746647878,8.842680221826512,8.521700777362657,9.999964698527885,18.030641328620703,2.165324341414105,0.31510968947252527,-0.520433299794003,-1.4455099152808377,6.4378407007356975,9.860632475671972,1.5258909329208286,1.6786490736749804,-0.6732576097690276,1.1677527940225716,19.04857876321834,3.50813378529734,8.56192200440169,7.67946944575442,2.1620786436142865,2.2400308159448388,5.491021740857457,1.9909516851929723,-0.01303698756367307,11.246246892504624,5.565103273729621,15.163503811110244,6.3699868891470155,1.5653662217530027,6.711164289194032,21.249373155266003,16.658630506503773,0.319638411351556,6.238180512746657,8.494883012307646,3.4475033990224007,3.932603392439296,2.7623457260562505,-0.2020378223430922,-0.8528045663433853,5.9800102231687715,9.772737719719803,7.729784164603912,7.13211761727066,4.84375632812874,5.601068809138825,12.01728330591371,2.8900763280015935,10.00697835536206,5.603758388992215,-1.101640165128704,6.504212926765955,0.8755036561556617,6.077798081828254,-0.5535002502214516,1.0794413293751475,4.29288297859083,1.4676691419980155,1.0520075734755847,11.946063060781821,7.750134394655652,4.292608890286243,1.0569997444610084,10.991742693329812,11.154616369336246,0.39302539509296064,18.812935448747776,8.658536370351246,8.469810403506676,5.76508955905208,11.376836084572544,14.322063504511211,3.0733877028129477,5.07110323501721,0.7992944588911366,12.27381030400261,12.928032563721588,2.418785829523247,3.91456768055856,4.886022817418998,10.914968176823217,3.512833879227629,9.918082160396175,3.4262159775158505,3.8104518464308703,11.477719402734,1.0277991893446372,10.070241753028494,8.993018983385722,10.907688124820558,2.613923919466184,0.6258379169313537,0.9853173291618863,18.839204387907344,0.7212053410378115,2.187151281816637,2.84611857022843,-1.0607709667438263,0.8946090069511562,4.626113376149637,2.239001620454703,6.483701237466777,1.1676288092997067,15.681299592902242,9.16993585842069,14.461544860085558,9.420222550800345,-3.531769663181103,18.133205639852708,7.643508691156162,-0.3662776738604134,6.856431228033794,9.481005565215842,6.950492193344223,6.25167623478413,5.121230867661714,5.76635818038307,6.650738535626676,8.70520803602067,-3.1437692485651794,9.257998065996933,8.000445057121645,6.769897974378075,6.132092301512475,-2.1610256783483637,-0.12323241041882697,18.07528336456616,9.935283933707435,6.135959447057882,6.800053771071463,13.30687525143074,5.612860482537485,18.272756868653985,13.765219297751775,3.6573276496624354,1.4908619668195635,13.290335513207772,0.48503944791614045,13.765341395283972,-0.34401794850777834,5.212724899714497,8.968311988838524,5.2184386328774925,1.1648313119016298,6.7062349415709175,2.273602841887864,-3.236077280025293,-1.2073315121005466,10.585937400159096,2.6443087038965603,4.9827816395006845,4.830794684034191,-4.196998986061224,4.360168828101917,6.872817232526862,10.265085178739954,7.636484272045333,-1.3685426449469327,6.671218612425653,1.403829446246497,1.996307112943106,4.801041633272848,2.168922562935102,13.90973264014494,6.571510089533663,3.6882095413155644,1.0676990200138072,7.501222228823827,11.781605081191687,8.105860605628244,6.124162381658131,3.8412497616863375,-1.32737687655296,10.667377036839456,11.768239371939625,4.95196955098501,1.8220890977325468,4.08354150395197,4.217687010707842,2.1690064130234465,10.243834189348432,2.6936800177362423,3.607866412945052,13.535289275777123,8.868974519302977,2.559049964887745,-2.743296835739151,8.888439468662305,4.4019370124023975,6.608705011528704,0.21794312051408352,4.398471790603319,10.679509205725008,9.884240449656764,10.017977855363956,11.4565232210016,1.8324214227906135,10.849382785108498,2.7643171670380986,10.062774153763264,0.9083868132902255,10.196052501489522,14.925336220200188,4.477728431910077,8.144022684853198,5.351728841859724,15.612932246126668,19.51381068944502,-1.257928097397519,5.069059473172315,-2.4558934964775334,1.8580229489398954,9.951669456000703,12.301935804626297,2.1203461091523192,6.487775929798132,0.7717878217392331,-0.985763719571989,7.8152563457865245,2.7498454874118123,11.276148498891226,7.355069227223146,0.4874014362047159,2.019576273355243,1.8360590292577392,0.6861617588494977,0.6307358210080368,15.61113601224878,4.582251438213939,9.345489285373288,7.615138011611293,4.837928342889176,3.8220980753825686,3.334429458815985,3.2118091364809187,2.374068790786868,7.371346151647975,8.533558145538306,2.8647709342028453,-4.099908683799256,4.550116528380732,16.84169967101379,7.089550603269542,3.4104227248351906,13.154928624103485,1.8717659881547943,6.160080327426951,11.495792009246195,8.293144058583367,18.454860732812815,3.184379929818851,9.968222760196872,12.934441805483425,1.4526904817098396,3.843855039706226,9.24754837003536,11.696955761965175,3.833000898507175,8.780905699169965,-2.56058007671357,7.783521889924762,8.076258171267616,0.3541078809942308,11.332590910001723,11.209411589525592,13.732758158640511,5.750532277813283,0.4872385278118843,4.98557097936359,7.270504197428649,1.944059300595115,-1.985241541479371,-1.6518171699838715,1.8275349564430057,0.7252241423695633,1.8867399466196095,12.122710852896923,14.490956415910851,17.631909735224454,1.2370775737348234,3.715949026847033,-1.9330871583191196,5.854125198302203,-3.287802696636481,2.5588953975499167,-0.11645634236152687,4.213361751965467,5.5600971930679695,4.040829330235886,4.2545020613156845,9.664301851086941,8.013283878850817,9.251451112602794,15.037750929116424,-2.8080562787171055,-1.5302395977883863,-0.057710645857279086,14.039882733630483,7.604082205302731,16.581784355466162,13.002183135380566,8.03091921809006,4.210426773937657,-0.7044590756550412,-0.023390951476458796,-0.16659817090388931,16.957305377338123,10.56494438994408,0.4420062825427399,4.6971217541594665,7.9300385306160965,0.10401375871014418,7.142462874700767,0.05509604805561587,6.762512520252265,1.4066836250253865,6.663044707158534,8.912177456897448,2.9913964147186256,-1.4939755659433394,3.1904830171393415,6.362014634982043,8.424836295875416,6.959018269618811,-0.8421039102242192,1.2289320073954093,9.609724561861091,3.0940705685909826,12.840471125042964,3.665795546257915,7.258799084465938,6.850332518163511,3.2032877666077377,16.54536058719817,15.547694668932722,3.5160336619786556,9.625076510064666,19.56364119405397,5.089465784416513,2.3137934037231513,2.8235814151469927,6.549293832099262,0.40749123867842685,3.396208199434987,1.1926828211536282,-3.247925294217849,-1.4639210219221128,4.152691773255637,0.28214345935959717,1.0937462042186572,2.944682147782309,14.097559215121496,4.8021387911912505,19.546836694588013,7.6079993295397506,20.690249897853654,4.806327292727046,-1.1895451581907273,4.794662479610178,1.1554551788807457,4.157852216872759,7.333844753242016,13.563197005188089,-0.4313710770041975,4.54181474835802,6.156905605928945,2.985525244263101,10.815489213567405],\"z\":[-1.2187784741900376,-1.928839681500328,-7.891771698827861,-1.3981622043686368,-6.114864959386107,-2.432937668148511,-0.7358259257500174,1.6278967261755046,1.052304557198069,-5.422354233267678,-7.55786088383395,-2.981660934548455,-6.112105147995596,0.8303831619110651,-6.0333368977705355,-7.162672860871971,-1.8284179029598675,-7.626310671411648,-4.677214663865926,-8.118652623550474,-3.042556872833444,-2.661973920755873,-12.743915733105187,-7.126873150256221,-3.710476838219194,-0.23311683945857964,-1.2274779482685567,-5.53599375439765,-2.781762529547612,-11.652111385481598,-6.075251345078949,-7.342203279334225,-6.609087774967396,1.6007923651532145,-10.744889210003617,-4.424102220551117,-7.619570454311679,-5.406774901045743,-9.26265016704691,-7.600615390176292,-6.628336425540348,-9.333333381199248,-5.470248998404155,-12.384892673547428,-2.7386858900624347,-8.614222243626957,-3.7401497966003827,-5.82791185389535,-10.733077530931574,7.10304725618274,-2.476899925542129,-10.099950169271814,-2.4232244714107,2.613032905520175,-5.86753849726272,-1.821888322103856,-7.135795709972742,3.2534801927415344,-6.689362558682208,-2.947317991084774,-5.867459469039161,-1.9103367349124585,-6.5340224657462755,-0.8309358936997803,-1.9318636414623893,-10.228878436102882,-1.2720207688495184,-4.268911433674633,-2.293643999184352,-5.370729436499564,-4.570767134625588,-9.085628484774727,-2.854094787872845,-2.7851146204290957,-3.820036875185205,-2.7339965822080785,-9.55843818002722,-11.286077778648638,-3.592048072699692,-5.23741028278442,-4.571506261352996,-4.285383503375706,-2.0368953967618872,2.352424704322748,-4.9406017316479565,-1.4666399525482154,-7.219987652974279,-6.305641010822515,-6.611050954345386,-4.793529359382569,-1.9722837121325532,-4.575674760828323,-7.229006455860547,0.07733534882398144,-3.7874165200648444,-9.528488371294356,-5.480142206478055,-2.976197851242225,-1.0535228299990516,-9.426043205582866,-7.438139907012767,-2.0506544530880464,-6.28896947534962,-8.234908442773385,-2.4451656287925356,-0.3987705231005004,-4.301814473539487,-8.59658900008296,-5.25361629909302,-1.676615473574372,-11.579774833138671,-5.885359428623572,-2.024339903641036,1.3660454446576737,-10.352888850384476,-7.6755194477393776,-1.050580388875948,-9.68775164814825,2.145314831530567,-1.5673596623499413,-6.606774233004279,-6.277359556220783,2.9258866167000948,0.8604160689317432,-7.109971642262044,-8.581781703104983,1.9728558429811278,-9.645699496921715,0.3036475354678925,-1.9289427003221096,-3.095400122765539,-9.008715021982127,-9.8775403958872,-7.251725846523896,-4.108156082952718,-5.6868809364157284,-8.832478666214314,-1.923273564349747,-7.081131380522887,-7.3664232256395135,-4.4632927444130885,-3.405110115093819,-4.892003987776831,-7.448659209526221,-11.744633007086922,-2.3323471337625405,-7.734565610243494,-6.602694962952537,-7.950739330334682,-8.351815599196167,-7.069547613536906,-3.838888942041271,-11.784389691437402,-8.459637788418826,-5.341491854950634,0.306347635204478,-6.661279547296728,-5.74643993460974,5.430078371132142,-9.564033812844892,-7.923515268448502,-8.029425898074168,-11.580638678729015,-3.3724607200835175,2.8734360359280036,-6.166302672925257,-7.278564317932986,-5.653965310823309,-0.7486582134743909,-7.512984553421651,-5.1651248664817775,0.8359440509800826,-8.101384479463945,-7.504337924967097,-2.9883013122024127,-4.750926284769326,-5.262161847094872,-7.413583946591422,-0.5405363511801201,-11.666242151995677,0.6742438228793848,-6.1263544744025085,-8.770673321968282,0.3095233990517899,1.377652750235756,-2.7532092630232707,-6.273366339430499,0.06310946056181403,-2.5694171668509593,-8.103541461004124,-3.7610198996878075,-14.92058988077851,2.0840537827553027,-2.341120793877194,-6.0553348040196235,0.9722692789136105,-5.971084029237477,-9.666788720994782,-9.10256698226495,-4.651593387663393,-8.142266549957425,-2.9780942603332536,-3.6054320401427846,-3.1673766524920883,-2.1411367740279346,-5.8254596573592305,-4.483999410275839,-5.622738151389318,-6.509404031591806,-10.819941660791162,-5.884000651702522,-5.192992121992747,-2.173817152968232,-5.401451904542853,-1.1102398000079376,-2.182668349704062,-6.7299170629271865,-3.4634960266463266,-3.920941170904804,-9.181594094594919,-4.94899790773035,-2.044310625545778,-4.417225459866902,-7.233307743619754,-5.721727184481776,-0.5694283178502363,-2.714254766252255,-8.506034607977902,-2.4230515972943905,-7.874082452874116,-1.6554588645089376,-1.4938397252384807,-2.367518614323616,-7.113858087854194,-6.792384982519335,-7.004130425020295,-4.629827091074243,-5.5125509316446415,-3.294145062772108,-8.317883027666248,-2.875252301355777,0.13843630444976995,0.8612023381044432,-0.6612629235738013,-6.437821209390713,-9.517897470172693,-9.203816115011326,-12.976363700695485,-7.889578674694852,-9.78005277409647,-2.869949979872956,-1.217374870635833,-7.939464388053799,-7.826707820295428,-2.2747253580086557,-2.002154774002024,-12.613311626994658,-8.057976507171006,-0.0436371272209741,-2.330278420028601,-4.702959041559702,-2.737058913173647,-2.95312387453785,-11.534867325215654,-7.8233556796885075,-8.698090755454222,-2.6905458785660583,-2.6434706526177756,0.43292869658303407,-4.2360843332997495,-3.165948379137586,-0.5809581877711635,-4.350659159560189,-4.12365111388103,-6.752962151324158,-2.852630842402588,-4.457226175619403,-2.9474449586015354,-3.5461672206785417,-1.3188273489867857,-0.5057659511030754,-4.309328575799708,-3.7721288097440446,1.9649613909597634,1.261412073478074,0.3944455960464159,-3.8072216265580554,-1.1341612946995387,-4.840461484941853,-7.870581547992091,-4.525762980188341,-10.065026825499535,-4.692121837412471,-9.144137278644335,-7.092376439908344,-9.941813764481617,-6.297200206823383,-8.043036158607523,-3.2189998430931483,-5.054089104551834,0.44930995633703313,-10.515519237926771,-6.254703579776245,-3.683639774089084,-8.86292291804315,-5.594389059386463,-6.686152532630532,-8.061368860990699,-8.270914630662011,-7.518927319179835,0.4021681385770123,-6.03001044708459,-3.8441678592743633,-3.4627351803669018,-6.0405875466880685,-1.1829436108808833,-3.248458571490566,-4.139520433816391,-7.578090581578012,-0.30243764633942216,-4.030251491619533,-2.68239024917143,-7.921871055591183,2.5142961024607966,-10.662195472953456,-7.279298439234149,-4.745048445519904,-6.998249975550108,-3.708062217917014,-2.783244735453885,-4.534462200987008,-8.095354701317811,1.3994644646635017,-3.101498907414548,-1.918528424715082,-9.431624536663756,0.09946236600517831,-2.7113551973746732,-4.54980786443107,-5.63552369066281,-1.6603304487803126,-6.639402023873433,-1.3883651700145334,-2.3823374800112216,-2.6117168873589724,-10.62333356297855,0.9819326724050677,-3.9555672176542003,-5.679060794211699,-3.2253741748921314,-5.230590280648645,-5.249953171465761,-0.692771694321946,-9.834842655594052,-3.7418553545000366,-2.5139432877565153,2.464946251050544,-6.623464413153365,-5.4318739688434565,-1.3725728899100214,-0.13941159810859505,-3.1200807433279376,-6.6319668955933375,-4.674445244632017,6.2673718709176525,-5.699201304268695,-13.487764640747564,-5.212842037064823,-4.514405064444082,-3.2111481363086507,-3.666526354027696,-1.7455819444036638,-7.161725171716647,-2.017525765452538,-6.277517743939474,-10.809751656359156,-7.642281473113105,-4.9247895807081115,-4.155391301124101,-1.0947612140551297,-4.227142018351295,-3.8395241285019517,-4.111270673773387,-6.836266370315196,-1.035197846060815,0.8024048638417839,-4.569764392783837,-5.719931806361155,-6.250720733096057,-1.2534067895965428,-3.4781167567961147,-5.117254266001546,-10.116836940193743,-5.103426666785354,-9.345649686702982,-9.550415037038528,-11.163908744863326,-0.538505096858582,-11.353563769643694,-4.9222731355854314,-2.9112324494927444,-8.482581690542272,-4.743751883190422,0.41211150382556716,-7.147251394424992,-8.949139359833035,3.8039750349138517,-4.226402973901281,-3.214161583919121,-5.146796121594123,2.1737654858433313,-7.084340317920102,-6.915285988003372,-8.644980709863885,-4.155377592321396,-7.316041808662147,-3.7025471923290953,-1.4051127123144507,-8.235504753453032,-6.901429137972397,-2.0515066203638326,-6.607861126857615,-6.908516845012486,-11.555930489551386,4.907604580189712,-3.8343841425000833,-11.00125074348354,-2.851733562714877,-8.307214170716057],\"type\":\"scatter3d\"}],                        {\"template\":{\"data\":{\"histogram2dcontour\":[{\"type\":\"histogram2dcontour\",\"colorbar\":{\"outlinewidth\":0,\"ticks\":\"\"},\"colorscale\":[[0.0,\"#0d0887\"],[0.1111111111111111,\"#46039f\"],[0.2222222222222222,\"#7201a8\"],[0.3333333333333333,\"#9c179e\"],[0.4444444444444444,\"#bd3786\"],[0.5555555555555556,\"#d8576b\"],[0.6666666666666666,\"#ed7953\"],[0.7777777777777778,\"#fb9f3a\"],[0.8888888888888888,\"#fdca26\"],[1.0,\"#f0f921\"]]}],\"choropleth\":[{\"type\":\"choropleth\",\"colorbar\":{\"outlinewidth\":0,\"ticks\":\"\"}}],\"histogram2d\":[{\"type\":\"histogram2d\",\"colorbar\":{\"outlinewidth\":0,\"ticks\":\"\"},\"colorscale\":[[0.0,\"#0d0887\"],[0.1111111111111111,\"#46039f\"],[0.2222222222222222,\"#7201a8\"],[0.3333333333333333,\"#9c179e\"],[0.4444444444444444,\"#bd3786\"],[0.5555555555555556,\"#d8576b\"],[0.6666666666666666,\"#ed7953\"],[0.7777777777777778,\"#fb9f3a\"],[0.8888888888888888,\"#fdca26\"],[1.0,\"#f0f921\"]]}],\"heatmap\":[{\"type\":\"heatmap\",\"colorbar\":{\"outlinewidth\":0,\"ticks\":\"\"},\"colorscale\":[[0.0,\"#0d0887\"],[0.1111111111111111,\"#46039f\"],[0.2222222222222222,\"#7201a8\"],[0.3333333333333333,\"#9c179e\"],[0.4444444444444444,\"#bd3786\"],[0.5555555555555556,\"#d8576b\"],[0.6666666666666666,\"#ed7953\"],[0.7777777777777778,\"#fb9f3a\"],[0.8888888888888888,\"#fdca26\"],[1.0,\"#f0f921\"]]}],\"heatmapgl\":[{\"type\":\"heatmapgl\",\"colorbar\":{\"outlinewidth\":0,\"ticks\":\"\"},\"colorscale\":[[0.0,\"#0d0887\"],[0.1111111111111111,\"#46039f\"],[0.2222222222222222,\"#7201a8\"],[0.3333333333333333,\"#9c179e\"],[0.4444444444444444,\"#bd3786\"],[0.5555555555555556,\"#d8576b\"],[0.6666666666666666,\"#ed7953\"],[0.7777777777777778,\"#fb9f3a\"],[0.8888888888888888,\"#fdca26\"],[1.0,\"#f0f921\"]]}],\"contourcarpet\":[{\"type\":\"contourcarpet\",\"colorbar\":{\"outlinewidth\":0,\"ticks\":\"\"}}],\"contour\":[{\"type\":\"contour\",\"colorbar\":{\"outlinewidth\":0,\"ticks\":\"\"},\"colorscale\":[[0.0,\"#0d0887\"],[0.1111111111111111,\"#46039f\"],[0.2222222222222222,\"#7201a8\"],[0.3333333333333333,\"#9c179e\"],[0.4444444444444444,\"#bd3786\"],[0.5555555555555556,\"#d8576b\"],[0.6666666666666666,\"#ed7953\"],[0.7777777777777778,\"#fb9f3a\"],[0.8888888888888888,\"#fdca26\"],[1.0,\"#f0f921\"]]}],\"surface\":[{\"type\":\"surface\",\"colorbar\":{\"outlinewidth\":0,\"ticks\":\"\"},\"colorscale\":[[0.0,\"#0d0887\"],[0.1111111111111111,\"#46039f\"],[0.2222222222222222,\"#7201a8\"],[0.3333333333333333,\"#9c179e\"],[0.4444444444444444,\"#bd3786\"],[0.5555555555555556,\"#d8576b\"],[0.6666666666666666,\"#ed7953\"],[0.7777777777777778,\"#fb9f3a\"],[0.8888888888888888,\"#fdca26\"],[1.0,\"#f0f921\"]]}],\"mesh3d\":[{\"type\":\"mesh3d\",\"colorbar\":{\"outlinewidth\":0,\"ticks\":\"\"}}],\"scatter\":[{\"fillpattern\":{\"fillmode\":\"overlay\",\"size\":10,\"solidity\":0.2},\"type\":\"scatter\"}],\"parcoords\":[{\"type\":\"parcoords\",\"line\":{\"colorbar\":{\"outlinewidth\":0,\"ticks\":\"\"}}}],\"scatterpolargl\":[{\"type\":\"scatterpolargl\",\"marker\":{\"colorbar\":{\"outlinewidth\":0,\"ticks\":\"\"}}}],\"bar\":[{\"error_x\":{\"color\":\"#2a3f5f\"},\"error_y\":{\"color\":\"#2a3f5f\"},\"marker\":{\"line\":{\"color\":\"#E5ECF6\",\"width\":0.5},\"pattern\":{\"fillmode\":\"overlay\",\"size\":10,\"solidity\":0.2}},\"type\":\"bar\"}],\"scattergeo\":[{\"type\":\"scattergeo\",\"marker\":{\"colorbar\":{\"outlinewidth\":0,\"ticks\":\"\"}}}],\"scatterpolar\":[{\"type\":\"scatterpolar\",\"marker\":{\"colorbar\":{\"outlinewidth\":0,\"ticks\":\"\"}}}],\"histogram\":[{\"marker\":{\"pattern\":{\"fillmode\":\"overlay\",\"size\":10,\"solidity\":0.2}},\"type\":\"histogram\"}],\"scattergl\":[{\"type\":\"scattergl\",\"marker\":{\"colorbar\":{\"outlinewidth\":0,\"ticks\":\"\"}}}],\"scatter3d\":[{\"type\":\"scatter3d\",\"line\":{\"colorbar\":{\"outlinewidth\":0,\"ticks\":\"\"}},\"marker\":{\"colorbar\":{\"outlinewidth\":0,\"ticks\":\"\"}}}],\"scattermapbox\":[{\"type\":\"scattermapbox\",\"marker\":{\"colorbar\":{\"outlinewidth\":0,\"ticks\":\"\"}}}],\"scatterternary\":[{\"type\":\"scatterternary\",\"marker\":{\"colorbar\":{\"outlinewidth\":0,\"ticks\":\"\"}}}],\"scattercarpet\":[{\"type\":\"scattercarpet\",\"marker\":{\"colorbar\":{\"outlinewidth\":0,\"ticks\":\"\"}}}],\"carpet\":[{\"aaxis\":{\"endlinecolor\":\"#2a3f5f\",\"gridcolor\":\"white\",\"linecolor\":\"white\",\"minorgridcolor\":\"white\",\"startlinecolor\":\"#2a3f5f\"},\"baxis\":{\"endlinecolor\":\"#2a3f5f\",\"gridcolor\":\"white\",\"linecolor\":\"white\",\"minorgridcolor\":\"white\",\"startlinecolor\":\"#2a3f5f\"},\"type\":\"carpet\"}],\"table\":[{\"cells\":{\"fill\":{\"color\":\"#EBF0F8\"},\"line\":{\"color\":\"white\"}},\"header\":{\"fill\":{\"color\":\"#C8D4E3\"},\"line\":{\"color\":\"white\"}},\"type\":\"table\"}],\"barpolar\":[{\"marker\":{\"line\":{\"color\":\"#E5ECF6\",\"width\":0.5},\"pattern\":{\"fillmode\":\"overlay\",\"size\":10,\"solidity\":0.2}},\"type\":\"barpolar\"}],\"pie\":[{\"automargin\":true,\"type\":\"pie\"}]},\"layout\":{\"autotypenumbers\":\"strict\",\"colorway\":[\"#636efa\",\"#EF553B\",\"#00cc96\",\"#ab63fa\",\"#FFA15A\",\"#19d3f3\",\"#FF6692\",\"#B6E880\",\"#FF97FF\",\"#FECB52\"],\"font\":{\"color\":\"#2a3f5f\"},\"hovermode\":\"closest\",\"hoverlabel\":{\"align\":\"left\"},\"paper_bgcolor\":\"white\",\"plot_bgcolor\":\"#E5ECF6\",\"polar\":{\"bgcolor\":\"#E5ECF6\",\"angularaxis\":{\"gridcolor\":\"white\",\"linecolor\":\"white\",\"ticks\":\"\"},\"radialaxis\":{\"gridcolor\":\"white\",\"linecolor\":\"white\",\"ticks\":\"\"}},\"ternary\":{\"bgcolor\":\"#E5ECF6\",\"aaxis\":{\"gridcolor\":\"white\",\"linecolor\":\"white\",\"ticks\":\"\"},\"baxis\":{\"gridcolor\":\"white\",\"linecolor\":\"white\",\"ticks\":\"\"},\"caxis\":{\"gridcolor\":\"white\",\"linecolor\":\"white\",\"ticks\":\"\"}},\"coloraxis\":{\"colorbar\":{\"outlinewidth\":0,\"ticks\":\"\"}},\"colorscale\":{\"sequential\":[[0.0,\"#0d0887\"],[0.1111111111111111,\"#46039f\"],[0.2222222222222222,\"#7201a8\"],[0.3333333333333333,\"#9c179e\"],[0.4444444444444444,\"#bd3786\"],[0.5555555555555556,\"#d8576b\"],[0.6666666666666666,\"#ed7953\"],[0.7777777777777778,\"#fb9f3a\"],[0.8888888888888888,\"#fdca26\"],[1.0,\"#f0f921\"]],\"sequentialminus\":[[0.0,\"#0d0887\"],[0.1111111111111111,\"#46039f\"],[0.2222222222222222,\"#7201a8\"],[0.3333333333333333,\"#9c179e\"],[0.4444444444444444,\"#bd3786\"],[0.5555555555555556,\"#d8576b\"],[0.6666666666666666,\"#ed7953\"],[0.7777777777777778,\"#fb9f3a\"],[0.8888888888888888,\"#fdca26\"],[1.0,\"#f0f921\"]],\"diverging\":[[0,\"#8e0152\"],[0.1,\"#c51b7d\"],[0.2,\"#de77ae\"],[0.3,\"#f1b6da\"],[0.4,\"#fde0ef\"],[0.5,\"#f7f7f7\"],[0.6,\"#e6f5d0\"],[0.7,\"#b8e186\"],[0.8,\"#7fbc41\"],[0.9,\"#4d9221\"],[1,\"#276419\"]]},\"xaxis\":{\"gridcolor\":\"white\",\"linecolor\":\"white\",\"ticks\":\"\",\"title\":{\"standoff\":15},\"zerolinecolor\":\"white\",\"automargin\":true,\"zerolinewidth\":2},\"yaxis\":{\"gridcolor\":\"white\",\"linecolor\":\"white\",\"ticks\":\"\",\"title\":{\"standoff\":15},\"zerolinecolor\":\"white\",\"automargin\":true,\"zerolinewidth\":2},\"scene\":{\"xaxis\":{\"backgroundcolor\":\"#E5ECF6\",\"gridcolor\":\"white\",\"linecolor\":\"white\",\"showbackground\":true,\"ticks\":\"\",\"zerolinecolor\":\"white\",\"gridwidth\":2},\"yaxis\":{\"backgroundcolor\":\"#E5ECF6\",\"gridcolor\":\"white\",\"linecolor\":\"white\",\"showbackground\":true,\"ticks\":\"\",\"zerolinecolor\":\"white\",\"gridwidth\":2},\"zaxis\":{\"backgroundcolor\":\"#E5ECF6\",\"gridcolor\":\"white\",\"linecolor\":\"white\",\"showbackground\":true,\"ticks\":\"\",\"zerolinecolor\":\"white\",\"gridwidth\":2}},\"shapedefaults\":{\"line\":{\"color\":\"#2a3f5f\"}},\"annotationdefaults\":{\"arrowcolor\":\"#2a3f5f\",\"arrowhead\":0,\"arrowwidth\":1},\"geo\":{\"bgcolor\":\"white\",\"landcolor\":\"#E5ECF6\",\"subunitcolor\":\"white\",\"showland\":true,\"showlakes\":true,\"lakecolor\":\"white\"},\"title\":{\"x\":0.05},\"mapbox\":{\"style\":\"light\"}}},\"scene\":{\"domain\":{\"x\":[0.0,1.0],\"y\":[0.0,1.0]},\"xaxis\":{\"title\":{\"text\":\"x\"}},\"yaxis\":{\"title\":{\"text\":\"y\"}},\"zaxis\":{\"title\":{\"text\":\"z\"}}},\"legend\":{\"title\":{\"text\":\"color\"},\"tracegroupgap\":0},\"margin\":{\"t\":60}},                        {\"responsive\": true}                    ).then(function(){\n",
              "                            \n",
              "var gd = document.getElementById('21622587-3052-463b-8566-fcf4fd8d6eeb');\n",
              "var x = new MutationObserver(function (mutations, observer) {{\n",
              "        var display = window.getComputedStyle(gd).display;\n",
              "        if (!display || display === 'none') {{\n",
              "            console.log([gd, 'removed!']);\n",
              "            Plotly.purge(gd);\n",
              "            observer.disconnect();\n",
              "        }}\n",
              "}});\n",
              "\n",
              "// Listen for the removal of the full notebook cells\n",
              "var notebookContainer = gd.closest('#notebook-container');\n",
              "if (notebookContainer) {{\n",
              "    x.observe(notebookContainer, {childList: true});\n",
              "}}\n",
              "\n",
              "// Listen for the clearing of the current output cell\n",
              "var outputEl = gd.closest('.output');\n",
              "if (outputEl) {{\n",
              "    x.observe(outputEl, {childList: true});\n",
              "}}\n",
              "\n",
              "                        })                };                            </script>        </div>\n",
              "</body>\n",
              "</html>"
            ]
          },
          "metadata": {}
        }
      ]
    },
    {
      "cell_type": "code",
      "source": [
        "# As we can see in the above fig there are few color dots which do not overlap at all, which indicates that they must be looking very different like say 0 and 7\n",
        "# If we see 4 and 9 are quite close, 3 and 8 are close too"
      ],
      "metadata": {
        "id": "W_GcmPILAJb_"
      },
      "execution_count": 46,
      "outputs": []
    },
    {
      "cell_type": "code",
      "source": [
        "pca5.explained_variance_\n",
        "# Eigen values\n"
      ],
      "metadata": {
        "colab": {
          "base_uri": "https://localhost:8080/"
        },
        "id": "pTT6IVVcBMjQ",
        "outputId": "6e06a548-a8b2-403b-d421-95e7aed12544"
      },
      "execution_count": 47,
      "outputs": [
        {
          "output_type": "execute_result",
          "data": {
            "text/plain": [
              "array([39.92755421, 28.84365566, 27.31178435])"
            ]
          },
          "metadata": {},
          "execution_count": 47
        }
      ]
    },
    {
      "cell_type": "code",
      "source": [
        "pca5.explained_variance_.shape\n"
      ],
      "metadata": {
        "colab": {
          "base_uri": "https://localhost:8080/"
        },
        "id": "jaHr5Ilg7rqK",
        "outputId": "fe0b8785-8a95-4970-9751-8d9ca0428617"
      },
      "execution_count": 48,
      "outputs": [
        {
          "output_type": "execute_result",
          "data": {
            "text/plain": [
              "(3,)"
            ]
          },
          "metadata": {},
          "execution_count": 48
        }
      ]
    },
    {
      "cell_type": "code",
      "source": [
        "pca5.components_\n",
        "# Eigen vectors\n"
      ],
      "metadata": {
        "colab": {
          "base_uri": "https://localhost:8080/"
        },
        "id": "TrnJxdhfC2Em",
        "outputId": "5ed465c5-f615-4862-ce1e-cd5cc7b9383e"
      },
      "execution_count": 49,
      "outputs": [
        {
          "output_type": "execute_result",
          "data": {
            "text/plain": [
              "array([[-4.98971142e-18,  6.08185679e-20,  1.53852382e-19, ...,\n",
              "        -0.00000000e+00, -0.00000000e+00, -0.00000000e+00],\n",
              "       [-7.29328782e-18, -6.02868544e-18,  9.70915239e-19, ...,\n",
              "        -0.00000000e+00, -0.00000000e+00, -0.00000000e+00],\n",
              "       [ 1.20173501e-16, -2.17871360e-18, -1.12261988e-18, ...,\n",
              "        -0.00000000e+00, -0.00000000e+00, -0.00000000e+00]])"
            ]
          },
          "metadata": {},
          "execution_count": 49
        }
      ]
    },
    {
      "cell_type": "code",
      "source": [
        "pca5.components_.shape\n"
      ],
      "metadata": {
        "colab": {
          "base_uri": "https://localhost:8080/"
        },
        "id": "oWTfPXNWDjzj",
        "outputId": "1205164a-69cf-4bd6-85f8-9e17afe19547"
      },
      "execution_count": 50,
      "outputs": [
        {
          "output_type": "execute_result",
          "data": {
            "text/plain": [
              "(3, 784)"
            ]
          },
          "metadata": {},
          "execution_count": 50
        }
      ]
    },
    {
      "cell_type": "code",
      "source": [
        "pca5.explained_variance_ratio_*100\n"
      ],
      "metadata": {
        "colab": {
          "base_uri": "https://localhost:8080/"
        },
        "id": "Mx5OdtyNEAsY",
        "outputId": "89ea0963-425f-4d4b-e33f-f33425645087"
      },
      "execution_count": 51,
      "outputs": [
        {
          "output_type": "execute_result",
          "data": {
            "text/plain": [
              "array([6.07577967, 4.38914179, 4.15603679])"
            ]
          },
          "metadata": {},
          "execution_count": 51
        }
      ]
    },
    {
      "cell_type": "code",
      "source": [
        "pca6 = PCA(n_components=None)\n",
        "X_train_trf6 = pca6.fit_transform(X_train_sc)\n",
        "X_test_trf6 = pca6.transform(X_test_sc)"
      ],
      "metadata": {
        "id": "rbRRTrsiFLKv"
      },
      "execution_count": 52,
      "outputs": []
    },
    {
      "cell_type": "code",
      "source": [
        "pca6.explained_variance_"
      ],
      "metadata": {
        "colab": {
          "base_uri": "https://localhost:8080/"
        },
        "id": "ZYIcQ6MY8wtQ",
        "outputId": "5286d310-fcbd-4b58-87b7-fc759697e209"
      },
      "execution_count": 53,
      "outputs": [
        {
          "output_type": "execute_result",
          "data": {
            "text/plain": [
              "array([3.99275542e+01, 2.88436557e+01, 2.73117844e+01, 2.15951295e+01,\n",
              "       1.80667020e+01, 1.60714977e+01, 1.34829931e+01, 1.26944563e+01,\n",
              "       1.13958816e+01, 1.01639543e+01, 9.68360779e+00, 8.54204273e+00,\n",
              "       8.28592108e+00, 7.94626913e+00, 7.66198219e+00, 7.48249789e+00,\n",
              "       6.97326454e+00, 6.81318227e+00, 6.75786674e+00, 6.39718360e+00,\n",
              "       6.23850826e+00, 5.87453210e+00, 5.77718819e+00, 5.62310337e+00,\n",
              "       5.49282592e+00, 5.16703177e+00, 4.95710483e+00, 4.86989921e+00,\n",
              "       4.81049470e+00, 4.66217210e+00, 4.55113270e+00, 4.41779172e+00,\n",
              "       4.38162856e+00, 4.25818829e+00, 4.21097734e+00, 4.08611206e+00,\n",
              "       3.99866978e+00, 3.96715505e+00, 3.83801589e+00, 3.82841410e+00,\n",
              "       3.72510584e+00, 3.64113455e+00, 3.59940215e+00, 3.49943933e+00,\n",
              "       3.41388824e+00, 3.36154335e+00, 3.30515690e+00, 3.20556676e+00,\n",
              "       3.15173821e+00, 3.10600035e+00, 3.04801566e+00, 3.01839672e+00,\n",
              "       2.90563182e+00, 2.88268467e+00, 2.86214284e+00, 2.85160820e+00,\n",
              "       2.76538707e+00, 2.71987085e+00, 2.67412065e+00, 2.62463416e+00,\n",
              "       2.57007820e+00, 2.53752852e+00, 2.48369525e+00, 2.45272265e+00,\n",
              "       2.44253905e+00, 2.42770594e+00, 2.35758486e+00, 2.33770867e+00,\n",
              "       2.30862008e+00, 2.26435692e+00, 2.25484697e+00, 2.18784678e+00,\n",
              "       2.16166966e+00, 2.13589711e+00, 2.12802712e+00, 2.09843182e+00,\n",
              "       2.05255116e+00, 2.02905649e+00, 2.02321243e+00, 2.00735176e+00,\n",
              "       1.97100106e+00, 1.95858092e+00, 1.93820948e+00, 1.90677543e+00,\n",
              "       1.88588925e+00, 1.87178176e+00, 1.85043733e+00, 1.81198253e+00,\n",
              "       1.79757326e+00, 1.77756131e+00, 1.76657734e+00, 1.71682225e+00,\n",
              "       1.70447912e+00, 1.66834324e+00, 1.64306421e+00, 1.60163448e+00,\n",
              "       1.59661096e+00, 1.58590232e+00, 1.56330097e+00, 1.54070544e+00,\n",
              "       1.50623887e+00, 1.49668805e+00, 1.47396809e+00, 1.45467153e+00,\n",
              "       1.45303891e+00, 1.42169338e+00, 1.41372596e+00, 1.38239270e+00,\n",
              "       1.37410963e+00, 1.35425013e+00, 1.32048640e+00, 1.31502895e+00,\n",
              "       1.29587112e+00, 1.28488842e+00, 1.27205963e+00, 1.24479495e+00,\n",
              "       1.23980220e+00, 1.21568068e+00, 1.21151877e+00, 1.18608418e+00,\n",
              "       1.16859299e+00, 1.16075961e+00, 1.15691415e+00, 1.14419328e+00,\n",
              "       1.13449810e+00, 1.11092223e+00, 1.09179873e+00, 1.07926690e+00,\n",
              "       1.06852115e+00, 1.05313906e+00, 1.04968555e+00, 1.03050018e+00,\n",
              "       1.02647048e+00, 1.01833235e+00, 1.00070165e+00, 9.96604185e-01,\n",
              "       9.80207744e-01, 9.75577133e-01, 9.66666721e-01, 9.57870413e-01,\n",
              "       9.49737814e-01, 9.34456372e-01, 9.31214184e-01, 9.27571538e-01,\n",
              "       9.11244188e-01, 9.07855693e-01, 8.97279384e-01, 8.96096701e-01,\n",
              "       8.71674162e-01, 8.59188139e-01, 8.55994274e-01, 8.43178127e-01,\n",
              "       8.26881524e-01, 8.06656595e-01, 8.04799427e-01, 7.84277562e-01,\n",
              "       7.76886190e-01, 7.75227339e-01, 7.60072397e-01, 7.50264042e-01,\n",
              "       7.46399293e-01, 7.40956759e-01, 7.34713267e-01, 7.21658027e-01,\n",
              "       7.17238138e-01, 7.10064727e-01, 7.05552673e-01, 6.90906203e-01,\n",
              "       6.76920436e-01, 6.73126772e-01, 6.67067602e-01, 6.55346584e-01,\n",
              "       6.52212596e-01, 6.44433001e-01, 6.42660819e-01, 6.33761663e-01,\n",
              "       6.32166598e-01, 6.28924538e-01, 6.20518851e-01, 6.14813260e-01,\n",
              "       6.12953239e-01, 5.90853772e-01, 5.87004995e-01, 5.81624300e-01,\n",
              "       5.75678053e-01, 5.66676170e-01, 5.63040784e-01, 5.57402131e-01,\n",
              "       5.54679642e-01, 5.47311748e-01, 5.42004704e-01, 5.35777796e-01,\n",
              "       5.28583604e-01, 5.23945622e-01, 5.14499813e-01, 5.11424509e-01,\n",
              "       5.04427365e-01, 4.95643280e-01, 4.91548027e-01, 4.84394579e-01,\n",
              "       4.78691645e-01, 4.71366219e-01, 4.68604130e-01, 4.63586243e-01,\n",
              "       4.59834954e-01, 4.57147063e-01, 4.50107994e-01, 4.47706627e-01,\n",
              "       4.38492704e-01, 4.37228246e-01, 4.36122204e-01, 4.29566658e-01,\n",
              "       4.24012040e-01, 4.19672938e-01, 4.17350337e-01, 4.13895828e-01,\n",
              "       4.04534234e-01, 4.01859594e-01, 3.97023394e-01, 3.94756608e-01,\n",
              "       3.88353455e-01, 3.86318900e-01, 3.79726607e-01, 3.75989359e-01,\n",
              "       3.72418390e-01, 3.70628371e-01, 3.64751911e-01, 3.62161520e-01,\n",
              "       3.59012876e-01, 3.55588830e-01, 3.51455126e-01, 3.49052959e-01,\n",
              "       3.47524854e-01, 3.46713635e-01, 3.41620511e-01, 3.39084133e-01,\n",
              "       3.36029705e-01, 3.28946953e-01, 3.27270827e-01, 3.23351024e-01,\n",
              "       3.17545279e-01, 3.14470980e-01, 3.13537874e-01, 3.10679106e-01,\n",
              "       3.09575430e-01, 3.05808559e-01, 3.01341273e-01, 2.98616514e-01,\n",
              "       2.96926386e-01, 2.94866917e-01, 2.92909769e-01, 2.90442699e-01,\n",
              "       2.86817567e-01, 2.85401421e-01, 2.80200054e-01, 2.77273413e-01,\n",
              "       2.73607766e-01, 2.70385019e-01, 2.69240425e-01, 2.65329063e-01,\n",
              "       2.64412568e-01, 2.61577852e-01, 2.59097168e-01, 2.58161352e-01,\n",
              "       2.55577243e-01, 2.55054506e-01, 2.51058967e-01, 2.46942233e-01,\n",
              "       2.45672597e-01, 2.43595830e-01, 2.39693215e-01, 2.36884094e-01,\n",
              "       2.33697783e-01, 2.31708915e-01, 2.30226417e-01, 2.29411034e-01,\n",
              "       2.26366548e-01, 2.26020344e-01, 2.23341301e-01, 2.21959741e-01,\n",
              "       2.18993985e-01, 2.18000541e-01, 2.17133547e-01, 2.12635382e-01,\n",
              "       2.11433340e-01, 2.08466258e-01, 2.07455709e-01, 2.05549246e-01,\n",
              "       2.03708008e-01, 2.02196158e-01, 2.01595627e-01, 2.01116532e-01,\n",
              "       1.98174055e-01, 1.94982263e-01, 1.94245462e-01, 1.90710757e-01,\n",
              "       1.89343594e-01, 1.88630858e-01, 1.86478115e-01, 1.85575097e-01,\n",
              "       1.84733298e-01, 1.83348571e-01, 1.82071497e-01, 1.80031700e-01,\n",
              "       1.76661887e-01, 1.75538153e-01, 1.73813160e-01, 1.73369678e-01,\n",
              "       1.72439739e-01, 1.71379724e-01, 1.70649800e-01, 1.68203826e-01,\n",
              "       1.66560426e-01, 1.65152690e-01, 1.62772901e-01, 1.61489051e-01,\n",
              "       1.61019938e-01, 1.59446201e-01, 1.58258320e-01, 1.57436098e-01,\n",
              "       1.55616888e-01, 1.53437908e-01, 1.52934323e-01, 1.52872035e-01,\n",
              "       1.51959107e-01, 1.49321955e-01, 1.48947676e-01, 1.46822832e-01,\n",
              "       1.44537239e-01, 1.43675205e-01, 1.43261608e-01, 1.41663762e-01,\n",
              "       1.40744875e-01, 1.40436017e-01, 1.38827641e-01, 1.37450129e-01,\n",
              "       1.37185647e-01, 1.36463576e-01, 1.35405222e-01, 1.34064488e-01,\n",
              "       1.32266495e-01, 1.31375484e-01, 1.29294978e-01, 1.29093052e-01,\n",
              "       1.28081069e-01, 1.27646695e-01, 1.25493806e-01, 1.25007780e-01,\n",
              "       1.23624942e-01, 1.23379070e-01, 1.22306118e-01, 1.21768599e-01,\n",
              "       1.20186658e-01, 1.19678400e-01, 1.18142976e-01, 1.17647914e-01,\n",
              "       1.17574599e-01, 1.17255111e-01, 1.16018181e-01, 1.14325377e-01,\n",
              "       1.13841341e-01, 1.12626067e-01, 1.11874213e-01, 1.11236330e-01,\n",
              "       1.10814041e-01, 1.09844416e-01, 1.09082201e-01, 1.08528341e-01,\n",
              "       1.07677264e-01, 1.07344763e-01, 1.06697859e-01, 1.05552462e-01,\n",
              "       1.05110534e-01, 1.04519510e-01, 1.03193628e-01, 1.02197409e-01,\n",
              "       1.01985026e-01, 1.01257664e-01, 1.00553379e-01, 1.00284489e-01,\n",
              "       9.93029466e-02, 9.81349516e-02, 9.78166139e-02, 9.74305806e-02,\n",
              "       9.69724809e-02, 9.61492098e-02, 9.54176696e-02, 9.46009235e-02,\n",
              "       9.40365691e-02, 9.36669117e-02, 9.31796020e-02, 9.24794926e-02,\n",
              "       9.18747414e-02, 9.08780445e-02, 8.99801959e-02, 8.96278113e-02,\n",
              "       8.90979481e-02, 8.81821365e-02, 8.74891353e-02, 8.73586985e-02,\n",
              "       8.70178344e-02, 8.65866532e-02, 8.57806448e-02, 8.51633500e-02,\n",
              "       8.46932344e-02, 8.38073508e-02, 8.34847104e-02, 8.30924756e-02,\n",
              "       8.27112636e-02, 8.15457284e-02, 8.11810129e-02, 8.03297082e-02,\n",
              "       8.01406360e-02, 7.94688884e-02, 7.89045379e-02, 7.85319328e-02,\n",
              "       7.83439605e-02, 7.78044625e-02, 7.74396785e-02, 7.71749726e-02,\n",
              "       7.68397829e-02, 7.60120205e-02, 7.54784321e-02, 7.44387627e-02,\n",
              "       7.43208475e-02, 7.39565312e-02, 7.33914531e-02, 7.31887623e-02,\n",
              "       7.18137049e-02, 7.15646603e-02, 7.10732794e-02, 7.06490906e-02,\n",
              "       7.00987494e-02, 6.99687621e-02, 6.95191583e-02, 6.90802672e-02,\n",
              "       6.85684717e-02, 6.80409119e-02, 6.78775971e-02, 6.74761940e-02,\n",
              "       6.66883060e-02, 6.61408056e-02, 6.60590523e-02, 6.53721131e-02,\n",
              "       6.51151840e-02, 6.49344942e-02, 6.45786880e-02, 6.43036714e-02,\n",
              "       6.37730160e-02, 6.32737272e-02, 6.27401995e-02, 6.26063428e-02,\n",
              "       6.22329691e-02, 6.16597992e-02, 6.15458996e-02, 6.12451059e-02,\n",
              "       6.05455015e-02, 6.03101911e-02, 5.98606938e-02, 5.95794358e-02,\n",
              "       5.92109065e-02, 5.88539963e-02, 5.79266065e-02, 5.77710161e-02,\n",
              "       5.72868744e-02, 5.67800304e-02, 5.64035533e-02, 5.61356162e-02,\n",
              "       5.57953159e-02, 5.56484356e-02, 5.52318967e-02, 5.50060207e-02,\n",
              "       5.44384574e-02, 5.42403077e-02, 5.40237537e-02, 5.35573581e-02,\n",
              "       5.31213126e-02, 5.29395856e-02, 5.24779230e-02, 5.21026724e-02,\n",
              "       5.19834347e-02, 5.15075907e-02, 5.12370881e-02, 5.10714271e-02,\n",
              "       5.09845906e-02, 5.06666832e-02, 5.00978270e-02, 4.99682992e-02,\n",
              "       4.99002226e-02, 4.88107133e-02, 4.82682790e-02, 4.81928398e-02,\n",
              "       4.78663150e-02, 4.74866168e-02, 4.74007082e-02, 4.72389718e-02,\n",
              "       4.69085540e-02, 4.66738087e-02, 4.62981654e-02, 4.60670032e-02,\n",
              "       4.55921478e-02, 4.55268331e-02, 4.50432137e-02, 4.47616462e-02,\n",
              "       4.45436790e-02, 4.43068192e-02, 4.38936696e-02, 4.33550894e-02,\n",
              "       4.32976319e-02, 4.32357678e-02, 4.26244175e-02, 4.25431815e-02,\n",
              "       4.22923977e-02, 4.17351536e-02, 4.16893379e-02, 4.12886893e-02,\n",
              "       4.10919768e-02, 4.08430467e-02, 4.07232210e-02, 4.03976679e-02,\n",
              "       4.01108453e-02, 3.97780057e-02, 3.96645025e-02, 3.95233493e-02,\n",
              "       3.92519533e-02, 3.90446794e-02, 3.86937174e-02, 3.85658846e-02,\n",
              "       3.79828663e-02, 3.79158174e-02, 3.78448221e-02, 3.76238665e-02,\n",
              "       3.71481408e-02, 3.69516646e-02, 3.68778482e-02, 3.65942420e-02,\n",
              "       3.64257941e-02, 3.62885537e-02, 3.56127696e-02, 3.54842539e-02,\n",
              "       3.52497193e-02, 3.51185924e-02, 3.47759084e-02, 3.42753313e-02,\n",
              "       3.40487776e-02, 3.40345530e-02, 3.39995613e-02, 3.37863774e-02,\n",
              "       3.35929762e-02, 3.32969001e-02, 3.29942462e-02, 3.27373207e-02,\n",
              "       3.24736668e-02, 3.23150546e-02, 3.21220635e-02, 3.20020569e-02,\n",
              "       3.17245691e-02, 3.15749210e-02, 3.12571961e-02, 3.09300402e-02,\n",
              "       3.06655623e-02, 3.04937777e-02, 3.03266781e-02, 3.01308744e-02,\n",
              "       3.00034162e-02, 2.97684937e-02, 2.94350461e-02, 2.92887492e-02,\n",
              "       2.91245594e-02, 2.88497637e-02, 2.86153405e-02, 2.83308869e-02,\n",
              "       2.82185699e-02, 2.79954382e-02, 2.77850109e-02, 2.76522406e-02,\n",
              "       2.75764547e-02, 2.73381356e-02, 2.70842520e-02, 2.68364313e-02,\n",
              "       2.64911653e-02, 2.63770672e-02, 2.62087832e-02, 2.60306477e-02,\n",
              "       2.57674156e-02, 2.54333567e-02, 2.52279314e-02, 2.49958425e-02,\n",
              "       2.48535507e-02, 2.46194151e-02, 2.43736842e-02, 2.41271511e-02,\n",
              "       2.39676831e-02, 2.37613514e-02, 2.35900633e-02, 2.34876411e-02,\n",
              "       2.31637191e-02, 2.29950567e-02, 2.24588329e-02, 2.23997257e-02,\n",
              "       2.23227978e-02, 2.21793857e-02, 2.20870357e-02, 2.17893104e-02,\n",
              "       2.16846895e-02, 2.15265319e-02, 2.11279644e-02, 2.10006638e-02,\n",
              "       2.07508146e-02, 2.04991538e-02, 2.03931278e-02, 2.02926549e-02,\n",
              "       1.99846903e-02, 1.98022420e-02, 1.95644577e-02, 1.93056896e-02,\n",
              "       1.90932021e-02, 1.88868608e-02, 1.87187574e-02, 1.85658700e-02,\n",
              "       1.82900330e-02, 1.82372267e-02, 1.78853163e-02, 1.75905230e-02,\n",
              "       1.70136774e-02, 1.68400092e-02, 1.62000590e-02, 1.61618251e-02,\n",
              "       1.60224954e-02, 1.54833345e-02, 1.51326775e-02, 1.49535373e-02,\n",
              "       1.45753639e-02, 1.40114988e-02, 1.32052625e-02, 1.01610498e-02,\n",
              "       7.32479413e-03, 2.03450544e-03, 1.91805214e-03, 1.65295271e-03,\n",
              "       3.63732192e-04, 1.85942923e-27, 2.63941180e-29, 1.89157309e-29,\n",
              "       6.03390096e-30, 4.00875584e-30, 2.93111097e-30, 2.37790314e-30,\n",
              "       1.98746060e-30, 1.83798517e-30, 1.71997521e-30, 1.64735699e-30,\n",
              "       1.64518201e-30, 1.38652611e-30, 1.31092601e-30, 9.24757651e-31,\n",
              "       8.92317207e-31, 7.64848539e-31, 7.30313365e-31, 6.57249606e-31,\n",
              "       6.46200126e-31, 6.03793397e-31, 5.40320763e-31, 5.12208764e-31,\n",
              "       5.12064887e-31, 5.11612379e-31, 4.61371293e-31, 4.22417474e-31,\n",
              "       3.21783667e-31, 3.01089724e-31, 2.90205981e-31, 2.74319770e-31,\n",
              "       2.72010572e-31, 2.52037896e-31, 1.86486706e-31, 1.50225709e-31,\n",
              "       1.37440545e-31, 1.37440545e-31, 1.37440545e-31, 1.37440545e-31,\n",
              "       1.37440545e-31, 1.37440545e-31, 1.37440545e-31, 1.37440545e-31,\n",
              "       1.37440545e-31, 1.37440545e-31, 1.37440545e-31, 1.37440545e-31,\n",
              "       1.37440545e-31, 1.37440545e-31, 1.37440545e-31, 1.37440545e-31,\n",
              "       1.37440545e-31, 1.37440545e-31, 1.37440545e-31, 1.37440545e-31,\n",
              "       1.37440545e-31, 1.37440545e-31, 1.37440545e-31, 1.37440545e-31,\n",
              "       1.37440545e-31, 1.37440545e-31, 1.37440545e-31, 1.37440545e-31,\n",
              "       1.37440545e-31, 1.37440545e-31, 1.37440545e-31, 1.37440545e-31,\n",
              "       1.37440545e-31, 1.37440545e-31, 1.37440545e-31, 1.37440545e-31,\n",
              "       1.37440545e-31, 1.37440545e-31, 1.37440545e-31, 1.37440545e-31,\n",
              "       1.37440545e-31, 1.37440545e-31, 1.37440545e-31, 1.37440545e-31,\n",
              "       1.37440545e-31, 1.37440545e-31, 1.37440545e-31, 1.37440545e-31,\n",
              "       1.37440545e-31, 1.37440545e-31, 1.37440545e-31, 1.37440545e-31,\n",
              "       1.37440545e-31, 1.37440545e-31, 1.37440545e-31, 1.37440545e-31,\n",
              "       1.37440545e-31, 1.37440545e-31, 1.37440545e-31, 1.37440545e-31,\n",
              "       1.37440545e-31, 1.37440545e-31, 1.37440545e-31, 1.37440545e-31,\n",
              "       1.37440545e-31, 1.37440545e-31, 1.37440545e-31, 1.37440545e-31,\n",
              "       1.37440545e-31, 1.37440545e-31, 1.37440545e-31, 1.37440545e-31,\n",
              "       1.37440545e-31, 1.37440545e-31, 1.37440545e-31, 1.37440545e-31,\n",
              "       1.37440545e-31, 1.37440545e-31, 1.37440545e-31, 1.37440545e-31,\n",
              "       1.37440545e-31, 1.37440545e-31, 1.37440545e-31, 1.37440545e-31,\n",
              "       1.37440545e-31, 1.37440545e-31, 1.37440545e-31, 1.37440545e-31,\n",
              "       1.37440545e-31, 1.37440545e-31, 1.37440545e-31, 1.37440545e-31,\n",
              "       1.37440545e-31, 1.37440545e-31, 1.37440545e-31, 1.37440545e-31,\n",
              "       1.37440545e-31, 1.30890015e-31, 1.03295900e-31, 9.26829486e-32,\n",
              "       8.06030549e-32, 4.57871304e-32, 4.41915397e-32, 3.96368128e-32,\n",
              "       3.72120026e-32, 1.75458448e-32, 1.18901693e-32, 1.66054856e-33])"
            ]
          },
          "metadata": {},
          "execution_count": 53
        }
      ]
    },
    {
      "cell_type": "code",
      "source": [
        "pca6.explained_variance_.shape"
      ],
      "metadata": {
        "colab": {
          "base_uri": "https://localhost:8080/"
        },
        "id": "6rar0wTQ82pB",
        "outputId": "94559c77-f901-4e63-df52-2300892824b0"
      },
      "execution_count": 54,
      "outputs": [
        {
          "output_type": "execute_result",
          "data": {
            "text/plain": [
              "(784,)"
            ]
          },
          "metadata": {},
          "execution_count": 54
        }
      ]
    },
    {
      "cell_type": "code",
      "source": [
        "pca6.components_"
      ],
      "metadata": {
        "colab": {
          "base_uri": "https://localhost:8080/"
        },
        "id": "KJsXIxf_86yn",
        "outputId": "79c7e9b2-553b-4bd2-e84d-266e1a27347d"
      },
      "execution_count": 55,
      "outputs": [
        {
          "output_type": "execute_result",
          "data": {
            "text/plain": [
              "array([[-5.52841595e-19, -2.77555756e-17, -0.00000000e+00, ...,\n",
              "        -0.00000000e+00, -0.00000000e+00, -0.00000000e+00],\n",
              "       [ 1.31010166e-18,  1.11022302e-16,  1.11022302e-16, ...,\n",
              "        -0.00000000e+00, -0.00000000e+00, -0.00000000e+00],\n",
              "       [-9.30682740e-19, -8.32667268e-17,  5.55111512e-17, ...,\n",
              "        -0.00000000e+00, -0.00000000e+00, -0.00000000e+00],\n",
              "       ...,\n",
              "       [ 0.00000000e+00,  2.87300479e-02,  4.12404396e-02, ...,\n",
              "         0.00000000e+00,  0.00000000e+00,  0.00000000e+00],\n",
              "       [-0.00000000e+00,  2.45613020e-02,  1.79374878e-02, ...,\n",
              "        -0.00000000e+00, -0.00000000e+00, -0.00000000e+00],\n",
              "       [-0.00000000e+00,  4.39656817e-02,  5.31248257e-02, ...,\n",
              "        -0.00000000e+00, -0.00000000e+00, -0.00000000e+00]])"
            ]
          },
          "metadata": {},
          "execution_count": 55
        }
      ]
    },
    {
      "cell_type": "code",
      "source": [
        "pca6.components_.shape"
      ],
      "metadata": {
        "colab": {
          "base_uri": "https://localhost:8080/"
        },
        "id": "qiFgnA-k9D5Q",
        "outputId": "b2204b22-a094-493b-9a35-b29c82cdf5b3"
      },
      "execution_count": 56,
      "outputs": [
        {
          "output_type": "execute_result",
          "data": {
            "text/plain": [
              "(784, 784)"
            ]
          },
          "metadata": {},
          "execution_count": 56
        }
      ]
    },
    {
      "cell_type": "code",
      "source": [
        "pca6.explained_variance_ratio_*100"
      ],
      "metadata": {
        "colab": {
          "base_uri": "https://localhost:8080/"
        },
        "id": "bP8P6pPq9G4k",
        "outputId": "def2b27f-c8cb-4572-a3d3-7c7610011d35"
      },
      "execution_count": 64,
      "outputs": [
        {
          "output_type": "execute_result",
          "data": {
            "text/plain": [
              "array([6.07577967e+00, 4.38914179e+00, 4.15603680e+00, 3.28613288e+00,\n",
              "       2.74921174e+00, 2.44560132e+00, 2.05170833e+00, 1.93171661e+00,\n",
              "       1.73411237e+00, 1.54664988e+00, 1.47355551e+00, 1.29984344e+00,\n",
              "       1.26086939e+00, 1.20918452e+00, 1.16592455e+00, 1.13861241e+00,\n",
              "       1.06112232e+00, 1.03676259e+00, 1.02834522e+00, 9.73460029e-01,\n",
              "       9.49314388e-01, 8.93928101e-01, 8.79115269e-01, 8.55668168e-01,\n",
              "       8.35843837e-01, 7.86267710e-01, 7.54323108e-01, 7.41053020e-01,\n",
              "       7.32013431e-01, 7.09443167e-01, 6.92546291e-01, 6.72255781e-01,\n",
              "       6.66752830e-01, 6.47968911e-01, 6.40784818e-01, 6.21784056e-01,\n",
              "       6.08477956e-01, 6.03682357e-01, 5.84031238e-01, 5.82570132e-01,\n",
              "       5.66849705e-01, 5.54071787e-01, 5.47721364e-01, 5.32510011e-01,\n",
              "       5.19491695e-01, 5.11526368e-01, 5.02946035e-01, 4.87791394e-01,\n",
              "       4.79600300e-01, 4.72640365e-01, 4.63816830e-01, 4.59309713e-01,\n",
              "       4.42150267e-01, 4.38658397e-01, 4.35532545e-01, 4.33929488e-01,\n",
              "       4.20809210e-01, 4.13883002e-01, 4.06921191e-01, 3.99390827e-01,\n",
              "       3.91089041e-01, 3.86135953e-01, 3.77944139e-01, 3.73231036e-01,\n",
              "       3.71681397e-01, 3.69424241e-01, 3.58753910e-01, 3.55729348e-01,\n",
              "       3.51302934e-01, 3.44567406e-01, 3.43120276e-01, 3.32924849e-01,\n",
              "       3.28941476e-01, 3.25019664e-01, 3.23822087e-01, 3.19318567e-01,\n",
              "       3.12336903e-01, 3.08761717e-01, 3.07872425e-01, 3.05458906e-01,\n",
              "       2.99927416e-01, 2.98037443e-01, 2.94937518e-01, 2.90154196e-01,\n",
              "       2.86975945e-01, 2.84829206e-01, 2.81581222e-01, 2.75729551e-01,\n",
              "       2.73536892e-01, 2.70491672e-01, 2.68820240e-01, 2.61249003e-01,\n",
              "       2.59370747e-01, 2.53871948e-01, 2.50025234e-01, 2.43720869e-01,\n",
              "       2.42956440e-01, 2.41326905e-01, 2.37887656e-01, 2.34449291e-01,\n",
              "       2.29204510e-01, 2.27751162e-01, 2.24293863e-01, 2.21357503e-01,\n",
              "       2.21109067e-01, 2.16339215e-01, 2.15126812e-01, 2.10358828e-01,\n",
              "       2.09098392e-01, 2.06076370e-01, 2.00938539e-01, 2.00108078e-01,\n",
              "       1.97192830e-01, 1.95521591e-01, 1.93569434e-01, 1.89420565e-01,\n",
              "       1.88660817e-01, 1.84990243e-01, 1.84356925e-01, 1.80486541e-01,\n",
              "       1.77824905e-01, 1.76632899e-01, 1.76047734e-01, 1.74111999e-01,\n",
              "       1.72636682e-01, 1.69049140e-01, 1.66139115e-01, 1.64232145e-01,\n",
              "       1.62596963e-01, 1.60256269e-01, 1.59730748e-01, 1.56811309e-01,\n",
              "       1.56198109e-01, 1.54959729e-01, 1.52276865e-01, 1.51653352e-01,\n",
              "       1.49158304e-01, 1.48453664e-01, 1.47097766e-01, 1.45759231e-01,\n",
              "       1.44521692e-01, 1.42196314e-01, 1.41702950e-01, 1.41148648e-01,\n",
              "       1.38664114e-01, 1.38148486e-01, 1.36539088e-01, 1.36359119e-01,\n",
              "       1.32642739e-01, 1.30742740e-01, 1.30256729e-01, 1.28306495e-01,\n",
              "       1.25826639e-01, 1.22749010e-01, 1.22466404e-01, 1.19343590e-01,\n",
              "       1.18218844e-01, 1.17966417e-01, 1.15660288e-01, 1.14167750e-01,\n",
              "       1.13579651e-01, 1.12751460e-01, 1.11801387e-01, 1.09814770e-01,\n",
              "       1.09142195e-01, 1.08050616e-01, 1.07364017e-01, 1.05135262e-01,\n",
              "       1.03007046e-01, 1.02429764e-01, 1.01507740e-01, 9.97241512e-02,\n",
              "       9.92472520e-02, 9.80634302e-02, 9.77937571e-02, 9.64395717e-02,\n",
              "       9.61968506e-02, 9.57035060e-02, 9.44244118e-02, 9.35561915e-02,\n",
              "       9.32731519e-02, 8.99102739e-02, 8.93246052e-02, 8.85058244e-02,\n",
              "       8.76009834e-02, 8.62311660e-02, 8.56779690e-02, 8.48199346e-02,\n",
              "       8.44056533e-02, 8.32844801e-02, 8.24769067e-02, 8.15293575e-02,\n",
              "       8.04346166e-02, 7.97288545e-02, 7.82914849e-02, 7.78235155e-02,\n",
              "       7.67587595e-02, 7.54220844e-02, 7.47989094e-02, 7.37103686e-02,\n",
              "       7.28425525e-02, 7.17278418e-02, 7.13075344e-02, 7.05439621e-02,\n",
              "       6.99731281e-02, 6.95641115e-02, 6.84929757e-02, 6.81275595e-02,\n",
              "       6.67254759e-02, 6.65330633e-02, 6.63647568e-02, 6.53671986e-02,\n",
              "       6.45219519e-02, 6.38616704e-02, 6.35082400e-02, 6.29825670e-02,\n",
              "       6.15580124e-02, 6.11510122e-02, 6.04150871e-02, 6.00701501e-02,\n",
              "       5.90957817e-02, 5.87861833e-02, 5.77830335e-02, 5.72143361e-02,\n",
              "       5.66709414e-02, 5.63985540e-02, 5.55043325e-02, 5.51101524e-02,\n",
              "       5.46310231e-02, 5.41099856e-02, 5.34809595e-02, 5.31154216e-02,\n",
              "       5.28828897e-02, 5.27594463e-02, 5.19844253e-02, 5.15984644e-02,\n",
              "       5.11336718e-02, 5.00558887e-02, 4.98008325e-02, 4.92043557e-02,\n",
              "       4.83208950e-02, 4.78530786e-02, 4.77110878e-02, 4.72760687e-02,\n",
              "       4.71081222e-02, 4.65349171e-02, 4.58551299e-02, 4.54405030e-02,\n",
              "       4.51833160e-02, 4.48699264e-02, 4.45721070e-02, 4.41966927e-02,\n",
              "       4.36450561e-02, 4.34295610e-02, 4.26380685e-02, 4.21927213e-02,\n",
              "       4.16349194e-02, 4.11445138e-02, 4.09703408e-02, 4.03751485e-02,\n",
              "       4.02356853e-02, 3.98043263e-02, 3.94268405e-02, 3.92844372e-02,\n",
              "       3.88912130e-02, 3.88116682e-02, 3.82036665e-02, 3.75772228e-02,\n",
              "       3.73840222e-02, 3.70680003e-02, 3.64741391e-02, 3.60466748e-02,\n",
              "       3.55618135e-02, 3.52591673e-02, 3.50335754e-02, 3.49094985e-02,\n",
              "       3.44462188e-02, 3.43935370e-02, 3.39858668e-02, 3.37756346e-02,\n",
              "       3.33243352e-02, 3.31731628e-02, 3.30412323e-02, 3.23567461e-02,\n",
              "       3.21738311e-02, 3.17223301e-02, 3.15685548e-02, 3.12784481e-02,\n",
              "       3.09982667e-02, 3.07682083e-02, 3.06768255e-02, 3.06039216e-02,\n",
              "       3.01561645e-02, 2.96704693e-02, 2.95583503e-02, 2.90204738e-02,\n",
              "       2.88124325e-02, 2.87039754e-02, 2.83763923e-02, 2.82389799e-02,\n",
              "       2.81108833e-02, 2.79001693e-02, 2.77058368e-02, 2.73954406e-02,\n",
              "       2.68826559e-02, 2.67116572e-02, 2.64491648e-02, 2.63816802e-02,\n",
              "       2.62401713e-02, 2.60788686e-02, 2.59677960e-02, 2.55955921e-02,\n",
              "       2.53455157e-02, 2.51313004e-02, 2.47691676e-02, 2.45738041e-02,\n",
              "       2.45024192e-02, 2.42629434e-02, 2.40821834e-02, 2.39570658e-02,\n",
              "       2.36802365e-02, 2.33486608e-02, 2.32720303e-02, 2.32625519e-02,\n",
              "       2.31236316e-02, 2.27223360e-02, 2.26653818e-02, 2.23420441e-02,\n",
              "       2.19942452e-02, 2.18630694e-02, 2.18001324e-02, 2.15569880e-02,\n",
              "       2.14171609e-02, 2.13701619e-02, 2.11254152e-02, 2.09157990e-02,\n",
              "       2.08755528e-02, 2.07656752e-02, 2.06046254e-02, 2.04006058e-02,\n",
              "       2.01270050e-02, 1.99914197e-02, 1.96748290e-02, 1.96441019e-02,\n",
              "       1.94901083e-02, 1.94240096e-02, 1.90964042e-02, 1.90224456e-02,\n",
              "       1.88120190e-02, 1.87746047e-02, 1.86113335e-02, 1.85295392e-02,\n",
              "       1.82888150e-02, 1.82114733e-02, 1.79778277e-02, 1.79024941e-02,\n",
              "       1.78913378e-02, 1.78427213e-02, 1.76544975e-02, 1.73969033e-02,\n",
              "       1.73232476e-02, 1.71383191e-02, 1.70239094e-02, 1.69268428e-02,\n",
              "       1.68625831e-02, 1.67150351e-02, 1.65990487e-02, 1.65147678e-02,\n",
              "       1.63852594e-02, 1.63346627e-02, 1.62362232e-02, 1.60619280e-02,\n",
              "       1.59946798e-02, 1.59047436e-02, 1.57029841e-02, 1.55513894e-02,\n",
              "       1.55190710e-02, 1.54083883e-02, 1.53012172e-02, 1.52603002e-02,\n",
              "       1.51109387e-02, 1.49332048e-02, 1.48847633e-02, 1.48260206e-02,\n",
              "       1.47563115e-02, 1.46310343e-02, 1.45197157e-02, 1.43954314e-02,\n",
              "       1.43095536e-02, 1.42533027e-02, 1.41791488e-02, 1.40726131e-02,\n",
              "       1.39805880e-02, 1.38289206e-02, 1.36922949e-02, 1.36386725e-02,\n",
              "       1.35580431e-02, 1.34186840e-02, 1.33132299e-02, 1.32933814e-02,\n",
              "       1.32415120e-02, 1.31758992e-02, 1.30532488e-02, 1.29593150e-02,\n",
              "       1.28877774e-02, 1.27529724e-02, 1.27038762e-02, 1.26441898e-02,\n",
              "       1.25861807e-02, 1.24088211e-02, 1.23533224e-02, 1.22237792e-02,\n",
              "       1.21950081e-02, 1.20927882e-02, 1.20069109e-02, 1.19502116e-02,\n",
              "       1.19216078e-02, 1.18395124e-02, 1.17840031e-02, 1.17437228e-02,\n",
              "       1.16927170e-02, 1.15667563e-02, 1.14855601e-02, 1.13273535e-02,\n",
              "       1.13094103e-02, 1.12539723e-02, 1.11679843e-02, 1.11371408e-02,\n",
              "       1.09278982e-02, 1.08900011e-02, 1.08152276e-02, 1.07506788e-02,\n",
              "       1.06669333e-02, 1.06471531e-02, 1.05787368e-02, 1.05119508e-02,\n",
              "       1.04340708e-02, 1.03537920e-02, 1.03289403e-02, 1.02678588e-02,\n",
              "       1.01479658e-02, 1.00646526e-02, 1.00522122e-02, 9.94768059e-03,\n",
              "       9.90858366e-03, 9.88108809e-03, 9.82694501e-03, 9.78509572e-03,\n",
              "       9.70434584e-03, 9.62836901e-03, 9.54718205e-03, 9.52681307e-03,\n",
              "       9.46999675e-03, 9.38277743e-03, 9.36544531e-03, 9.31967352e-03,\n",
              "       9.21321465e-03, 9.17740744e-03, 9.10900739e-03, 9.06620834e-03,\n",
              "       9.01012921e-03, 8.95581814e-03, 8.81469715e-03, 8.79102094e-03,\n",
              "       8.71734905e-03, 8.64022255e-03, 8.58293400e-03, 8.54216199e-03,\n",
              "       8.49037846e-03, 8.46802767e-03, 8.40464291e-03, 8.37027133e-03,\n",
              "       8.28390518e-03, 8.25375272e-03, 8.22079968e-03, 8.14982821e-03,\n",
              "       8.08347512e-03, 8.05582171e-03, 7.98557046e-03, 7.92846855e-03,\n",
              "       7.91032414e-03, 7.83791491e-03, 7.79675250e-03, 7.77154386e-03,\n",
              "       7.75832994e-03, 7.70995394e-03, 7.62339104e-03, 7.60368079e-03,\n",
              "       7.59332157e-03, 7.42753082e-03, 7.34498855e-03, 7.33350896e-03,\n",
              "       7.28382165e-03, 7.22604294e-03, 7.21297022e-03, 7.18835878e-03,\n",
              "       7.13807906e-03, 7.10235785e-03, 7.04519618e-03, 7.01002021e-03,\n",
              "       6.93776142e-03, 6.92782247e-03, 6.85423005e-03, 6.81138390e-03,\n",
              "       6.77821582e-03, 6.74217284e-03, 6.67930383e-03, 6.59734802e-03,\n",
              "       6.58860471e-03, 6.57919085e-03, 6.48616162e-03, 6.47379993e-03,\n",
              "       6.43563813e-03, 6.35084224e-03, 6.34387046e-03, 6.28290373e-03,\n",
              "       6.25296998e-03, 6.21509025e-03, 6.19685637e-03, 6.14731692e-03,\n",
              "       6.10367109e-03, 6.05302286e-03, 6.03575106e-03, 6.01427177e-03,\n",
              "       5.97297342e-03, 5.94143254e-03, 5.88802661e-03, 5.86857428e-03,\n",
              "       5.77985633e-03, 5.76965349e-03, 5.75885013e-03, 5.72522730e-03,\n",
              "       5.65283607e-03, 5.62293827e-03, 5.61170562e-03, 5.56854924e-03,\n",
              "       5.54291651e-03, 5.52203262e-03, 5.41919849e-03, 5.39964224e-03,\n",
              "       5.36395310e-03, 5.34399950e-03, 5.29185325e-03, 5.21568038e-03,\n",
              "       5.18120568e-03, 5.17904113e-03, 5.17371644e-03, 5.14127622e-03,\n",
              "       5.11184634e-03, 5.06679241e-03, 5.02073755e-03, 4.98164117e-03,\n",
              "       4.94152093e-03, 4.91738489e-03, 4.88801741e-03, 4.86975601e-03,\n",
              "       4.82753066e-03, 4.80475870e-03, 4.75641047e-03, 4.70662712e-03,\n",
              "       4.66638149e-03, 4.64024101e-03, 4.61481346e-03, 4.58501799e-03,\n",
              "       4.56562266e-03, 4.52987449e-03, 4.47913372e-03, 4.45687172e-03,\n",
              "       4.43188694e-03, 4.39007125e-03, 4.35439905e-03, 4.31111372e-03,\n",
              "       4.29402243e-03, 4.26006846e-03, 4.22804771e-03, 4.20784405e-03,\n",
              "       4.19631170e-03, 4.16004667e-03, 4.12141316e-03, 4.08370227e-03,\n",
              "       4.03116311e-03, 4.01380079e-03, 3.98819299e-03, 3.96108610e-03,\n",
              "       3.92103005e-03, 3.87019628e-03, 3.83893669e-03, 3.80361969e-03,\n",
              "       3.78196714e-03, 3.74633870e-03, 3.70894582e-03, 3.67143085e-03,\n",
              "       3.64716459e-03, 3.61576708e-03, 3.58970215e-03, 3.57411655e-03,\n",
              "       3.52482531e-03, 3.49915994e-03, 3.41756272e-03, 3.40856837e-03,\n",
              "       3.39686224e-03, 3.37503920e-03, 3.36098630e-03, 3.31568141e-03,\n",
              "       3.29976124e-03, 3.27569438e-03, 3.21504433e-03, 3.19567298e-03,\n",
              "       3.15765341e-03, 3.11935816e-03, 3.10322418e-03, 3.08793519e-03,\n",
              "       3.04107220e-03, 3.01330903e-03, 2.97712536e-03, 2.93774860e-03,\n",
              "       2.90541436e-03, 2.87401537e-03, 2.84843506e-03, 2.82517019e-03,\n",
              "       2.78319604e-03, 2.77516050e-03, 2.72161025e-03, 2.67675153e-03,\n",
              "       2.58897289e-03, 2.56254579e-03, 2.46516450e-03, 2.45934644e-03,\n",
              "       2.43814464e-03, 2.35610046e-03, 2.30274095e-03, 2.27548118e-03,\n",
              "       2.21793449e-03, 2.13213110e-03, 2.00944603e-03, 1.54620790e-03,\n",
              "       1.11461461e-03, 3.09590883e-04, 2.91870174e-04, 2.51529968e-04,\n",
              "       5.53491618e-05, 2.82949521e-28, 4.01639541e-30, 2.87840854e-30,\n",
              "       9.18179276e-31, 6.10012752e-31, 4.46027431e-31, 3.61845745e-31,\n",
              "       3.02432067e-31, 2.79686376e-31, 2.61728789e-31, 2.50678468e-31,\n",
              "       2.50347500e-31, 2.10987808e-31, 1.99483734e-31, 1.40720459e-31,\n",
              "       1.35783993e-31, 1.16387074e-31, 1.11131853e-31, 1.00013734e-31,\n",
              "       9.83323339e-32, 9.18792980e-32, 8.22206613e-32, 7.79428557e-32,\n",
              "       7.79209619e-32, 7.78521037e-32, 7.02069130e-32, 6.42793066e-32,\n",
              "       4.89658508e-32, 4.58168516e-32, 4.41606713e-32, 4.17432652e-32,\n",
              "       4.13918743e-32, 3.83526303e-32, 2.83776995e-32, 2.28598602e-32,\n",
              "       2.09143407e-32, 2.09143407e-32, 2.09143407e-32, 2.09143407e-32,\n",
              "       2.09143407e-32, 2.09143407e-32, 2.09143407e-32, 2.09143407e-32,\n",
              "       2.09143407e-32, 2.09143407e-32, 2.09143407e-32, 2.09143407e-32,\n",
              "       2.09143407e-32, 2.09143407e-32, 2.09143407e-32, 2.09143407e-32,\n",
              "       2.09143407e-32, 2.09143407e-32, 2.09143407e-32, 2.09143407e-32,\n",
              "       2.09143407e-32, 2.09143407e-32, 2.09143407e-32, 2.09143407e-32,\n",
              "       2.09143407e-32, 2.09143407e-32, 2.09143407e-32, 2.09143407e-32,\n",
              "       2.09143407e-32, 2.09143407e-32, 2.09143407e-32, 2.09143407e-32,\n",
              "       2.09143407e-32, 2.09143407e-32, 2.09143407e-32, 2.09143407e-32,\n",
              "       2.09143407e-32, 2.09143407e-32, 2.09143407e-32, 2.09143407e-32,\n",
              "       2.09143407e-32, 2.09143407e-32, 2.09143407e-32, 2.09143407e-32,\n",
              "       2.09143407e-32, 2.09143407e-32, 2.09143407e-32, 2.09143407e-32,\n",
              "       2.09143407e-32, 2.09143407e-32, 2.09143407e-32, 2.09143407e-32,\n",
              "       2.09143407e-32, 2.09143407e-32, 2.09143407e-32, 2.09143407e-32,\n",
              "       2.09143407e-32, 2.09143407e-32, 2.09143407e-32, 2.09143407e-32,\n",
              "       2.09143407e-32, 2.09143407e-32, 2.09143407e-32, 2.09143407e-32,\n",
              "       2.09143407e-32, 2.09143407e-32, 2.09143407e-32, 2.09143407e-32,\n",
              "       2.09143407e-32, 2.09143407e-32, 2.09143407e-32, 2.09143407e-32,\n",
              "       2.09143407e-32, 2.09143407e-32, 2.09143407e-32, 2.09143407e-32,\n",
              "       2.09143407e-32, 2.09143407e-32, 2.09143407e-32, 2.09143407e-32,\n",
              "       2.09143407e-32, 2.09143407e-32, 2.09143407e-32, 2.09143407e-32,\n",
              "       2.09143407e-32, 2.09143407e-32, 2.09143407e-32, 2.09143407e-32,\n",
              "       2.09143407e-32, 2.09143407e-32, 2.09143407e-32, 2.09143407e-32,\n",
              "       2.09143407e-32, 2.09143407e-32, 2.09143407e-32, 2.09143407e-32,\n",
              "       2.09143407e-32, 1.99175459e-32, 1.57185468e-32, 1.41035730e-32,\n",
              "       1.22653744e-32, 6.96743194e-33, 6.72463075e-33, 6.03153753e-33,\n",
              "       5.66255394e-33, 2.66995286e-33, 1.80932817e-33, 2.52685830e-34])"
            ]
          },
          "metadata": {},
          "execution_count": 64
        }
      ]
    },
    {
      "cell_type": "code",
      "source": [
        "np.cumsum(pca6.explained_variance_ratio_*100)"
      ],
      "metadata": {
        "colab": {
          "base_uri": "https://localhost:8080/"
        },
        "id": "QQ47dEX99MYy",
        "outputId": "c3351b8a-a81d-46ff-f8b9-e558d232de72"
      },
      "execution_count": 65,
      "outputs": [
        {
          "output_type": "execute_result",
          "data": {
            "text/plain": [
              "array([  6.07577967,  10.46492146,  14.62095827,  17.90709114,\n",
              "        20.65630288,  23.1019042 ,  25.15361253,  27.08532914,\n",
              "        28.81944152,  30.3660914 ,  31.8396469 ,  33.13949035,\n",
              "        34.40035973,  35.60954425,  36.7754688 ,  37.91408121,\n",
              "        38.97520353,  40.01196612,  41.04031133,  42.01377136,\n",
              "        42.96308575,  43.85701385,  44.73612912,  45.59179729,\n",
              "        46.42764112,  47.21390883,  47.96823194,  48.70928496,\n",
              "        49.44129839,  50.15074156,  50.84328785,  51.51554363,\n",
              "        52.18229646,  52.83026537,  53.47105019,  54.09283425,\n",
              "        54.7013122 ,  55.30499456,  55.8890258 ,  56.47159593,\n",
              "        57.03844563,  57.59251742,  58.14023878,  58.6727488 ,\n",
              "        59.19224049,  59.70376686,  60.20671289,  60.69450429,\n",
              "        61.17410459,  61.64674495,  62.11056178,  62.56987149,\n",
              "        63.01202176,  63.45068016,  63.8862127 ,  64.32014219,\n",
              "        64.7409514 ,  65.1548344 ,  65.56175559,  65.96114642,\n",
              "        66.35223546,  66.73837142,  67.11631555,  67.48954659,\n",
              "        67.86122799,  68.23065223,  68.58940614,  68.94513549,\n",
              "        69.29643842,  69.64100583,  69.9841261 ,  70.31705095,\n",
              "        70.64599243,  70.97101209,  71.29483418,  71.61415275,\n",
              "        71.92648965,  72.23525136,  72.54312379,  72.8485827 ,\n",
              "        73.14851011,  73.44654755,  73.74148507,  74.03163927,\n",
              "        74.31861521,  74.60344442,  74.88502564,  75.16075519,\n",
              "        75.43429208,  75.70478376,  75.973604  ,  76.234853  ,\n",
              "        76.49422375,  76.74809569,  76.99812093,  77.2418418 ,\n",
              "        77.48479824,  77.72612514,  77.9640128 ,  78.19846209,\n",
              "        78.4276666 ,  78.65541776,  78.87971162,  79.10106913,\n",
              "        79.32217819,  79.53851741,  79.75364422,  79.96400305,\n",
              "        80.17310144,  80.37917781,  80.58011635,  80.78022443,\n",
              "        80.97741726,  81.17293885,  81.36650828,  81.55592885,\n",
              "        81.74458966,  81.92957991,  82.11393683,  82.29442337,\n",
              "        82.47224828,  82.64888118,  82.82492891,  82.99904091,\n",
              "        83.17167759,  83.34072673,  83.50686585,  83.67109799,\n",
              "        83.83369496,  83.99395122,  84.15368197,  84.31049328,\n",
              "        84.46669139,  84.62165112,  84.77392798,  84.92558134,\n",
              "        85.07473964,  85.22319331,  85.37029107,  85.5160503 ,\n",
              "        85.66057199,  85.80276831,  85.94447126,  86.08561991,\n",
              "        86.22428402,  86.36243251,  86.49897159,  86.63533071,\n",
              "        86.76797345,  86.89871619,  87.02897292,  87.15727942,\n",
              "        87.28310605,  87.40585506,  87.52832147,  87.64766506,\n",
              "        87.7658839 ,  87.88385032,  87.99951061,  88.11367836,\n",
              "        88.22725801,  88.34000947,  88.45181086,  88.56162563,\n",
              "        88.67076782,  88.77881844,  88.88618245,  88.99131771,\n",
              "        89.09432476,  89.19675452,  89.29826226,  89.39798642,\n",
              "        89.49723367,  89.5952971 ,  89.69309086,  89.78953043,\n",
              "        89.88572728,  89.98143078,  90.0758552 ,  90.16941139,\n",
              "        90.26268454,  90.35259481,  90.44191942,  90.53042524,\n",
              "        90.61802623,  90.70425739,  90.78993536,  90.8747553 ,\n",
              "        90.95916095,  91.04244543,  91.12492234,  91.20645169,\n",
              "        91.28688631,  91.36661516,  91.44490665,  91.52273016,\n",
              "        91.59948892,  91.67491101,  91.74970992,  91.82342029,\n",
              "        91.89626284,  91.96799068,  92.03929822,  92.10984218,\n",
              "        92.17981531,  92.24937942,  92.31787239,  92.38599995,\n",
              "        92.45272543,  92.51925849,  92.58562325,  92.65099045,\n",
              "        92.7155124 ,  92.77937407,  92.84288231,  92.90586488,\n",
              "        92.96742289,  93.0285739 ,  93.08898899,  93.14905914,\n",
              "        93.20815492,  93.2669411 ,  93.32472414,  93.38193847,\n",
              "        93.43860941,  93.49500797,  93.5505123 ,  93.60562245,\n",
              "        93.66025348,  93.71436346,  93.76784442,  93.82095984,\n",
              "        93.87384273,  93.92660218,  93.9785866 ,  94.03018507,\n",
              "        94.08131874,  94.13137463,  94.18117546,  94.23037982,\n",
              "        94.27870071,  94.32655379,  94.37426488,  94.42154095,\n",
              "        94.46864907,  94.51518399,  94.56103912,  94.60647962,\n",
              "        94.65166294,  94.69653286,  94.74110497,  94.78530166,\n",
              "        94.82894672,  94.87237628,  94.91501435,  94.95720707,\n",
              "        94.99884199,  95.0399865 ,  95.08095684,  95.12133199,\n",
              "        95.16156768,  95.201372  ,  95.24079884,  95.28008328,\n",
              "        95.31897449,  95.35778616,  95.39598983,  95.43356705,\n",
              "        95.47095107,  95.50801907,  95.54449321,  95.58053989,\n",
              "        95.6161017 ,  95.65136087,  95.68639444,  95.72130394,\n",
              "        95.75575016,  95.7901437 ,  95.82412956,  95.8579052 ,\n",
              "        95.89122953,  95.9244027 ,  95.95744393,  95.98980068,\n",
              "        96.02197451,  96.05369684,  96.08526539,  96.11654384,\n",
              "        96.14754211,  96.17831031,  96.20898714,  96.23959106,\n",
              "        96.26974723,  96.2994177 ,  96.32897605,  96.35799652,\n",
              "        96.38680895,  96.41551293,  96.44388932,  96.4721283 ,\n",
              "        96.50023918,  96.52813935,  96.55584519,  96.58324063,\n",
              "        96.61012329,  96.63683494,  96.66328411,  96.68966579,\n",
              "        96.71590596,  96.74198483,  96.76795262,  96.79354822,\n",
              "        96.81889373,  96.84402503,  96.8687942 ,  96.893368  ,\n",
              "        96.91787042,  96.94213337,  96.96621555,  96.99017262,\n",
              "        97.01385285,  97.03720151,  97.06047354,  97.08373609,\n",
              "        97.10685973,  97.12958206,  97.15224744,  97.17458949,\n",
              "        97.19658373,  97.2184468 ,  97.24024694,  97.26180392,\n",
              "        97.28322108,  97.30459125,  97.32571666,  97.34663246,\n",
              "        97.36750801,  97.38827369,  97.40887831,  97.42927892,\n",
              "        97.44940592,  97.46939734,  97.48907217,  97.50871627,\n",
              "        97.52820638,  97.54763039,  97.5667268 ,  97.58574924,\n",
              "        97.60456126,  97.62333587,  97.6419472 ,  97.66047674,\n",
              "        97.67876555,  97.69697703,  97.71495486,  97.73285735,\n",
              "        97.75074869,  97.76859141,  97.78624591,  97.80364281,\n",
              "        97.82096606,  97.83810438,  97.85512829,  97.87205513,\n",
              "        97.88891771,  97.90563275,  97.9222318 ,  97.93874656,\n",
              "        97.95513182,  97.97146649,  97.98770271,  98.00376464,\n",
              "        98.01975932,  98.03566406,  98.05136704,  98.06691843,\n",
              "        98.0824375 ,  98.09784589,  98.11314711,  98.12840741,\n",
              "        98.14351835,  98.15845155,  98.17333632,  98.18816234,\n",
              "        98.20291865,  98.21754968,  98.2320694 ,  98.24646483,\n",
              "        98.26077438,  98.27502769,  98.28920684,  98.30327945,\n",
              "        98.31726004,  98.33108896,  98.34478125,  98.35841992,\n",
              "        98.37197797,  98.38539665,  98.39870988,  98.41200326,\n",
              "        98.42524477,  98.43842067,  98.45147392,  98.46443324,\n",
              "        98.47732102,  98.49007399,  98.50277786,  98.51542205,\n",
              "        98.52800823,  98.54041706,  98.55277038,  98.56499416,\n",
              "        98.57718917,  98.58928195,  98.60128886,  98.61323908,\n",
              "        98.62516068,  98.6370002 ,  98.6487842 ,  98.66052792,\n",
              "        98.67222064,  98.6837874 ,  98.69527296,  98.70660031,\n",
              "        98.71790972,  98.72916369,  98.74033168,  98.75146882,\n",
              "        98.76239671,  98.77328672,  98.78410194,  98.79485262,\n",
              "        98.80551956,  98.81616671,  98.82674545,  98.8372574 ,\n",
              "        98.84769147,  98.85804526,  98.8683742 ,  98.87864206,\n",
              "        98.88879002,  98.89885468,  98.90890689,  98.91885457,\n",
              "        98.92876315,  98.93864424,  98.94847119,  98.95825628,\n",
              "        98.96796063,  98.977589  ,  98.98713618,  98.99666299,\n",
              "        99.00613299,  99.01551577,  99.02488121,  99.03420088,\n",
              "        99.0434141 ,  99.05259151,  99.06170051,  99.07076672,\n",
              "        99.07977685,  99.08873267,  99.09754737,  99.10633839,\n",
              "        99.11505574,  99.12369596,  99.13227889,  99.14082106,\n",
              "        99.14931143,  99.15777946,  99.1661841 ,  99.17455438,\n",
              "        99.18283828,  99.19109203,  99.19931283,  99.20746266,\n",
              "        99.21554614,  99.22360196,  99.23158753,  99.239516  ,\n",
              "        99.24742632,  99.25526424,  99.26306099,  99.27083253,\n",
              "        99.27859086,  99.28630082,  99.29392421,  99.30152789,\n",
              "        99.30912121,  99.31654874,  99.32389373,  99.33122724,\n",
              "        99.33851106,  99.3457371 ,  99.35295007,  99.36013843,\n",
              "        99.36727651,  99.37437887,  99.38142407,  99.38843409,\n",
              "        99.39537185,  99.40229967,  99.4091539 ,  99.41596528,\n",
              "        99.4227435 ,  99.42948567,  99.43616498,  99.44276232,\n",
              "        99.44935093,  99.45593012,  99.46241628,  99.46889008,\n",
              "        99.47532572,  99.48167656,  99.48802043,  99.49430334,\n",
              "        99.50055631,  99.5067714 ,  99.51296825,  99.51911557,\n",
              "        99.52521924,  99.53127226,  99.53730801,  99.54332229,\n",
              "        99.54929526,  99.55523669,  99.56112472,  99.56699329,\n",
              "        99.57277315,  99.5785428 ,  99.58430165,  99.59002688,\n",
              "        99.59567972,  99.60130265,  99.60691436,  99.61248291,\n",
              "        99.61802583,  99.62354786,  99.62896706,  99.6343667 ,\n",
              "        99.63973065,  99.64507465,  99.6503665 ,  99.65558219,\n",
              "        99.66076339,  99.66594243,  99.67111615,  99.67625742,\n",
              "        99.68136927,  99.68643606,  99.6914568 ,  99.69643844,\n",
              "        99.70137996,  99.70629735,  99.71118537,  99.71605512,\n",
              "        99.72088265,  99.72568741,  99.73044382,  99.73515045,\n",
              "        99.73981683,  99.74445707,  99.74907188,  99.7536569 ,\n",
              "        99.75822253,  99.7627524 ,  99.76723153,  99.7716884 ,\n",
              "        99.77612029,  99.78051036,  99.78486476,  99.78917588,\n",
              "        99.7934699 ,  99.79772997,  99.80195801,  99.80616586,\n",
              "        99.81036217,  99.81452222,  99.81864363,  99.82272733,\n",
              "        99.8267585 ,  99.8307723 ,  99.83476049,  99.83872158,\n",
              "        99.84264261,  99.8465128 ,  99.85035174,  99.85415536,\n",
              "        99.85793733,  99.86168366,  99.86539261,  99.86906404,\n",
              "        99.87271121,  99.87632697,  99.87991667,  99.88349079,\n",
              "        99.88701562,  99.89051478,  99.89393234,  99.89734091,\n",
              "        99.90073777,  99.90411281,  99.9074738 ,  99.91078948,\n",
              "        99.91408924,  99.91736493,  99.92057998,  99.92377565,\n",
              "        99.9269333 ,  99.93005266,  99.93315589,  99.93624382,\n",
              "        99.93928489,  99.9422982 ,  99.94527533,  99.94821308,\n",
              "        99.95111849,  99.95399251,  99.95684094,  99.95966611,\n",
              "        99.96244931,  99.96522447,  99.96794608,  99.97062283,\n",
              "        99.9732118 ,  99.97577435,  99.97823951,  99.98069886,\n",
              "        99.983137  ,  99.9854931 ,  99.98779584,  99.99007133,\n",
              "        99.99228926,  99.99442139,  99.99643084,  99.99797705,\n",
              "        99.99909166,  99.99940125,  99.99969312,  99.99994465,\n",
              "       100.        , 100.        , 100.        , 100.        ,\n",
              "       100.        , 100.        , 100.        , 100.        ,\n",
              "       100.        , 100.        , 100.        , 100.        ,\n",
              "       100.        , 100.        , 100.        , 100.        ,\n",
              "       100.        , 100.        , 100.        , 100.        ,\n",
              "       100.        , 100.        , 100.        , 100.        ,\n",
              "       100.        , 100.        , 100.        , 100.        ,\n",
              "       100.        , 100.        , 100.        , 100.        ,\n",
              "       100.        , 100.        , 100.        , 100.        ,\n",
              "       100.        , 100.        , 100.        , 100.        ,\n",
              "       100.        , 100.        , 100.        , 100.        ,\n",
              "       100.        , 100.        , 100.        , 100.        ,\n",
              "       100.        , 100.        , 100.        , 100.        ,\n",
              "       100.        , 100.        , 100.        , 100.        ,\n",
              "       100.        , 100.        , 100.        , 100.        ,\n",
              "       100.        , 100.        , 100.        , 100.        ,\n",
              "       100.        , 100.        , 100.        , 100.        ,\n",
              "       100.        , 100.        , 100.        , 100.        ,\n",
              "       100.        , 100.        , 100.        , 100.        ,\n",
              "       100.        , 100.        , 100.        , 100.        ,\n",
              "       100.        , 100.        , 100.        , 100.        ,\n",
              "       100.        , 100.        , 100.        , 100.        ,\n",
              "       100.        , 100.        , 100.        , 100.        ,\n",
              "       100.        , 100.        , 100.        , 100.        ,\n",
              "       100.        , 100.        , 100.        , 100.        ,\n",
              "       100.        , 100.        , 100.        , 100.        ,\n",
              "       100.        , 100.        , 100.        , 100.        ,\n",
              "       100.        , 100.        , 100.        , 100.        ,\n",
              "       100.        , 100.        , 100.        , 100.        ,\n",
              "       100.        , 100.        , 100.        , 100.        ,\n",
              "       100.        , 100.        , 100.        , 100.        ,\n",
              "       100.        , 100.        , 100.        , 100.        ,\n",
              "       100.        , 100.        , 100.        , 100.        ,\n",
              "       100.        , 100.        , 100.        , 100.        ,\n",
              "       100.        , 100.        , 100.        , 100.        ,\n",
              "       100.        , 100.        , 100.        , 100.        ])"
            ]
          },
          "metadata": {},
          "execution_count": 65
        }
      ]
    },
    {
      "cell_type": "code",
      "source": [
        "plt.plot(np.cumsum(pca6.explained_variance_ratio_*100))"
      ],
      "metadata": {
        "colab": {
          "base_uri": "https://localhost:8080/",
          "height": 447
        },
        "id": "FUi8ZvYT9ZOR",
        "outputId": "6acb2433-b000-4e93-d51d-d8f8b0ac2757"
      },
      "execution_count": 66,
      "outputs": [
        {
          "output_type": "execute_result",
          "data": {
            "text/plain": [
              "[<matplotlib.lines.Line2D at 0x7c4e7e37bd90>]"
            ]
          },
          "metadata": {},
          "execution_count": 66
        },
        {
          "output_type": "display_data",
          "data": {
            "text/plain": [
              "<Figure size 640x480 with 1 Axes>"
            ],
            "image/png": "[encoded data removed]"
          },
          "metadata": {}
        }
      ]
    },
    {
      "cell_type": "code",
      "source": [
        "# This graph tells us about the no. of components required to explaine the given percent of variance, say for example if we see in graph we find almost 200 components will expalin 90% of variance and usually we look for 90% variance"
      ],
      "metadata": {
        "id": "qn12eBmc_saK"
      },
      "execution_count": 71,
      "outputs": []
    },
    {
      "cell_type": "code",
      "source": [
        "pca7 = PCA(n_components=0.9)\n",
        "X_train_trf7 = pca7.fit_transform(X_train_sc)\n",
        "X_test_trf7 = pca7.transform(X_test_sc)"
      ],
      "metadata": {
        "id": "HD5ZAFw1-SgQ"
      },
      "execution_count": 67,
      "outputs": []
    },
    {
      "cell_type": "code",
      "source": [
        "knn=KNeighborsClassifier()\n",
        "knn.fit(X_train_trf7, y_train)\n",
        "\n",
        "y_pred7 = knn.predict(X_test_trf7)\n",
        "\n",
        "accuracy_score(y_test, y_pred7)"
      ],
      "metadata": {
        "colab": {
          "base_uri": "https://localhost:8080/"
        },
        "id": "SdXxHi9h-i8r",
        "outputId": "257c09de-21f9-47cd-ff0e-42d76450a2f8"
      },
      "execution_count": 68,
      "outputs": [
        {
          "output_type": "execute_result",
          "data": {
            "text/plain": [
              "0.8992248062015504"
            ]
          },
          "metadata": {},
          "execution_count": 68
        }
      ]
    },
    {
      "cell_type": "code",
      "source": [
        "X_train_trf7.shape"
      ],
      "metadata": {
        "colab": {
          "base_uri": "https://localhost:8080/"
        },
        "id": "I8MjU9ZC-5le",
        "outputId": "ecc5cf4e-f287-43f6-f714-9d5c217dd07e"
      },
      "execution_count": 70,
      "outputs": [
        {
          "output_type": "execute_result",
          "data": {
            "text/plain": [
              "(4124, 179)"
            ]
          },
          "metadata": {},
          "execution_count": 70
        }
      ]
    },
    {
      "cell_type": "code",
      "source": [
        "# We can see that if we use float in n_components we will automatically select that no. of componets which explain the variance.\n",
        "# if we ke n_components =0.9, it will take components that'll explain the 90% of the variance"
      ],
      "metadata": {
        "id": "ESVpVwHr_ESN"
      },
      "execution_count": 72,
      "outputs": []
    },
    {
      "cell_type": "code",
      "source": [],
      "metadata": {
        "id": "ujfbxUZFDAvq"
      },
      "execution_count": null,
      "outputs": []
    }
  ]
}